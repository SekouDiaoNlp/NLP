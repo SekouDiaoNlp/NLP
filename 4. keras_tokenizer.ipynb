{
 "cells": [
  {
   "cell_type": "code",
   "execution_count": 4,
   "metadata": {
    "colab": {},
    "colab_type": "code",
    "id": "uoXAvpqk4L4d"
   },
   "outputs": [],
   "source": [
    "documents = ['Ram is in eighth grade and ready to go to ninth grade',\n",
    "            'Shanti is in sixth grade']"
   ]
  },
  {
   "cell_type": "code",
   "execution_count": 6,
   "metadata": {
    "colab": {
     "base_uri": "https://localhost:8080/",
     "height": 63
    },
    "colab_type": "code",
    "id": "DHy-8jvf4PIr",
    "outputId": "2fd73cdd-c5cf-4424-9553-33c9120b79d6"
   },
   "outputs": [],
   "source": [
    "from tensorflow.python.keras.preprocessing.text import Tokenizer"
   ]
  },
  {
   "cell_type": "code",
   "execution_count": 0,
   "metadata": {
    "colab": {},
    "colab_type": "code",
    "id": "7H1EWP-g4S3v"
   },
   "outputs": [],
   "source": [
    "t = Tokenizer(num_words=10) # num_words -> Vocablury size"
   ]
  },
  {
   "cell_type": "code",
   "execution_count": 0,
   "metadata": {
    "colab": {},
    "colab_type": "code",
    "id": "Hw2YnMOs4aM3"
   },
   "outputs": [],
   "source": [
    "t.fit_on_texts(documents)"
   ]
  },
  {
   "cell_type": "code",
   "execution_count": 5,
   "metadata": {
    "colab": {
     "base_uri": "https://localhost:8080/",
     "height": 221
    },
    "colab_type": "code",
    "id": "RKZzGsgg4cXW",
    "outputId": "561421a6-65ba-4d78-92a4-cd98a452fd2f"
   },
   "outputs": [
    {
     "data": {
      "text/plain": [
       "OrderedDict([('ram', 1),\n",
       "             ('is', 2),\n",
       "             ('in', 2),\n",
       "             ('eighth', 1),\n",
       "             ('grade', 3),\n",
       "             ('and', 1),\n",
       "             ('ready', 1),\n",
       "             ('to', 2),\n",
       "             ('go', 1),\n",
       "             ('ninth', 1),\n",
       "             ('shanti', 1),\n",
       "             ('sixth', 1)])"
      ]
     },
     "execution_count": 5,
     "metadata": {
      "tags": []
     },
     "output_type": "execute_result"
    }
   ],
   "source": [
    "t.word_counts  #Each word and how many times they appeared across all docs"
   ]
  },
  {
   "cell_type": "code",
   "execution_count": 6,
   "metadata": {
    "colab": {
     "base_uri": "https://localhost:8080/",
     "height": 34
    },
    "colab_type": "code",
    "id": "pJlesWk34f-0",
    "outputId": "9521ae2f-6c74-4d1c-8a74-dbd6b1c27626"
   },
   "outputs": [
    {
     "data": {
      "text/plain": [
       "2"
      ]
     },
     "execution_count": 6,
     "metadata": {
      "tags": []
     },
     "output_type": "execute_result"
    }
   ],
   "source": [
    "t.document_count #Number of documents Tokenizer got fit on"
   ]
  },
  {
   "cell_type": "code",
   "execution_count": 7,
   "metadata": {
    "colab": {
     "base_uri": "https://localhost:8080/",
     "height": 221
    },
    "colab_type": "code",
    "id": "UekCV8SG4myN",
    "outputId": "7bece952-313a-4b3c-c395-8386cef15079"
   },
   "outputs": [
    {
     "data": {
      "text/plain": [
       "{'and': 7,\n",
       " 'eighth': 6,\n",
       " 'go': 9,\n",
       " 'grade': 1,\n",
       " 'in': 3,\n",
       " 'is': 2,\n",
       " 'ninth': 10,\n",
       " 'ram': 5,\n",
       " 'ready': 8,\n",
       " 'shanti': 11,\n",
       " 'sixth': 12,\n",
       " 'to': 4}"
      ]
     },
     "execution_count": 7,
     "metadata": {
      "tags": []
     },
     "output_type": "execute_result"
    }
   ],
   "source": [
    "t.word_index #Unique index of each word in Tokenizer"
   ]
  },
  {
   "cell_type": "code",
   "execution_count": 8,
   "metadata": {
    "colab": {
     "base_uri": "https://localhost:8080/",
     "height": 238
    },
    "colab_type": "code",
    "id": "f2VLB3Cc4ogJ",
    "outputId": "8436e564-6b17-484a-bf48-276abd59485b"
   },
   "outputs": [
    {
     "data": {
      "text/plain": [
       "defaultdict(int,\n",
       "            {'and': 1,\n",
       "             'eighth': 1,\n",
       "             'go': 1,\n",
       "             'grade': 2,\n",
       "             'in': 2,\n",
       "             'is': 2,\n",
       "             'ninth': 1,\n",
       "             'ram': 1,\n",
       "             'ready': 1,\n",
       "             'shanti': 1,\n",
       "             'sixth': 1,\n",
       "             'to': 1})"
      ]
     },
     "execution_count": 8,
     "metadata": {
      "tags": []
     },
     "output_type": "execute_result"
    }
   ],
   "source": [
    "t.word_docs #How many documents a word appeared in."
   ]
  },
  {
   "cell_type": "code",
   "execution_count": 9,
   "metadata": {
    "colab": {
     "base_uri": "https://localhost:8080/",
     "height": 51
    },
    "colab_type": "code",
    "id": "ORhutfBr46cn",
    "outputId": "d0157b9c-1f59-4023-f117-f075f72e625a"
   },
   "outputs": [
    {
     "data": {
      "text/plain": [
       "array([[0., 1., 1., 1., 1., 1., 1., 1., 1., 1., 1., 0., 0., 0., 0.],\n",
       "       [0., 1., 1., 1., 0., 0., 0., 0., 0., 0., 0., 1., 1., 0., 0.]])"
      ]
     },
     "execution_count": 9,
     "metadata": {
      "tags": []
     },
     "output_type": "execute_result"
    }
   ],
   "source": [
    "t.texts_to_matrix(documents) #convert docs to matrix starting from index 0"
   ]
  },
  {
   "cell_type": "markdown",
   "metadata": {},
   "source": [
    "The first value of texts_to_matrix is always 0 as it is reserved by tokenizer for masking which is intended for use with Embedding layer in keras. It always takes top number of words - 1. For example, in the above cell, for the vocabulary size of 15, only 14 values are taken."
   ]
  },
  {
   "cell_type": "code",
   "execution_count": 10,
   "metadata": {
    "colab": {
     "base_uri": "https://localhost:8080/",
     "height": 51
    },
    "colab_type": "code",
    "id": "YZqzxNBi4_zF",
    "outputId": "3642f4ee-1e48-4010-8be1-b483c3b5276c"
   },
   "outputs": [
    {
     "data": {
      "text/plain": [
       "array([[0., 2., 1., 1., 2., 1., 1., 1., 1., 1., 1., 0., 0., 0., 0.],\n",
       "       [0., 1., 1., 1., 0., 0., 0., 0., 0., 0., 0., 1., 1., 0., 0.]])"
      ]
     },
     "execution_count": 10,
     "metadata": {
      "tags": []
     },
     "output_type": "execute_result"
    }
   ],
   "source": [
    "t.texts_to_matrix(documents,mode='count') #default mode is binary"
   ]
  },
  {
   "cell_type": "code",
   "execution_count": 11,
   "metadata": {
    "colab": {
     "base_uri": "https://localhost:8080/",
     "height": 119
    },
    "colab_type": "code",
    "id": "qL8yeTlO7AIO",
    "outputId": "5f5bd926-027a-4272-d11f-257948673d55"
   },
   "outputs": [
    {
     "data": {
      "text/plain": [
       "array([[0.        , 0.86490296, 0.51082562, 0.51082562, 1.17360019,\n",
       "        0.69314718, 0.69314718, 0.69314718, 0.69314718, 0.69314718,\n",
       "        0.69314718, 0.        , 0.        , 0.        , 0.        ],\n",
       "       [0.        , 0.51082562, 0.51082562, 0.51082562, 0.        ,\n",
       "        0.        , 0.        , 0.        , 0.        , 0.        ,\n",
       "        0.        , 0.69314718, 0.69314718, 0.        , 0.        ]])"
      ]
     },
     "execution_count": 11,
     "metadata": {
      "tags": []
     },
     "output_type": "execute_result"
    }
   ],
   "source": [
    "t.texts_to_matrix(documents,mode='tfidf')"
   ]
  },
  {
   "cell_type": "code",
   "execution_count": 12,
   "metadata": {
    "colab": {
     "base_uri": "https://localhost:8080/",
     "height": 119
    },
    "colab_type": "code",
    "id": "n8G7MMaN7E0P",
    "outputId": "a28f0ed6-3aa7-4d45-ff06-c53bc4a6a9e2"
   },
   "outputs": [
    {
     "data": {
      "text/plain": [
       "array([[0.        , 0.16666667, 0.08333333, 0.08333333, 0.16666667,\n",
       "        0.08333333, 0.08333333, 0.08333333, 0.08333333, 0.08333333,\n",
       "        0.08333333, 0.        , 0.        , 0.        , 0.        ],\n",
       "       [0.        , 0.2       , 0.2       , 0.2       , 0.        ,\n",
       "        0.        , 0.        , 0.        , 0.        , 0.        ,\n",
       "        0.        , 0.2       , 0.2       , 0.        , 0.        ]])"
      ]
     },
     "execution_count": 12,
     "metadata": {
      "tags": []
     },
     "output_type": "execute_result"
    }
   ],
   "source": [
    "t.texts_to_matrix(documents,mode='freq')"
   ]
  },
  {
   "cell_type": "code",
   "execution_count": 0,
   "metadata": {
    "colab": {},
    "colab_type": "code",
    "id": "36fpnwEG7TIT"
   },
   "outputs": [],
   "source": []
  }
 ],
 "metadata": {
  "colab": {
   "name": "keras_tokenizer.ipynb",
   "provenance": []
  },
  "kernelspec": {
   "display_name": "Python 3",
   "language": "python",
   "name": "python3"
  },
  "language_info": {
   "codemirror_mode": {
    "name": "ipython",
    "version": 3
   },
   "file_extension": ".py",
   "mimetype": "text/x-python",
   "name": "python",
   "nbconvert_exporter": "python",
   "pygments_lexer": "ipython3",
   "version": "3.7.6"
  }
 },
 "nbformat": 4,
 "nbformat_minor": 1
}
