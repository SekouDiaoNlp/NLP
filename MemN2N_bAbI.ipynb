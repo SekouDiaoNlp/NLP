{
 "cells": [
  {
   "cell_type": "code",
   "execution_count": 1,
   "metadata": {
    "collapsed": true
   },
   "outputs": [],
   "source": [
    "import numpy as np"
   ]
  },
  {
   "cell_type": "code",
   "execution_count": 2,
   "metadata": {
    "collapsed": true
   },
   "outputs": [],
   "source": [
    "np.random.seed(42)"
   ]
  },
  {
   "cell_type": "markdown",
   "metadata": {},
   "source": [
    "### Download the data"
   ]
  },
  {
   "cell_type": "code",
   "execution_count": 3,
   "metadata": {
    "collapsed": true
   },
   "outputs": [],
   "source": [
    "#!wget http://www.thespermwhale.com/jaseweston/babi/tasks_1-20_v1-2.tar.gz"
   ]
  },
  {
   "cell_type": "markdown",
   "metadata": {},
   "source": [
    "### Parse bAbI stories"
   ]
  },
  {
   "cell_type": "code",
   "execution_count": 4,
   "metadata": {
    "collapsed": true
   },
   "outputs": [],
   "source": [
    "def parse_stories(lines):\n",
    "    \n",
    "    stories = []\n",
    "    questions = []\n",
    "    answers = []\n",
    "    \n",
    "    story = ''\n",
    "    for line in lines:\n",
    "        line = line.decode('utf-8').strip()\n",
    "        #Get line number and rest of the line\n",
    "        nid, line = line.split(' ', 1)\n",
    "        nid = int(nid)\n",
    "        if nid == 1:\n",
    "            #Start a new story\n",
    "            story = ''\n",
    "        if '\\t' in line:\n",
    "            #End of the story\n",
    "            q, a, supporting = line.split('\\t')\n",
    "            stories.append(story)\n",
    "            questions.append(q)\n",
    "            answers.append(a)            \n",
    "        else:\n",
    "            if (story == ''):\n",
    "                story = line\n",
    "            else:\n",
    "                story += ' ' + line\n",
    "    return stories, questions, answers"
   ]
  },
  {
   "cell_type": "markdown",
   "metadata": {},
   "source": [
    "### Extract the train and test files"
   ]
  },
  {
   "cell_type": "code",
   "execution_count": 5,
   "metadata": {
    "collapsed": true
   },
   "outputs": [],
   "source": [
    "import tarfile"
   ]
  },
  {
   "cell_type": "markdown",
   "metadata": {},
   "source": [
    "Checking the content of the file"
   ]
  },
  {
   "cell_type": "code",
   "execution_count": 8,
   "metadata": {
    "collapsed": false
   },
   "outputs": [
    {
     "name": "stdout",
     "output_type": "stream",
     "text": [
      "tasks_1-20_v1-2\n",
      "tasks_1-20_v1-2/hn\n",
      "tasks_1-20_v1-2/hn/qa16_basic-induction_train.txt\n",
      "tasks_1-20_v1-2/hn/qa13_compound-coreference_train.txt\n",
      "tasks_1-20_v1-2/hn/qa13_compound-coreference_test.txt\n",
      "tasks_1-20_v1-2/hn/qa14_time-reasoning_test.txt\n",
      "tasks_1-20_v1-2/hn/qa5_three-arg-relations_test.txt\n",
      "tasks_1-20_v1-2/hn/qa17_positional-reasoning_train.txt\n",
      "tasks_1-20_v1-2/hn/qa9_simple-negation_train.txt\n",
      "tasks_1-20_v1-2/hn/qa12_conjunction_train.txt\n",
      "tasks_1-20_v1-2/hn/qa6_yes-no-questions_train.txt\n",
      "tasks_1-20_v1-2/hn/qa2_two-supporting-facts_test.txt\n",
      "tasks_1-20_v1-2/hn/qa20_agents-motivations_train.txt\n",
      "tasks_1-20_v1-2/hn/qa7_counting_train.txt\n",
      "tasks_1-20_v1-2/hn/qa18_size-reasoning_test.txt\n",
      "tasks_1-20_v1-2/hn/qa1_single-supporting-fact_train.txt\n",
      "tasks_1-20_v1-2/hn/qa18_size-reasoning_train.txt\n",
      "tasks_1-20_v1-2/hn/qa1_single-supporting-fact_test.txt\n",
      "tasks_1-20_v1-2/hn/qa16_basic-induction_test.txt\n",
      "tasks_1-20_v1-2/hn/qa8_lists-sets_train.txt\n",
      "tasks_1-20_v1-2/hn/qa15_basic-deduction_test.txt\n",
      "tasks_1-20_v1-2/hn/qa11_basic-coreference_train.txt\n",
      "tasks_1-20_v1-2/hn/qa12_conjunction_test.txt\n",
      "tasks_1-20_v1-2/hn/qa10_indefinite-knowledge_test.txt\n",
      "tasks_1-20_v1-2/hn/qa19_path-finding_test.txt\n",
      "tasks_1-20_v1-2/hn/qa8_lists-sets_test.txt\n",
      "tasks_1-20_v1-2/hn/qa4_two-arg-relations_train.txt\n",
      "tasks_1-20_v1-2/hn/qa10_indefinite-knowledge_train.txt\n",
      "tasks_1-20_v1-2/hn/qa19_path-finding_train.txt\n",
      "tasks_1-20_v1-2/hn/qa20_agents-motivations_test.txt\n",
      "tasks_1-20_v1-2/hn/qa5_three-arg-relations_train.txt\n",
      "tasks_1-20_v1-2/hn/qa7_counting_test.txt\n",
      "tasks_1-20_v1-2/hn/qa3_three-supporting-facts_test.txt\n",
      "tasks_1-20_v1-2/hn/qa14_time-reasoning_train.txt\n",
      "tasks_1-20_v1-2/hn/qa17_positional-reasoning_test.txt\n",
      "tasks_1-20_v1-2/hn/qa9_simple-negation_test.txt\n",
      "tasks_1-20_v1-2/hn/qa4_two-arg-relations_test.txt\n",
      "tasks_1-20_v1-2/hn/qa6_yes-no-questions_test.txt\n",
      "tasks_1-20_v1-2/hn/qa15_basic-deduction_train.txt\n",
      "tasks_1-20_v1-2/hn/qa3_three-supporting-facts_train.txt\n",
      "tasks_1-20_v1-2/hn/qa2_two-supporting-facts_train.txt\n",
      "tasks_1-20_v1-2/hn/qa11_basic-coreference_test.txt\n",
      "tasks_1-20_v1-2/shuffled\n",
      "tasks_1-20_v1-2/shuffled/qa16_basic-induction_train.txt\n",
      "tasks_1-20_v1-2/shuffled/qa13_compound-coreference_train.txt\n",
      "tasks_1-20_v1-2/shuffled/qa13_compound-coreference_test.txt\n",
      "tasks_1-20_v1-2/shuffled/qa14_time-reasoning_test.txt\n",
      "tasks_1-20_v1-2/shuffled/qa5_three-arg-relations_test.txt\n",
      "tasks_1-20_v1-2/shuffled/qa17_positional-reasoning_train.txt\n",
      "tasks_1-20_v1-2/shuffled/qa9_simple-negation_train.txt\n",
      "tasks_1-20_v1-2/shuffled/qa12_conjunction_train.txt\n",
      "tasks_1-20_v1-2/shuffled/qa6_yes-no-questions_train.txt\n",
      "tasks_1-20_v1-2/shuffled/qa2_two-supporting-facts_test.txt\n",
      "tasks_1-20_v1-2/shuffled/qa20_agents-motivations_train.txt\n",
      "tasks_1-20_v1-2/shuffled/qa7_counting_train.txt\n",
      "tasks_1-20_v1-2/shuffled/qa18_size-reasoning_test.txt\n",
      "tasks_1-20_v1-2/shuffled/qa1_single-supporting-fact_train.txt\n",
      "tasks_1-20_v1-2/shuffled/qa18_size-reasoning_train.txt\n",
      "tasks_1-20_v1-2/shuffled/qa1_single-supporting-fact_test.txt\n",
      "tasks_1-20_v1-2/shuffled/qa16_basic-induction_test.txt\n",
      "tasks_1-20_v1-2/shuffled/qa8_lists-sets_train.txt\n",
      "tasks_1-20_v1-2/shuffled/qa15_basic-deduction_test.txt\n",
      "tasks_1-20_v1-2/shuffled/qa11_basic-coreference_train.txt\n",
      "tasks_1-20_v1-2/shuffled/qa12_conjunction_test.txt\n",
      "tasks_1-20_v1-2/shuffled/qa10_indefinite-knowledge_test.txt\n",
      "tasks_1-20_v1-2/shuffled/qa19_path-finding_test.txt\n",
      "tasks_1-20_v1-2/shuffled/qa8_lists-sets_test.txt\n",
      "tasks_1-20_v1-2/shuffled/qa4_two-arg-relations_train.txt\n",
      "tasks_1-20_v1-2/shuffled/qa10_indefinite-knowledge_train.txt\n",
      "tasks_1-20_v1-2/shuffled/qa19_path-finding_train.txt\n",
      "tasks_1-20_v1-2/shuffled/qa20_agents-motivations_test.txt\n",
      "tasks_1-20_v1-2/shuffled/qa5_three-arg-relations_train.txt\n",
      "tasks_1-20_v1-2/shuffled/qa7_counting_test.txt\n",
      "tasks_1-20_v1-2/shuffled/qa3_three-supporting-facts_test.txt\n",
      "tasks_1-20_v1-2/shuffled/qa14_time-reasoning_train.txt\n",
      "tasks_1-20_v1-2/shuffled/qa17_positional-reasoning_test.txt\n",
      "tasks_1-20_v1-2/shuffled/qa9_simple-negation_test.txt\n",
      "tasks_1-20_v1-2/shuffled/qa4_two-arg-relations_test.txt\n",
      "tasks_1-20_v1-2/shuffled/qa6_yes-no-questions_test.txt\n",
      "tasks_1-20_v1-2/shuffled/qa15_basic-deduction_train.txt\n",
      "tasks_1-20_v1-2/shuffled/qa3_three-supporting-facts_train.txt\n",
      "tasks_1-20_v1-2/shuffled/qa2_two-supporting-facts_train.txt\n",
      "tasks_1-20_v1-2/shuffled/qa11_basic-coreference_test.txt\n",
      "tasks_1-20_v1-2/en-10k\n",
      "tasks_1-20_v1-2/en-10k/qa16_basic-induction_train.txt\n",
      "tasks_1-20_v1-2/en-10k/qa13_compound-coreference_train.txt\n",
      "tasks_1-20_v1-2/en-10k/qa13_compound-coreference_test.txt\n",
      "tasks_1-20_v1-2/en-10k/qa14_time-reasoning_test.txt\n",
      "tasks_1-20_v1-2/en-10k/qa5_three-arg-relations_test.txt\n",
      "tasks_1-20_v1-2/en-10k/qa17_positional-reasoning_train.txt\n",
      "tasks_1-20_v1-2/en-10k/qa9_simple-negation_train.txt\n",
      "tasks_1-20_v1-2/en-10k/qa12_conjunction_train.txt\n",
      "tasks_1-20_v1-2/en-10k/qa6_yes-no-questions_train.txt\n",
      "tasks_1-20_v1-2/en-10k/qa2_two-supporting-facts_test.txt\n",
      "tasks_1-20_v1-2/en-10k/qa20_agents-motivations_train.txt\n",
      "tasks_1-20_v1-2/en-10k/qa7_counting_train.txt\n",
      "tasks_1-20_v1-2/en-10k/qa18_size-reasoning_test.txt\n",
      "tasks_1-20_v1-2/en-10k/qa1_single-supporting-fact_train.txt\n",
      "tasks_1-20_v1-2/en-10k/qa18_size-reasoning_train.txt\n",
      "tasks_1-20_v1-2/en-10k/qa1_single-supporting-fact_test.txt\n",
      "tasks_1-20_v1-2/en-10k/qa16_basic-induction_test.txt\n",
      "tasks_1-20_v1-2/en-10k/qa8_lists-sets_train.txt\n",
      "tasks_1-20_v1-2/en-10k/qa15_basic-deduction_test.txt\n",
      "tasks_1-20_v1-2/en-10k/qa11_basic-coreference_train.txt\n",
      "tasks_1-20_v1-2/en-10k/qa12_conjunction_test.txt\n",
      "tasks_1-20_v1-2/en-10k/qa10_indefinite-knowledge_test.txt\n",
      "tasks_1-20_v1-2/en-10k/qa19_path-finding_test.txt\n",
      "tasks_1-20_v1-2/en-10k/qa8_lists-sets_test.txt\n",
      "tasks_1-20_v1-2/en-10k/qa4_two-arg-relations_train.txt\n",
      "tasks_1-20_v1-2/en-10k/qa10_indefinite-knowledge_train.txt\n",
      "tasks_1-20_v1-2/en-10k/qa19_path-finding_train.txt\n",
      "tasks_1-20_v1-2/en-10k/qa20_agents-motivations_test.txt\n",
      "tasks_1-20_v1-2/en-10k/qa5_three-arg-relations_train.txt\n",
      "tasks_1-20_v1-2/en-10k/qa7_counting_test.txt\n",
      "tasks_1-20_v1-2/en-10k/qa3_three-supporting-facts_test.txt\n",
      "tasks_1-20_v1-2/en-10k/qa14_time-reasoning_train.txt\n",
      "tasks_1-20_v1-2/en-10k/qa17_positional-reasoning_test.txt\n",
      "tasks_1-20_v1-2/en-10k/qa9_simple-negation_test.txt\n",
      "tasks_1-20_v1-2/en-10k/qa4_two-arg-relations_test.txt\n",
      "tasks_1-20_v1-2/en-10k/qa6_yes-no-questions_test.txt\n",
      "tasks_1-20_v1-2/en-10k/qa15_basic-deduction_train.txt\n",
      "tasks_1-20_v1-2/en-10k/qa3_three-supporting-facts_train.txt\n",
      "tasks_1-20_v1-2/en-10k/qa2_two-supporting-facts_train.txt\n",
      "tasks_1-20_v1-2/en-10k/qa11_basic-coreference_test.txt\n",
      "tasks_1-20_v1-2/en-valid\n",
      "tasks_1-20_v1-2/en-valid/qa8_test.txt\n",
      "tasks_1-20_v1-2/en-valid/qa11_train.txt\n",
      "tasks_1-20_v1-2/en-valid/qa7_train.txt\n",
      "tasks_1-20_v1-2/en-valid/qa13_train.txt\n",
      "tasks_1-20_v1-2/en-valid/qa7_valid.txt\n",
      "tasks_1-20_v1-2/en-valid/qa19_train.txt\n",
      "tasks_1-20_v1-2/en-valid/qa12_train.txt\n",
      "tasks_1-20_v1-2/en-valid/qa18_train.txt\n",
      "tasks_1-20_v1-2/en-valid/qa6_test.txt\n",
      "tasks_1-20_v1-2/en-valid/qa9_test.txt\n",
      "tasks_1-20_v1-2/en-valid/qa8_valid.txt\n",
      "tasks_1-20_v1-2/en-valid/qa2_train.txt\n",
      "tasks_1-20_v1-2/en-valid/qa12_test.txt\n",
      "tasks_1-20_v1-2/en-valid/qa11_test.txt\n",
      "tasks_1-20_v1-2/en-valid/qa9_train.txt\n",
      "tasks_1-20_v1-2/en-valid/qa1_test.txt\n",
      "tasks_1-20_v1-2/en-valid/qa7_test.txt\n",
      "tasks_1-20_v1-2/en-valid/qa16_train.txt\n",
      "tasks_1-20_v1-2/en-valid/qa4_train.txt\n",
      "tasks_1-20_v1-2/en-valid/qa2_valid.txt\n",
      "tasks_1-20_v1-2/en-valid/qa5_valid.txt\n",
      "tasks_1-20_v1-2/en-valid/qa16_test.txt\n",
      "tasks_1-20_v1-2/en-valid/qa18_valid.txt\n",
      "tasks_1-20_v1-2/en-valid/qa13_test.txt\n",
      "tasks_1-20_v1-2/en-valid/qa11_valid.txt\n",
      "tasks_1-20_v1-2/en-valid/qa1_valid.txt\n",
      "tasks_1-20_v1-2/en-valid/qa5_train.txt\n",
      "tasks_1-20_v1-2/en-valid/qa15_test.txt\n",
      "tasks_1-20_v1-2/en-valid/qa20_train.txt\n",
      "tasks_1-20_v1-2/en-valid/qa18_test.txt\n",
      "tasks_1-20_v1-2/en-valid/qa19_valid.txt\n",
      "tasks_1-20_v1-2/en-valid/qa9_valid.txt\n",
      "tasks_1-20_v1-2/en-valid/qa17_valid.txt\n",
      "tasks_1-20_v1-2/en-valid/qa15_valid.txt\n",
      "tasks_1-20_v1-2/en-valid/qa5_test.txt\n",
      "tasks_1-20_v1-2/en-valid/qa20_valid.txt\n",
      "tasks_1-20_v1-2/en-valid/qa14_valid.txt\n",
      "tasks_1-20_v1-2/en-valid/qa4_valid.txt\n",
      "tasks_1-20_v1-2/en-valid/qa15_train.txt\n",
      "tasks_1-20_v1-2/en-valid/qa10_test.txt\n",
      "tasks_1-20_v1-2/en-valid/qa8_train.txt\n",
      "tasks_1-20_v1-2/en-valid/qa6_train.txt\n",
      "tasks_1-20_v1-2/en-valid/qa17_train.txt\n",
      "tasks_1-20_v1-2/en-valid/qa10_train.txt\n",
      "tasks_1-20_v1-2/en-valid/qa3_test.txt\n",
      "tasks_1-20_v1-2/en-valid/qa3_train.txt\n",
      "tasks_1-20_v1-2/en-valid/qa16_valid.txt\n",
      "tasks_1-20_v1-2/en-valid/qa3_valid.txt\n",
      "tasks_1-20_v1-2/en-valid/qa14_test.txt\n",
      "tasks_1-20_v1-2/en-valid/qa19_test.txt\n",
      "tasks_1-20_v1-2/en-valid/qa4_test.txt\n",
      "tasks_1-20_v1-2/en-valid/qa1_train.txt\n",
      "tasks_1-20_v1-2/en-valid/qa2_test.txt\n",
      "tasks_1-20_v1-2/en-valid/qa13_valid.txt\n",
      "tasks_1-20_v1-2/en-valid/qa20_test.txt\n",
      "tasks_1-20_v1-2/en-valid/qa6_valid.txt\n",
      "tasks_1-20_v1-2/en-valid/qa14_train.txt\n",
      "tasks_1-20_v1-2/en-valid/qa12_valid.txt\n",
      "tasks_1-20_v1-2/en-valid/qa17_test.txt\n",
      "tasks_1-20_v1-2/en-valid/qa10_valid.txt\n",
      "tasks_1-20_v1-2/hn-10k\n",
      "tasks_1-20_v1-2/hn-10k/qa16_basic-induction_train.txt\n",
      "tasks_1-20_v1-2/hn-10k/qa13_compound-coreference_train.txt\n",
      "tasks_1-20_v1-2/hn-10k/qa13_compound-coreference_test.txt\n",
      "tasks_1-20_v1-2/hn-10k/qa14_time-reasoning_test.txt\n",
      "tasks_1-20_v1-2/hn-10k/qa5_three-arg-relations_test.txt\n",
      "tasks_1-20_v1-2/hn-10k/qa17_positional-reasoning_train.txt\n",
      "tasks_1-20_v1-2/hn-10k/qa9_simple-negation_train.txt\n",
      "tasks_1-20_v1-2/hn-10k/qa12_conjunction_train.txt\n",
      "tasks_1-20_v1-2/hn-10k/qa6_yes-no-questions_train.txt\n",
      "tasks_1-20_v1-2/hn-10k/qa2_two-supporting-facts_test.txt\n",
      "tasks_1-20_v1-2/hn-10k/qa20_agents-motivations_train.txt\n",
      "tasks_1-20_v1-2/hn-10k/qa7_counting_train.txt\n",
      "tasks_1-20_v1-2/hn-10k/qa18_size-reasoning_test.txt\n",
      "tasks_1-20_v1-2/hn-10k/qa1_single-supporting-fact_train.txt\n",
      "tasks_1-20_v1-2/hn-10k/qa18_size-reasoning_train.txt\n",
      "tasks_1-20_v1-2/hn-10k/qa1_single-supporting-fact_test.txt\n",
      "tasks_1-20_v1-2/hn-10k/qa16_basic-induction_test.txt\n",
      "tasks_1-20_v1-2/hn-10k/qa8_lists-sets_train.txt\n",
      "tasks_1-20_v1-2/hn-10k/qa15_basic-deduction_test.txt\n",
      "tasks_1-20_v1-2/hn-10k/qa11_basic-coreference_train.txt\n",
      "tasks_1-20_v1-2/hn-10k/qa12_conjunction_test.txt\n",
      "tasks_1-20_v1-2/hn-10k/qa10_indefinite-knowledge_test.txt\n",
      "tasks_1-20_v1-2/hn-10k/qa19_path-finding_test.txt\n",
      "tasks_1-20_v1-2/hn-10k/qa8_lists-sets_test.txt\n",
      "tasks_1-20_v1-2/hn-10k/qa4_two-arg-relations_train.txt\n",
      "tasks_1-20_v1-2/hn-10k/qa10_indefinite-knowledge_train.txt\n",
      "tasks_1-20_v1-2/hn-10k/qa19_path-finding_train.txt\n",
      "tasks_1-20_v1-2/hn-10k/qa20_agents-motivations_test.txt\n",
      "tasks_1-20_v1-2/hn-10k/qa5_three-arg-relations_train.txt\n",
      "tasks_1-20_v1-2/hn-10k/qa7_counting_test.txt\n",
      "tasks_1-20_v1-2/hn-10k/qa3_three-supporting-facts_test.txt\n",
      "tasks_1-20_v1-2/hn-10k/qa14_time-reasoning_train.txt\n",
      "tasks_1-20_v1-2/hn-10k/qa17_positional-reasoning_test.txt\n",
      "tasks_1-20_v1-2/hn-10k/qa9_simple-negation_test.txt\n",
      "tasks_1-20_v1-2/hn-10k/qa4_two-arg-relations_test.txt\n",
      "tasks_1-20_v1-2/hn-10k/qa6_yes-no-questions_test.txt\n",
      "tasks_1-20_v1-2/hn-10k/qa15_basic-deduction_train.txt\n",
      "tasks_1-20_v1-2/hn-10k/qa3_three-supporting-facts_train.txt\n",
      "tasks_1-20_v1-2/hn-10k/qa2_two-supporting-facts_train.txt\n",
      "tasks_1-20_v1-2/hn-10k/qa11_basic-coreference_test.txt\n",
      "tasks_1-20_v1-2/shuffled-10k\n",
      "tasks_1-20_v1-2/shuffled-10k/qa16_basic-induction_train.txt\n",
      "tasks_1-20_v1-2/shuffled-10k/qa13_compound-coreference_train.txt\n",
      "tasks_1-20_v1-2/shuffled-10k/qa13_compound-coreference_test.txt\n",
      "tasks_1-20_v1-2/shuffled-10k/qa14_time-reasoning_test.txt\n",
      "tasks_1-20_v1-2/shuffled-10k/qa5_three-arg-relations_test.txt\n",
      "tasks_1-20_v1-2/shuffled-10k/qa17_positional-reasoning_train.txt\n",
      "tasks_1-20_v1-2/shuffled-10k/qa9_simple-negation_train.txt\n",
      "tasks_1-20_v1-2/shuffled-10k/qa12_conjunction_train.txt\n",
      "tasks_1-20_v1-2/shuffled-10k/qa6_yes-no-questions_train.txt\n",
      "tasks_1-20_v1-2/shuffled-10k/qa2_two-supporting-facts_test.txt\n",
      "tasks_1-20_v1-2/shuffled-10k/qa20_agents-motivations_train.txt\n",
      "tasks_1-20_v1-2/shuffled-10k/qa7_counting_train.txt\n",
      "tasks_1-20_v1-2/shuffled-10k/qa18_size-reasoning_test.txt\n",
      "tasks_1-20_v1-2/shuffled-10k/qa1_single-supporting-fact_train.txt\n",
      "tasks_1-20_v1-2/shuffled-10k/qa18_size-reasoning_train.txt\n",
      "tasks_1-20_v1-2/shuffled-10k/qa1_single-supporting-fact_test.txt\n",
      "tasks_1-20_v1-2/shuffled-10k/qa16_basic-induction_test.txt\n",
      "tasks_1-20_v1-2/shuffled-10k/qa8_lists-sets_train.txt\n",
      "tasks_1-20_v1-2/shuffled-10k/qa15_basic-deduction_test.txt\n",
      "tasks_1-20_v1-2/shuffled-10k/qa11_basic-coreference_train.txt\n",
      "tasks_1-20_v1-2/shuffled-10k/qa12_conjunction_test.txt\n",
      "tasks_1-20_v1-2/shuffled-10k/qa10_indefinite-knowledge_test.txt\n",
      "tasks_1-20_v1-2/shuffled-10k/qa19_path-finding_test.txt\n",
      "tasks_1-20_v1-2/shuffled-10k/qa8_lists-sets_test.txt\n",
      "tasks_1-20_v1-2/shuffled-10k/qa4_two-arg-relations_train.txt\n",
      "tasks_1-20_v1-2/shuffled-10k/qa10_indefinite-knowledge_train.txt\n",
      "tasks_1-20_v1-2/shuffled-10k/qa19_path-finding_train.txt\n",
      "tasks_1-20_v1-2/shuffled-10k/qa20_agents-motivations_test.txt\n",
      "tasks_1-20_v1-2/shuffled-10k/qa5_three-arg-relations_train.txt\n",
      "tasks_1-20_v1-2/shuffled-10k/qa7_counting_test.txt\n",
      "tasks_1-20_v1-2/shuffled-10k/qa3_three-supporting-facts_test.txt\n",
      "tasks_1-20_v1-2/shuffled-10k/qa14_time-reasoning_train.txt\n",
      "tasks_1-20_v1-2/shuffled-10k/qa17_positional-reasoning_test.txt\n",
      "tasks_1-20_v1-2/shuffled-10k/qa9_simple-negation_test.txt\n",
      "tasks_1-20_v1-2/shuffled-10k/qa4_two-arg-relations_test.txt\n",
      "tasks_1-20_v1-2/shuffled-10k/qa6_yes-no-questions_test.txt\n",
      "tasks_1-20_v1-2/shuffled-10k/qa15_basic-deduction_train.txt\n",
      "tasks_1-20_v1-2/shuffled-10k/qa3_three-supporting-facts_train.txt\n",
      "tasks_1-20_v1-2/shuffled-10k/qa2_two-supporting-facts_train.txt\n",
      "tasks_1-20_v1-2/shuffled-10k/qa11_basic-coreference_test.txt\n",
      "tasks_1-20_v1-2/en-valid-10k\n",
      "tasks_1-20_v1-2/en-valid-10k/qa8_test.txt\n",
      "tasks_1-20_v1-2/en-valid-10k/qa11_train.txt\n",
      "tasks_1-20_v1-2/en-valid-10k/qa7_train.txt\n",
      "tasks_1-20_v1-2/en-valid-10k/qa13_train.txt\n",
      "tasks_1-20_v1-2/en-valid-10k/qa7_valid.txt\n",
      "tasks_1-20_v1-2/en-valid-10k/qa19_train.txt\n",
      "tasks_1-20_v1-2/en-valid-10k/qa12_train.txt\n",
      "tasks_1-20_v1-2/en-valid-10k/qa18_train.txt\n",
      "tasks_1-20_v1-2/en-valid-10k/qa6_test.txt\n",
      "tasks_1-20_v1-2/en-valid-10k/qa9_test.txt\n",
      "tasks_1-20_v1-2/en-valid-10k/qa8_valid.txt\n",
      "tasks_1-20_v1-2/en-valid-10k/qa2_train.txt\n",
      "tasks_1-20_v1-2/en-valid-10k/qa12_test.txt\n",
      "tasks_1-20_v1-2/en-valid-10k/qa11_test.txt\n",
      "tasks_1-20_v1-2/en-valid-10k/qa9_train.txt\n",
      "tasks_1-20_v1-2/en-valid-10k/qa1_test.txt\n",
      "tasks_1-20_v1-2/en-valid-10k/qa7_test.txt\n",
      "tasks_1-20_v1-2/en-valid-10k/qa16_train.txt\n",
      "tasks_1-20_v1-2/en-valid-10k/qa4_train.txt\n",
      "tasks_1-20_v1-2/en-valid-10k/qa2_valid.txt\n",
      "tasks_1-20_v1-2/en-valid-10k/qa5_valid.txt\n",
      "tasks_1-20_v1-2/en-valid-10k/qa16_test.txt\n",
      "tasks_1-20_v1-2/en-valid-10k/qa18_valid.txt\n",
      "tasks_1-20_v1-2/en-valid-10k/qa13_test.txt\n",
      "tasks_1-20_v1-2/en-valid-10k/qa11_valid.txt\n",
      "tasks_1-20_v1-2/en-valid-10k/qa1_valid.txt\n",
      "tasks_1-20_v1-2/en-valid-10k/qa5_train.txt\n",
      "tasks_1-20_v1-2/en-valid-10k/qa15_test.txt\n",
      "tasks_1-20_v1-2/en-valid-10k/qa20_train.txt\n",
      "tasks_1-20_v1-2/en-valid-10k/qa18_test.txt\n",
      "tasks_1-20_v1-2/en-valid-10k/qa19_valid.txt\n",
      "tasks_1-20_v1-2/en-valid-10k/qa9_valid.txt\n",
      "tasks_1-20_v1-2/en-valid-10k/qa17_valid.txt\n",
      "tasks_1-20_v1-2/en-valid-10k/qa15_valid.txt\n",
      "tasks_1-20_v1-2/en-valid-10k/qa5_test.txt\n",
      "tasks_1-20_v1-2/en-valid-10k/qa20_valid.txt\n",
      "tasks_1-20_v1-2/en-valid-10k/qa14_valid.txt\n",
      "tasks_1-20_v1-2/en-valid-10k/qa4_valid.txt\n",
      "tasks_1-20_v1-2/en-valid-10k/qa15_train.txt\n",
      "tasks_1-20_v1-2/en-valid-10k/qa10_test.txt\n",
      "tasks_1-20_v1-2/en-valid-10k/qa8_train.txt\n",
      "tasks_1-20_v1-2/en-valid-10k/qa6_train.txt\n",
      "tasks_1-20_v1-2/en-valid-10k/qa17_train.txt\n",
      "tasks_1-20_v1-2/en-valid-10k/qa10_train.txt\n",
      "tasks_1-20_v1-2/en-valid-10k/qa3_test.txt\n",
      "tasks_1-20_v1-2/en-valid-10k/qa3_train.txt\n",
      "tasks_1-20_v1-2/en-valid-10k/qa16_valid.txt\n",
      "tasks_1-20_v1-2/en-valid-10k/qa3_valid.txt\n",
      "tasks_1-20_v1-2/en-valid-10k/qa14_test.txt\n",
      "tasks_1-20_v1-2/en-valid-10k/qa19_test.txt\n",
      "tasks_1-20_v1-2/en-valid-10k/qa4_test.txt\n",
      "tasks_1-20_v1-2/en-valid-10k/qa1_train.txt\n",
      "tasks_1-20_v1-2/en-valid-10k/qa2_test.txt\n",
      "tasks_1-20_v1-2/en-valid-10k/qa13_valid.txt\n",
      "tasks_1-20_v1-2/en-valid-10k/qa20_test.txt\n",
      "tasks_1-20_v1-2/en-valid-10k/qa6_valid.txt\n",
      "tasks_1-20_v1-2/en-valid-10k/qa14_train.txt\n",
      "tasks_1-20_v1-2/en-valid-10k/qa12_valid.txt\n",
      "tasks_1-20_v1-2/en-valid-10k/qa17_test.txt\n",
      "tasks_1-20_v1-2/en-valid-10k/qa10_valid.txt\n",
      "tasks_1-20_v1-2/en\n",
      "tasks_1-20_v1-2/en/qa16_basic-induction_train.txt\n",
      "tasks_1-20_v1-2/en/qa13_compound-coreference_train.txt\n",
      "tasks_1-20_v1-2/en/qa13_compound-coreference_test.txt\n",
      "tasks_1-20_v1-2/en/qa14_time-reasoning_test.txt\n",
      "tasks_1-20_v1-2/en/qa5_three-arg-relations_test.txt\n",
      "tasks_1-20_v1-2/en/qa17_positional-reasoning_train.txt\n",
      "tasks_1-20_v1-2/en/qa9_simple-negation_train.txt\n",
      "tasks_1-20_v1-2/en/qa12_conjunction_train.txt\n",
      "tasks_1-20_v1-2/en/qa6_yes-no-questions_train.txt\n",
      "tasks_1-20_v1-2/en/qa2_two-supporting-facts_test.txt\n",
      "tasks_1-20_v1-2/en/qa20_agents-motivations_train.txt\n",
      "tasks_1-20_v1-2/en/qa7_counting_train.txt\n",
      "tasks_1-20_v1-2/en/qa18_size-reasoning_test.txt\n",
      "tasks_1-20_v1-2/en/qa1_single-supporting-fact_train.txt\n",
      "tasks_1-20_v1-2/en/qa18_size-reasoning_train.txt\n",
      "tasks_1-20_v1-2/en/qa1_single-supporting-fact_test.txt\n",
      "tasks_1-20_v1-2/en/qa16_basic-induction_test.txt\n",
      "tasks_1-20_v1-2/en/qa8_lists-sets_train.txt\n",
      "tasks_1-20_v1-2/en/qa15_basic-deduction_test.txt\n",
      "tasks_1-20_v1-2/en/qa11_basic-coreference_train.txt\n",
      "tasks_1-20_v1-2/en/qa12_conjunction_test.txt\n",
      "tasks_1-20_v1-2/en/qa10_indefinite-knowledge_test.txt\n",
      "tasks_1-20_v1-2/en/qa19_path-finding_test.txt\n",
      "tasks_1-20_v1-2/en/qa8_lists-sets_test.txt\n",
      "tasks_1-20_v1-2/en/qa4_two-arg-relations_train.txt\n",
      "tasks_1-20_v1-2/en/qa10_indefinite-knowledge_train.txt\n",
      "tasks_1-20_v1-2/en/qa19_path-finding_train.txt\n",
      "tasks_1-20_v1-2/en/qa20_agents-motivations_test.txt\n",
      "tasks_1-20_v1-2/en/qa5_three-arg-relations_train.txt\n",
      "tasks_1-20_v1-2/en/qa7_counting_test.txt\n",
      "tasks_1-20_v1-2/en/qa3_three-supporting-facts_test.txt\n",
      "tasks_1-20_v1-2/en/qa14_time-reasoning_train.txt\n",
      "tasks_1-20_v1-2/en/qa17_positional-reasoning_test.txt\n",
      "tasks_1-20_v1-2/en/qa9_simple-negation_test.txt\n",
      "tasks_1-20_v1-2/en/qa4_two-arg-relations_test.txt\n",
      "tasks_1-20_v1-2/en/qa6_yes-no-questions_test.txt\n",
      "tasks_1-20_v1-2/en/qa15_basic-deduction_train.txt\n",
      "tasks_1-20_v1-2/en/qa3_three-supporting-facts_train.txt\n",
      "tasks_1-20_v1-2/en/qa2_two-supporting-facts_train.txt\n",
      "tasks_1-20_v1-2/en/qa11_basic-coreference_test.txt\n",
      "tasks_1-20_v1-2/LICENSE.txt\n",
      "tasks_1-20_v1-2/README.txt\n"
     ]
    }
   ],
   "source": [
    "with tarfile.open('tasks_1-20_v1-2.tar.gz') as tar:\n",
    "    print('\\n'.join(tar.getnames()))"
   ]
  },
  {
   "cell_type": "code",
   "execution_count": 6,
   "metadata": {
    "collapsed": false
   },
   "outputs": [
    {
     "name": "stdout",
     "output_type": "stream",
     "text": [
      "[b'1 John travelled to the hallway.\\n', b'2 Mary journeyed to the bathroom.\\n', b'3 Where is John? \\thallway\\t1\\n', b'4 Daniel went back to the bathroom.\\n', b'5 John moved to the bedroom.\\n', b'6 Where is Mary? \\tbathroom\\t2\\n', b'7 John went to the hallway.\\n', b'8 Sandra journeyed to the kitchen.\\n', b'9 Where is Sandra? \\tkitchen\\t8\\n', b'10 Sandra travelled to the hallway.\\n', b'11 John went to the garden.\\n', b'12 Where is Sandra? \\thallway\\t10\\n', b'13 Sandra went back to the bathroom.\\n', b'14 Sandra moved to the kitchen.\\n', b'15 Where is Sandra? \\tkitchen\\t14\\n', b'1 Sandra travelled to the kitchen.\\n', b'2 Sandra travelled to the hallway.\\n', b'3 Where is Sandra? \\thallway\\t2\\n', b'4 Mary went to the bathroom.\\n', b'5 Sandra moved to the garden.\\n', b'6 Where is Sandra? \\tgarden\\t5\\n', b'7 Sandra travelled to the office.\\n', b'8 Daniel journeyed to the hallway.\\n', b'9 Where is Daniel? \\thallway\\t8\\n', b'10 Daniel journeyed to the office.\\n', b'11 John moved to the hallway.\\n', b'12 Where is Sandra? \\toffice\\t7\\n', b'13 John travelled to the bathroom.\\n', b'14 John journeyed to the office.\\n', b'15 Where is Daniel? \\toffice\\t10\\n', b'1 John travelled to the office.\\n', b'2 Mary journeyed to the kitchen.\\n', b'3 Where is Mary? \\tkitchen\\t2\\n', b'4 Mary moved to the garden.\\n', b'5 Daniel went to the office.\\n', b'6 Where is Mary? \\tgarden\\t4\\n', b'7 John went to the hallway.\\n', b'8 Mary moved to the kitchen.\\n', b'9 Where is Daniel? \\toffice\\t5\\n', b'10 Mary travelled to the bedroom.\\n', b'11 Daniel journeyed to the garden.\\n', b'12 Where is Mary? \\tbedroom\\t10\\n', b'13 John journeyed to the garden.\\n', b'14 Sandra journeyed to the bedroom.\\n', b'15 Where is Mary? \\tbedroom\\t10\\n', b'1 John moved to the hallway.\\n', b'2 John journeyed to the kitchen.\\n', b'3 Where is John? \\tkitchen\\t2\\n', b'4 Sandra travelled to the garden.\\n', b'5 John journeyed to the garden.\\n', b'6 Where is John? \\tgarden\\t5\\n', b'7 Daniel journeyed to the office.\\n', b'8 John went to the kitchen.\\n', b'9 Where is John? \\tkitchen\\t8\\n', b'10 Sandra journeyed to the hallway.\\n', b'11 Mary went to the hallway.\\n', b'12 Where is Daniel? \\toffice\\t7\\n', b'13 Mary went to the kitchen.\\n', b'14 Sandra travelled to the garden.\\n', b'15 Where is John? \\tkitchen\\t8\\n', b'1 Mary journeyed to the kitchen.\\n', b'2 Mary travelled to the hallway.\\n', b'3 Where is Mary? \\thallway\\t2\\n', b'4 Sandra moved to the office.\\n', b'5 John journeyed to the office.\\n', b'6 Where is John? \\toffice\\t5\\n', b'7 Sandra travelled to the hallway.\\n', b'8 Daniel went back to the bathroom.\\n', b'9 Where is John? \\toffice\\t5\\n', b'10 Mary travelled to the garden.\\n', b'11 Daniel moved to the bedroom.\\n', b'12 Where is Sandra? \\thallway\\t7\\n', b'13 John went to the garden.\\n', b'14 Sandra travelled to the office.\\n', b'15 Where is Daniel? \\tbedroom\\t11\\n', b'1 Sandra moved to the bedroom.\\n', b'2 Mary went back to the kitchen.\\n', b'3 Where is Sandra? \\tbedroom\\t1\\n', b'4 Mary went to the bedroom.\\n', b'5 Daniel journeyed to the bedroom.\\n', b'6 Where is Mary? \\tbedroom\\t4\\n', b'7 John travelled to the bathroom.\\n', b'8 Daniel travelled to the kitchen.\\n', b'9 Where is Daniel? \\tkitchen\\t8\\n', b'10 John went back to the office.\\n', b'11 Sandra journeyed to the garden.\\n', b'12 Where is Daniel? \\tkitchen\\t8\\n', b'13 Mary journeyed to the bathroom.\\n', b'14 Mary journeyed to the kitchen.\\n', b'15 Where is Daniel? \\tkitchen\\t8\\n', b'1 Sandra moved to the hallway.\\n', b'2 Daniel went to the office.\\n', b'3 Where is Sandra? \\thallway\\t1\\n', b'4 Sandra travelled to the kitchen.\\n', b'5 John moved to the office.\\n', b'6 Where is John? \\toffice\\t5\\n', b'7 Sandra went to the bathroom.\\n', b'8 Sandra moved to the kitchen.\\n', b'9 Where is Sandra? \\tkitchen\\t8\\n', b'10 Sandra journeyed to the bedroom.\\n', b'11 Sandra went to the kitchen.\\n', b'12 Where is Sandra? \\tkitchen\\t11\\n', b'13 John went to the garden.\\n', b'14 Sandra went to the bathroom.\\n', b'15 Where is Sandra? \\tbathroom\\t14\\n', b'1 Mary went back to the bedroom.\\n', b'2 Mary moved to the office.\\n', b'3 Where is Mary? \\toffice\\t2\\n', b'4 Mary went back to the bathroom.\\n', b'5 Sandra moved to the hallway.\\n', b'6 Where is Mary? \\tbathroom\\t4\\n', b'7 Mary went to the garden.\\n', b'8 Sandra went to the kitchen.\\n', b'9 Where is Mary? \\tgarden\\t7\\n', b'10 Daniel journeyed to the bedroom.\\n', b'11 John journeyed to the hallway.\\n', b'12 Where is Sandra? \\tkitchen\\t8\\n', b'13 Sandra moved to the office.\\n', b'14 Sandra journeyed to the garden.\\n', b'15 Where is Daniel? \\tbedroom\\t10\\n', b'1 Sandra went to the office.\\n', b'2 Sandra travelled to the bathroom.\\n', b'3 Where is Sandra? \\tbathroom\\t2\\n', b'4 Mary went back to the bedroom.\\n', b'5 Daniel moved to the garden.\\n', b'6 Where is Daniel? \\tgarden\\t5\\n', b'7 John journeyed to the garden.\\n', b'8 Daniel went back to the hallway.\\n', b'9 Where is Sandra? \\tbathroom\\t2\\n', b'10 John journeyed to the bedroom.\\n', b'11 Mary travelled to the kitchen.\\n', b'12 Where is Daniel? \\thallway\\t8\\n', b'13 Sandra went to the bedroom.\\n', b'14 Daniel went to the garden.\\n', b'15 Where is Daniel? \\tgarden\\t14\\n', b'1 Mary went back to the kitchen.\\n', b'2 Daniel journeyed to the hallway.\\n', b'3 Where is Mary? \\tkitchen\\t1\\n', b'4 Mary went back to the hallway.\\n', b'5 Sandra journeyed to the bedroom.\\n', b'6 Where is Daniel? \\thallway\\t2\\n', b'7 Sandra moved to the garden.\\n', b'8 Sandra moved to the bathroom.\\n', b'9 Where is Sandra? \\tbathroom\\t8\\n', b'10 Daniel travelled to the bedroom.\\n', b'11 John moved to the office.\\n', b'12 Where is John? \\toffice\\t11\\n', b'13 Sandra moved to the hallway.\\n', b'14 John moved to the bedroom.\\n', b'15 Where is John? \\tbedroom\\t14\\n', b'1 John journeyed to the hallway.\\n', b'2 John journeyed to the bedroom.\\n', b'3 Where is John? \\tbedroom\\t2\\n', b'4 Daniel journeyed to the bedroom.\\n', b'5 John journeyed to the office.\\n', b'6 Where is John? \\toffice\\t5\\n', b'7 John moved to the garden.\\n', b'8 Daniel moved to the garden.\\n', b'9 Where is John? \\tgarden\\t7\\n', b'10 Daniel went back to the kitchen.\\n', b'11 Mary journeyed to the hallway.\\n', b'12 Where is John? \\tgarden\\t7\\n', b'13 John moved to the office.\\n', b'14 Mary journeyed to the kitchen.\\n', b'15 Where is Daniel? \\tkitchen\\t10\\n', b'1 Mary went to the bedroom.\\n', b'2 Daniel journeyed to the bathroom.\\n', b'3 Where is Mary? \\tbedroom\\t1\\n', b'4 Mary travelled to the kitchen.\\n', b'5 Daniel moved to the garden.\\n', b'6 Where is Mary? \\tkitchen\\t4\\n', b'7 Sandra travelled to the bedroom.\\n', b'8 Mary journeyed to the hallway.\\n', b'9 Where is Mary? \\thallway\\t8\\n', b'10 Sandra went back to the office.\\n', b'11 Sandra went to the kitchen.\\n', b'12 Where is Daniel? \\tgarden\\t5\\n', b'13 Sandra went to the hallway.\\n', b'14 John moved to the office.\\n', b'15 Where is Sandra? \\thallway\\t13\\n', b'1 Sandra went back to the hallway.\\n', b'2 John moved to the hallway.\\n', b'3 Where is Sandra? \\thallway\\t1\\n', b'4 John travelled to the bathroom.\\n', b'5 Daniel travelled to the office.\\n', b'6 Where is Daniel? \\toffice\\t5\\n', b'7 John moved to the office.\\n', b'8 Sandra travelled to the bathroom.\\n', b'9 Where is Sandra? \\tbathroom\\t8\\n', b'10 Daniel went back to the bedroom.\\n', b'11 Daniel went back to the garden.\\n', b'12 Where is Daniel? \\tgarden\\t11\\n', b'13 Sandra moved to the hallway.\\n', b'14 John went back to the bathroom.\\n', b'15 Where is Daniel? \\tgarden\\t11\\n', b'1 Mary went to the kitchen.\\n', b'2 John went back to the kitchen.\\n', b'3 Where is John? \\tkitchen\\t2\\n', b'4 Daniel went back to the hallway.\\n', b'5 Daniel went to the bathroom.\\n', b'6 Where is John? \\tkitchen\\t2\\n', b'7 Sandra travelled to the bathroom.\\n', b'8 Sandra travelled to the bedroom.\\n', b'9 Where is Daniel? \\tbathroom\\t5\\n', b'10 Daniel went to the kitchen.\\n', b'11 Daniel moved to the office.\\n', b'12 Where is Daniel? \\toffice\\t11\\n', b'13 Mary moved to the bathroom.\\n', b'14 Mary went back to the hallway.\\n', b'15 Where is Daniel? \\toffice\\t11\\n', b'1 Sandra journeyed to the bedroom.\\n', b'2 Mary journeyed to the garden.\\n', b'3 Where is Mary? \\tgarden\\t2\\n', b'4 Sandra moved to the hallway.\\n', b'5 Mary travelled to the office.\\n', b'6 Where is Sandra? \\thallway\\t4\\n', b'7 Mary travelled to the kitchen.\\n', b'8 Mary journeyed to the garden.\\n', b'9 Where is Mary? \\tgarden\\t8\\n', b'10 John moved to the hallway.\\n', b'11 Mary went to the bedroom.\\n', b'12 Where is Mary? \\tbedroom\\t11\\n', b'13 John moved to the bathroom.\\n', b'14 Mary went to the bathroom.\\n', b'15 Where is Mary? \\tbathroom\\t14\\n', b'1 John travelled to the kitchen.\\n', b'2 Daniel went back to the kitchen.\\n', b'3 Where is Daniel? \\tkitchen\\t2\\n', b'4 Daniel went to the garden.\\n', b'5 Mary went back to the office.\\n', b'6 Where is John? \\tkitchen\\t1\\n', b'7 Daniel journeyed to the office.\\n', b'8 Daniel moved to the kitchen.\\n', b'9 Where is Daniel? \\tkitchen\\t8\\n', b'10 Daniel went back to the hallway.\\n', b'11 Sandra went back to the bedroom.\\n', b'12 Where is Daniel? \\thallway\\t10\\n', b'13 Sandra went to the garden.\\n', b'14 Daniel went back to the office.\\n', b'15 Where is Daniel? \\toffice\\t14\\n', b'1 Daniel went to the garden.\\n', b'2 John travelled to the garden.\\n', b'3 Where is John? \\tgarden\\t2\\n', b'4 John travelled to the bathroom.\\n', b'5 Mary went to the garden.\\n', b'6 Where is John? \\tbathroom\\t4\\n', b'7 Sandra moved to the kitchen.\\n', b'8 Sandra went back to the bedroom.\\n', b'9 Where is Sandra? \\tbedroom\\t8\\n', b'10 John journeyed to the office.\\n', b'11 Sandra went to the office.\\n', b'12 Where is Mary? \\tgarden\\t5\\n', b'13 Mary travelled to the kitchen.\\n', b'14 Daniel travelled to the office.\\n', b'15 Where is Daniel? \\toffice\\t14\\n', b'1 John travelled to the garden.\\n', b'2 Sandra travelled to the garden.\\n', b'3 Where is Sandra? \\tgarden\\t2\\n', b'4 Mary journeyed to the office.\\n', b'5 Mary went to the garden.\\n', b'6 Where is Mary? \\tgarden\\t5\\n', b'7 John went to the hallway.\\n', b'8 Mary went to the bedroom.\\n', b'9 Where is John? \\thallway\\t7\\n', b'10 John went to the office.\\n', b'11 Sandra went back to the kitchen.\\n', b'12 Where is Sandra? \\tkitchen\\t11\\n', b'13 John travelled to the kitchen.\\n', b'14 Daniel went back to the kitchen.\\n', b'15 Where is Daniel? \\tkitchen\\t14\\n', b'1 Sandra moved to the kitchen.\\n', b'2 Sandra went back to the bathroom.\\n', b'3 Where is Sandra? \\tbathroom\\t2\\n', b'4 Mary journeyed to the bedroom.\\n', b'5 John journeyed to the bathroom.\\n', b'6 Where is John? \\tbathroom\\t5\\n', b'7 Sandra moved to the bedroom.\\n', b'8 Sandra travelled to the hallway.\\n', b'9 Where is Sandra? \\thallway\\t8\\n', b'10 Sandra travelled to the garden.\\n', b'11 Sandra travelled to the bathroom.\\n', b'12 Where is Sandra? \\tbathroom\\t11\\n', b'13 Daniel journeyed to the kitchen.\\n', b'14 John journeyed to the office.\\n', b'15 Where is Sandra? \\tbathroom\\t11\\n', b'1 John travelled to the kitchen.\\n', b'2 Sandra moved to the kitchen.\\n', b'3 Where is John? \\tkitchen\\t1\\n', b'4 Daniel went to the kitchen.\\n', b'5 John journeyed to the hallway.\\n', b'6 Where is Sandra? \\tkitchen\\t2\\n', b'7 Mary journeyed to the bedroom.\\n', b'8 Mary journeyed to the kitchen.\\n', b'9 Where is Mary? \\tkitchen\\t8\\n', b'10 Mary travelled to the bedroom.\\n', b'11 Sandra travelled to the bedroom.\\n', b'12 Where is Mary? \\tbedroom\\t10\\n', b'13 John went to the office.\\n', b'14 John went back to the kitchen.\\n', b'15 Where is Mary? \\tbedroom\\t10\\n', b'1 Mary travelled to the garden.\\n', b'2 Mary moved to the bedroom.\\n', b'3 Where is Mary? \\tbedroom\\t2\\n', b'4 Sandra went to the bathroom.\\n', b'5 Daniel travelled to the bathroom.\\n', b'6 Where is Sandra? \\tbathroom\\t4\\n', b'7 Mary travelled to the office.\\n', b'8 Daniel moved to the hallway.\\n', b'9 Where is Mary? \\toffice\\t7\\n', b'10 John moved to the kitchen.\\n', b'11 Daniel went to the garden.\\n', b'12 Where is Daniel? \\tgarden\\t11\\n', b'13 Mary journeyed to the garden.\\n', b'14 John journeyed to the bedroom.\\n', b'15 Where is Daniel? \\tgarden\\t11\\n', b'1 Mary journeyed to the office.\\n', b'2 Mary moved to the hallway.\\n', b'3 Where is Mary? \\thallway\\t2\\n', b'4 John journeyed to the hallway.\\n', b'5 Daniel travelled to the bedroom.\\n', b'6 Where is Daniel? \\tbedroom\\t5\\n', b'7 Daniel travelled to the bathroom.\\n', b'8 John travelled to the kitchen.\\n', b'9 Where is Daniel? \\tbathroom\\t7\\n', b'10 Daniel moved to the office.\\n', b'11 Mary went to the garden.\\n', b'12 Where is Daniel? \\toffice\\t10\\n', b'13 Daniel moved to the kitchen.\\n', b'14 John travelled to the bedroom.\\n', b'15 Where is John? \\tbedroom\\t14\\n', b'1 Daniel went to the office.\\n', b'2 Daniel travelled to the bathroom.\\n', b'3 Where is Daniel? \\tbathroom\\t2\\n', b'4 John travelled to the kitchen.\\n', b'5 John went to the bedroom.\\n', b'6 Where is Daniel? \\tbathroom\\t2\\n', b'7 John went to the office.\\n', b'8 John journeyed to the kitchen.\\n', b'9 Where is John? \\tkitchen\\t8\\n', b'10 Mary moved to the kitchen.\\n', b'11 John went back to the hallway.\\n', b'12 Where is John? \\thallway\\t11\\n', b'13 Sandra went to the bathroom.\\n', b'14 Sandra moved to the office.\\n', b'15 Where is Mary? \\tkitchen\\t10\\n', b'1 Sandra went back to the garden.\\n', b'2 John moved to the office.\\n', b'3 Where is Sandra? \\tgarden\\t1\\n', b'4 Sandra travelled to the bathroom.\\n', b'5 Mary went back to the kitchen.\\n', b'6 Where is John? \\toffice\\t2\\n', b'7 John went to the bathroom.\\n', b'8 Daniel travelled to the bathroom.\\n', b'9 Where is Mary? \\tkitchen\\t5\\n', b'10 John went back to the kitchen.\\n', b'11 John went to the hallway.\\n', b'12 Where is Daniel? \\tbathroom\\t8\\n', b'13 Daniel journeyed to the garden.\\n', b'14 Daniel went back to the office.\\n', b'15 Where is Daniel? \\toffice\\t14\\n', b'1 Daniel journeyed to the office.\\n', b'2 Daniel travelled to the bedroom.\\n', b'3 Where is Daniel? \\tbedroom\\t2\\n', b'4 Sandra travelled to the bathroom.\\n', b'5 Mary journeyed to the bathroom.\\n', b'6 Where is Mary? \\tbathroom\\t5\\n', b'7 John went back to the office.\\n', b'8 Mary journeyed to the kitchen.\\n', b'9 Where is Daniel? \\tbedroom\\t2\\n', b'10 Daniel journeyed to the hallway.\\n', b'11 John travelled to the bathroom.\\n', b'12 Where is Daniel? \\thallway\\t10\\n', b'13 Mary travelled to the bedroom.\\n', b'14 John travelled to the office.\\n', b'15 Where is Mary? \\tbedroom\\t13\\n', b'1 John moved to the kitchen.\\n', b'2 Sandra travelled to the office.\\n', b'3 Where is Sandra? \\toffice\\t2\\n', b'4 Daniel went to the garden.\\n', b'5 John journeyed to the garden.\\n', b'6 Where is John? \\tgarden\\t5\\n', b'7 Sandra moved to the kitchen.\\n', b'8 John went back to the office.\\n', b'9 Where is Daniel? \\tgarden\\t4\\n', b'10 Mary moved to the bedroom.\\n', b'11 Sandra travelled to the garden.\\n', b'12 Where is Sandra? \\tgarden\\t11\\n', b'13 Sandra moved to the bathroom.\\n', b'14 Mary journeyed to the garden.\\n', b'15 Where is Sandra? \\tbathroom\\t13\\n', b'1 Mary journeyed to the hallway.\\n', b'2 Sandra journeyed to the garden.\\n', b'3 Where is Sandra? \\tgarden\\t2\\n', b'4 John went back to the bedroom.\\n', b'5 Sandra went back to the office.\\n', b'6 Where is Mary? \\thallway\\t1\\n', b'7 Sandra travelled to the bathroom.\\n', b'8 John journeyed to the kitchen.\\n', b'9 Where is Sandra? \\tbathroom\\t7\\n', b'10 Sandra moved to the garden.\\n', b'11 Mary went to the bedroom.\\n', b'12 Where is Sandra? \\tgarden\\t10\\n', b'13 Daniel journeyed to the garden.\\n', b'14 Sandra journeyed to the bedroom.\\n', b'15 Where is John? \\tkitchen\\t8\\n', b'1 Daniel moved to the kitchen.\\n', b'2 Sandra travelled to the bathroom.\\n', b'3 Where is Sandra? \\tbathroom\\t2\\n', b'4 Sandra travelled to the office.\\n', b'5 Daniel journeyed to the office.\\n', b'6 Where is Sandra? \\toffice\\t4\\n', b'7 Sandra went back to the bedroom.\\n', b'8 John moved to the kitchen.\\n', b'9 Where is John? \\tkitchen\\t8\\n', b'10 Sandra travelled to the bathroom.\\n', b'11 John moved to the bathroom.\\n', b'12 Where is Sandra? \\tbathroom\\t10\\n', b'13 Mary moved to the garden.\\n', b'14 Daniel journeyed to the bathroom.\\n', b'15 Where is John? \\tbathroom\\t11\\n', b'1 Mary journeyed to the garden.\\n', b'2 Mary travelled to the office.\\n', b'3 Where is Mary? \\toffice\\t2\\n', b'4 Mary went to the hallway.\\n', b'5 John journeyed to the hallway.\\n', b'6 Where is Mary? \\thallway\\t4\\n', b'7 John moved to the bathroom.\\n', b'8 Sandra went to the office.\\n', b'9 Where is Mary? \\thallway\\t4\\n', b'10 Daniel travelled to the kitchen.\\n', b'11 Mary travelled to the bathroom.\\n', b'12 Where is Sandra? \\toffice\\t8\\n', b'13 Daniel travelled to the hallway.\\n', b'14 Sandra went to the bedroom.\\n', b'15 Where is Sandra? \\tbedroom\\t14\\n', b'1 Daniel went to the bedroom.\\n', b'2 Sandra went to the kitchen.\\n', b'3 Where is Sandra? \\tkitchen\\t2\\n', b'4 Daniel moved to the kitchen.\\n', b'5 John went back to the bedroom.\\n', b'6 Where is Sandra? \\tkitchen\\t2\\n', b'7 Daniel journeyed to the bedroom.\\n', b'8 Daniel travelled to the kitchen.\\n', b'9 Where is Daniel? \\tkitchen\\t8\\n', b'10 Sandra went back to the bathroom.\\n', b'11 Sandra went to the kitchen.\\n', b'12 Where is Sandra? \\tkitchen\\t11\\n', b'13 John travelled to the garden.\\n', b'14 Sandra travelled to the office.\\n', b'15 Where is Daniel? \\tkitchen\\t8\\n', b'1 Mary travelled to the bedroom.\\n', b'2 Daniel went back to the garden.\\n', b'3 Where is Daniel? \\tgarden\\t2\\n', b'4 Sandra moved to the garden.\\n', b'5 Daniel went back to the bathroom.\\n', b'6 Where is Sandra? \\tgarden\\t4\\n', b'7 John moved to the office.\\n', b'8 Sandra travelled to the office.\\n', b'9 Where is Daniel? \\tbathroom\\t5\\n', b'10 Daniel went back to the office.\\n', b'11 Mary moved to the office.\\n', b'12 Where is Daniel? \\toffice\\t10\\n', b'13 John travelled to the hallway.\\n', b'14 John travelled to the bedroom.\\n', b'15 Where is John? \\tbedroom\\t14\\n', b'1 Mary moved to the bathroom.\\n', b'2 Daniel journeyed to the bedroom.\\n', b'3 Where is Mary? \\tbathroom\\t1\\n', b'4 Daniel went to the garden.\\n', b'5 John went to the bedroom.\\n', b'6 Where is Daniel? \\tgarden\\t4\\n', b'7 Sandra journeyed to the office.\\n', b'8 Sandra went to the bathroom.\\n', b'9 Where is John? \\tbedroom\\t5\\n', b'10 Sandra went to the bedroom.\\n', b'11 John went back to the office.\\n', b'12 Where is John? \\toffice\\t11\\n', b'13 Mary went back to the office.\\n', b'14 Mary journeyed to the hallway.\\n', b'15 Where is Mary? \\thallway\\t14\\n', b'1 Daniel moved to the bedroom.\\n', b'2 Sandra journeyed to the hallway.\\n', b'3 Where is Daniel? \\tbedroom\\t1\\n', b'4 Mary journeyed to the kitchen.\\n', b'5 Mary went back to the bathroom.\\n', b'6 Where is Daniel? \\tbedroom\\t1\\n', b'7 Mary journeyed to the hallway.\\n', b'8 Mary went to the bedroom.\\n', b'9 Where is Mary? \\tbedroom\\t8\\n', b'10 Mary moved to the garden.\\n', b'11 Sandra travelled to the office.\\n', b'12 Where is Mary? \\tgarden\\t10\\n', b'13 Daniel travelled to the bathroom.\\n', b'14 Sandra went back to the bathroom.\\n', b'15 Where is Daniel? \\tbathroom\\t13\\n', b'1 Mary went back to the hallway.\\n', b'2 Sandra went back to the garden.\\n', b'3 Where is Sandra? \\tgarden\\t2\\n', b'4 Mary went to the office.\\n', b'5 Daniel travelled to the garden.\\n', b'6 Where is Sandra? \\tgarden\\t2\\n', b'7 Mary went to the bedroom.\\n', b'8 Sandra went back to the kitchen.\\n', b'9 Where is Daniel? \\tgarden\\t5\\n', b'10 Daniel went to the kitchen.\\n', b'11 John moved to the hallway.\\n', b'12 Where is Daniel? \\tkitchen\\t10\\n', b'13 Mary went back to the kitchen.\\n', b'14 Mary moved to the bedroom.\\n', b'15 Where is Mary? \\tbedroom\\t14\\n', b'1 Daniel journeyed to the kitchen.\\n', b'2 Daniel journeyed to the office.\\n', b'3 Where is Daniel? \\toffice\\t2\\n', b'4 Mary travelled to the hallway.\\n', b'5 John moved to the garden.\\n', b'6 Where is Daniel? \\toffice\\t2\\n', b'7 Mary travelled to the office.\\n', b'8 Mary travelled to the garden.\\n', b'9 Where is John? \\tgarden\\t5\\n', b'10 John travelled to the hallway.\\n', b'11 Sandra went back to the bathroom.\\n', b'12 Where is Sandra? \\tbathroom\\t11\\n', b'13 Mary moved to the hallway.\\n', b'14 Daniel moved to the bedroom.\\n', b'15 Where is Sandra? \\tbathroom\\t11\\n', b'1 Sandra went to the kitchen.\\n', b'2 Sandra went to the office.\\n', b'3 Where is Sandra? \\toffice\\t2\\n', b'4 Sandra travelled to the hallway.\\n', b'5 Sandra went back to the kitchen.\\n', b'6 Where is Sandra? \\tkitchen\\t5\\n', b'7 Mary travelled to the hallway.\\n', b'8 Sandra went to the bedroom.\\n', b'9 Where is Sandra? \\tbedroom\\t8\\n', b'10 John went to the garden.\\n', b'11 Sandra travelled to the office.\\n', b'12 Where is Sandra? \\toffice\\t11\\n', b'13 John journeyed to the office.\\n', b'14 Daniel journeyed to the kitchen.\\n', b'15 Where is Sandra? \\toffice\\t11\\n', b'1 Mary travelled to the office.\\n', b'2 Mary went back to the hallway.\\n', b'3 Where is Mary? \\thallway\\t2\\n', b'4 John travelled to the hallway.\\n', b'5 Daniel went back to the office.\\n', b'6 Where is Mary? \\thallway\\t2\\n', b'7 John went to the office.\\n', b'8 Daniel journeyed to the hallway.\\n', b'9 Where is Daniel? \\thallway\\t8\\n', b'10 Mary moved to the office.\\n', b'11 Mary moved to the hallway.\\n', b'12 Where is Mary? \\thallway\\t11\\n', b'13 John travelled to the kitchen.\\n', b'14 Sandra went to the bedroom.\\n', b'15 Where is Sandra? \\tbedroom\\t14\\n', b'1 Mary went back to the kitchen.\\n', b'2 John went to the bathroom.\\n', b'3 Where is John? \\tbathroom\\t2\\n', b'4 Daniel travelled to the office.\\n', b'5 Sandra journeyed to the bathroom.\\n', b'6 Where is Daniel? \\toffice\\t4\\n', b'7 Daniel went to the bedroom.\\n', b'8 Mary moved to the garden.\\n', b'9 Where is Mary? \\tgarden\\t8\\n', b'10 Mary went to the bathroom.\\n', b'11 Sandra journeyed to the kitchen.\\n', b'12 Where is Sandra? \\tkitchen\\t11\\n', b'13 Sandra went back to the office.\\n', b'14 John travelled to the hallway.\\n', b'15 Where is Sandra? \\toffice\\t13\\n', b'1 Sandra travelled to the hallway.\\n', b'2 Mary went back to the hallway.\\n', b'3 Where is Mary? \\thallway\\t2\\n', b'4 Mary moved to the office.\\n', b'5 Sandra journeyed to the kitchen.\\n', b'6 Where is Sandra? \\tkitchen\\t5\\n', b'7 John journeyed to the bathroom.\\n', b'8 Sandra went to the garden.\\n', b'9 Where is Sandra? \\tgarden\\t8\\n', b'10 Sandra journeyed to the hallway.\\n', b'11 John moved to the bedroom.\\n', b'12 Where is Sandra? \\thallway\\t10\\n', b'13 John travelled to the hallway.\\n', b'14 John journeyed to the office.\\n', b'15 Where is Sandra? \\thallway\\t10\\n', b'1 John went to the office.\\n', b'2 Mary travelled to the garden.\\n', b'3 Where is Mary? \\tgarden\\t2\\n', b'4 Daniel journeyed to the kitchen.\\n', b'5 Mary went back to the bedroom.\\n', b'6 Where is John? \\toffice\\t1\\n', b'7 Mary travelled to the office.\\n', b'8 John travelled to the bathroom.\\n', b'9 Where is Daniel? \\tkitchen\\t4\\n', b'10 Mary went to the bathroom.\\n', b'11 John travelled to the kitchen.\\n', b'12 Where is Mary? \\tbathroom\\t10\\n', b'13 John went back to the bathroom.\\n', b'14 John went back to the bedroom.\\n', b'15 Where is John? \\tbedroom\\t14\\n', b'1 Mary moved to the hallway.\\n', b'2 Daniel travelled to the office.\\n', b'3 Where is Mary? \\thallway\\t1\\n', b'4 John went back to the hallway.\\n', b'5 John moved to the office.\\n', b'6 Where is John? \\toffice\\t5\\n', b'7 Sandra journeyed to the kitchen.\\n', b'8 Mary moved to the bedroom.\\n', b'9 Where is Daniel? \\toffice\\t2\\n', b'10 John went back to the kitchen.\\n', b'11 Sandra went to the bedroom.\\n', b'12 Where is Sandra? \\tbedroom\\t11\\n', b'13 Sandra travelled to the hallway.\\n', b'14 Daniel went to the bedroom.\\n', b'15 Where is Sandra? \\thallway\\t13\\n', b'1 Mary moved to the hallway.\\n', b'2 Sandra travelled to the bathroom.\\n', b'3 Where is Sandra? \\tbathroom\\t2\\n', b'4 Mary travelled to the kitchen.\\n', b'5 Sandra went to the garden.\\n', b'6 Where is Mary? \\tkitchen\\t4\\n', b'7 Sandra travelled to the hallway.\\n', b'8 John went to the hallway.\\n', b'9 Where is Sandra? \\thallway\\t7\\n', b'10 Daniel went to the bathroom.\\n', b'11 Sandra journeyed to the bedroom.\\n', b'12 Where is Daniel? \\tbathroom\\t10\\n', b'13 Mary moved to the garden.\\n', b'14 Sandra went to the kitchen.\\n', b'15 Where is John? \\thallway\\t8\\n', b'1 John moved to the bathroom.\\n', b'2 Sandra moved to the garden.\\n', b'3 Where is John? \\tbathroom\\t1\\n', b'4 John went back to the office.\\n', b'5 John travelled to the bedroom.\\n', b'6 Where is John? \\tbedroom\\t5\\n', b'7 Daniel moved to the hallway.\\n', b'8 Sandra moved to the bathroom.\\n', b'9 Where is Daniel? \\thallway\\t7\\n', b'10 Mary went back to the bedroom.\\n', b'11 Daniel went back to the bathroom.\\n', b'12 Where is Mary? \\tbedroom\\t10\\n', b'13 Mary went to the kitchen.\\n', b'14 Mary went to the bedroom.\\n', b'15 Where is Sandra? \\tbathroom\\t8\\n', b'1 Mary travelled to the bedroom.\\n', b'2 John went back to the hallway.\\n', b'3 Where is Mary? \\tbedroom\\t1\\n', b'4 John moved to the bathroom.\\n', b'5 Sandra journeyed to the garden.\\n', b'6 Where is John? \\tbathroom\\t4\\n', b'7 Daniel moved to the kitchen.\\n', b'8 John went to the hallway.\\n', b'9 Where is John? \\thallway\\t8\\n', b'10 Sandra moved to the hallway.\\n', b'11 John journeyed to the bathroom.\\n', b'12 Where is Sandra? \\thallway\\t10\\n', b'13 Daniel went back to the garden.\\n', b'14 Mary went to the garden.\\n', b'15 Where is John? \\tbathroom\\t11\\n', b'1 Mary travelled to the bathroom.\\n', b'2 Daniel went back to the hallway.\\n', b'3 Where is Mary? \\tbathroom\\t1\\n', b'4 Sandra went back to the office.\\n', b'5 Sandra went back to the hallway.\\n', b'6 Where is Daniel? \\thallway\\t2\\n', b'7 John went back to the bathroom.\\n', b'8 Daniel went to the kitchen.\\n', b'9 Where is Daniel? \\tkitchen\\t8\\n', b'10 John moved to the kitchen.\\n', b'11 Daniel went to the bedroom.\\n', b'12 Where is Sandra? \\thallway\\t5\\n', b'13 Sandra journeyed to the kitchen.\\n', b'14 John moved to the bedroom.\\n', b'15 Where is John? \\tbedroom\\t14\\n', b'1 Daniel travelled to the hallway.\\n', b'2 John moved to the office.\\n', b'3 Where is John? \\toffice\\t2\\n', b'4 John went to the bathroom.\\n', b'5 John travelled to the office.\\n', b'6 Where is Daniel? \\thallway\\t1\\n', b'7 Daniel moved to the bathroom.\\n', b'8 Sandra moved to the garden.\\n', b'9 Where is Sandra? \\tgarden\\t8\\n', b'10 John travelled to the kitchen.\\n', b'11 John went back to the bathroom.\\n', b'12 Where is John? \\tbathroom\\t11\\n', b'13 Sandra travelled to the office.\\n', b'14 Mary travelled to the office.\\n', b'15 Where is John? \\tbathroom\\t11\\n', b'1 Sandra travelled to the bathroom.\\n', b'2 Daniel went to the office.\\n', b'3 Where is Daniel? \\toffice\\t2\\n', b'4 Mary went back to the garden.\\n', b'5 John went back to the kitchen.\\n', b'6 Where is Mary? \\tgarden\\t4\\n', b'7 Daniel moved to the hallway.\\n', b'8 Sandra moved to the garden.\\n', b'9 Where is Daniel? \\thallway\\t7\\n', b'10 John went back to the hallway.\\n', b'11 Daniel went back to the office.\\n', b'12 Where is Daniel? \\toffice\\t11\\n', b'13 Mary moved to the hallway.\\n', b'14 Mary moved to the bathroom.\\n', b'15 Where is John? \\thallway\\t10\\n', b'1 Daniel went to the garden.\\n', b'2 Mary moved to the bedroom.\\n', b'3 Where is Mary? \\tbedroom\\t2\\n', b'4 Daniel journeyed to the bathroom.\\n', b'5 Sandra journeyed to the bathroom.\\n', b'6 Where is Mary? \\tbedroom\\t2\\n', b'7 Daniel moved to the hallway.\\n', b'8 Sandra journeyed to the kitchen.\\n', b'9 Where is Mary? \\tbedroom\\t2\\n', b'10 Sandra moved to the office.\\n', b'11 Daniel travelled to the bedroom.\\n', b'12 Where is Daniel? \\tbedroom\\t11\\n', b'13 Mary went back to the office.\\n', b'14 Daniel went back to the kitchen.\\n', b'15 Where is Sandra? \\toffice\\t10\\n', b'1 Mary went back to the hallway.\\n', b'2 Daniel went to the hallway.\\n', b'3 Where is Daniel? \\thallway\\t2\\n', b'4 John travelled to the bathroom.\\n', b'5 Mary moved to the kitchen.\\n', b'6 Where is Mary? \\tkitchen\\t5\\n', b'7 Sandra journeyed to the kitchen.\\n', b'8 Mary journeyed to the garden.\\n', b'9 Where is Mary? \\tgarden\\t8\\n', b'10 Daniel went back to the bedroom.\\n', b'11 John went back to the hallway.\\n', b'12 Where is Mary? \\tgarden\\t8\\n', b'13 Mary moved to the office.\\n', b'14 Mary went back to the kitchen.\\n', b'15 Where is Mary? \\tkitchen\\t14\\n', b'1 Daniel travelled to the kitchen.\\n', b'2 John journeyed to the kitchen.\\n', b'3 Where is John? \\tkitchen\\t2\\n', b'4 Sandra moved to the kitchen.\\n', b'5 Sandra went to the garden.\\n', b'6 Where is Sandra? \\tgarden\\t5\\n', b'7 John travelled to the office.\\n', b'8 Daniel went to the bathroom.\\n', b'9 Where is Sandra? \\tgarden\\t5\\n', b'10 Mary went back to the kitchen.\\n', b'11 Daniel moved to the kitchen.\\n', b'12 Where is Sandra? \\tgarden\\t5\\n', b'13 Mary journeyed to the bathroom.\\n', b'14 Daniel moved to the garden.\\n', b'15 Where is Daniel? \\tgarden\\t14\\n', b'1 Mary went back to the office.\\n', b'2 Daniel went to the bedroom.\\n', b'3 Where is Daniel? \\tbedroom\\t2\\n', b'4 Sandra moved to the bedroom.\\n', b'5 Daniel travelled to the kitchen.\\n', b'6 Where is Mary? \\toffice\\t1\\n', b'7 Daniel travelled to the garden.\\n', b'8 Daniel moved to the bathroom.\\n', b'9 Where is Daniel? \\tbathroom\\t8\\n', b'10 Sandra journeyed to the garden.\\n', b'11 John went to the bedroom.\\n', b'12 Where is Daniel? \\tbathroom\\t8\\n', b'13 John went back to the office.\\n', b'14 John journeyed to the bedroom.\\n', b'15 Where is John? \\tbedroom\\t14\\n', b'1 Sandra moved to the garden.\\n', b'2 John journeyed to the bedroom.\\n', b'3 Where is John? \\tbedroom\\t2\\n', b'4 Mary went back to the bedroom.\\n', b'5 Sandra travelled to the office.\\n', b'6 Where is Sandra? \\toffice\\t5\\n', b'7 John travelled to the bathroom.\\n', b'8 Mary travelled to the garden.\\n', b'9 Where is Sandra? \\toffice\\t5\\n', b'10 Mary moved to the kitchen.\\n', b'11 Sandra went back to the garden.\\n', b'12 Where is Mary? \\tkitchen\\t10\\n', b'13 Mary journeyed to the hallway.\\n', b'14 Mary went to the garden.\\n', b'15 Where is Mary? \\tgarden\\t14\\n', b'1 Mary went back to the bedroom.\\n', b'2 Sandra moved to the garden.\\n', b'3 Where is Sandra? \\tgarden\\t2\\n', b'4 Daniel journeyed to the bathroom.\\n', b'5 Mary travelled to the office.\\n', b'6 Where is Mary? \\toffice\\t5\\n', b'7 Daniel went to the hallway.\\n', b'8 Sandra travelled to the hallway.\\n', b'9 Where is Sandra? \\thallway\\t8\\n', b'10 John journeyed to the garden.\\n', b'11 John journeyed to the office.\\n', b'12 Where is John? \\toffice\\t11\\n', b'13 Daniel moved to the garden.\\n', b'14 Mary travelled to the bathroom.\\n', b'15 Where is John? \\toffice\\t11\\n', b'1 Sandra journeyed to the bathroom.\\n', b'2 John moved to the garden.\\n', b'3 Where is Sandra? \\tbathroom\\t1\\n', b'4 Sandra went back to the garden.\\n', b'5 Daniel moved to the kitchen.\\n', b'6 Where is Sandra? \\tgarden\\t4\\n', b'7 Sandra travelled to the bedroom.\\n', b'8 John went to the bathroom.\\n', b'9 Where is Sandra? \\tbedroom\\t7\\n', b'10 Daniel went back to the bathroom.\\n', b'11 Mary journeyed to the bedroom.\\n', b'12 Where is John? \\tbathroom\\t8\\n', b'13 Daniel went to the garden.\\n', b'14 Daniel journeyed to the bedroom.\\n', b'15 Where is Daniel? \\tbedroom\\t14\\n', b'1 John went to the bathroom.\\n', b'2 Daniel moved to the kitchen.\\n', b'3 Where is Daniel? \\tkitchen\\t2\\n', b'4 Sandra travelled to the office.\\n', b'5 Daniel went to the office.\\n', b'6 Where is Sandra? \\toffice\\t4\\n', b'7 John moved to the office.\\n', b'8 Daniel journeyed to the garden.\\n', b'9 Where is Sandra? \\toffice\\t4\\n', b'10 Sandra went back to the bedroom.\\n', b'11 Daniel went back to the kitchen.\\n', b'12 Where is Daniel? \\tkitchen\\t11\\n', b'13 Daniel went back to the bathroom.\\n', b'14 Mary went back to the garden.\\n', b'15 Where is Daniel? \\tbathroom\\t13\\n', b'1 Sandra moved to the office.\\n', b'2 Daniel moved to the kitchen.\\n', b'3 Where is Sandra? \\toffice\\t1\\n', b'4 Mary moved to the garden.\\n', b'5 Mary journeyed to the kitchen.\\n', b'6 Where is Daniel? \\tkitchen\\t2\\n', b'7 Mary moved to the hallway.\\n', b'8 John went to the bedroom.\\n', b'9 Where is Mary? \\thallway\\t7\\n', b'10 John moved to the office.\\n', b'11 Daniel went back to the hallway.\\n', b'12 Where is John? \\toffice\\t10\\n', b'13 Daniel journeyed to the garden.\\n', b'14 John travelled to the bathroom.\\n', b'15 Where is John? \\tbathroom\\t14\\n', b'1 Sandra journeyed to the office.\\n', b'2 Sandra travelled to the bathroom.\\n', b'3 Where is Sandra? \\tbathroom\\t2\\n', b'4 Daniel moved to the bedroom.\\n', b'5 Daniel went to the garden.\\n', b'6 Where is Daniel? \\tgarden\\t5\\n', b'7 Mary journeyed to the hallway.\\n', b'8 Sandra went to the office.\\n', b'9 Where is Sandra? \\toffice\\t8\\n', b'10 Daniel went back to the bathroom.\\n', b'11 Mary travelled to the kitchen.\\n', b'12 Where is Sandra? \\toffice\\t8\\n', b'13 Daniel went back to the garden.\\n', b'14 John journeyed to the garden.\\n', b'15 Where is John? \\tgarden\\t14\\n', b'1 Sandra went to the bedroom.\\n', b'2 John went back to the office.\\n', b'3 Where is John? \\toffice\\t2\\n', b'4 Sandra moved to the bathroom.\\n', b'5 Mary went to the garden.\\n', b'6 Where is Sandra? \\tbathroom\\t4\\n', b'7 Daniel travelled to the bedroom.\\n', b'8 Sandra moved to the hallway.\\n', b'9 Where is John? \\toffice\\t2\\n', b'10 John travelled to the kitchen.\\n', b'11 Daniel moved to the garden.\\n', b'12 Where is Daniel? \\tgarden\\t11\\n', b'13 Sandra journeyed to the bathroom.\\n', b'14 Mary journeyed to the bathroom.\\n', b'15 Where is Sandra? \\tbathroom\\t13\\n', b'1 John travelled to the kitchen.\\n', b'2 Mary travelled to the kitchen.\\n', b'3 Where is Mary? \\tkitchen\\t2\\n', b'4 Mary went back to the bathroom.\\n', b'5 Sandra travelled to the hallway.\\n', b'6 Where is John? \\tkitchen\\t1\\n', b'7 Mary went to the garden.\\n', b'8 John travelled to the bedroom.\\n', b'9 Where is John? \\tbedroom\\t8\\n', b'10 John travelled to the office.\\n', b'11 Mary travelled to the kitchen.\\n', b'12 Where is Mary? \\tkitchen\\t11\\n', b'13 Daniel moved to the kitchen.\\n', b'14 John went to the kitchen.\\n', b'15 Where is John? \\tkitchen\\t14\\n', b'1 Sandra went to the garden.\\n', b'2 Daniel went to the garden.\\n', b'3 Where is Sandra? \\tgarden\\t1\\n', b'4 Sandra journeyed to the kitchen.\\n', b'5 John journeyed to the hallway.\\n', b'6 Where is Daniel? \\tgarden\\t2\\n', b'7 Mary moved to the bathroom.\\n', b'8 Mary journeyed to the garden.\\n', b'9 Where is John? \\thallway\\t5\\n', b'10 Mary moved to the hallway.\\n', b'11 Sandra went back to the hallway.\\n', b'12 Where is Mary? \\thallway\\t10\\n', b'13 Mary went back to the bathroom.\\n', b'14 Daniel travelled to the bedroom.\\n', b'15 Where is Mary? \\tbathroom\\t13\\n', b'1 Sandra went to the bathroom.\\n', b'2 Mary journeyed to the bathroom.\\n', b'3 Where is Mary? \\tbathroom\\t2\\n', b'4 Sandra went back to the kitchen.\\n', b'5 Daniel went back to the hallway.\\n', b'6 Where is Mary? \\tbathroom\\t2\\n', b'7 John moved to the garden.\\n', b'8 Daniel went to the office.\\n', b'9 Where is Mary? \\tbathroom\\t2\\n', b'10 Mary moved to the hallway.\\n', b'11 John travelled to the office.\\n', b'12 Where is John? \\toffice\\t11\\n', b'13 Daniel journeyed to the kitchen.\\n', b'14 Sandra went to the office.\\n', b'15 Where is Mary? \\thallway\\t10\\n', b'1 Daniel went to the bathroom.\\n', b'2 Daniel moved to the garden.\\n', b'3 Where is Daniel? \\tgarden\\t2\\n', b'4 Daniel travelled to the bedroom.\\n', b'5 Daniel journeyed to the bathroom.\\n', b'6 Where is Daniel? \\tbathroom\\t5\\n', b'7 Daniel journeyed to the office.\\n', b'8 John journeyed to the bathroom.\\n', b'9 Where is Daniel? \\toffice\\t7\\n', b'10 John went to the garden.\\n', b'11 Sandra travelled to the bathroom.\\n', b'12 Where is Daniel? \\toffice\\t7\\n', b'13 Mary went to the office.\\n', b'14 John went back to the kitchen.\\n', b'15 Where is John? \\tkitchen\\t14\\n', b'1 Sandra journeyed to the garden.\\n', b'2 Daniel journeyed to the garden.\\n', b'3 Where is Daniel? \\tgarden\\t2\\n', b'4 John journeyed to the bedroom.\\n', b'5 Daniel journeyed to the office.\\n', b'6 Where is Sandra? \\tgarden\\t1\\n', b'7 Mary journeyed to the garden.\\n', b'8 Sandra travelled to the hallway.\\n', b'9 Where is Daniel? \\toffice\\t5\\n', b'10 John travelled to the garden.\\n', b'11 Sandra travelled to the bedroom.\\n', b'12 Where is Sandra? \\tbedroom\\t11\\n', b'13 Mary moved to the hallway.\\n', b'14 Mary went back to the kitchen.\\n', b'15 Where is John? \\tgarden\\t10\\n', b'1 John travelled to the garden.\\n', b'2 Mary went back to the office.\\n', b'3 Where is Mary? \\toffice\\t2\\n', b'4 Sandra went back to the hallway.\\n', b'5 Daniel travelled to the bedroom.\\n', b'6 Where is Daniel? \\tbedroom\\t5\\n', b'7 Mary went back to the kitchen.\\n', b'8 Mary went to the office.\\n', b'9 Where is Mary? \\toffice\\t8\\n', b'10 John went back to the bedroom.\\n', b'11 Daniel went back to the kitchen.\\n', b'12 Where is Mary? \\toffice\\t8\\n', b'13 Daniel went to the garden.\\n', b'14 John moved to the kitchen.\\n', b'15 Where is Daniel? \\tgarden\\t13\\n', b'1 Sandra moved to the garden.\\n', b'2 John went to the garden.\\n', b'3 Where is John? \\tgarden\\t2\\n', b'4 Sandra went to the bathroom.\\n', b'5 Sandra went to the kitchen.\\n', b'6 Where is Sandra? \\tkitchen\\t5\\n', b'7 Daniel moved to the kitchen.\\n', b'8 Mary journeyed to the kitchen.\\n', b'9 Where is Sandra? \\tkitchen\\t5\\n', b'10 Daniel journeyed to the office.\\n', b'11 Daniel went to the garden.\\n', b'12 Where is Daniel? \\tgarden\\t11\\n', b'13 John moved to the bedroom.\\n', b'14 Mary went back to the office.\\n', b'15 Where is Daniel? \\tgarden\\t11\\n', b'1 Daniel travelled to the bedroom.\\n', b'2 Sandra moved to the bathroom.\\n', b'3 Where is Sandra? \\tbathroom\\t2\\n', b'4 John went back to the bedroom.\\n', b'5 Sandra travelled to the kitchen.\\n', b'6 Where is John? \\tbedroom\\t4\\n', b'7 Sandra went back to the office.\\n', b'8 Sandra moved to the garden.\\n', b'9 Where is Sandra? \\tgarden\\t8\\n', b'10 Daniel went to the kitchen.\\n', b'11 John travelled to the bathroom.\\n', b'12 Where is Sandra? \\tgarden\\t8\\n', b'13 Daniel went to the bedroom.\\n', b'14 Mary went back to the office.\\n', b'15 Where is Daniel? \\tbedroom\\t13\\n', b'1 Daniel journeyed to the hallway.\\n', b'2 Sandra went to the kitchen.\\n', b'3 Where is Sandra? \\tkitchen\\t2\\n', b'4 John travelled to the kitchen.\\n', b'5 John went back to the office.\\n', b'6 Where is John? \\toffice\\t5\\n', b'7 Mary moved to the bathroom.\\n', b'8 Daniel travelled to the office.\\n', b'9 Where is Sandra? \\tkitchen\\t2\\n', b'10 Daniel went back to the bedroom.\\n', b'11 Sandra went to the office.\\n', b'12 Where is Daniel? \\tbedroom\\t10\\n', b'13 Sandra went back to the garden.\\n', b'14 Mary moved to the kitchen.\\n', b'15 Where is Daniel? \\tbedroom\\t10\\n', b'1 John journeyed to the office.\\n', b'2 Sandra travelled to the garden.\\n', b'3 Where is John? \\toffice\\t1\\n', b'4 Sandra moved to the office.\\n', b'5 Daniel travelled to the hallway.\\n', b'6 Where is Daniel? \\thallway\\t5\\n', b'7 John travelled to the bathroom.\\n', b'8 Daniel journeyed to the garden.\\n', b'9 Where is Sandra? \\toffice\\t4\\n', b'10 Sandra journeyed to the kitchen.\\n', b'11 Sandra went back to the hallway.\\n', b'12 Where is Sandra? \\thallway\\t11\\n', b'13 Mary journeyed to the bedroom.\\n', b'14 Mary went back to the office.\\n', b'15 Where is Sandra? \\thallway\\t11\\n', b'1 Mary moved to the bathroom.\\n', b'2 Mary went to the hallway.\\n', b'3 Where is Mary? \\thallway\\t2\\n', b'4 Daniel travelled to the bedroom.\\n', b'5 Mary journeyed to the garden.\\n', b'6 Where is Mary? \\tgarden\\t5\\n', b'7 John travelled to the office.\\n', b'8 Daniel travelled to the office.\\n', b'9 Where is Daniel? \\toffice\\t8\\n', b'10 Mary went to the bedroom.\\n', b'11 Sandra went back to the kitchen.\\n', b'12 Where is Sandra? \\tkitchen\\t11\\n', b'13 Sandra journeyed to the bedroom.\\n', b'14 Sandra went to the garden.\\n', b'15 Where is Sandra? \\tgarden\\t14\\n', b'1 Daniel went back to the hallway.\\n', b'2 Mary went back to the office.\\n', b'3 Where is Mary? \\toffice\\t2\\n', b'4 Mary went to the garden.\\n', b'5 Mary went back to the kitchen.\\n', b'6 Where is Daniel? \\thallway\\t1\\n', b'7 Sandra moved to the bedroom.\\n', b'8 John travelled to the hallway.\\n', b'9 Where is John? \\thallway\\t8\\n', b'10 Sandra went back to the garden.\\n', b'11 John journeyed to the kitchen.\\n', b'12 Where is Mary? \\tkitchen\\t5\\n', b'13 John journeyed to the bathroom.\\n', b'14 John moved to the kitchen.\\n', b'15 Where is John? \\tkitchen\\t14\\n', b'1 Sandra travelled to the bedroom.\\n', b'2 John travelled to the garden.\\n', b'3 Where is Sandra? \\tbedroom\\t1\\n', b'4 Mary went to the hallway.\\n', b'5 Mary went back to the bedroom.\\n', b'6 Where is John? \\tgarden\\t2\\n', b'7 Sandra went to the kitchen.\\n', b'8 Sandra journeyed to the garden.\\n', b'9 Where is Sandra? \\tgarden\\t8\\n', b'10 Daniel journeyed to the office.\\n', b'11 Sandra moved to the bedroom.\\n', b'12 Where is Sandra? \\tbedroom\\t11\\n', b'13 Mary moved to the kitchen.\\n', b'14 Mary went to the bathroom.\\n', b'15 Where is Sandra? \\tbedroom\\t11\\n', b'1 Sandra travelled to the bathroom.\\n', b'2 Mary journeyed to the office.\\n', b'3 Where is Sandra? \\tbathroom\\t1\\n', b'4 Sandra travelled to the kitchen.\\n', b'5 John moved to the office.\\n', b'6 Where is John? \\toffice\\t5\\n', b'7 Mary went to the hallway.\\n', b'8 John went back to the hallway.\\n', b'9 Where is Mary? \\thallway\\t7\\n', b'10 John moved to the bedroom.\\n', b'11 Mary moved to the garden.\\n', b'12 Where is Mary? \\tgarden\\t11\\n', b'13 John journeyed to the bathroom.\\n', b'14 Mary went back to the hallway.\\n', b'15 Where is Mary? \\thallway\\t14\\n', b'1 Daniel went back to the kitchen.\\n', b'2 Daniel travelled to the garden.\\n', b'3 Where is Daniel? \\tgarden\\t2\\n', b'4 Daniel travelled to the bathroom.\\n', b'5 Mary went back to the bathroom.\\n', b'6 Where is Daniel? \\tbathroom\\t4\\n', b'7 Mary travelled to the garden.\\n', b'8 John went back to the garden.\\n', b'9 Where is Mary? \\tgarden\\t7\\n', b'10 Daniel went to the office.\\n', b'11 Daniel moved to the garden.\\n', b'12 Where is John? \\tgarden\\t8\\n', b'13 Sandra travelled to the bathroom.\\n', b'14 John moved to the bedroom.\\n', b'15 Where is Daniel? \\tgarden\\t11\\n', b'1 Sandra travelled to the hallway.\\n', b'2 Sandra went to the garden.\\n', b'3 Where is Sandra? \\tgarden\\t2\\n', b'4 Mary moved to the bedroom.\\n', b'5 Daniel went to the kitchen.\\n', b'6 Where is Sandra? \\tgarden\\t2\\n', b'7 John travelled to the hallway.\\n', b'8 Daniel went back to the hallway.\\n', b'9 Where is Daniel? \\thallway\\t8\\n', b'10 Mary travelled to the hallway.\\n', b'11 John went to the office.\\n', b'12 Where is Mary? \\thallway\\t10\\n', b'13 John travelled to the garden.\\n', b'14 Sandra went to the kitchen.\\n', b'15 Where is Daniel? \\thallway\\t8\\n', b'1 Daniel travelled to the office.\\n', b'2 Daniel journeyed to the hallway.\\n', b'3 Where is Daniel? \\thallway\\t2\\n', b'4 Sandra travelled to the bathroom.\\n', b'5 Sandra moved to the hallway.\\n', b'6 Where is Daniel? \\thallway\\t2\\n', b'7 Mary went to the garden.\\n', b'8 Daniel moved to the bedroom.\\n', b'9 Where is Mary? \\tgarden\\t7\\n', b'10 John went to the hallway.\\n', b'11 Sandra travelled to the kitchen.\\n', b'12 Where is Mary? \\tgarden\\t7\\n', b'13 Sandra moved to the garden.\\n', b'14 Mary moved to the office.\\n', b'15 Where is Mary? \\toffice\\t14\\n', b'1 Mary journeyed to the office.\\n', b'2 Mary journeyed to the bedroom.\\n', b'3 Where is Mary? \\tbedroom\\t2\\n', b'4 Sandra went to the garden.\\n', b'5 Sandra moved to the kitchen.\\n', b'6 Where is Sandra? \\tkitchen\\t5\\n', b'7 Sandra went to the bathroom.\\n', b'8 Daniel moved to the office.\\n', b'9 Where is Sandra? \\tbathroom\\t7\\n', b'10 John went back to the office.\\n', b'11 John went to the garden.\\n', b'12 Where is Sandra? \\tbathroom\\t7\\n', b'13 John went to the bedroom.\\n', b'14 Mary moved to the garden.\\n', b'15 Where is John? \\tbedroom\\t13\\n', b'1 John travelled to the bedroom.\\n', b'2 Mary went to the bathroom.\\n', b'3 Where is Mary? \\tbathroom\\t2\\n', b'4 Mary journeyed to the bedroom.\\n', b'5 Sandra travelled to the hallway.\\n', b'6 Where is John? \\tbedroom\\t1\\n', b'7 Daniel went back to the hallway.\\n', b'8 Sandra journeyed to the office.\\n', b'9 Where is Mary? \\tbedroom\\t4\\n', b'10 John moved to the garden.\\n', b'11 Mary travelled to the office.\\n', b'12 Where is Sandra? \\toffice\\t8\\n', b'13 John travelled to the kitchen.\\n', b'14 Daniel went back to the kitchen.\\n', b'15 Where is Mary? \\toffice\\t11\\n', b'1 Sandra journeyed to the kitchen.\\n', b'2 Daniel journeyed to the bathroom.\\n', b'3 Where is Sandra? \\tkitchen\\t1\\n', b'4 Mary went to the garden.\\n', b'5 Mary travelled to the office.\\n', b'6 Where is Mary? \\toffice\\t5\\n', b'7 Sandra travelled to the bedroom.\\n', b'8 John travelled to the office.\\n', b'9 Where is John? \\toffice\\t8\\n', b'10 Sandra journeyed to the office.\\n', b'11 Sandra moved to the kitchen.\\n', b'12 Where is Mary? \\toffice\\t5\\n', b'13 Mary travelled to the bedroom.\\n', b'14 Mary moved to the hallway.\\n', b'15 Where is Sandra? \\tkitchen\\t11\\n', b'1 Daniel travelled to the garden.\\n', b'2 Mary went to the kitchen.\\n', b'3 Where is Mary? \\tkitchen\\t2\\n', b'4 John travelled to the bedroom.\\n', b'5 Daniel journeyed to the hallway.\\n', b'6 Where is Daniel? \\thallway\\t5\\n', b'7 Mary moved to the bathroom.\\n', b'8 John travelled to the garden.\\n', b'9 Where is Mary? \\tbathroom\\t7\\n', b'10 Sandra went back to the hallway.\\n', b'11 Mary travelled to the bedroom.\\n', b'12 Where is Mary? \\tbedroom\\t11\\n', b'13 Sandra journeyed to the office.\\n', b'14 Mary went back to the bathroom.\\n', b'15 Where is Sandra? \\toffice\\t13\\n', b'1 Daniel went back to the kitchen.\\n', b'2 Daniel moved to the office.\\n', b'3 Where is Daniel? \\toffice\\t2\\n', b'4 Daniel went back to the bedroom.\\n', b'5 John moved to the garden.\\n', b'6 Where is Daniel? \\tbedroom\\t4\\n', b'7 Daniel travelled to the office.\\n', b'8 Mary journeyed to the garden.\\n', b'9 Where is Daniel? \\toffice\\t7\\n', b'10 Sandra went to the bathroom.\\n', b'11 Mary moved to the bedroom.\\n', b'12 Where is Sandra? \\tbathroom\\t10\\n', b'13 Sandra moved to the garden.\\n', b'14 John travelled to the hallway.\\n', b'15 Where is Sandra? \\tgarden\\t13\\n', b'1 Sandra moved to the garden.\\n', b'2 John went to the bedroom.\\n', b'3 Where is John? \\tbedroom\\t2\\n', b'4 John moved to the bathroom.\\n', b'5 John went to the garden.\\n', b'6 Where is John? \\tgarden\\t5\\n', b'7 John journeyed to the bedroom.\\n', b'8 Sandra went to the office.\\n', b'9 Where is John? \\tbedroom\\t7\\n', b'10 Sandra went to the bathroom.\\n', b'11 Sandra moved to the kitchen.\\n', b'12 Where is Sandra? \\tkitchen\\t11\\n', b'13 Sandra went to the bedroom.\\n', b'14 Sandra went to the office.\\n', b'15 Where is Sandra? \\toffice\\t14\\n', b'1 Daniel journeyed to the kitchen.\\n', b'2 Sandra went to the bedroom.\\n', b'3 Where is Daniel? \\tkitchen\\t1\\n', b'4 Daniel went back to the hallway.\\n', b'5 Mary went back to the office.\\n', b'6 Where is Daniel? \\thallway\\t4\\n', b'7 Mary went to the garden.\\n', b'8 Daniel journeyed to the office.\\n', b'9 Where is Sandra? \\tbedroom\\t2\\n', b'10 Sandra went to the bathroom.\\n', b'11 John travelled to the bedroom.\\n', b'12 Where is Mary? \\tgarden\\t7\\n', b'13 Sandra went to the kitchen.\\n', b'14 Daniel travelled to the bedroom.\\n', b'15 Where is Sandra? \\tkitchen\\t13\\n', b'1 John went back to the bathroom.\\n', b'2 John went to the bedroom.\\n', b'3 Where is John? \\tbedroom\\t2\\n', b'4 Daniel travelled to the bedroom.\\n', b'5 Sandra journeyed to the garden.\\n', b'6 Where is Sandra? \\tgarden\\t5\\n', b'7 Daniel went back to the bathroom.\\n', b'8 Sandra journeyed to the bathroom.\\n', b'9 Where is Sandra? \\tbathroom\\t8\\n', b'10 Mary journeyed to the office.\\n', b'11 Daniel went to the hallway.\\n', b'12 Where is Daniel? \\thallway\\t11\\n', b'13 Sandra journeyed to the bedroom.\\n', b'14 Sandra travelled to the office.\\n', b'15 Where is Sandra? \\toffice\\t14\\n', b'1 Mary travelled to the hallway.\\n', b'2 Daniel journeyed to the bedroom.\\n', b'3 Where is Daniel? \\tbedroom\\t2\\n', b'4 John went back to the garden.\\n', b'5 Sandra journeyed to the bathroom.\\n', b'6 Where is Daniel? \\tbedroom\\t2\\n', b'7 John went to the kitchen.\\n', b'8 Sandra journeyed to the garden.\\n', b'9 Where is John? \\tkitchen\\t7\\n', b'10 Sandra moved to the hallway.\\n', b'11 John went back to the garden.\\n', b'12 Where is Sandra? \\thallway\\t10\\n', b'13 Sandra went to the bathroom.\\n', b'14 Mary went to the office.\\n', b'15 Where is Sandra? \\tbathroom\\t13\\n', b'1 Sandra went back to the hallway.\\n', b'2 Mary went back to the kitchen.\\n', b'3 Where is Sandra? \\thallway\\t1\\n', b'4 John journeyed to the bathroom.\\n', b'5 Daniel went back to the hallway.\\n', b'6 Where is Sandra? \\thallway\\t1\\n', b'7 Sandra moved to the office.\\n', b'8 Sandra journeyed to the bathroom.\\n', b'9 Where is Sandra? \\tbathroom\\t8\\n', b'10 Sandra journeyed to the bedroom.\\n', b'11 John went to the hallway.\\n', b'12 Where is Daniel? \\thallway\\t5\\n', b'13 Mary went to the bathroom.\\n', b'14 Mary travelled to the bedroom.\\n', b'15 Where is Mary? \\tbedroom\\t14\\n', b'1 John travelled to the kitchen.\\n', b'2 Sandra moved to the bathroom.\\n', b'3 Where is John? \\tkitchen\\t1\\n', b'4 Daniel moved to the kitchen.\\n', b'5 Sandra moved to the kitchen.\\n', b'6 Where is John? \\tkitchen\\t1\\n', b'7 Daniel went to the hallway.\\n', b'8 John went to the office.\\n', b'9 Where is John? \\toffice\\t8\\n', b'10 Sandra went back to the garden.\\n', b'11 Sandra went to the bedroom.\\n', b'12 Where is Sandra? \\tbedroom\\t11\\n', b'13 John went to the bedroom.\\n', b'14 John journeyed to the bathroom.\\n', b'15 Where is Sandra? \\tbedroom\\t11\\n', b'1 John went to the office.\\n', b'2 Sandra went to the kitchen.\\n', b'3 Where is John? \\toffice\\t1\\n', b'4 John went back to the kitchen.\\n', b'5 Mary moved to the garden.\\n', b'6 Where is John? \\tkitchen\\t4\\n', b'7 Mary went to the kitchen.\\n', b'8 Sandra moved to the bedroom.\\n', b'9 Where is Mary? \\tkitchen\\t7\\n', b'10 Sandra moved to the hallway.\\n', b'11 John went back to the hallway.\\n', b'12 Where is Mary? \\tkitchen\\t7\\n', b'13 Sandra travelled to the bedroom.\\n', b'14 Daniel moved to the office.\\n', b'15 Where is Daniel? \\toffice\\t14\\n', b'1 Mary went to the kitchen.\\n', b'2 Sandra went to the garden.\\n', b'3 Where is Sandra? \\tgarden\\t2\\n', b'4 John journeyed to the hallway.\\n', b'5 John went back to the bathroom.\\n', b'6 Where is Mary? \\tkitchen\\t1\\n', b'7 Daniel went to the garden.\\n', b'8 Daniel moved to the bedroom.\\n', b'9 Where is John? \\tbathroom\\t5\\n', b'10 Sandra went back to the bedroom.\\n', b'11 John journeyed to the garden.\\n', b'12 Where is Daniel? \\tbedroom\\t8\\n', b'13 Mary travelled to the hallway.\\n', b'14 Daniel travelled to the garden.\\n', b'15 Where is John? \\tgarden\\t11\\n', b'1 Sandra went back to the bedroom.\\n', b'2 John moved to the garden.\\n', b'3 Where is Sandra? \\tbedroom\\t1\\n', b'4 Daniel journeyed to the hallway.\\n', b'5 Sandra travelled to the hallway.\\n', b'6 Where is Daniel? \\thallway\\t4\\n', b'7 Daniel travelled to the bathroom.\\n', b'8 Mary travelled to the garden.\\n', b'9 Where is Daniel? \\tbathroom\\t7\\n', b'10 Daniel journeyed to the garden.\\n', b'11 Daniel moved to the bathroom.\\n', b'12 Where is Mary? \\tgarden\\t8\\n', b'13 Sandra went back to the garden.\\n', b'14 Daniel went to the bedroom.\\n', b'15 Where is Daniel? \\tbedroom\\t14\\n', b'1 Daniel travelled to the garden.\\n', b'2 Sandra journeyed to the bedroom.\\n', b'3 Where is Daniel? \\tgarden\\t1\\n', b'4 Daniel journeyed to the office.\\n', b'5 Daniel travelled to the bathroom.\\n', b'6 Where is Sandra? \\tbedroom\\t2\\n', b'7 Sandra travelled to the kitchen.\\n', b'8 Daniel went to the hallway.\\n', b'9 Where is Daniel? \\thallway\\t8\\n', b'10 Daniel went back to the garden.\\n', b'11 Sandra moved to the garden.\\n', b'12 Where is Daniel? \\tgarden\\t10\\n', b'13 Mary moved to the bedroom.\\n', b'14 Sandra moved to the kitchen.\\n', b'15 Where is Sandra? \\tkitchen\\t14\\n', b'1 John went back to the bathroom.\\n', b'2 John moved to the kitchen.\\n', b'3 Where is John? \\tkitchen\\t2\\n', b'4 Sandra moved to the office.\\n', b'5 Sandra travelled to the bedroom.\\n', b'6 Where is John? \\tkitchen\\t2\\n', b'7 John went to the garden.\\n', b'8 Sandra moved to the kitchen.\\n', b'9 Where is Sandra? \\tkitchen\\t8\\n', b'10 Sandra went to the garden.\\n', b'11 Daniel went to the kitchen.\\n', b'12 Where is Sandra? \\tgarden\\t10\\n', b'13 Sandra went to the bathroom.\\n', b'14 John went to the bathroom.\\n', b'15 Where is Sandra? \\tbathroom\\t13\\n', b'1 Daniel journeyed to the office.\\n', b'2 Sandra went to the kitchen.\\n', b'3 Where is Sandra? \\tkitchen\\t2\\n', b'4 Daniel journeyed to the kitchen.\\n', b'5 Mary moved to the bedroom.\\n', b'6 Where is Mary? \\tbedroom\\t5\\n', b'7 John went to the hallway.\\n', b'8 Daniel went to the bedroom.\\n', b'9 Where is John? \\thallway\\t7\\n', b'10 Daniel travelled to the hallway.\\n', b'11 John moved to the garden.\\n', b'12 Where is John? \\tgarden\\t11\\n', b'13 Mary travelled to the bathroom.\\n', b'14 Sandra went to the hallway.\\n', b'15 Where is Sandra? \\thallway\\t14\\n', b'1 Sandra travelled to the bathroom.\\n', b'2 John went back to the office.\\n', b'3 Where is Sandra? \\tbathroom\\t1\\n', b'4 Sandra went back to the garden.\\n', b'5 John went back to the bedroom.\\n', b'6 Where is Sandra? \\tgarden\\t4\\n', b'7 Daniel journeyed to the hallway.\\n', b'8 Daniel went to the office.\\n', b'9 Where is John? \\tbedroom\\t5\\n', b'10 Sandra went back to the bedroom.\\n', b'11 John went to the office.\\n', b'12 Where is John? \\toffice\\t11\\n', b'13 Mary travelled to the office.\\n', b'14 John moved to the garden.\\n', b'15 Where is John? \\tgarden\\t14\\n', b'1 Mary journeyed to the kitchen.\\n', b'2 Sandra went back to the garden.\\n', b'3 Where is Sandra? \\tgarden\\t2\\n', b'4 Daniel moved to the kitchen.\\n', b'5 Daniel travelled to the bedroom.\\n', b'6 Where is Daniel? \\tbedroom\\t5\\n', b'7 Mary moved to the garden.\\n', b'8 Mary travelled to the bathroom.\\n', b'9 Where is Daniel? \\tbedroom\\t5\\n', b'10 Daniel went to the office.\\n', b'11 Sandra went to the bedroom.\\n', b'12 Where is Sandra? \\tbedroom\\t11\\n', b'13 Mary moved to the kitchen.\\n', b'14 John went back to the office.\\n', b'15 Where is John? \\toffice\\t14\\n', b'1 Mary moved to the hallway.\\n', b'2 John went back to the bedroom.\\n', b'3 Where is Mary? \\thallway\\t1\\n', b'4 Mary went back to the bathroom.\\n', b'5 Mary travelled to the office.\\n', b'6 Where is Mary? \\toffice\\t5\\n', b'7 Daniel went back to the office.\\n', b'8 John moved to the hallway.\\n', b'9 Where is Mary? \\toffice\\t5\\n', b'10 John went back to the bathroom.\\n', b'11 Mary travelled to the garden.\\n', b'12 Where is John? \\tbathroom\\t10\\n', b'13 Daniel went back to the bathroom.\\n', b'14 John went to the kitchen.\\n', b'15 Where is John? \\tkitchen\\t14\\n', b'1 John journeyed to the garden.\\n', b'2 Mary travelled to the office.\\n', b'3 Where is John? \\tgarden\\t1\\n', b'4 John went to the bedroom.\\n', b'5 Mary went back to the bathroom.\\n', b'6 Where is Mary? \\tbathroom\\t5\\n', b'7 Mary journeyed to the hallway.\\n', b'8 Sandra went to the kitchen.\\n', b'9 Where is Sandra? \\tkitchen\\t8\\n', b'10 Daniel moved to the hallway.\\n', b'11 John travelled to the garden.\\n', b'12 Where is John? \\tgarden\\t11\\n', b'13 John went back to the bathroom.\\n', b'14 Sandra went to the bedroom.\\n', b'15 Where is John? \\tbathroom\\t13\\n', b'1 Sandra went back to the bedroom.\\n', b'2 Mary moved to the kitchen.\\n', b'3 Where is Sandra? \\tbedroom\\t1\\n', b'4 Mary moved to the office.\\n', b'5 Daniel travelled to the office.\\n', b'6 Where is Sandra? \\tbedroom\\t1\\n', b'7 Daniel travelled to the hallway.\\n', b'8 John went back to the hallway.\\n', b'9 Where is Daniel? \\thallway\\t7\\n', b'10 Mary moved to the bathroom.\\n', b'11 Sandra journeyed to the hallway.\\n', b'12 Where is John? \\thallway\\t8\\n', b'13 John went to the garden.\\n', b'14 Daniel travelled to the kitchen.\\n', b'15 Where is John? \\tgarden\\t13\\n', b'1 Sandra moved to the garden.\\n', b'2 Daniel travelled to the bedroom.\\n', b'3 Where is Daniel? \\tbedroom\\t2\\n', b'4 Sandra went to the hallway.\\n', b'5 Sandra went back to the bathroom.\\n', b'6 Where is Sandra? \\tbathroom\\t5\\n', b'7 Sandra journeyed to the kitchen.\\n', b'8 Daniel went back to the hallway.\\n', b'9 Where is Daniel? \\thallway\\t8\\n', b'10 John travelled to the bedroom.\\n', b'11 Daniel travelled to the kitchen.\\n', b'12 Where is John? \\tbedroom\\t10\\n', b'13 Sandra moved to the office.\\n', b'14 Daniel moved to the bathroom.\\n', b'15 Where is Daniel? \\tbathroom\\t14\\n', b'1 John went to the kitchen.\\n', b'2 Daniel travelled to the kitchen.\\n', b'3 Where is Daniel? \\tkitchen\\t2\\n', b'4 Sandra journeyed to the kitchen.\\n', b'5 John went to the bedroom.\\n', b'6 Where is John? \\tbedroom\\t5\\n', b'7 Mary went to the bedroom.\\n', b'8 Sandra went back to the bedroom.\\n', b'9 Where is John? \\tbedroom\\t5\\n', b'10 John journeyed to the garden.\\n', b'11 Daniel went back to the bedroom.\\n', b'12 Where is John? \\tgarden\\t10\\n', b'13 Daniel journeyed to the bathroom.\\n', b'14 Daniel went to the kitchen.\\n', b'15 Where is John? \\tgarden\\t10\\n', b'1 Mary moved to the kitchen.\\n', b'2 Sandra travelled to the bedroom.\\n', b'3 Where is Mary? \\tkitchen\\t1\\n', b'4 Daniel journeyed to the office.\\n', b'5 Sandra went back to the kitchen.\\n', b'6 Where is Mary? \\tkitchen\\t1\\n', b'7 Mary travelled to the bedroom.\\n', b'8 Sandra went to the bedroom.\\n', b'9 Where is Sandra? \\tbedroom\\t8\\n', b'10 John travelled to the office.\\n', b'11 John moved to the hallway.\\n', b'12 Where is John? \\thallway\\t11\\n', b'13 Sandra went back to the kitchen.\\n', b'14 Daniel moved to the kitchen.\\n', b'15 Where is John? \\thallway\\t11\\n', b'1 Daniel travelled to the kitchen.\\n', b'2 Sandra went back to the kitchen.\\n', b'3 Where is Daniel? \\tkitchen\\t1\\n', b'4 Daniel journeyed to the garden.\\n', b'5 John journeyed to the garden.\\n', b'6 Where is Daniel? \\tgarden\\t4\\n', b'7 Daniel moved to the bathroom.\\n', b'8 Sandra went back to the bedroom.\\n', b'9 Where is Daniel? \\tbathroom\\t7\\n', b'10 John went to the hallway.\\n', b'11 Daniel journeyed to the kitchen.\\n', b'12 Where is John? \\thallway\\t10\\n', b'13 Mary journeyed to the bedroom.\\n', b'14 Daniel moved to the bathroom.\\n', b'15 Where is Daniel? \\tbathroom\\t14\\n', b'1 Mary moved to the bathroom.\\n', b'2 Mary journeyed to the kitchen.\\n', b'3 Where is Mary? \\tkitchen\\t2\\n', b'4 Sandra journeyed to the bedroom.\\n', b'5 Daniel travelled to the bedroom.\\n', b'6 Where is Sandra? \\tbedroom\\t4\\n', b'7 Daniel journeyed to the bathroom.\\n', b'8 Daniel travelled to the office.\\n', b'9 Where is Daniel? \\toffice\\t8\\n', b'10 Mary went back to the office.\\n', b'11 Sandra moved to the bathroom.\\n', b'12 Where is Daniel? \\toffice\\t8\\n', b'13 Daniel went back to the kitchen.\\n', b'14 Daniel went back to the bedroom.\\n', b'15 Where is Daniel? \\tbedroom\\t14\\n', b'1 Daniel moved to the bedroom.\\n', b'2 John moved to the bedroom.\\n', b'3 Where is John? \\tbedroom\\t2\\n', b'4 Mary went back to the bedroom.\\n', b'5 Mary travelled to the office.\\n', b'6 Where is Mary? \\toffice\\t5\\n', b'7 Mary journeyed to the bedroom.\\n', b'8 John moved to the garden.\\n', b'9 Where is Mary? \\tbedroom\\t7\\n', b'10 Daniel travelled to the office.\\n', b'11 Sandra travelled to the bathroom.\\n', b'12 Where is Mary? \\tbedroom\\t7\\n', b'13 John moved to the hallway.\\n', b'14 Sandra journeyed to the bedroom.\\n', b'15 Where is Daniel? \\toffice\\t10\\n', b'1 Daniel went back to the bathroom.\\n', b'2 Mary went back to the bathroom.\\n', b'3 Where is Mary? \\tbathroom\\t2\\n', b'4 Mary went to the garden.\\n', b'5 Sandra moved to the bedroom.\\n', b'6 Where is Daniel? \\tbathroom\\t1\\n', b'7 Mary moved to the kitchen.\\n', b'8 Mary went to the bathroom.\\n', b'9 Where is Sandra? \\tbedroom\\t5\\n', b'10 John travelled to the hallway.\\n', b'11 Daniel travelled to the hallway.\\n', b'12 Where is Daniel? \\thallway\\t11\\n', b'13 Daniel travelled to the kitchen.\\n', b'14 Daniel journeyed to the garden.\\n', b'15 Where is Daniel? \\tgarden\\t14\\n', b'1 Sandra went to the bathroom.\\n', b'2 Sandra went to the office.\\n', b'3 Where is Sandra? \\toffice\\t2\\n', b'4 Daniel went back to the office.\\n', b'5 Sandra journeyed to the garden.\\n', b'6 Where is Daniel? \\toffice\\t4\\n', b'7 Daniel went back to the hallway.\\n', b'8 Sandra journeyed to the hallway.\\n', b'9 Where is Daniel? \\thallway\\t7\\n', b'10 Mary travelled to the bathroom.\\n', b'11 John journeyed to the bedroom.\\n', b'12 Where is Daniel? \\thallway\\t7\\n', b'13 Daniel went back to the office.\\n', b'14 Sandra went back to the garden.\\n', b'15 Where is Sandra? \\tgarden\\t14\\n', b'1 Sandra went to the kitchen.\\n', b'2 Mary went to the hallway.\\n', b'3 Where is Mary? \\thallway\\t2\\n', b'4 John journeyed to the office.\\n', b'5 Daniel went back to the office.\\n', b'6 Where is Daniel? \\toffice\\t5\\n', b'7 Daniel went back to the kitchen.\\n', b'8 Daniel travelled to the garden.\\n', b'9 Where is Daniel? \\tgarden\\t8\\n', b'10 John travelled to the hallway.\\n', b'11 John went back to the office.\\n', b'12 Where is Daniel? \\tgarden\\t8\\n', b'13 Mary went to the bedroom.\\n', b'14 Mary travelled to the hallway.\\n', b'15 Where is Mary? \\thallway\\t14\\n', b'1 Mary moved to the office.\\n', b'2 John moved to the garden.\\n', b'3 Where is John? \\tgarden\\t2\\n', b'4 Sandra moved to the bedroom.\\n', b'5 Sandra went back to the office.\\n', b'6 Where is John? \\tgarden\\t2\\n', b'7 John went to the bedroom.\\n', b'8 John journeyed to the garden.\\n', b'9 Where is John? \\tgarden\\t8\\n', b'10 Daniel went back to the hallway.\\n', b'11 John journeyed to the bedroom.\\n', b'12 Where is Sandra? \\toffice\\t5\\n', b'13 Daniel journeyed to the bathroom.\\n', b'14 John travelled to the garden.\\n', b'15 Where is Daniel? \\tbathroom\\t13\\n', b'1 John moved to the kitchen.\\n', b'2 Sandra travelled to the garden.\\n', b'3 Where is Sandra? \\tgarden\\t2\\n', b'4 Sandra went back to the bathroom.\\n', b'5 Sandra went back to the bedroom.\\n', b'6 Where is Sandra? \\tbedroom\\t5\\n', b'7 Sandra journeyed to the office.\\n', b'8 Sandra travelled to the hallway.\\n', b'9 Where is Sandra? \\thallway\\t8\\n', b'10 Daniel went back to the hallway.\\n', b'11 Daniel went to the garden.\\n', b'12 Where is Sandra? \\thallway\\t8\\n', b'13 Daniel went to the bedroom.\\n', b'14 Sandra moved to the bedroom.\\n', b'15 Where is Sandra? \\tbedroom\\t14\\n', b'1 Sandra moved to the office.\\n', b'2 John went back to the garden.\\n', b'3 Where is John? \\tgarden\\t2\\n', b'4 Mary went to the office.\\n', b'5 Daniel travelled to the bedroom.\\n', b'6 Where is Mary? \\toffice\\t4\\n', b'7 Sandra travelled to the garden.\\n', b'8 Daniel travelled to the hallway.\\n', b'9 Where is Daniel? \\thallway\\t8\\n', b'10 John travelled to the bedroom.\\n', b'11 John went to the hallway.\\n', b'12 Where is John? \\thallway\\t11\\n', b'13 Daniel moved to the bathroom.\\n', b'14 Daniel travelled to the kitchen.\\n', b'15 Where is Daniel? \\tkitchen\\t14\\n', b'1 Sandra went back to the kitchen.\\n', b'2 Sandra journeyed to the garden.\\n', b'3 Where is Sandra? \\tgarden\\t2\\n', b'4 Mary went back to the kitchen.\\n', b'5 Sandra went to the kitchen.\\n', b'6 Where is Mary? \\tkitchen\\t4\\n', b'7 John journeyed to the office.\\n', b'8 Daniel went to the hallway.\\n', b'9 Where is Mary? \\tkitchen\\t4\\n', b'10 John went back to the hallway.\\n', b'11 Sandra moved to the bedroom.\\n', b'12 Where is John? \\thallway\\t10\\n', b'13 Mary journeyed to the hallway.\\n', b'14 Daniel travelled to the bedroom.\\n', b'15 Where is Daniel? \\tbedroom\\t14\\n', b'1 John travelled to the bedroom.\\n', b'2 Mary travelled to the bedroom.\\n', b'3 Where is John? \\tbedroom\\t1\\n', b'4 John journeyed to the bathroom.\\n', b'5 Sandra went back to the hallway.\\n', b'6 Where is John? \\tbathroom\\t4\\n', b'7 John went to the office.\\n', b'8 Daniel travelled to the kitchen.\\n', b'9 Where is John? \\toffice\\t7\\n', b'10 Daniel journeyed to the bedroom.\\n', b'11 John went back to the garden.\\n', b'12 Where is Daniel? \\tbedroom\\t10\\n', b'13 John moved to the bedroom.\\n', b'14 Daniel journeyed to the kitchen.\\n', b'15 Where is Daniel? \\tkitchen\\t14\\n', b'1 Mary travelled to the bathroom.\\n', b'2 Sandra journeyed to the hallway.\\n', b'3 Where is Sandra? \\thallway\\t2\\n', b'4 Mary went to the kitchen.\\n', b'5 Daniel moved to the office.\\n', b'6 Where is Mary? \\tkitchen\\t4\\n', b'7 Daniel journeyed to the bedroom.\\n', b'8 Mary travelled to the bedroom.\\n', b'9 Where is Daniel? \\tbedroom\\t7\\n', b'10 Sandra moved to the office.\\n', b'11 Sandra went back to the bathroom.\\n', b'12 Where is Daniel? \\tbedroom\\t7\\n', b'13 John went back to the bathroom.\\n', b'14 John moved to the office.\\n', b'15 Where is Mary? \\tbedroom\\t8\\n', b'1 Daniel journeyed to the kitchen.\\n', b'2 Daniel went to the garden.\\n', b'3 Where is Daniel? \\tgarden\\t2\\n', b'4 Mary went to the bathroom.\\n', b'5 Sandra went back to the bedroom.\\n', b'6 Where is Sandra? \\tbedroom\\t5\\n', b'7 Sandra moved to the garden.\\n', b'8 Mary went back to the bedroom.\\n', b'9 Where is Sandra? \\tgarden\\t7\\n', b'10 Daniel moved to the bathroom.\\n', b'11 Daniel moved to the kitchen.\\n', b'12 Where is Daniel? \\tkitchen\\t11\\n', b'13 Sandra went back to the bedroom.\\n', b'14 John moved to the garden.\\n', b'15 Where is Sandra? \\tbedroom\\t13\\n', b'1 John journeyed to the garden.\\n', b'2 John travelled to the bathroom.\\n', b'3 Where is John? \\tbathroom\\t2\\n', b'4 Daniel went back to the garden.\\n', b'5 Daniel journeyed to the kitchen.\\n', b'6 Where is John? \\tbathroom\\t2\\n', b'7 Sandra travelled to the kitchen.\\n', b'8 Sandra moved to the hallway.\\n', b'9 Where is Daniel? \\tkitchen\\t5\\n', b'10 Sandra travelled to the bedroom.\\n', b'11 John went back to the office.\\n', b'12 Where is Sandra? \\tbedroom\\t10\\n', b'13 Mary went back to the kitchen.\\n', b'14 Mary moved to the hallway.\\n', b'15 Where is Sandra? \\tbedroom\\t10\\n', b'1 Daniel went back to the bedroom.\\n', b'2 Sandra went to the garden.\\n', b'3 Where is Daniel? \\tbedroom\\t1\\n', b'4 Sandra moved to the kitchen.\\n', b'5 John travelled to the hallway.\\n', b'6 Where is Daniel? \\tbedroom\\t1\\n', b'7 Daniel moved to the kitchen.\\n', b'8 John journeyed to the kitchen.\\n', b'9 Where is Sandra? \\tkitchen\\t4\\n', b'10 Daniel journeyed to the hallway.\\n', b'11 Sandra went to the office.\\n', b'12 Where is John? \\tkitchen\\t8\\n', b'13 Mary journeyed to the office.\\n', b'14 Daniel travelled to the garden.\\n', b'15 Where is Sandra? \\toffice\\t11\\n', b'1 John travelled to the hallway.\\n', b'2 John travelled to the bathroom.\\n', b'3 Where is John? \\tbathroom\\t2\\n', b'4 Sandra moved to the kitchen.\\n', b'5 John journeyed to the bedroom.\\n', b'6 Where is John? \\tbedroom\\t5\\n', b'7 Daniel journeyed to the hallway.\\n', b'8 John journeyed to the bathroom.\\n', b'9 Where is Daniel? \\thallway\\t7\\n', b'10 Daniel moved to the bedroom.\\n', b'11 Mary went to the bathroom.\\n', b'12 Where is Daniel? \\tbedroom\\t10\\n', b'13 Mary went back to the bedroom.\\n', b'14 Sandra went to the bathroom.\\n', b'15 Where is Daniel? \\tbedroom\\t10\\n', b'1 John went back to the hallway.\\n', b'2 Sandra went to the kitchen.\\n', b'3 Where is John? \\thallway\\t1\\n', b'4 Daniel went back to the bedroom.\\n', b'5 Mary moved to the kitchen.\\n', b'6 Where is John? \\thallway\\t1\\n', b'7 John journeyed to the bedroom.\\n', b'8 Daniel went to the garden.\\n', b'9 Where is Daniel? \\tgarden\\t8\\n', b'10 Daniel went back to the kitchen.\\n', b'11 John went back to the garden.\\n', b'12 Where is Daniel? \\tkitchen\\t10\\n', b'13 John went to the bathroom.\\n', b'14 Mary journeyed to the bedroom.\\n', b'15 Where is Mary? \\tbedroom\\t14\\n', b'1 Sandra travelled to the bedroom.\\n', b'2 Daniel went to the bedroom.\\n', b'3 Where is Sandra? \\tbedroom\\t1\\n', b'4 Sandra journeyed to the garden.\\n', b'5 Daniel went back to the hallway.\\n', b'6 Where is Sandra? \\tgarden\\t4\\n', b'7 Sandra travelled to the office.\\n', b'8 John travelled to the bathroom.\\n', b'9 Where is Daniel? \\thallway\\t5\\n', b'10 Mary went to the bedroom.\\n', b'11 John moved to the bedroom.\\n', b'12 Where is John? \\tbedroom\\t11\\n', b'13 Sandra went to the bedroom.\\n', b'14 Sandra went to the garden.\\n', b'15 Where is Mary? \\tbedroom\\t10\\n', b'1 Sandra went back to the bathroom.\\n', b'2 Sandra journeyed to the office.\\n', b'3 Where is Sandra? \\toffice\\t2\\n', b'4 Mary travelled to the hallway.\\n', b'5 Daniel went to the office.\\n', b'6 Where is Mary? \\thallway\\t4\\n', b'7 Mary journeyed to the garden.\\n', b'8 John travelled to the office.\\n', b'9 Where is John? \\toffice\\t8\\n', b'10 Sandra moved to the kitchen.\\n', b'11 John moved to the garden.\\n', b'12 Where is John? \\tgarden\\t11\\n', b'13 Daniel moved to the garden.\\n', b'14 John went to the bathroom.\\n', b'15 Where is John? \\tbathroom\\t14\\n', b'1 Mary went to the bathroom.\\n', b'2 Sandra went back to the bathroom.\\n', b'3 Where is Sandra? \\tbathroom\\t2\\n', b'4 Sandra moved to the office.\\n', b'5 John journeyed to the hallway.\\n', b'6 Where is Sandra? \\toffice\\t4\\n', b'7 Daniel went to the hallway.\\n', b'8 Daniel went back to the garden.\\n', b'9 Where is Sandra? \\toffice\\t4\\n', b'10 Sandra journeyed to the bathroom.\\n', b'11 Sandra moved to the hallway.\\n', b'12 Where is Daniel? \\tgarden\\t8\\n', b'13 Sandra travelled to the garden.\\n', b'14 Daniel travelled to the bedroom.\\n', b'15 Where is Daniel? \\tbedroom\\t14\\n', b'1 John journeyed to the bathroom.\\n', b'2 John moved to the bedroom.\\n', b'3 Where is John? \\tbedroom\\t2\\n', b'4 Mary journeyed to the office.\\n', b'5 Sandra moved to the bedroom.\\n', b'6 Where is Sandra? \\tbedroom\\t5\\n', b'7 Mary went to the kitchen.\\n', b'8 John travelled to the garden.\\n', b'9 Where is Mary? \\tkitchen\\t7\\n', b'10 John moved to the bathroom.\\n', b'11 Sandra travelled to the kitchen.\\n', b'12 Where is Sandra? \\tkitchen\\t11\\n', b'13 Mary travelled to the office.\\n', b'14 John journeyed to the office.\\n', b'15 Where is John? \\toffice\\t14\\n', b'1 Sandra went back to the bedroom.\\n', b'2 Mary journeyed to the garden.\\n', b'3 Where is Mary? \\tgarden\\t2\\n', b'4 John journeyed to the kitchen.\\n', b'5 Sandra went to the office.\\n', b'6 Where is John? \\tkitchen\\t4\\n', b'7 John moved to the hallway.\\n', b'8 Sandra went back to the garden.\\n', b'9 Where is John? \\thallway\\t7\\n', b'10 John went back to the kitchen.\\n', b'11 Daniel journeyed to the bedroom.\\n', b'12 Where is Sandra? \\tgarden\\t8\\n', b'13 John went to the bathroom.\\n', b'14 Sandra moved to the bedroom.\\n', b'15 Where is Daniel? \\tbedroom\\t11\\n', b'1 Sandra journeyed to the office.\\n', b'2 Daniel moved to the kitchen.\\n', b'3 Where is Daniel? \\tkitchen\\t2\\n', b'4 Mary went to the kitchen.\\n', b'5 John journeyed to the office.\\n', b'6 Where is Sandra? \\toffice\\t1\\n', b'7 Daniel went back to the bathroom.\\n', b'8 John went to the garden.\\n', b'9 Where is Daniel? \\tbathroom\\t7\\n', b'10 Mary journeyed to the office.\\n', b'11 Daniel went to the garden.\\n', b'12 Where is John? \\tgarden\\t8\\n', b'13 Daniel travelled to the bathroom.\\n', b'14 Sandra travelled to the bathroom.\\n', b'15 Where is Sandra? \\tbathroom\\t14\\n', b'1 Daniel went back to the office.\\n', b'2 Sandra moved to the bathroom.\\n', b'3 Where is Daniel? \\toffice\\t1\\n', b'4 Sandra travelled to the kitchen.\\n', b'5 Mary went to the kitchen.\\n', b'6 Where is Sandra? \\tkitchen\\t4\\n', b'7 Daniel travelled to the bathroom.\\n', b'8 Daniel went back to the hallway.\\n', b'9 Where is Daniel? \\thallway\\t8\\n', b'10 Daniel travelled to the bedroom.\\n', b'11 Sandra went back to the office.\\n', b'12 Where is Mary? \\tkitchen\\t5\\n', b'13 John moved to the hallway.\\n', b'14 Daniel travelled to the hallway.\\n', b'15 Where is Sandra? \\toffice\\t11\\n', b'1 Mary journeyed to the bathroom.\\n', b'2 John went back to the garden.\\n', b'3 Where is John? \\tgarden\\t2\\n', b'4 Mary went to the office.\\n', b'5 John went back to the bedroom.\\n', b'6 Where is Mary? \\toffice\\t4\\n', b'7 John journeyed to the bathroom.\\n', b'8 Sandra journeyed to the bathroom.\\n', b'9 Where is Mary? \\toffice\\t4\\n', b'10 Sandra moved to the kitchen.\\n', b'11 John went to the office.\\n', b'12 Where is Sandra? \\tkitchen\\t10\\n', b'13 John travelled to the bedroom.\\n', b'14 John went back to the bathroom.\\n', b'15 Where is John? \\tbathroom\\t14\\n', b'1 Daniel went back to the bedroom.\\n', b'2 John went back to the bedroom.\\n', b'3 Where is Daniel? \\tbedroom\\t1\\n', b'4 John went back to the bathroom.\\n', b'5 Mary journeyed to the hallway.\\n', b'6 Where is John? \\tbathroom\\t4\\n', b'7 Daniel travelled to the bathroom.\\n', b'8 Mary went to the garden.\\n', b'9 Where is John? \\tbathroom\\t4\\n', b'10 John travelled to the hallway.\\n', b'11 John travelled to the bedroom.\\n', b'12 Where is John? \\tbedroom\\t11\\n', b'13 Daniel went to the bedroom.\\n', b'14 Daniel went back to the garden.\\n', b'15 Where is John? \\tbedroom\\t11\\n', b'1 John journeyed to the garden.\\n', b'2 John travelled to the bathroom.\\n', b'3 Where is John? \\tbathroom\\t2\\n', b'4 Mary moved to the kitchen.\\n', b'5 Mary went back to the bedroom.\\n', b'6 Where is Mary? \\tbedroom\\t5\\n', b'7 John went to the hallway.\\n', b'8 John went to the kitchen.\\n', b'9 Where is Mary? \\tbedroom\\t5\\n', b'10 Mary travelled to the kitchen.\\n', b'11 Sandra went back to the bathroom.\\n', b'12 Where is Mary? \\tkitchen\\t10\\n', b'13 John travelled to the garden.\\n', b'14 Mary moved to the bathroom.\\n', b'15 Where is John? \\tgarden\\t13\\n', b'1 John went to the garden.\\n', b'2 Sandra travelled to the garden.\\n', b'3 Where is John? \\tgarden\\t1\\n', b'4 John travelled to the bedroom.\\n', b'5 John travelled to the office.\\n', b'6 Where is Sandra? \\tgarden\\t2\\n', b'7 John went back to the kitchen.\\n', b'8 Mary travelled to the hallway.\\n', b'9 Where is John? \\tkitchen\\t7\\n', b'10 Daniel travelled to the hallway.\\n', b'11 John travelled to the garden.\\n', b'12 Where is Mary? \\thallway\\t8\\n', b'13 Daniel journeyed to the office.\\n', b'14 Sandra went to the bathroom.\\n', b'15 Where is Sandra? \\tbathroom\\t14\\n', b'1 Daniel journeyed to the garden.\\n', b'2 John moved to the garden.\\n', b'3 Where is Daniel? \\tgarden\\t1\\n', b'4 Sandra moved to the bedroom.\\n', b'5 John went back to the office.\\n', b'6 Where is Daniel? \\tgarden\\t1\\n', b'7 John went back to the bedroom.\\n', b'8 Daniel went back to the bedroom.\\n', b'9 Where is Daniel? \\tbedroom\\t8\\n', b'10 John went to the office.\\n', b'11 Sandra went to the garden.\\n', b'12 Where is John? \\toffice\\t10\\n', b'13 Mary went back to the bathroom.\\n', b'14 Daniel went to the garden.\\n', b'15 Where is Sandra? \\tgarden\\t11\\n', b'1 Mary travelled to the garden.\\n', b'2 John went back to the kitchen.\\n', b'3 Where is Mary? \\tgarden\\t1\\n', b'4 Sandra journeyed to the office.\\n', b'5 Sandra journeyed to the hallway.\\n', b'6 Where is Sandra? \\thallway\\t5\\n', b'7 John travelled to the bathroom.\\n', b'8 Sandra moved to the office.\\n', b'9 Where is Sandra? \\toffice\\t8\\n', b'10 Sandra moved to the kitchen.\\n', b'11 Daniel went back to the bathroom.\\n', b'12 Where is Sandra? \\tkitchen\\t10\\n', b'13 Daniel journeyed to the garden.\\n', b'14 John went back to the bedroom.\\n', b'15 Where is Sandra? \\tkitchen\\t10\\n', b'1 Daniel went to the garden.\\n', b'2 Daniel journeyed to the bathroom.\\n', b'3 Where is Daniel? \\tbathroom\\t2\\n', b'4 Mary journeyed to the garden.\\n', b'5 Sandra went back to the garden.\\n', b'6 Where is Sandra? \\tgarden\\t5\\n', b'7 Mary went back to the bedroom.\\n', b'8 Daniel went back to the kitchen.\\n', b'9 Where is Daniel? \\tkitchen\\t8\\n', b'10 Daniel went to the office.\\n', b'11 Mary journeyed to the kitchen.\\n', b'12 Where is Mary? \\tkitchen\\t11\\n', b'13 Sandra travelled to the bathroom.\\n', b'14 Mary travelled to the garden.\\n', b'15 Where is Mary? \\tgarden\\t14\\n', b'1 Daniel went to the bathroom.\\n', b'2 Mary travelled to the bathroom.\\n', b'3 Where is Mary? \\tbathroom\\t2\\n', b'4 John went to the office.\\n', b'5 John journeyed to the kitchen.\\n', b'6 Where is John? \\tkitchen\\t5\\n', b'7 Sandra went to the hallway.\\n', b'8 Sandra travelled to the garden.\\n', b'9 Where is John? \\tkitchen\\t5\\n', b'10 Daniel journeyed to the office.\\n', b'11 Daniel moved to the garden.\\n', b'12 Where is Daniel? \\tgarden\\t11\\n', b'13 Mary moved to the garden.\\n', b'14 Daniel went to the kitchen.\\n', b'15 Where is Daniel? \\tkitchen\\t14\\n', b'1 Sandra journeyed to the kitchen.\\n', b'2 John moved to the hallway.\\n', b'3 Where is Sandra? \\tkitchen\\t1\\n', b'4 Daniel went back to the hallway.\\n', b'5 Mary went to the bathroom.\\n', b'6 Where is Sandra? \\tkitchen\\t1\\n', b'7 John travelled to the garden.\\n', b'8 Mary moved to the hallway.\\n', b'9 Where is John? \\tgarden\\t7\\n', b'10 Mary went back to the bedroom.\\n', b'11 Daniel went to the office.\\n', b'12 Where is Mary? \\tbedroom\\t10\\n', b'13 Daniel went back to the garden.\\n', b'14 Sandra moved to the bathroom.\\n', b'15 Where is Mary? \\tbedroom\\t10\\n', b'1 Mary went to the bathroom.\\n', b'2 Daniel moved to the office.\\n', b'3 Where is Mary? \\tbathroom\\t1\\n', b'4 Sandra journeyed to the office.\\n', b'5 John travelled to the garden.\\n', b'6 Where is Daniel? \\toffice\\t2\\n', b'7 John went back to the hallway.\\n', b'8 John moved to the office.\\n', b'9 Where is John? \\toffice\\t8\\n', b'10 Sandra travelled to the kitchen.\\n', b'11 Sandra journeyed to the bedroom.\\n', b'12 Where is John? \\toffice\\t8\\n', b'13 Sandra went to the garden.\\n', b'14 Daniel went to the hallway.\\n', b'15 Where is John? \\toffice\\t8\\n', b'1 Daniel went back to the office.\\n', b'2 John went to the bedroom.\\n', b'3 Where is John? \\tbedroom\\t2\\n', b'4 Mary went to the kitchen.\\n', b'5 Daniel moved to the garden.\\n', b'6 Where is John? \\tbedroom\\t2\\n', b'7 Daniel travelled to the office.\\n', b'8 Mary journeyed to the office.\\n', b'9 Where is Daniel? \\toffice\\t7\\n', b'10 Daniel went to the bathroom.\\n', b'11 Mary went back to the kitchen.\\n', b'12 Where is Daniel? \\tbathroom\\t10\\n', b'13 John went to the office.\\n', b'14 John moved to the garden.\\n', b'15 Where is Mary? \\tkitchen\\t11\\n', b'1 Daniel went back to the hallway.\\n', b'2 Mary went to the bathroom.\\n', b'3 Where is Mary? \\tbathroom\\t2\\n', b'4 John travelled to the hallway.\\n', b'5 Mary went to the office.\\n', b'6 Where is Mary? \\toffice\\t5\\n', b'7 Sandra travelled to the bathroom.\\n', b'8 Sandra journeyed to the hallway.\\n', b'9 Where is Sandra? \\thallway\\t8\\n', b'10 Daniel journeyed to the bathroom.\\n', b'11 Daniel moved to the bedroom.\\n', b'12 Where is Sandra? \\thallway\\t8\\n', b'13 Mary journeyed to the hallway.\\n', b'14 Daniel travelled to the bathroom.\\n', b'15 Where is Sandra? \\thallway\\t8\\n', b'1 Mary travelled to the bathroom.\\n', b'2 Daniel went back to the kitchen.\\n', b'3 Where is Daniel? \\tkitchen\\t2\\n', b'4 John moved to the bedroom.\\n', b'5 Sandra went to the kitchen.\\n', b'6 Where is Daniel? \\tkitchen\\t2\\n', b'7 Daniel went back to the garden.\\n', b'8 Mary went back to the kitchen.\\n', b'9 Where is Mary? \\tkitchen\\t8\\n', b'10 Mary moved to the bathroom.\\n', b'11 Mary travelled to the office.\\n', b'12 Where is Mary? \\toffice\\t11\\n', b'13 Daniel went to the bathroom.\\n', b'14 Sandra went back to the garden.\\n', b'15 Where is Daniel? \\tbathroom\\t13\\n', b'1 Sandra journeyed to the hallway.\\n', b'2 John went back to the garden.\\n', b'3 Where is John? \\tgarden\\t2\\n', b'4 Daniel journeyed to the office.\\n', b'5 Mary journeyed to the bathroom.\\n', b'6 Where is Mary? \\tbathroom\\t5\\n', b'7 John went to the kitchen.\\n', b'8 Mary journeyed to the office.\\n', b'9 Where is Daniel? \\toffice\\t4\\n', b'10 John journeyed to the bathroom.\\n', b'11 Sandra went to the office.\\n', b'12 Where is John? \\tbathroom\\t10\\n', b'13 Daniel moved to the hallway.\\n', b'14 John journeyed to the hallway.\\n', b'15 Where is John? \\thallway\\t14\\n', b'1 Sandra travelled to the bedroom.\\n', b'2 Sandra journeyed to the garden.\\n', b'3 Where is Sandra? \\tgarden\\t2\\n', b'4 Sandra moved to the hallway.\\n', b'5 Sandra travelled to the bathroom.\\n', b'6 Where is Sandra? \\tbathroom\\t5\\n', b'7 Mary went to the bathroom.\\n', b'8 John moved to the office.\\n', b'9 Where is Sandra? \\tbathroom\\t5\\n', b'10 Sandra went back to the office.\\n', b'11 Mary travelled to the hallway.\\n', b'12 Where is Sandra? \\toffice\\t10\\n', b'13 Mary went to the garden.\\n', b'14 Daniel moved to the office.\\n', b'15 Where is Mary? \\tgarden\\t13\\n', b'1 Mary went back to the bathroom.\\n', b'2 Mary journeyed to the garden.\\n', b'3 Where is Mary? \\tgarden\\t2\\n', b'4 Sandra went back to the bedroom.\\n', b'5 Daniel moved to the bathroom.\\n', b'6 Where is Mary? \\tgarden\\t2\\n', b'7 Mary moved to the hallway.\\n', b'8 Daniel went to the hallway.\\n', b'9 Where is Sandra? \\tbedroom\\t4\\n', b'10 Daniel went to the bedroom.\\n', b'11 Sandra journeyed to the kitchen.\\n', b'12 Where is Sandra? \\tkitchen\\t11\\n', b'13 Mary journeyed to the bedroom.\\n', b'14 Sandra journeyed to the garden.\\n', b'15 Where is Daniel? \\tbedroom\\t10\\n', b'1 Mary moved to the hallway.\\n', b'2 Daniel travelled to the hallway.\\n', b'3 Where is Mary? \\thallway\\t1\\n', b'4 John went back to the hallway.\\n', b'5 John went to the office.\\n', b'6 Where is Mary? \\thallway\\t1\\n', b'7 John moved to the kitchen.\\n', b'8 John travelled to the bathroom.\\n', b'9 Where is John? \\tbathroom\\t8\\n', b'10 Sandra travelled to the garden.\\n', b'11 Sandra went to the bathroom.\\n', b'12 Where is John? \\tbathroom\\t8\\n', b'13 Daniel moved to the bathroom.\\n', b'14 John went to the office.\\n', b'15 Where is John? \\toffice\\t14\\n', b'1 Mary moved to the hallway.\\n', b'2 John travelled to the garden.\\n', b'3 Where is Mary? \\thallway\\t1\\n', b'4 Daniel travelled to the garden.\\n', b'5 Daniel went to the office.\\n', b'6 Where is Mary? \\thallway\\t1\\n', b'7 Daniel moved to the bathroom.\\n', b'8 Sandra went back to the office.\\n', b'9 Where is Daniel? \\tbathroom\\t7\\n', b'10 Mary went back to the garden.\\n', b'11 Mary moved to the hallway.\\n', b'12 Where is Sandra? \\toffice\\t8\\n', b'13 John travelled to the hallway.\\n', b'14 John went to the kitchen.\\n', b'15 Where is Mary? \\thallway\\t11\\n', b'1 John travelled to the bathroom.\\n', b'2 John travelled to the garden.\\n', b'3 Where is John? \\tgarden\\t2\\n', b'4 Daniel journeyed to the office.\\n', b'5 Sandra went to the garden.\\n', b'6 Where is Sandra? \\tgarden\\t5\\n', b'7 John travelled to the kitchen.\\n', b'8 Mary journeyed to the bedroom.\\n', b'9 Where is John? \\tkitchen\\t7\\n', b'10 Mary moved to the hallway.\\n', b'11 Sandra went to the kitchen.\\n', b'12 Where is Sandra? \\tkitchen\\t11\\n', b'13 Daniel went back to the hallway.\\n', b'14 Sandra went to the bathroom.\\n', b'15 Where is Daniel? \\thallway\\t13\\n', b'1 John journeyed to the bedroom.\\n', b'2 Sandra journeyed to the garden.\\n', b'3 Where is Sandra? \\tgarden\\t2\\n', b'4 Daniel went back to the hallway.\\n', b'5 Mary went to the hallway.\\n', b'6 Where is Mary? \\thallway\\t5\\n', b'7 Daniel travelled to the kitchen.\\n', b'8 Daniel went to the office.\\n', b'9 Where is Daniel? \\toffice\\t8\\n', b'10 Daniel travelled to the bedroom.\\n', b'11 Sandra went to the office.\\n', b'12 Where is Mary? \\thallway\\t5\\n', b'13 Mary went back to the bathroom.\\n', b'14 Mary journeyed to the office.\\n', b'15 Where is Sandra? \\toffice\\t11\\n', b'1 Sandra moved to the bedroom.\\n', b'2 Daniel journeyed to the garden.\\n', b'3 Where is Daniel? \\tgarden\\t2\\n', b'4 Mary moved to the bedroom.\\n', b'5 Sandra went back to the hallway.\\n', b'6 Where is Sandra? \\thallway\\t5\\n', b'7 John went to the office.\\n', b'8 Sandra went back to the bathroom.\\n', b'9 Where is Daniel? \\tgarden\\t2\\n', b'10 Sandra went back to the kitchen.\\n', b'11 Sandra travelled to the office.\\n', b'12 Where is Sandra? \\toffice\\t11\\n', b'13 John moved to the garden.\\n', b'14 Daniel went to the bedroom.\\n', b'15 Where is Sandra? \\toffice\\t11\\n', b'1 Sandra went to the garden.\\n', b'2 John travelled to the office.\\n', b'3 Where is Sandra? \\tgarden\\t1\\n', b'4 Sandra went back to the hallway.\\n', b'5 Mary went back to the office.\\n', b'6 Where is John? \\toffice\\t2\\n', b'7 Mary moved to the kitchen.\\n', b'8 Mary went back to the bathroom.\\n', b'9 Where is Mary? \\tbathroom\\t8\\n', b'10 Mary travelled to the garden.\\n', b'11 Daniel went back to the kitchen.\\n', b'12 Where is Mary? \\tgarden\\t10\\n', b'13 Sandra travelled to the kitchen.\\n', b'14 Daniel travelled to the bathroom.\\n', b'15 Where is Daniel? \\tbathroom\\t14\\n', b'1 John went back to the bedroom.\\n', b'2 Sandra journeyed to the bathroom.\\n', b'3 Where is John? \\tbedroom\\t1\\n', b'4 Sandra went to the hallway.\\n', b'5 Mary went back to the hallway.\\n', b'6 Where is John? \\tbedroom\\t1\\n', b'7 Mary moved to the kitchen.\\n', b'8 Daniel went back to the hallway.\\n', b'9 Where is Sandra? \\thallway\\t4\\n', b'10 Daniel travelled to the bedroom.\\n', b'11 Mary travelled to the office.\\n', b'12 Where is Mary? \\toffice\\t11\\n', b'13 Sandra travelled to the garden.\\n', b'14 John went back to the hallway.\\n', b'15 Where is Daniel? \\tbedroom\\t10\\n', b'1 Sandra moved to the bedroom.\\n', b'2 John went to the hallway.\\n', b'3 Where is John? \\thallway\\t2\\n', b'4 Sandra travelled to the office.\\n', b'5 Sandra moved to the bathroom.\\n', b'6 Where is Sandra? \\tbathroom\\t5\\n', b'7 John went back to the garden.\\n', b'8 John travelled to the bathroom.\\n', b'9 Where is John? \\tbathroom\\t8\\n', b'10 Daniel travelled to the garden.\\n', b'11 Mary went back to the bathroom.\\n', b'12 Where is John? \\tbathroom\\t8\\n', b'13 John moved to the kitchen.\\n', b'14 Daniel went back to the bedroom.\\n', b'15 Where is John? \\tkitchen\\t13\\n', b'1 John moved to the bathroom.\\n', b'2 John travelled to the garden.\\n', b'3 Where is John? \\tgarden\\t2\\n', b'4 Sandra travelled to the hallway.\\n', b'5 Daniel moved to the kitchen.\\n', b'6 Where is John? \\tgarden\\t2\\n', b'7 Sandra journeyed to the office.\\n', b'8 Mary moved to the bathroom.\\n', b'9 Where is Daniel? \\tkitchen\\t5\\n', b'10 Daniel went back to the hallway.\\n', b'11 Mary journeyed to the kitchen.\\n', b'12 Where is Sandra? \\toffice\\t7\\n', b'13 John moved to the bathroom.\\n', b'14 Daniel travelled to the bathroom.\\n', b'15 Where is Daniel? \\tbathroom\\t14\\n', b'1 Daniel journeyed to the bedroom.\\n', b'2 Sandra went back to the office.\\n', b'3 Where is Daniel? \\tbedroom\\t1\\n', b'4 Daniel travelled to the garden.\\n', b'5 John went back to the bathroom.\\n', b'6 Where is John? \\tbathroom\\t5\\n', b'7 Mary travelled to the kitchen.\\n', b'8 John went to the hallway.\\n', b'9 Where is John? \\thallway\\t8\\n', b'10 John travelled to the office.\\n', b'11 Daniel went back to the bathroom.\\n', b'12 Where is John? \\toffice\\t10\\n', b'13 Mary travelled to the hallway.\\n', b'14 John went to the kitchen.\\n', b'15 Where is John? \\tkitchen\\t14\\n', b'1 Sandra went to the bedroom.\\n', b'2 Sandra travelled to the office.\\n', b'3 Where is Sandra? \\toffice\\t2\\n', b'4 Daniel went back to the garden.\\n', b'5 Mary travelled to the bedroom.\\n', b'6 Where is Sandra? \\toffice\\t2\\n', b'7 John journeyed to the garden.\\n', b'8 Daniel went back to the hallway.\\n', b'9 Where is Daniel? \\thallway\\t8\\n', b'10 Mary went back to the garden.\\n', b'11 Mary journeyed to the bedroom.\\n', b'12 Where is Mary? \\tbedroom\\t11\\n', b'13 Sandra went back to the kitchen.\\n', b'14 Sandra went to the garden.\\n', b'15 Where is Daniel? \\thallway\\t8\\n', b'1 Daniel went back to the hallway.\\n', b'2 Daniel travelled to the garden.\\n', b'3 Where is Daniel? \\tgarden\\t2\\n', b'4 Sandra went to the office.\\n', b'5 Sandra journeyed to the kitchen.\\n', b'6 Where is Daniel? \\tgarden\\t2\\n', b'7 John moved to the office.\\n', b'8 Daniel journeyed to the bathroom.\\n', b'9 Where is John? \\toffice\\t7\\n', b'10 John went to the bathroom.\\n', b'11 Mary travelled to the garden.\\n', b'12 Where is Sandra? \\tkitchen\\t5\\n', b'13 Mary went to the bathroom.\\n', b'14 Sandra travelled to the bathroom.\\n', b'15 Where is Mary? \\tbathroom\\t13\\n', b'1 Sandra went back to the office.\\n', b'2 John moved to the bathroom.\\n', b'3 Where is Sandra? \\toffice\\t1\\n', b'4 Sandra journeyed to the bedroom.\\n', b'5 Mary journeyed to the bathroom.\\n', b'6 Where is Sandra? \\tbedroom\\t4\\n', b'7 John journeyed to the bedroom.\\n', b'8 Daniel moved to the office.\\n', b'9 Where is Mary? \\tbathroom\\t5\\n', b'10 Mary went to the garden.\\n', b'11 Daniel moved to the garden.\\n', b'12 Where is Daniel? \\tgarden\\t11\\n', b'13 Daniel travelled to the hallway.\\n', b'14 Mary journeyed to the kitchen.\\n', b'15 Where is Daniel? \\thallway\\t13\\n', b'1 Sandra travelled to the kitchen.\\n', b'2 Daniel travelled to the bathroom.\\n', b'3 Where is Sandra? \\tkitchen\\t1\\n', b'4 John went to the hallway.\\n', b'5 Sandra journeyed to the bedroom.\\n', b'6 Where is Daniel? \\tbathroom\\t2\\n', b'7 John journeyed to the kitchen.\\n', b'8 Mary went back to the office.\\n', b'9 Where is John? \\tkitchen\\t7\\n', b'10 John journeyed to the garden.\\n', b'11 Daniel travelled to the hallway.\\n', b'12 Where is Daniel? \\thallway\\t11\\n', b'13 John journeyed to the bedroom.\\n', b'14 Daniel went back to the bathroom.\\n', b'15 Where is John? \\tbedroom\\t13\\n', b'1 Daniel went to the bathroom.\\n', b'2 John went to the garden.\\n', b'3 Where is Daniel? \\tbathroom\\t1\\n', b'4 John went back to the bedroom.\\n', b'5 Mary journeyed to the office.\\n', b'6 Where is John? \\tbedroom\\t4\\n', b'7 Daniel moved to the kitchen.\\n', b'8 John journeyed to the office.\\n', b'9 Where is John? \\toffice\\t8\\n', b'10 Mary journeyed to the kitchen.\\n', b'11 Sandra travelled to the bathroom.\\n', b'12 Where is John? \\toffice\\t8\\n', b'13 Sandra went to the hallway.\\n', b'14 Daniel went back to the bedroom.\\n', b'15 Where is Mary? \\tkitchen\\t10\\n', b'1 Mary went to the garden.\\n', b'2 Daniel journeyed to the kitchen.\\n', b'3 Where is Daniel? \\tkitchen\\t2\\n', b'4 John moved to the kitchen.\\n', b'5 John travelled to the bathroom.\\n', b'6 Where is John? \\tbathroom\\t5\\n', b'7 Mary journeyed to the kitchen.\\n', b'8 Mary moved to the bathroom.\\n', b'9 Where is John? \\tbathroom\\t5\\n', b'10 Sandra journeyed to the hallway.\\n', b'11 Mary went back to the hallway.\\n', b'12 Where is John? \\tbathroom\\t5\\n', b'13 Sandra journeyed to the bathroom.\\n', b'14 Daniel went to the office.\\n', b'15 Where is Daniel? \\toffice\\t14\\n', b'1 John went back to the bedroom.\\n', b'2 Daniel journeyed to the hallway.\\n', b'3 Where is John? \\tbedroom\\t1\\n', b'4 Mary went back to the hallway.\\n', b'5 Daniel went to the office.\\n', b'6 Where is Daniel? \\toffice\\t5\\n', b'7 John journeyed to the hallway.\\n', b'8 Sandra went to the kitchen.\\n', b'9 Where is Daniel? \\toffice\\t5\\n', b'10 Sandra went back to the hallway.\\n', b'11 John moved to the bathroom.\\n', b'12 Where is John? \\tbathroom\\t11\\n', b'13 Mary went to the office.\\n', b'14 John travelled to the garden.\\n', b'15 Where is Sandra? \\thallway\\t10\\n', b'1 John travelled to the office.\\n', b'2 Mary went to the bathroom.\\n', b'3 Where is John? \\toffice\\t1\\n', b'4 Mary went to the kitchen.\\n', b'5 Mary journeyed to the bathroom.\\n', b'6 Where is John? \\toffice\\t1\\n', b'7 Mary went to the hallway.\\n', b'8 Sandra travelled to the bedroom.\\n', b'9 Where is Mary? \\thallway\\t7\\n', b'10 John moved to the kitchen.\\n', b'11 Sandra journeyed to the garden.\\n', b'12 Where is Mary? \\thallway\\t7\\n', b'13 Mary went to the office.\\n', b'14 Daniel travelled to the hallway.\\n', b'15 Where is Sandra? \\tgarden\\t11\\n', b'1 Sandra travelled to the office.\\n', b'2 Sandra moved to the garden.\\n', b'3 Where is Sandra? \\tgarden\\t2\\n', b'4 John journeyed to the bathroom.\\n', b'5 John moved to the bedroom.\\n', b'6 Where is Sandra? \\tgarden\\t2\\n', b'7 Mary went to the hallway.\\n', b'8 John journeyed to the office.\\n', b'9 Where is Sandra? \\tgarden\\t2\\n', b'10 Daniel journeyed to the kitchen.\\n', b'11 Mary moved to the kitchen.\\n', b'12 Where is John? \\toffice\\t8\\n', b'13 Mary went back to the bathroom.\\n', b'14 Mary journeyed to the garden.\\n', b'15 Where is Mary? \\tgarden\\t14\\n', b'1 Daniel travelled to the office.\\n', b'2 Sandra went back to the office.\\n', b'3 Where is Daniel? \\toffice\\t1\\n', b'4 Mary went to the office.\\n', b'5 Daniel moved to the bathroom.\\n', b'6 Where is Sandra? \\toffice\\t2\\n', b'7 John went to the hallway.\\n', b'8 Sandra moved to the bedroom.\\n', b'9 Where is Mary? \\toffice\\t4\\n', b'10 Sandra travelled to the office.\\n', b'11 John went back to the garden.\\n', b'12 Where is Sandra? \\toffice\\t10\\n', b'13 John went to the hallway.\\n', b'14 Mary went to the bathroom.\\n', b'15 Where is Sandra? \\toffice\\t10\\n', b'1 Sandra went to the hallway.\\n', b'2 Daniel moved to the garden.\\n', b'3 Where is Sandra? \\thallway\\t1\\n', b'4 Daniel went back to the bathroom.\\n', b'5 Mary went to the bedroom.\\n', b'6 Where is Daniel? \\tbathroom\\t4\\n', b'7 Mary moved to the office.\\n', b'8 Sandra travelled to the bedroom.\\n', b'9 Where is Mary? \\toffice\\t7\\n', b'10 Mary travelled to the garden.\\n', b'11 Mary journeyed to the kitchen.\\n', b'12 Where is Sandra? \\tbedroom\\t8\\n', b'13 Mary went to the office.\\n', b'14 Sandra moved to the office.\\n', b'15 Where is Mary? \\toffice\\t13\\n', b'1 Mary journeyed to the garden.\\n', b'2 John went back to the garden.\\n', b'3 Where is John? \\tgarden\\t2\\n', b'4 Mary moved to the office.\\n', b'5 John moved to the bedroom.\\n', b'6 Where is John? \\tbedroom\\t5\\n', b'7 Sandra travelled to the bathroom.\\n', b'8 Sandra moved to the garden.\\n', b'9 Where is John? \\tbedroom\\t5\\n', b'10 Daniel went to the bedroom.\\n', b'11 Daniel travelled to the hallway.\\n', b'12 Where is Daniel? \\thallway\\t11\\n', b'13 Mary moved to the bathroom.\\n', b'14 Sandra went back to the kitchen.\\n', b'15 Where is Daniel? \\thallway\\t11\\n', b'1 John journeyed to the kitchen.\\n', b'2 Sandra moved to the garden.\\n', b'3 Where is Sandra? \\tgarden\\t2\\n', b'4 Daniel travelled to the office.\\n', b'5 John moved to the bedroom.\\n', b'6 Where is Sandra? \\tgarden\\t2\\n', b'7 Sandra journeyed to the hallway.\\n', b'8 Mary travelled to the garden.\\n', b'9 Where is Daniel? \\toffice\\t4\\n', b'10 John went back to the kitchen.\\n', b'11 Daniel went back to the hallway.\\n', b'12 Where is Daniel? \\thallway\\t11\\n', b'13 Mary travelled to the hallway.\\n', b'14 Daniel journeyed to the kitchen.\\n', b'15 Where is Mary? \\thallway\\t13\\n', b'1 Daniel went to the bedroom.\\n', b'2 Daniel journeyed to the office.\\n', b'3 Where is Daniel? \\toffice\\t2\\n', b'4 Daniel travelled to the bathroom.\\n', b'5 Mary went to the office.\\n', b'6 Where is Mary? \\toffice\\t5\\n', b'7 John journeyed to the bedroom.\\n', b'8 Daniel went back to the kitchen.\\n', b'9 Where is Daniel? \\tkitchen\\t8\\n', b'10 John went to the garden.\\n', b'11 Daniel travelled to the office.\\n', b'12 Where is John? \\tgarden\\t10\\n', b'13 John travelled to the office.\\n', b'14 Mary travelled to the bathroom.\\n', b'15 Where is Daniel? \\toffice\\t11\\n', b'1 John went back to the bathroom.\\n', b'2 Sandra journeyed to the garden.\\n', b'3 Where is Sandra? \\tgarden\\t2\\n', b'4 John went to the garden.\\n', b'5 John went to the bedroom.\\n', b'6 Where is Sandra? \\tgarden\\t2\\n', b'7 Sandra went to the office.\\n', b'8 Daniel went to the bathroom.\\n', b'9 Where is Daniel? \\tbathroom\\t8\\n', b'10 Mary travelled to the kitchen.\\n', b'11 John went back to the hallway.\\n', b'12 Where is John? \\thallway\\t11\\n', b'13 Sandra moved to the bedroom.\\n', b'14 Sandra journeyed to the bathroom.\\n', b'15 Where is Daniel? \\tbathroom\\t8\\n', b'1 John journeyed to the garden.\\n', b'2 Sandra journeyed to the office.\\n', b'3 Where is Sandra? \\toffice\\t2\\n', b'4 Mary journeyed to the bathroom.\\n', b'5 Daniel went to the hallway.\\n', b'6 Where is Mary? \\tbathroom\\t4\\n', b'7 Mary went back to the kitchen.\\n', b'8 Mary went back to the bedroom.\\n', b'9 Where is Mary? \\tbedroom\\t8\\n', b'10 Mary went back to the bathroom.\\n', b'11 John went back to the kitchen.\\n', b'12 Where is Mary? \\tbathroom\\t10\\n', b'13 John moved to the hallway.\\n', b'14 Daniel moved to the kitchen.\\n', b'15 Where is Daniel? \\tkitchen\\t14\\n', b'1 Daniel went back to the bedroom.\\n', b'2 Mary went to the garden.\\n', b'3 Where is Mary? \\tgarden\\t2\\n', b'4 Sandra went to the kitchen.\\n', b'5 Sandra went back to the bathroom.\\n', b'6 Where is Sandra? \\tbathroom\\t5\\n', b'7 John journeyed to the bedroom.\\n', b'8 John went back to the hallway.\\n', b'9 Where is Mary? \\tgarden\\t2\\n', b'10 Sandra went to the kitchen.\\n', b'11 Mary went to the bathroom.\\n', b'12 Where is Sandra? \\tkitchen\\t10\\n', b'13 Sandra went back to the office.\\n', b'14 Mary journeyed to the bedroom.\\n', b'15 Where is Mary? \\tbedroom\\t14\\n', b'1 Daniel went to the hallway.\\n', b'2 John travelled to the bathroom.\\n', b'3 Where is John? \\tbathroom\\t2\\n', b'4 Daniel moved to the bedroom.\\n', b'5 Daniel went to the bathroom.\\n', b'6 Where is John? \\tbathroom\\t2\\n', b'7 Sandra travelled to the garden.\\n', b'8 Sandra went to the hallway.\\n', b'9 Where is Daniel? \\tbathroom\\t5\\n', b'10 Daniel journeyed to the office.\\n', b'11 John moved to the garden.\\n', b'12 Where is Daniel? \\toffice\\t10\\n', b'13 Daniel went back to the hallway.\\n', b'14 John moved to the bedroom.\\n', b'15 Where is Sandra? \\thallway\\t8\\n', b'1 Mary went to the garden.\\n', b'2 Sandra journeyed to the garden.\\n', b'3 Where is Sandra? \\tgarden\\t2\\n', b'4 Mary journeyed to the bathroom.\\n', b'5 Daniel went to the office.\\n', b'6 Where is Sandra? \\tgarden\\t2\\n', b'7 John went back to the garden.\\n', b'8 John travelled to the office.\\n', b'9 Where is Daniel? \\toffice\\t5\\n', b'10 John moved to the bedroom.\\n', b'11 John travelled to the kitchen.\\n', b'12 Where is John? \\tkitchen\\t11\\n', b'13 Mary travelled to the kitchen.\\n', b'14 Daniel journeyed to the bathroom.\\n', b'15 Where is John? \\tkitchen\\t11\\n', b'1 Sandra went to the bedroom.\\n', b'2 John travelled to the office.\\n', b'3 Where is Sandra? \\tbedroom\\t1\\n', b'4 John travelled to the bedroom.\\n', b'5 Sandra went back to the kitchen.\\n', b'6 Where is John? \\tbedroom\\t4\\n', b'7 Sandra went back to the garden.\\n', b'8 John went back to the office.\\n', b'9 Where is Sandra? \\tgarden\\t7\\n', b'10 Daniel went to the hallway.\\n', b'11 Daniel went to the bathroom.\\n', b'12 Where is Sandra? \\tgarden\\t7\\n', b'13 Daniel travelled to the kitchen.\\n', b'14 Daniel travelled to the garden.\\n', b'15 Where is John? \\toffice\\t8\\n', b'1 Daniel journeyed to the bedroom.\\n', b'2 Sandra journeyed to the kitchen.\\n', b'3 Where is Daniel? \\tbedroom\\t1\\n', b'4 Daniel went to the bathroom.\\n', b'5 Daniel went to the hallway.\\n', b'6 Where is Daniel? \\thallway\\t5\\n', b'7 Daniel travelled to the bathroom.\\n', b'8 Sandra went to the garden.\\n', b'9 Where is Daniel? \\tbathroom\\t7\\n', b'10 Mary moved to the bathroom.\\n', b'11 Daniel travelled to the bedroom.\\n', b'12 Where is Daniel? \\tbedroom\\t11\\n', b'13 Mary travelled to the bedroom.\\n', b'14 Daniel went to the hallway.\\n', b'15 Where is Mary? \\tbedroom\\t13\\n', b'1 Daniel went to the hallway.\\n', b'2 Daniel went to the bedroom.\\n', b'3 Where is Daniel? \\tbedroom\\t2\\n', b'4 John journeyed to the office.\\n', b'5 Mary went back to the bedroom.\\n', b'6 Where is Daniel? \\tbedroom\\t2\\n', b'7 Mary travelled to the office.\\n', b'8 John travelled to the bedroom.\\n', b'9 Where is John? \\tbedroom\\t8\\n', b'10 Mary went to the hallway.\\n', b'11 Mary went back to the kitchen.\\n', b'12 Where is Mary? \\tkitchen\\t11\\n', b'13 Daniel moved to the hallway.\\n', b'14 Mary moved to the office.\\n', b'15 Where is Mary? \\toffice\\t14\\n', b'1 Mary went to the bathroom.\\n', b'2 Daniel travelled to the bathroom.\\n', b'3 Where is Mary? \\tbathroom\\t1\\n', b'4 Mary moved to the garden.\\n', b'5 Daniel journeyed to the hallway.\\n', b'6 Where is Mary? \\tgarden\\t4\\n', b'7 John journeyed to the hallway.\\n', b'8 Mary journeyed to the office.\\n', b'9 Where is Mary? \\toffice\\t8\\n', b'10 Mary went to the kitchen.\\n', b'11 John journeyed to the kitchen.\\n', b'12 Where is Mary? \\tkitchen\\t10\\n', b'13 Mary travelled to the hallway.\\n', b'14 Daniel went to the bedroom.\\n', b'15 Where is Mary? \\thallway\\t13\\n', b'1 Sandra went to the hallway.\\n', b'2 Sandra went to the garden.\\n', b'3 Where is Sandra? \\tgarden\\t2\\n', b'4 John journeyed to the kitchen.\\n', b'5 Mary travelled to the bedroom.\\n', b'6 Where is Mary? \\tbedroom\\t5\\n', b'7 John went back to the garden.\\n', b'8 Daniel travelled to the kitchen.\\n', b'9 Where is Mary? \\tbedroom\\t5\\n', b'10 Sandra travelled to the bathroom.\\n', b'11 John went to the kitchen.\\n', b'12 Where is Daniel? \\tkitchen\\t8\\n', b'13 Sandra travelled to the office.\\n', b'14 John journeyed to the hallway.\\n', b'15 Where is John? \\thallway\\t14\\n', b'1 Mary went to the bedroom.\\n', b'2 John moved to the bathroom.\\n', b'3 Where is Mary? \\tbedroom\\t1\\n', b'4 Sandra went back to the office.\\n', b'5 John travelled to the garden.\\n', b'6 Where is John? \\tgarden\\t5\\n', b'7 Sandra journeyed to the kitchen.\\n', b'8 John journeyed to the hallway.\\n', b'9 Where is John? \\thallway\\t8\\n', b'10 Mary went back to the garden.\\n', b'11 Daniel went to the hallway.\\n', b'12 Where is John? \\thallway\\t8\\n', b'13 Sandra went to the garden.\\n', b'14 John went to the garden.\\n', b'15 Where is Mary? \\tgarden\\t10\\n', b'1 John went back to the bedroom.\\n', b'2 John journeyed to the garden.\\n', b'3 Where is John? \\tgarden\\t2\\n', b'4 Daniel journeyed to the bathroom.\\n', b'5 Sandra went back to the kitchen.\\n', b'6 Where is John? \\tgarden\\t2\\n', b'7 Daniel travelled to the kitchen.\\n', b'8 Sandra went to the hallway.\\n', b'9 Where is Daniel? \\tkitchen\\t7\\n', b'10 Daniel went to the bedroom.\\n', b'11 Mary moved to the garden.\\n', b'12 Where is Sandra? \\thallway\\t8\\n', b'13 Sandra journeyed to the office.\\n', b'14 Mary moved to the kitchen.\\n', b'15 Where is Sandra? \\toffice\\t13\\n', b'1 Mary went back to the kitchen.\\n', b'2 John went to the bedroom.\\n', b'3 Where is John? \\tbedroom\\t2\\n', b'4 Daniel went back to the hallway.\\n', b'5 Mary moved to the office.\\n', b'6 Where is Daniel? \\thallway\\t4\\n', b'7 Sandra journeyed to the kitchen.\\n', b'8 Sandra went back to the bathroom.\\n', b'9 Where is Mary? \\toffice\\t5\\n', b'10 John travelled to the garden.\\n', b'11 John moved to the hallway.\\n', b'12 Where is Mary? \\toffice\\t5\\n', b'13 Mary travelled to the kitchen.\\n', b'14 Daniel travelled to the kitchen.\\n', b'15 Where is John? \\thallway\\t11\\n', b'1 John journeyed to the garden.\\n', b'2 John went back to the bedroom.\\n', b'3 Where is John? \\tbedroom\\t2\\n', b'4 Daniel went back to the office.\\n', b'5 Daniel went to the bedroom.\\n', b'6 Where is Daniel? \\tbedroom\\t5\\n', b'7 Sandra journeyed to the office.\\n', b'8 Daniel went back to the hallway.\\n', b'9 Where is Daniel? \\thallway\\t8\\n', b'10 Daniel went to the bedroom.\\n', b'11 John moved to the bathroom.\\n', b'12 Where is Sandra? \\toffice\\t7\\n', b'13 Sandra journeyed to the bathroom.\\n', b'14 Sandra journeyed to the bedroom.\\n', b'15 Where is Daniel? \\tbedroom\\t10\\n', b'1 John travelled to the garden.\\n', b'2 Mary journeyed to the office.\\n', b'3 Where is John? \\tgarden\\t1\\n', b'4 Sandra went to the garden.\\n', b'5 John went back to the office.\\n', b'6 Where is John? \\toffice\\t5\\n', b'7 John moved to the bedroom.\\n', b'8 John moved to the garden.\\n', b'9 Where is John? \\tgarden\\t8\\n', b'10 Mary went back to the hallway.\\n', b'11 Sandra travelled to the bathroom.\\n', b'12 Where is Mary? \\thallway\\t10\\n', b'13 John went back to the office.\\n', b'14 Daniel moved to the kitchen.\\n', b'15 Where is John? \\toffice\\t13\\n', b'1 Sandra moved to the kitchen.\\n', b'2 John travelled to the office.\\n', b'3 Where is John? \\toffice\\t2\\n', b'4 Sandra went back to the garden.\\n', b'5 John went to the garden.\\n', b'6 Where is Sandra? \\tgarden\\t4\\n', b'7 Daniel travelled to the garden.\\n', b'8 Sandra moved to the hallway.\\n', b'9 Where is Sandra? \\thallway\\t8\\n', b'10 Daniel went to the kitchen.\\n', b'11 Daniel journeyed to the office.\\n', b'12 Where is John? \\tgarden\\t5\\n', b'13 Sandra went back to the bedroom.\\n', b'14 Mary moved to the bathroom.\\n', b'15 Where is Daniel? \\toffice\\t11\\n', b'1 Daniel went back to the office.\\n', b'2 Daniel travelled to the bathroom.\\n', b'3 Where is Daniel? \\tbathroom\\t2\\n', b'4 Mary moved to the hallway.\\n', b'5 Mary moved to the office.\\n', b'6 Where is Daniel? \\tbathroom\\t2\\n', b'7 John journeyed to the kitchen.\\n', b'8 John journeyed to the garden.\\n', b'9 Where is John? \\tgarden\\t8\\n', b'10 John moved to the hallway.\\n', b'11 Sandra went to the garden.\\n', b'12 Where is Mary? \\toffice\\t5\\n', b'13 Daniel moved to the kitchen.\\n', b'14 John moved to the bathroom.\\n', b'15 Where is Sandra? \\tgarden\\t11\\n', b'1 Sandra went back to the bathroom.\\n', b'2 Sandra travelled to the garden.\\n', b'3 Where is Sandra? \\tgarden\\t2\\n', b'4 Mary journeyed to the bathroom.\\n', b'5 Sandra went to the kitchen.\\n', b'6 Where is Sandra? \\tkitchen\\t5\\n', b'7 Daniel journeyed to the office.\\n', b'8 John went to the garden.\\n', b'9 Where is Sandra? \\tkitchen\\t5\\n', b'10 John journeyed to the hallway.\\n', b'11 John travelled to the bathroom.\\n', b'12 Where is Daniel? \\toffice\\t7\\n', b'13 John went to the garden.\\n', b'14 Mary travelled to the office.\\n', b'15 Where is Mary? \\toffice\\t14\\n', b'1 Daniel moved to the bedroom.\\n', b'2 Mary travelled to the hallway.\\n', b'3 Where is Daniel? \\tbedroom\\t1\\n', b'4 Mary travelled to the bedroom.\\n', b'5 John travelled to the office.\\n', b'6 Where is Mary? \\tbedroom\\t4\\n', b'7 Daniel went to the hallway.\\n', b'8 Mary travelled to the bathroom.\\n', b'9 Where is John? \\toffice\\t5\\n', b'10 John moved to the bathroom.\\n', b'11 John travelled to the garden.\\n', b'12 Where is Daniel? \\thallway\\t7\\n', b'13 John went to the office.\\n', b'14 Mary travelled to the garden.\\n', b'15 Where is Mary? \\tgarden\\t14\\n', b'1 Daniel went back to the garden.\\n', b'2 Mary travelled to the kitchen.\\n', b'3 Where is Mary? \\tkitchen\\t2\\n', b'4 Sandra journeyed to the kitchen.\\n', b'5 Sandra went to the hallway.\\n', b'6 Where is Sandra? \\thallway\\t5\\n', b'7 John went to the bedroom.\\n', b'8 Mary went back to the garden.\\n', b'9 Where is Mary? \\tgarden\\t8\\n', b'10 John journeyed to the bathroom.\\n', b'11 Daniel travelled to the office.\\n', b'12 Where is Mary? \\tgarden\\t8\\n', b'13 Daniel journeyed to the bedroom.\\n', b'14 Mary went to the office.\\n', b'15 Where is Daniel? \\tbedroom\\t13\\n', b'1 Daniel went back to the bathroom.\\n', b'2 Mary went to the kitchen.\\n', b'3 Where is Daniel? \\tbathroom\\t1\\n', b'4 Mary went to the hallway.\\n', b'5 Sandra moved to the garden.\\n', b'6 Where is Mary? \\thallway\\t4\\n', b'7 Daniel went back to the hallway.\\n', b'8 John moved to the office.\\n', b'9 Where is Daniel? \\thallway\\t7\\n', b'10 Sandra journeyed to the kitchen.\\n', b'11 Mary went to the kitchen.\\n', b'12 Where is Mary? \\tkitchen\\t11\\n', b'13 Daniel journeyed to the bedroom.\\n', b'14 Mary went to the bedroom.\\n', b'15 Where is Daniel? \\tbedroom\\t13\\n', b'1 Mary moved to the bathroom.\\n', b'2 Daniel went to the garden.\\n', b'3 Where is Mary? \\tbathroom\\t1\\n', b'4 Daniel journeyed to the bathroom.\\n', b'5 Daniel journeyed to the office.\\n', b'6 Where is Daniel? \\toffice\\t5\\n', b'7 Sandra went back to the bathroom.\\n', b'8 Daniel journeyed to the kitchen.\\n', b'9 Where is Daniel? \\tkitchen\\t8\\n', b'10 Mary went back to the garden.\\n', b'11 Daniel moved to the office.\\n', b'12 Where is Daniel? \\toffice\\t11\\n', b'13 John moved to the bedroom.\\n', b'14 Mary travelled to the bathroom.\\n', b'15 Where is Mary? \\tbathroom\\t14\\n', b'1 Sandra went to the office.\\n', b'2 John went back to the bathroom.\\n', b'3 Where is Sandra? \\toffice\\t1\\n', b'4 Daniel travelled to the office.\\n', b'5 John went back to the bedroom.\\n', b'6 Where is Daniel? \\toffice\\t4\\n', b'7 Sandra moved to the kitchen.\\n', b'8 Sandra went to the garden.\\n', b'9 Where is John? \\tbedroom\\t5\\n', b'10 Daniel went back to the bedroom.\\n', b'11 Sandra journeyed to the office.\\n', b'12 Where is Sandra? \\toffice\\t11\\n', b'13 Sandra moved to the kitchen.\\n', b'14 John moved to the kitchen.\\n', b'15 Where is Sandra? \\tkitchen\\t13\\n', b'1 Daniel travelled to the bathroom.\\n', b'2 John travelled to the hallway.\\n', b'3 Where is John? \\thallway\\t2\\n', b'4 Daniel went back to the garden.\\n', b'5 Sandra went to the hallway.\\n', b'6 Where is John? \\thallway\\t2\\n', b'7 John went back to the bathroom.\\n', b'8 Sandra moved to the bedroom.\\n', b'9 Where is Daniel? \\tgarden\\t4\\n', b'10 Mary went to the hallway.\\n', b'11 Mary travelled to the bedroom.\\n', b'12 Where is Sandra? \\tbedroom\\t8\\n', b'13 John journeyed to the kitchen.\\n', b'14 Daniel went back to the bathroom.\\n', b'15 Where is Sandra? \\tbedroom\\t8\\n', b'1 John went back to the kitchen.\\n', b'2 John journeyed to the bedroom.\\n', b'3 Where is John? \\tbedroom\\t2\\n', b'4 Daniel journeyed to the kitchen.\\n', b'5 Daniel went back to the office.\\n', b'6 Where is Daniel? \\toffice\\t5\\n', b'7 Daniel travelled to the bathroom.\\n', b'8 Daniel journeyed to the office.\\n', b'9 Where is Daniel? \\toffice\\t8\\n', b'10 John moved to the kitchen.\\n', b'11 Sandra journeyed to the garden.\\n', b'12 Where is John? \\tkitchen\\t10\\n', b'13 Daniel went to the hallway.\\n', b'14 Sandra journeyed to the bathroom.\\n', b'15 Where is Daniel? \\thallway\\t13\\n', b'1 Mary journeyed to the kitchen.\\n', b'2 Sandra went back to the office.\\n', b'3 Where is Sandra? \\toffice\\t2\\n', b'4 John moved to the bedroom.\\n', b'5 Mary travelled to the bathroom.\\n', b'6 Where is Mary? \\tbathroom\\t5\\n', b'7 Sandra moved to the bathroom.\\n', b'8 Mary travelled to the kitchen.\\n', b'9 Where is Sandra? \\tbathroom\\t7\\n', b'10 Daniel journeyed to the office.\\n', b'11 Daniel journeyed to the garden.\\n', b'12 Where is Mary? \\tkitchen\\t8\\n', b'13 Daniel travelled to the bedroom.\\n', b'14 John went back to the kitchen.\\n', b'15 Where is Daniel? \\tbedroom\\t13\\n', b'1 John went to the hallway.\\n', b'2 Sandra travelled to the hallway.\\n', b'3 Where is John? \\thallway\\t1\\n', b'4 Sandra travelled to the kitchen.\\n', b'5 John went back to the kitchen.\\n', b'6 Where is John? \\tkitchen\\t5\\n', b'7 John went back to the garden.\\n', b'8 Mary moved to the kitchen.\\n', b'9 Where is Sandra? \\tkitchen\\t4\\n', b'10 John moved to the hallway.\\n', b'11 Sandra went to the office.\\n', b'12 Where is Mary? \\tkitchen\\t8\\n', b'13 John journeyed to the kitchen.\\n', b'14 Mary travelled to the garden.\\n', b'15 Where is Sandra? \\toffice\\t11\\n', b'1 John went back to the office.\\n', b'2 Daniel went to the bathroom.\\n', b'3 Where is John? \\toffice\\t1\\n', b'4 John journeyed to the kitchen.\\n', b'5 Mary went to the bathroom.\\n', b'6 Where is John? \\tkitchen\\t4\\n', b'7 Sandra moved to the garden.\\n', b'8 Daniel went back to the bedroom.\\n', b'9 Where is Sandra? \\tgarden\\t7\\n', b'10 Sandra moved to the kitchen.\\n', b'11 Daniel travelled to the garden.\\n', b'12 Where is Sandra? \\tkitchen\\t10\\n', b'13 John went back to the office.\\n', b'14 John went back to the bedroom.\\n', b'15 Where is John? \\tbedroom\\t14\\n', b'1 Daniel went to the bathroom.\\n', b'2 Mary travelled to the hallway.\\n', b'3 Where is Mary? \\thallway\\t2\\n', b'4 John went to the bedroom.\\n', b'5 John travelled to the bathroom.\\n', b'6 Where is Daniel? \\tbathroom\\t1\\n', b'7 Mary went to the office.\\n', b'8 Sandra journeyed to the kitchen.\\n', b'9 Where is John? \\tbathroom\\t5\\n', b'10 Mary moved to the bedroom.\\n', b'11 Daniel went back to the kitchen.\\n', b'12 Where is Mary? \\tbedroom\\t10\\n', b'13 Mary moved to the garden.\\n', b'14 Daniel travelled to the office.\\n', b'15 Where is Mary? \\tgarden\\t13\\n', b'1 Daniel went back to the garden.\\n', b'2 Mary travelled to the office.\\n', b'3 Where is Daniel? \\tgarden\\t1\\n', b'4 Daniel went back to the bedroom.\\n', b'5 Mary journeyed to the bathroom.\\n', b'6 Where is Mary? \\tbathroom\\t5\\n', b'7 Daniel journeyed to the bathroom.\\n', b'8 Sandra went to the kitchen.\\n', b'9 Where is Daniel? \\tbathroom\\t7\\n', b'10 John moved to the bathroom.\\n', b'11 Mary went to the hallway.\\n', b'12 Where is Mary? \\thallway\\t11\\n', b'13 Daniel moved to the office.\\n', b'14 John travelled to the kitchen.\\n', b'15 Where is Sandra? \\tkitchen\\t8\\n', b'1 Sandra moved to the bathroom.\\n', b'2 Daniel travelled to the bathroom.\\n', b'3 Where is Daniel? \\tbathroom\\t2\\n', b'4 Sandra journeyed to the kitchen.\\n', b'5 Daniel moved to the kitchen.\\n', b'6 Where is Daniel? \\tkitchen\\t5\\n', b'7 Mary travelled to the kitchen.\\n', b'8 Sandra went to the bathroom.\\n', b'9 Where is Sandra? \\tbathroom\\t8\\n', b'10 John went back to the bathroom.\\n', b'11 Daniel moved to the hallway.\\n', b'12 Where is Daniel? \\thallway\\t11\\n', b'13 Mary went to the garden.\\n', b'14 John went back to the garden.\\n', b'15 Where is Daniel? \\thallway\\t11\\n', b'1 Daniel journeyed to the bedroom.\\n', b'2 Sandra journeyed to the bathroom.\\n', b'3 Where is Daniel? \\tbedroom\\t1\\n', b'4 John went to the office.\\n', b'5 Sandra moved to the bedroom.\\n', b'6 Where is John? \\toffice\\t4\\n', b'7 Mary journeyed to the garden.\\n', b'8 Mary went to the bedroom.\\n', b'9 Where is John? \\toffice\\t4\\n', b'10 Daniel went to the bathroom.\\n', b'11 John travelled to the kitchen.\\n', b'12 Where is Mary? \\tbedroom\\t8\\n', b'13 Sandra went back to the bathroom.\\n', b'14 Sandra went back to the hallway.\\n', b'15 Where is Sandra? \\thallway\\t14\\n', b'1 Mary journeyed to the kitchen.\\n', b'2 Daniel moved to the bedroom.\\n', b'3 Where is Mary? \\tkitchen\\t1\\n', b'4 Mary went to the bathroom.\\n', b'5 John went to the bathroom.\\n', b'6 Where is Mary? \\tbathroom\\t4\\n', b'7 Sandra went back to the bedroom.\\n', b'8 John went back to the garden.\\n', b'9 Where is Sandra? \\tbedroom\\t7\\n', b'10 Sandra travelled to the office.\\n', b'11 Daniel went to the garden.\\n', b'12 Where is Sandra? \\toffice\\t10\\n', b'13 Mary moved to the garden.\\n', b'14 John moved to the kitchen.\\n', b'15 Where is Mary? \\tgarden\\t13\\n', b'1 Sandra travelled to the garden.\\n', b'2 John travelled to the kitchen.\\n', b'3 Where is Sandra? \\tgarden\\t1\\n', b'4 Mary went to the bathroom.\\n', b'5 Mary travelled to the bedroom.\\n', b'6 Where is Sandra? \\tgarden\\t1\\n', b'7 Mary journeyed to the office.\\n', b'8 Daniel went to the bathroom.\\n', b'9 Where is Mary? \\toffice\\t7\\n', b'10 Sandra journeyed to the bathroom.\\n', b'11 John went to the bathroom.\\n', b'12 Where is John? \\tbathroom\\t11\\n', b'13 John moved to the office.\\n', b'14 John moved to the bathroom.\\n', b'15 Where is John? \\tbathroom\\t14\\n', b'1 Mary moved to the hallway.\\n', b'2 Sandra went to the garden.\\n', b'3 Where is Sandra? \\tgarden\\t2\\n', b'4 Mary went back to the kitchen.\\n', b'5 Sandra journeyed to the kitchen.\\n', b'6 Where is Sandra? \\tkitchen\\t5\\n', b'7 Daniel went back to the garden.\\n', b'8 John went to the garden.\\n', b'9 Where is John? \\tgarden\\t8\\n', b'10 Mary travelled to the office.\\n', b'11 Sandra went to the bathroom.\\n', b'12 Where is Daniel? \\tgarden\\t7\\n', b'13 Mary moved to the garden.\\n', b'14 Daniel went back to the office.\\n', b'15 Where is Mary? \\tgarden\\t13\\n', b'1 Sandra moved to the kitchen.\\n', b'2 John travelled to the kitchen.\\n', b'3 Where is John? \\tkitchen\\t2\\n', b'4 Sandra moved to the hallway.\\n', b'5 Daniel journeyed to the hallway.\\n', b'6 Where is Sandra? \\thallway\\t4\\n', b'7 Sandra travelled to the office.\\n', b'8 John moved to the bedroom.\\n', b'9 Where is Sandra? \\toffice\\t7\\n', b'10 Sandra went back to the garden.\\n', b'11 Sandra travelled to the bathroom.\\n', b'12 Where is Sandra? \\tbathroom\\t11\\n', b'13 Sandra moved to the office.\\n', b'14 Daniel journeyed to the garden.\\n', b'15 Where is John? \\tbedroom\\t8\\n']\n"
     ]
    }
   ],
   "source": [
    "with tarfile.open('tasks_1-20_v1-2.tar.gz') as tar:\n",
    "    f = tar.extractfile('tasks_1-20_v1-2/en-10k/qa1_single-supporting-fact_test.txt')\n",
    "    print(f.readlines())"
   ]
  },
  {
   "cell_type": "code",
   "execution_count": 7,
   "metadata": {
    "collapsed": true
   },
   "outputs": [],
   "source": [
    "with tarfile.open('tasks_1-20_v1-2.tar.gz') as tar:\n",
    "    train_stories_txt, train_q_txt, train_a_txt  = parse_stories(\n",
    "        tar.extractfile('tasks_1-20_v1-2/en-10k/qa1_single-supporting-fact_train.txt'))\n",
    "    \n",
    "    test_stories_txt, test_q_txt, test_a_txt = parse_stories(\n",
    "        tar.extractfile('tasks_1-20_v1-2/en-10k/qa1_single-supporting-fact_test.txt'))"
   ]
  },
  {
   "cell_type": "code",
   "execution_count": 9,
   "metadata": {
    "collapsed": false
   },
   "outputs": [
    {
     "name": "stdout",
     "output_type": "stream",
     "text": [
      "STORY:  Daniel moved to the garden. Mary went back to the bathroom. Daniel travelled to the kitchen. Sandra went to the kitchen. Daniel journeyed to the garden. Mary journeyed to the kitchen.\n",
      "QUESTION:  Where is Mary? \n",
      "ANSWER:  kitchen\n"
     ]
    }
   ],
   "source": [
    "print('STORY: ',train_stories_txt[102])\n",
    "print('QUESTION: ',train_q_txt[102])\n",
    "print('ANSWER: ',train_a_txt[102])"
   ]
  },
  {
   "cell_type": "markdown",
   "metadata": {},
   "source": [
    "### Build Tokenizer"
   ]
  },
  {
   "cell_type": "code",
   "execution_count": 10,
   "metadata": {
    "collapsed": false
   },
   "outputs": [],
   "source": [
    "from tensorflow.python.keras.preprocessing.text import Tokenizer"
   ]
  },
  {
   "cell_type": "code",
   "execution_count": 11,
   "metadata": {
    "collapsed": true
   },
   "outputs": [],
   "source": [
    "t = Tokenizer()"
   ]
  },
  {
   "cell_type": "code",
   "execution_count": 12,
   "metadata": {
    "collapsed": true
   },
   "outputs": [],
   "source": [
    "#Fit on training data\n",
    "t.fit_on_texts(train_stories_txt)\n",
    "t.fit_on_texts(train_q_txt)\n",
    "t.fit_on_texts(train_a_txt)"
   ]
  },
  {
   "cell_type": "code",
   "execution_count": 13,
   "metadata": {
    "collapsed": true
   },
   "outputs": [],
   "source": [
    "#Fit on test data\n",
    "t.fit_on_texts(test_stories_txt)\n",
    "t.fit_on_texts(test_q_txt)\n",
    "t.fit_on_texts(test_a_txt)"
   ]
  },
  {
   "cell_type": "code",
   "execution_count": 14,
   "metadata": {
    "collapsed": true
   },
   "outputs": [],
   "source": [
    "vocab_size =  len(t.word_index) + 1 #Tokenizer starts with index 1"
   ]
  },
  {
   "cell_type": "code",
   "execution_count": 15,
   "metadata": {
    "collapsed": false
   },
   "outputs": [
    {
     "data": {
      "text/plain": [
       "20"
      ]
     },
     "execution_count": 15,
     "metadata": {},
     "output_type": "execute_result"
    }
   ],
   "source": [
    "vocab_size"
   ]
  },
  {
   "cell_type": "code",
   "execution_count": 16,
   "metadata": {
    "collapsed": false
   },
   "outputs": [
    {
     "data": {
      "text/plain": [
       "{'back': 10,\n",
       " 'bathroom': 11,\n",
       " 'bedroom': 17,\n",
       " 'daniel': 6,\n",
       " 'garden': 12,\n",
       " 'hallway': 13,\n",
       " 'is': 19,\n",
       " 'john': 5,\n",
       " 'journeyed': 9,\n",
       " 'kitchen': 16,\n",
       " 'mary': 7,\n",
       " 'moved': 14,\n",
       " 'office': 15,\n",
       " 'sandra': 4,\n",
       " 'the': 2,\n",
       " 'to': 1,\n",
       " 'travelled': 8,\n",
       " 'went': 3,\n",
       " 'where': 18}"
      ]
     },
     "execution_count": 16,
     "metadata": {},
     "output_type": "execute_result"
    }
   ],
   "source": [
    "t.word_index"
   ]
  },
  {
   "cell_type": "code",
   "execution_count": 17,
   "metadata": {
    "collapsed": true
   },
   "outputs": [],
   "source": [
    "train_stories_seq = t.texts_to_sequences(train_stories_txt)\n",
    "train_q_seq = t.texts_to_sequences(train_q_txt)\n",
    "train_a_seq = t.texts_to_sequences(train_a_txt)"
   ]
  },
  {
   "cell_type": "code",
   "execution_count": 18,
   "metadata": {
    "collapsed": true
   },
   "outputs": [],
   "source": [
    "test_stories_seq = t.texts_to_sequences(test_stories_txt)\n",
    "test_q_seq = t.texts_to_sequences(test_q_txt)\n",
    "test_a_seq = t.texts_to_sequences(test_a_txt)"
   ]
  },
  {
   "cell_type": "code",
   "execution_count": 19,
   "metadata": {
    "collapsed": true
   },
   "outputs": [],
   "source": [
    "story_maxlen = max([len(txt) for txt in train_stories_seq + test_stories_seq])"
   ]
  },
  {
   "cell_type": "code",
   "execution_count": 20,
   "metadata": {
    "collapsed": true
   },
   "outputs": [],
   "source": [
    "question_maxlen = max([len(txt) for txt in train_q_seq + test_q_seq])"
   ]
  },
  {
   "cell_type": "code",
   "execution_count": 21,
   "metadata": {
    "collapsed": true
   },
   "outputs": [],
   "source": [
    "answer_maxlen = max([len(txt) for txt in train_a_seq + test_a_seq])"
   ]
  },
  {
   "cell_type": "code",
   "execution_count": 22,
   "metadata": {
    "collapsed": false
   },
   "outputs": [
    {
     "data": {
      "text/plain": [
       "58"
      ]
     },
     "execution_count": 22,
     "metadata": {},
     "output_type": "execute_result"
    }
   ],
   "source": [
    "story_maxlen"
   ]
  },
  {
   "cell_type": "code",
   "execution_count": 23,
   "metadata": {
    "collapsed": false
   },
   "outputs": [
    {
     "data": {
      "text/plain": [
       "3"
      ]
     },
     "execution_count": 23,
     "metadata": {},
     "output_type": "execute_result"
    }
   ],
   "source": [
    "question_maxlen"
   ]
  },
  {
   "cell_type": "code",
   "execution_count": 24,
   "metadata": {
    "collapsed": false
   },
   "outputs": [
    {
     "data": {
      "text/plain": [
       "1"
      ]
     },
     "execution_count": 24,
     "metadata": {},
     "output_type": "execute_result"
    }
   ],
   "source": [
    "answer_maxlen"
   ]
  },
  {
   "cell_type": "markdown",
   "metadata": {},
   "source": [
    "### Pad the sequences"
   ]
  },
  {
   "cell_type": "code",
   "execution_count": 25,
   "metadata": {
    "collapsed": true
   },
   "outputs": [],
   "source": [
    "from tensorflow.python.keras.preprocessing.sequence import pad_sequences"
   ]
  },
  {
   "cell_type": "code",
   "execution_count": 26,
   "metadata": {
    "collapsed": true
   },
   "outputs": [],
   "source": [
    "train_stories_seq = pad_sequences(train_stories_seq,maxlen=story_maxlen)\n",
    "train_q_seq = pad_sequences(train_q_seq,maxlen=question_maxlen)\n",
    "train_a_seq = pad_sequences(train_a_seq,maxlen=answer_maxlen)"
   ]
  },
  {
   "cell_type": "code",
   "execution_count": 27,
   "metadata": {
    "collapsed": true
   },
   "outputs": [],
   "source": [
    "test_stories_seq = pad_sequences(test_stories_seq,maxlen=story_maxlen)\n",
    "test_q_seq = pad_sequences(test_q_seq,maxlen=question_maxlen)\n",
    "test_a_seq = pad_sequences(test_a_seq,maxlen=answer_maxlen)"
   ]
  },
  {
   "cell_type": "markdown",
   "metadata": {},
   "source": [
    "### int to word converter"
   ]
  },
  {
   "cell_type": "code",
   "execution_count": 28,
   "metadata": {
    "collapsed": true
   },
   "outputs": [],
   "source": [
    "int_to_word = dict((i,w) for w, i in t.word_index.items())"
   ]
  },
  {
   "cell_type": "code",
   "execution_count": 29,
   "metadata": {
    "collapsed": false
   },
   "outputs": [
    {
     "data": {
      "text/plain": [
       "'bathroom'"
      ]
     },
     "execution_count": 29,
     "metadata": {},
     "output_type": "execute_result"
    }
   ],
   "source": [
    "int_to_word[11]"
   ]
  },
  {
   "cell_type": "markdown",
   "metadata": {},
   "source": [
    "# Define the model layers"
   ]
  },
  {
   "cell_type": "code",
   "execution_count": 30,
   "metadata": {
    "collapsed": true
   },
   "outputs": [],
   "source": [
    "from tensorflow.python.keras.models import Sequential, Model"
   ]
  },
  {
   "cell_type": "code",
   "execution_count": 31,
   "metadata": {
    "collapsed": true
   },
   "outputs": [],
   "source": [
    "from tensorflow.python.keras.layers import Embedding, Dense, LSTM, Dropout\n",
    "from tensorflow.python.keras.layers import Activation, dot, Permute, add, concatenate, Input"
   ]
  },
  {
   "cell_type": "markdown",
   "metadata": {},
   "source": [
    "Define input for story and question"
   ]
  },
  {
   "cell_type": "code",
   "execution_count": 32,
   "metadata": {
    "collapsed": true
   },
   "outputs": [],
   "source": [
    "story = Input(shape=(story_maxlen,))"
   ]
  },
  {
   "cell_type": "code",
   "execution_count": 33,
   "metadata": {
    "collapsed": true
   },
   "outputs": [],
   "source": [
    "question = Input(shape=(question_maxlen,))"
   ]
  },
  {
   "cell_type": "markdown",
   "metadata": {},
   "source": [
    "Build 3 encoders to provide 3 Embeddings.\n",
    "Two different embeddings for the story are there to make the math work.\n",
    "1. Input Memory - m_encoder (based on story)\n",
    "2. Controller embedding (based on story)\n",
    "3. Question embedding (based on Question)"
   ]
  },
  {
   "cell_type": "markdown",
   "metadata": {},
   "source": [
    "Embedding A for Input memory"
   ]
  },
  {
   "cell_type": "code",
   "execution_count": 34,
   "metadata": {
    "collapsed": true
   },
   "outputs": [],
   "source": [
    "m_encoder = Sequential()\n",
    "m_encoder.add(Embedding(input_dim=vocab_size,output_dim=story_maxlen))\n",
    "m_encoder.add(Dropout(0.3))\n",
    "m_embedded_output = m_encoder(story)\n",
    "#output is batch_size x story_maxlen x story_maxlen (embedding size)"
   ]
  },
  {
   "cell_type": "markdown",
   "metadata": {},
   "source": [
    "Embedding C for use with Controller"
   ]
  },
  {
   "cell_type": "code",
   "execution_count": 35,
   "metadata": {
    "collapsed": true
   },
   "outputs": [],
   "source": [
    "c_encoder = Sequential()\n",
    "c_encoder.add(Embedding(input_dim=vocab_size, output_dim=question_maxlen))\n",
    "c_encoder.add(Dropout(0.3))\n",
    "c_embedded_output = c_encoder(story)\n",
    "#output is batch_size x story_maxlen x question_maxlen (embedding size)"
   ]
  },
  {
   "cell_type": "markdown",
   "metadata": {},
   "source": [
    "Embedding B for Question"
   ]
  },
  {
   "cell_type": "code",
   "execution_count": 36,
   "metadata": {
    "collapsed": true
   },
   "outputs": [],
   "source": [
    "question_encoder = Sequential()\n",
    "question_encoder.add(Embedding(input_dim=vocab_size, output_dim=story_maxlen, input_length=question_maxlen))\n",
    "question_encoder.add(Dropout(0.3))\n",
    "question_embeddding_output = question_encoder(question)\n",
    "#output is batch_size x question_maxlen x story_maxlen (embedding size)"
   ]
  },
  {
   "cell_type": "markdown",
   "metadata": {},
   "source": [
    "Attention\n",
    "1. Build Attention Weights "
   ]
  },
  {
   "cell_type": "code",
   "execution_count": 37,
   "metadata": {
    "collapsed": true
   },
   "outputs": [],
   "source": [
    "attention_weights = dot([m_embedded_output, question_embeddding_output], axes=(2, 2))\n",
    "attention_weights = Activation('softmax')(attention_weights)\n",
    "#output is batch_size x story_maxlen x question_maxlen"
   ]
  },
  {
   "cell_type": "markdown",
   "metadata": {},
   "source": [
    "2.Build Context vector\n",
    "- Calculate Weighted_sum (here we are using Add function)"
   ]
  },
  {
   "cell_type": "code",
   "execution_count": 38,
   "metadata": {
    "collapsed": true
   },
   "outputs": [],
   "source": [
    "weighted_sum = add([attention_weights, c_embedded_output])  \n",
    "#Output batch_size x story_maxlen x question_maxlen\n",
    "\n",
    "#Transpose weighted_sum to make the math work\n",
    "permuted_weighted_sum = Permute((2, 1))(weighted_sum)  \n",
    "#Output batch_size x question_maxlen x story_maxlen"
   ]
  },
  {
   "cell_type": "markdown",
   "metadata": {},
   "source": [
    "3.Attention Vector\n",
    "- Add both permuted_weighted_sum to Question embedding (for first hop)"
   ]
  },
  {
   "cell_type": "code",
   "execution_count": 39,
   "metadata": {
    "collapsed": true
   },
   "outputs": [],
   "source": [
    "output_1 = add([permuted_weighted_sum, question_embeddding_output])\n",
    "#Output batch_size x query_maxlen x story_maxlen"
   ]
  },
  {
   "cell_type": "markdown",
   "metadata": {},
   "source": [
    "Output using LSTM"
   ]
  },
  {
   "cell_type": "code",
   "execution_count": 40,
   "metadata": {
    "collapsed": true
   },
   "outputs": [],
   "source": [
    "answer = LSTM(32)(output_1)\n",
    "#Last hidden state - batch_size x 32"
   ]
  },
  {
   "cell_type": "code",
   "execution_count": 41,
   "metadata": {
    "collapsed": true
   },
   "outputs": [],
   "source": [
    "answer = Dropout(0.3)(answer)"
   ]
  },
  {
   "cell_type": "markdown",
   "metadata": {},
   "source": [
    "FC Layer to predict answer using SoftMax"
   ]
  },
  {
   "cell_type": "code",
   "execution_count": 42,
   "metadata": {
    "collapsed": true
   },
   "outputs": [],
   "source": [
    "answer = Dense(vocab_size)(answer)\n",
    "answer = Activation('softmax')(answer)\n",
    "#Output batch_size x vocab_size"
   ]
  },
  {
   "cell_type": "markdown",
   "metadata": {},
   "source": [
    "# Build the model"
   ]
  },
  {
   "cell_type": "code",
   "execution_count": 43,
   "metadata": {
    "collapsed": true
   },
   "outputs": [],
   "source": [
    "model = Model([story, question], answer)"
   ]
  },
  {
   "cell_type": "code",
   "execution_count": 44,
   "metadata": {
    "collapsed": true
   },
   "outputs": [],
   "source": [
    "model.compile(optimizer='adam', loss='sparse_categorical_crossentropy',metrics=['accuracy'])"
   ]
  },
  {
   "cell_type": "markdown",
   "metadata": {},
   "source": [
    "Train the model"
   ]
  },
  {
   "cell_type": "code",
   "execution_count": 45,
   "metadata": {
    "collapsed": false
   },
   "outputs": [
    {
     "name": "stdout",
     "output_type": "stream",
     "text": [
      "Train on 10000 samples, validate on 1000 samples\n",
      "Epoch 1/4\n",
      "10000/10000 [==============================]10000/10000 [==============================] - 6s 619us/step - loss: 1.9755 - acc: 0.1657 - val_loss: 1.8142 - val_acc: 0.1670\b\b\b\b\b\b\b\b\b\b\b\b\b\b\b\b\b\b\b\b\b\b\b\b\b\b\b\b\b\b\b\b\b\b\b\b\b\b\b\b\b\b\b\b\b\b\b\b\b\b\b\b\b\b\b\b\b\b\b\b\b\b\b\b\b\b\b\b\b\b\b\b\b\b\b\b\b\b\b\b\b\b\b\b\b\b\b\b\b\b\b\b\b\b\b\b\b\b\b\b\b\b\b\b\b\b\b\b\b\b\b\b\b\b\b\b\b\b\b\b\b\b\b\b\b\b\b\b\b\b\b\b\b\b\b\b\b\b\b\b\b\b\b\b\b\b\b\b\b\b\b\b\b\b\b\b\b\b\b\b\b\b\b\b\b\b\b\b\b\b\b\b\b\b\b\b\b\b\b\b\b\b\b\b\b\b\b\b\b\b\b\b\b\b\b\b\b\b\b\b\b\b\b\b\b\b\b\b\b\b\b\b\b\b\b\b\b\b\b\b\b\b\b\b\b\b\b\b\b\b\b\b\b\b\b\b\b\b\b\b\b\b\b\b\b\b\b\b\b\b\b\b\b\b\b\b\b\b\b\b\b\b\b\b\b\b\b\b\b\b\b\b\b\b\b\b\b\b\b\b\b\b\b\b\b\b\b\b\b\b\b\b\b\b\b\b\b\b\b\b\b\b\b\b\b\b\b\b\b\b\b\b\b\b\b\b\b\b\b\b\b\b\b\b\b\b\b\b\b\b\b\b\b\b\b\b\b\b\b\b\b\b\b\b\b\b\b\b\b\b\b\b\b\b\b\b\b\b\b\b\b\b\b\b\b\b\b\b\b\b\b\b\b\b\b\b\b\b\b\b\b\b\b\b\b\b\b\b\b\b\b\b\b\b\b\b\b\b\b\b\b\b\b\b\b\b\b\b\b\b\b\b\b\b\b\b\b\b\b\b\b\b\b\b\b\b\b\b\b\b\b\b\b\b\b\b\b\b\b\b\b\b\b\b\b\b\b\b\b\b\b\b\b\b\b\b\b\b\b\b\b\b\b\b\b\b\b\b\b\b\b\b\b\b\b\b\b\b\b\b\b\b\b\b\b\b\b\b\b\b\b\b\b\b\b\b\b\b\b\b\b\b\b\b\b\b\b\b\b\b\b\b\b\b\b\b\b\b\b\b\b\b\b\b\b\b\b\b\b\b\b\b\b\b\b\b\b\b\b\b\b\b\b\b\b\b\b\b\b\b\b\b\b\b\b\b\b\b\b\b\b\b\b\b\b\b\b\b\b\b\b\b\b\b\b\b\b\b\b\b\b\b\b\b\b\b\b\b\b\b\b\b\b\b\b\b\b\b\b\b\b\b\b\b\b\b\b\b\b\b\b\b\b\b\b\b\b\b\b\b\b\b\b\b\b\b\b\b\b\b\b\b\b\b\b\b\b\b\b\b\b\b\b\b\b\b\b\b\b\b\b\b\b\b\b\b\b\b\b\b\b\b\b\b\b\b\b\b\b\b\b\b\b\b\b\b\b\b\b\b\b\b\b\b\b\b\b\b\b\b\b\b\b\b\b\b\b\b\b\b\b\b\b\b\b\b\b\b\b\b\b\b\b\b\b\b\b\b\b\b\b\b\b\b\b\b\b\b\b\b\b\b\b\b\b\b\b\b\b\b\b\b\b\b\b\b\b\b\b\b\b\b\b\b\b\b\b\b\b\b\b\b\b\b\b\b\b\b\b\b\b\b\b\b\b\b\b\b\b\b\b\b\b\b\b\b\b\b\b\b\b\b\b\b\b\b\b\b\b\b\b\b\b\b\b\b\b\b\b\b\b\b\b\b\b\b\b\b\b\b\b\b\b\b\b\b\b\b\b\b\b\b\b\b\b\b\b\b\b\b\b\b\b\b\b\b\b\b\b\b\b\b\b\b\b\b\b\b\b\b\b\b\b\b\b\b\b\b\b\b\b\b\b\b\b\b\b\b\b\b\b\b\b\b\b\b\b\b\b\b\b\b\b\b\b\b\b\b\b\b\b\b\b\b\b\b\b\b\b\b\b\b\b\b\b\b\b\b\b\b\b\b\b\b\b\b\b\b\b\b\b\b\b\b\b\b\b\b\b\b\b\b\b\b\b\b\b\b\b\b\b\b\b\b\b\b\b\b\b\b\b\b\b\b\b\b\b\b\b\b\b\b\b\b\b\b\b\b\b\b\b\b\b\b\b\b\b\b\b\b\b\b\b\b\b\b\b\b\b\b\b\b\b\b\b\b\b\b\b\b\b\b\b\b\b\b\b\b\b\b\b\b\b\b\b\b\b\b\b\b\b\b\b\b\b\b\b\b\b\b\b\b\b\b\b\b\b\b\b\b\b\b\b\b\b\b\b\b\b\b\b\b\b\b\b\b\b\b\b\b\b\b\b\b\b\b\b\b\b\b\b\b\b\b\b\b\b\b\b\b\b\b\b\b\b\b\b\b\b\b\b\b\b\b\b\b\b\b\b\b\b\b\b\b\b\b\b\b\b\b\b\b\b\b\b\b\b\b\b\b\b\b\b\b\b\b\b\b\b\b\b\b\b\b\b\b\b\b\b\b\b\b\b\b\b\b\b\b\b\b\b\b\b\b\b\b\b\b\b\b\b\b\b\b\b\b\b\b\b\b\b\b\b\b\b\b\b\b\b\b\b\b\b\b\b\b\b\b\b\b\b\b\b\b\b\b\b\b\b\b\b\b\b\b\b\b\b\b\b\b\b\b\b\b\b\b\b\b\b\b\b\b\b\b\b\b\b\b\b\b\b\b\b\b\b\b\b\b\b\b\b\b\b\b\b\b\b\b\b\b\b\b\b\b\b\b\b\b\b\b\b\b\b\b\b\b\b\b\b\b\b\b\b\b\b\b\b\b\b\b\b\b\b\b\b\b\b\b\b\b\b\b\b\b\b\b\b\b\b\b\b\b\b\b\b\b\b\b\b\b\b\b\b\b\b\b\b\b\b\b\b\b\b\b\b\b\b\b\b\b\b\b\b\b\b\b\b\b\b\b\b\b\b\b\b\b\b\b\b\b\b\b\b\b\b\b\b\b\b\b\b\b\b\b\b\b\b\b\b\b\b\b\b\b\b\b\b\b\b\b\b\b\b\b\b\b\b\b\b\b\b\b\b\b\b\b\b\b\b\b\b\b\b\b\b\b\b\b\b\b\b\b\b\b\b\b\b\b\b\b\b\b\b\b\b\b\b\b\b\b\b\b\b\b\b\b\b\b\b\b\b\b\b\b\b\b\b\b\b\b\b\b\b\b\b\b\b\b\b\b\b\b\b\b\b\b\b\b\b\b\b\b\b\b\b\b\b\b\b\b\b\b\b\b\b\b\b\b\b\b\b\b\b\b\b\b\b\b\b\b\b\b\b\b\b\b\b\b\b\b\b\b\b\b\b\b\b\b\b\b\b\b\b\b\b\b\b\b\b\b\b\b\b\b\b\b\b\b\b\b\b\b\b\b\b\b\b\b\b\b\b\b\b\b\b\b\b\b\b\b\b\b\b\b\b\b\b\b\b\b\b\b\b\b\b\b\b\b\b\b\b\b\b\b\b\b\b\b\b\b\b\b\b\b\b\b\b\b\b\b\b\b\b\b\b\b\b\b\b\b\b\b\b\b\b\b\b\b\b\b\b\b\b\b\b\b\b\b\b\b\b\b\b\b\b\b\b\b\b\b\b\b\b\b\b\b\b\b\b\b\b\b\b\b\b\b\b\b\b\b\b\b\b\b\b\b\b\b\b\b\b\b\b\b\b\b\b\b\b\b\b\b\b\b\b\b\b\b\b\b\b\b\b\b\b\b\b\b\b\b\b\b\b\b\b\b\b\b\b\b\b\b\b\b\b\b\b\b\b\b\b\b\b\b\b\b\b\b\b\b\b\b\b\b\b\b\b\b\b\b\b\b\b\b\b\b\b\b\b\b\b\b\b\b\b\b\b\b\b\b\b\b\b\b\b\b\b\b\b\b\b\b\b\b\b\b\b\b\b\b\b\b\b\b\b\b\b\b\b\b\b\b\b\b\b\b\b\b\b\b\b\b\b\b\b\b\b\b\b\b\b\b\b\b\b\b\b\b\b\b\b\b\b\b\b\b\b\b\b\b\b\b\b\b\b\b\b\b\b\b\b\b\b\b\b\b\b\b\b\b\b\b\b\b\b\b\b\b\b\b\b\b\b\b\b\b\b\b\b\b\b\b\b\b\b\b\b\b\b\b\b\b\b\b\b\b\b\b\b\b\b\b\b\b\b\b\b\b\b\b\b\b\b\b\b\b\b\b\b\b\b\b\b\b\b\b\b\b\b\b\b\b\b\b\b\b\b\b\b\b\b\b\b\b\b\b\b\b\b\b\b\b\b\b\b\b\b\b\b\b\b\b\b\b\b\b\b\b\b\b\b\b\b\b\b\b\b\b\b\b\b\b\b\b\b\b\b\b\b\b\b\b\b\b\b\b\b\b\b\b\b\b\b\b\b\b\b\b\b\b\b\b\b\b\b\b\b\b\b\b\b\b\b\b\b\b\b\b\b\b\b\b\b\b\b\b\b\b\b\b\b\b\b\b\b\b\b\b\b\b\b\b\b\b\b\b\b\b\b\b\b\b\b\b\b\b\b\b\b\b\b\b\b\b\b\b\b\b\b\b\b\b\b\b\b\b\b\b\b\b\b\b\b\b\b\b\b\b\b\b\b\b\b\b\b\b\b\b\b\b\b\b\b\b\b\b\b\b\b\b\b\b\b\b\b\b\b\b\b\b\b\b\b\b\b\b\b\b\b\b\b\b\b\b\b\b\b\b\b\b\b\b\b\b\b\b\b\b\b\b\b\b\b\b\b\b\b\b\b\b\b\b\b\b\b\b\b\b\b\b\b\b\b\b\b\b\b\b\b\b\b\b\b\b\b\b\b\b\b\b\b\b\b\b\b\b\b\b\b\b\b\b\b\b\b\b\b\b\b\b\b\b\b\b\b\b\b\b\b\b\b\b\b\b\b\b\b\b\b\b\b\b\b\b\b\b\b\b\b\b\b\b\b\b\b\b\b\b\b\b\b\b\b\b\b\b\b\b\b\b\b\b\b\b\b\b\b\b\b\b\b\b\b\b\b\b\b\b\b\b\b\b\b\b\b\b\b\b\b\b\b\b\b\b\b\b\b\b\b\b\b\b\b\b\b\b\b\b\b\b\b\b\b\b\b\b\b\b\b\b\b\b\b\b\b\b\b\b\b\b\b\b\b\b\b\b\b\b\b\b\b\b\b\b\b\b\b\b\b\b\b\b\b\b\b\b\b\b\b\b\b\b\b\b\b\b\b\b\b\b\b\b\b\b\b\b\b\b\b\b\b\b\b\b\b\b\b\b\b\b\b\b\b\b\b\b\b\b\b\b\b\b\b\b\b\b\b\b\b\b\b\b\b\b\b\b\b\b\b\b\b\b\b\b\b\b\b\b\b\b\b\b\b\b\b\b\b\b\b\b\b\b\b\b\b\b\b\b\b\b\b\b\b\b\b\b\b\b\b\b\b\b\b\b\b\b\b\b\b\b\b\b\b\b\b\b\b\b\b\b\b\b\b\b\b\b\b\b\b\b\b\b\b\b\b\b\b\b\b\b\b\b\b\b\b\b\b\b\b\b\b\b\b\b\b\b\b\b\b\b\b\b\b\b\b\b\b\b\b\b\b\b\b\b\b\b\b\b\b\b\b\b\b\b\b\b\b\b\b\b\b\b\b\b\b\b\b\b\b\b\b\b\b\b\b\b\b\b\b\b\b\b\b\b\b\b\b\b\b\b\b\b\b\b\b\b\b\b\b\b\b\b\b\b\b\b\b\b\b\b\b\b\b\b\b\b\b\b\b\b\b\b\b\b\b\b\b\b\b\b\b\b\b\b\b\b\b\b\b\b\b\b\b\b\b\b\b\b\b\b\b\b\b\b\b\b\b\b\b\b\b\b\b\b\b\b\b\b\b\b\b\b\b\b\b\b\b\b\b\b\b\b\b\b\b\b\b\b\b\b\b\b\b\b\b\b\b\b\b\b\b\b\b\b\b\b\b\b\b\b\b\b\b\b\b\b\b\b\b\b\b\b\b\b\b\b\b\b\b\b\b\b\b\b\b\b\b\b\b\b\b\b\b\b\b\b\b\b\b\b\b\b\b\b\b\b\b\b\b\b\b\b\b\b\b\b\b\b\b\b\b\b\b\b\b\b\b\b\b\b\b\b\b\b\b\b\b\b\b\b\b\b\b\b\b\b\b\b\b\b\b\b\b\b\b\b\b\b\b\b\b\b\b\b\b\b\b\b\b\b\b\b\b\b\b\b\b\b\b\b\b\b\b\b\b\b\b\b\b\b\b\b\b\b\b\b\b\b\b\b\b\b\b\b\b\b\b\b\b\b\b\b\b\b\b\b\b\b\b\b\b\b\b\b\b\b\b\b\b\b\b\b\b\b\b\b\b\b\b\b\b\b\b\b\b\b\b\b\b\b\b\b\b\b\b\b\b\b\b\b\b\b\b\b\b\b\b\b\b\b\b\b\b\b\b\b\b\b\b\b\b\b\b\b\b\b\b\b\b\b\b\b\b\b\b\b\b\b\b\b\b\b\b\b\b\b\b\b\b\b\b\b\b\b\b\b\b\b\b\b\b\b\b\b\b\b\b\b\b\b\b\b\b\b\b\b\b\b\b\b\b\b\b\b\b\b\b\b\b\b\b\b\b\b\b\b\b\b\b\b\b\b\b\b\b\b\b\b\b\b\b\b\b\b\b\b\b\b\b\b\b\b\b\b\b\b\b\b\b\b\b\b\b\b\b\b\b\b\b\b\b\b\b\b\b\b\b\b\b\b\b\b\b\b\b\b\b\b\b\b\b\b\b\b\b\b\b\b\b\b\b\b\b\b\b\b\b\b\b\b\b\b\b\b\b\b\b\b\b\b\b\b\b\b\b\b\b\b\b\b\b\b\b\b\b\b\b\b\b\b\b\b\b\b\b\b\b\b\b\b\b\b\b\b\b\b\b\b\b\b\b\b\b\b\b\b\b\b\b\b\b\b\b\b\b\b\b\b\b\b\b\b\b\b\b\b\b\b\b\b\b\b\b\b\b\b\b\b\b\b\b\b\b\b\b\b\b\b\b\b\b\b\b\b\b\b\b\b\b\b\b\b\b\b\b\b\b\b\b\b\b\b\b\b\b\b\b\b\b\b\b\b\b\b\b\b\b\b\b\b\b\b\b\b\b\b\b\b\b\b\b\b\b\b\b\b\b\b\b\b\b\b\b\b\b\b\b\b\b\b\b\b\b\b\b\b\b\b\b\b\b\b\b\b\b\b\b\b\b\b\b\b\b\b\b\b\b\b\b\b\b\b\b\b\b\b\b\b\b\b\b\b\b\b\b\b\b\b\b\b\b\b\b\b\b\b\b\b\b\b\b\b\b\b\b\b\b\b\b\b\b\b\b\b\b\b\b\b\b\b\b\b\b\b\b\b\b\b\b\b\b\b\b\b\b\b\b\b\b\b\b\b\b\b\b\b\b\b\b\b\b\b\b\b\b\b\b\b\b\b\b\b\b\b\b\b\b\b\b\b\b\b\b\b\b\b\b\b\b\b\b\b\b\b\b\b\b\b\b\b\b\b\b\b\b\b\b\b\b\b\b\b\b\b\b\b\b\b\b\b\b\b\b\b\b\b\b\b\b\b\b\b\b\b\b\b\b\b\b\b\b\b\b\b\b\b\b\b\b\b\b\b\b\b\b\b\b\b\b\b\b\b\b\b\b\b\b\b\b\b\b\b\b\b\b\b\b\b\b\b\b\b\b\b\b\b\b\b\b\b\b\b\b\b\b\b\b\b\b\b\b\b\b\b\b\b\b\b\b\b\b\b\b\b\b\b\b\b\b\b\b\b\b\b\b\b\b\b\b\b\b\b\b\b\b\b\b\b\b\b\b\b\b\b\b\b\b\b\b\b\b\b\b\b\b\b\b\b\b\b\b\b\b\b\b\b\b\b\b\b\b\b\b\b\b\b\b\b\b\b\b\b\b\b\b\b\b\b\b\b\b\b\b\b\b\b\b\b\b\b\b\b\b\b\b\b\b\b\b\b\b\b\b\b\b\b\b\b\b\b\b\b\b\b\b\b\b\b\b\b\b\b\b\b\b\b\b\b\b\b\b\b\b\b\b\b\b\b\b\b\b\b\b\b\b\b\b\b\b\b\b\b\b\b\b\b\b\b\b\b\b\b\b\b\b\b\b\b\b\b\b\b\b\b\b\b\b\b\b\b\b\b\b\b\b\b\b\b\b\b\b\b\b\b\b\b\b\b\b\b\b\b\b\b\b\b\b\b\b\b\b\b\b\b\b\b\b\b\b\b\b\b\b\b\b\b\b\b\b\b\b\b\b\b\b\b\b\b\b\b\b\b\b\b\b\b\b\b\b\b\b\b\b\b\b\b\b\b\b\b\b\b\b\b\b\b\b\b\b\b\b\b\b\b\b\b\b\b\b\b\n",
      "\n",
      "Epoch 2/4\n",
      "10000/10000 [==============================]10000/10000 [==============================] - 3s 283us/step - loss: 1.8453 - acc: 0.1666 - val_loss: 1.7983 - val_acc: 0.1890\b\b\b\b\b\b\b\b\b\b\b\b\b\b\b\b\b\b\b\b\b\b\b\b\b\b\b\b\b\b\b\b\b\b\b\b\b\b\b\b\b\b\b\b\b\b\b\b\b\b\b\b\b\b\b\b\b\b\b\b\b\b\b\b\b\b\b\b\b\b\b\b\b\b\b\b\b\b\b\b\b\b\b\b\b\b\b\b\b\b\b\b\b\b\b\b\b\b\b\b\b\b\b\b\b\b\b\b\b\b\b\b\b\b\b\b\b\b\b\b\b\b\b\b\b\b\b\b\b\b\b\b\b\b\b\b\b\b\b\b\b\b\b\b\b\b\b\b\b\b\b\b\b\b\b\b\b\b\b\b\b\b\b\b\b\b\b\b\b\b\b\b\b\b\b\b\b\b\b\b\b\b\b\b\b\b\b\b\b\b\b\b\b\b\b\b\b\b\b\b\b\b\b\b\b\b\b\b\b\b\b\b\b\b\b\b\b\b\b\b\b\b\b\b\b\b\b\b\b\b\b\b\b\b\b\b\b\b\b\b\b\b\b\b\b\b\b\b\b\b\b\b\b\b\b\b\b\b\b\b\b\b\b\b\b\b\b\b\b\b\b\b\b\b\b\b\b\b\b\b\b\b\b\b\b\b\b\b\b\b\b\b\b\b\b\b\b\b\b\b\b\b\b\b\b\b\b\b\b\b\b\b\b\b\b\b\b\b\b\b\b\b\b\b\b\b\b\b\b\b\b\b\b\b\b\b\b\b\b\b\b\b\b\b\b\b\b\b\b\b\b\b\b\b\b\b\b\b\b\b\b\b\b\b\b\b\b\b\b\b\b\b\b\b\b\b\b\b\b\b\b\b\b\b\b\b\b\b\b\b\b\b\b\b\b\b\b\b\b\b\b\b\b\b\b\b\b\b\b\b\b\b\b\b\b\b\b\b\b\b\b\b\b\b\b\b\b\b\b\b\b\b\b\b\b\b\b\b\b\b\b\b\b\b\b\b\b\b\b\b\b\b\b\b\b\b\b\b\b\b\b\b\b\b\b\b\b\b\b\b\b\b\b\b\b\b\b\b\b\b\b\b\b\b\b\b\b\b\b\b\b\b\b\b\b\b\b\b\b\b\b\b\b\b\b\b\b\b\b\b\b\b\b\b\b\b\b\b\b\b\b\b\b\b\b\b\b\b\b\b\b\b\b\b\b\b\b\b\b\b\b\b\b\b\b\b\b\b\b\b\b\b\b\b\b\b\b\b\b\b\b\b\b\b\b\b\b\b\b\b\b\b\b\b\b\b\b\b\b\b\b\b\b\b\b\b\b\b\b\b\b\b\b\b\b\b\b\b\b\b\b\b\b\b\b\b\b\b\b\b\b\b\b\b\b\b\b\b\b\b\b\b\b\b\b\b\b\b\b\b\b\b\b\b\b\b\b\b\b\b\b\b\b\b\b\b\b\b\b\b\b\b\b\b\b\b\b\b\b\b\b\b\b\b\b\b\b\b\b\b\b\b\b\b\b\b\b\b\b\b\b\b\b\b\b\b\b\b\b\b\b\b\b\b\b\b\b\b\b\b\b\b\b\b\b\b\b\b\b\b\b\b\b\b\b\b\b\b\b\b\b\b\b\b\b\b\b\b\b\b\b\b\b\b\b\b\b\b\b\b\b\b\b\b\b\b\b\b\b\b\b\b\b\b\b\b\b\b\b\b\b\b\b\b\b\b\b\b\b\b\b\b\b\b\b\b\b\b\b\b\b\b\b\b\b\b\b\b\b\b\b\b\b\b\b\b\b\b\b\b\b\b\b\b\b\b\b\b\b\b\b\b\b\b\b\b\b\b\b\b\b\b\b\b\b\b\b\b\b\b\b\b\b\b\b\b\b\b\b\b\b\b\b\b\b\b\b\b\b\b\b\b\b\b\b\b\b\b\b\b\b\b\b\b\b\b\b\b\b\b\b\b\b\b\b\b\b\b\b\b\b\b\b\b\b\b\b\b\b\b\b\b\b\b\b\b\b\b\b\b\b\b\b\b\b\b\b\b\b\b\b\b\b\b\b\b\b\b\b\b\b\b\b\b\b\b\b\b\b\b\b\b\b\b\b\b\b\b\b\b\b\b\b\b\b\b\b\b\b\b\b\b\b\b\b\b\b\b\b\b\b\b\b\b\b\b\b\b\b\b\b\b\b\b\b\b\b\b\b\b\b\b\b\b\b\b\b\b\b\b\b\b\b\b\b\b\b\b\b\b\b\b\b\b\b\b\b\b\b\b\b\b\b\b\b\b\b\b\b\b\b\b\b\b\b\b\b\b\b\b\b\b\b\b\b\b\b\b\b\b\b\b\b\b\b\b\b\b\b\b\b\b\b\b\b\b\b\b\b\b\b\b\b\b\b\b\b\b\b\b\b\b\b\b\b\b\b\b\b\b\b\b\b\b\b\b\b\b\b\b\b\b\b\b\b\b\b\b\b\b\b\b\b\b\b\b\b\b\b\b\b\b\b\b\b\b\b\b\b\b\b\b\b\b\b\b\b\b\b\b\b\b\b\b\b\b\b\b\b\b\b\b\b\b\b\b\b\b\b\b\b\b\b\b\b\b\b\b\b\b\b\b\b\b\b\b\b\b\b\b\b\b\b\b\b\b\b\b\b\b\b\b\b\b\b\b\b\b\b\b\b\b\b\b\b\b\b\b\b\b\b\b\b\b\b\b\b\b\b\b\b\b\b\b\b\b\b\b\b\b\b\b\b\b\b\b\b\b\b\b\b\b\b\b\b\b\b\b\b\b\b\b\b\b\b\b\b\b\b\b\b\b\b\b\b\b\b\b\b\b\b\b\b\b\b\b\b\b\b\b\b\b\b\b\b\b\b\b\b\b\b\b\b\b\b\b\b\b\b\b\b\b\b\b\b\b\b\b\b\b\b\b\b\b\b\b\b\b\b\b\b\b\b\b\b\b\b\b\b\b\b\b\b\b\b\b\b\b\b\b\b\b\b\b\b\b\b\b\b\b\b\b\b\b\b\b\b\b\b\b\b\b\b\b\b\b\b\b\b\b\b\b\b\b\b\b\b\b\b\b\b\b\b\b\b\b\b\b\b\b\b\b\b\b\b\b\b\b\b\b\b\b\b\b\b\b\b\b\b\b\b\b\b\b\b\b\b\b\b\b\b\b\b\b\b\b\b\b\b\b\b\b\b\b\b\b\b\b\b\b\b\b\b\b\b\b\b\b\b\b\b\b\b\b\b\b\b\b\b\b\b\b\b\b\b\b\b\b\b\b\b\b\b\b\b\b\b\b\b\b\b\b\b\b\b\b\b\b\b\b\b\b\b\b\b\b\b\b\b\b\b\b\b\b\b\b\b\b\b\b\b\b\b\b\b\b\b\b\b\b\b\b\b\b\b\b\b\b\b\b\b\b\b\b\b\b\b\b\b\b\b\b\b\b\b\b\b\b\b\b\b\b\b\b\b\b\b\b\b\b\b\b\b\b\b\b\b\b\b\b\b\b\b\b\b\b\b\b\b\b\b\b\b\b\b\b\b\b\b\b\b\b\b\b\b\b\b\b\b\b\b\b\b\b\b\b\b\b\b\b\b\b\b\b\b\b\b\b\b\b\b\b\b\b\b\b\b\b\b\b\b\b\b\b\b\b\b\b\b\b\b\b\b\b\b\b\b\b\b\b\b\b\b\b\b\b\b\b\b\b\b\b\b\b\b\b\b\b\b\b\b\b\b\b\b\b\b\b\b\b\b\b\b\b\b\b\b\b\b\b\b\b\b\b\b\b\b\b\b\b\b\b\b\b\b\b\b\b\b\b\b\b\b\b\b\b\b\b\b\b\b\b\b\b\b\b\b\b\b\b\b\b\b\b\b\b\b\b\b\b\b\b\b\b\b\b\b\b\b\b\b\b\b\b\b\b\b\b\b\b\b\b\b\b\b\b\b\b\b\b\b\b\b\b\b\b\b\b\b\b\b\b\b\b\b\b\b\b\b\b\b\b\b\b\b\b\b\b\b\b\b\b\b\b\b\b\b\b\b\b\b\b\b\b\b\b\b\b\b\b\b\b\b\b\b\b\b\b\b\b\b\b\b\b\b\b\b\b\b\b\b\b\b\b\b\b\b\b\b\b\b\b\b\b\b\b\b\b\b\b\b\b\b\b\b\b\b\b\b\b\b\b\b\b\b\b\b\b\b\b\b\b\b\b\b\b\b\b\b\b\b\b\b\b\b\b\b\b\b\b\b\b\b\b\b\b\b\b\b\b\b\b\b\b\b\b\b\b\b\b\b\b\b\b\b\b\b\b\b\b\b\b\b\b\b\b\b\b\b\b\b\b\b\b\b\b\b\b\b\b\b\b\b\b\b\b\b\b\b\b\b\b\b\b\b\b\b\b\b\b\b\b\b\b\b\b\b\b\b\b\b\b\b\b\b\b\b\b\b\b\b\b\b\b\b\b\b\b\b\b\b\b\b\b\b\b\b\b\b\b\b\b\b\b\b\b\b\b\b\b\b\b\b\b\b\b\b\b\b\b\b\b\b\b\b\b\b\b\b\b\b\b\b\b\b\b\b\b\b\b\b\b\b\b\b\b\b\b\b\b\b\b\b\b\b\b\b\b\b\b\b\b\b\b\b\b\b\b\b\b\b\b\b\b\b\b\b\b\b\b\b\b\b\b\b\b\b\b\b\b\b\b\b\b\b\b\b\b\b\b\b\b\b\b\b\b\b\b\b\b\b\b\b\b\b\b\b\b\b\b\b\b\b\b\b\b\b\b\b\b\b\b\b\b\b\b\b\b\b\b\b\b\b\b\b\b\b\b\b\b\b\b\b\b\b\b\b\b\b\b\b\b\b\b\b\b\b\b\b\b\b\b\b\b\b\b\b\b\b\b\b\b\b\b\b\b\b\b\b\b\b\b\b\b\b\b\b\b\b\b\b\b\b\b\b\b\b\b\b\b\b\b\b\b\b\b\b\b\b\b\b\b\b\b\b\b\b\b\b\b\b\b\b\b\b\b\b\b\b\b\b\b\b\b\b\b\b\b\b\b\b\b\b\b\b\b\b\b\b\b\b\b\b\b\b\b\b\b\b\b\b\b\b\b\b\b\b\b\b\b\b\b\b\b\b\b\b\b\b\b\b\b\b\b\b\b\b\b\b\b\b\b\b\b\b\b\b\b\b\b\b\b\b\b\b\b\b\b\b\b\b\b\b\b\b\b\b\b\b\b\b\b\b\b\b\b\b\b\b\b\b\b\b\b\b\b\b\b\b\b\b\b\b\b\b\b\b\b\b\b\b\b\b\b\b\b\b\b\b\b\b\b\b\b\b\b\b\b\b\b\b\b\b\b\b\b\b\b\b\b\b\b\b\b\b\b\b\b\b\b\b\b\b\b\b\b\b\b\b\b\b\b\b\b\b\b\b\b\b\b\b\b\b\b\b\b\b\b\b\b\b\b\b\b\b\b\b\b\b\b\b\b\b\b\b\b\b\b\b\b\b\b\b\b\b\b\b\b\b\b\b\b\b\b\b\b\b\b\b\b\b\b\b\b\b\b\b\b\b\b\b\b\b\b\b\b\b\b\b\b\b\b\b\b\b\b\b\b\b\b\b\b\b\b\b\b\b\b\b\b\b\b\b\b\b\b\b\b\b\b\b\b\b\b\b\b\b\b\b\b\b\b\b\b\b\b\b\b\b\b\b\b\b\b\b\b\b\b\b\b\b\b\b\b\b\b\b\b\b\b\b\b\b\b\b\b\b\b\b\b\b\b\b\b\b\b\b\b\b\b\b\b\b\b\b\b\b\b\b\b\b\b\b\b\b\b\b\b\b\b\b\b\b\b\b\b\b\b\b\b\b\b\b\b\b\b\b\b\b\b\b\b\b\b\b\b\b\b\b\b\b\b\b\b\b\b\b\b\b\b\b\b\b\b\b\b\b\b\b\b\b\b\b\b\b\b\b\b\b\b\b\b\b\b\b\b\b\b\b\b\b\b\b\b\b\b\b\b\b\b\b\b\b\b\b\b\b\b\b\b\b\b\b\b\b\b\b\b\b\b\b\b\b\b\b\b\b\b\b\b\b\b\b\b\b\b\b\b\b\b\b\b\b\b\b\b\b\b\b\b\b\b\b\b\b\b\b\b\b\b\b\b\b\b\b\b\b\b\b\b\b\b\b\b\b\b\b\b\b\b\b\b\b\b\b\b\b\b\b\b\b\b\b\b\b\b\b\b\b\b\b\b\b\b\b\b\b\b\b\b\b\b\b\b\b\b\b\b\b\b\b\b\b\b\b\b\b\b\b\b\b\b\b\b\b\b\b\b\b\b\b\b\b\b\b\b\b\b\b\b\b\b\b\b\b\b\b\b\b\b\b\b\b\b\b\b\b\b\b\b\b\b\b\b\b\b\b\b\b\b\b\b\b\b\b\b\b\b\b\b\b\b\b\b\b\b\b\b\b\b\b\b\b\b\b\b\b\b\b\b\b\b\b\b\b\b\b\b\b\b\b\b\b\b\b\b\b\b\b\b\b\b\b\b\b\b\b\b\b\b\b\b\b\b\b\b\b\b\b\b\b\b\b\b\b\b\b\b\b\b\b\b\b\b\b\b\b\b\b\b\b\b\b\b\b\b\b\b\b\b\b\b\b\b\b\b\b\b\b\b\b\b\b\b\b\b\b\b\b\b\b\b\b\b\b\b\b\b\b\b\b\b\b\b\b\b\b\b\b\b\b\b\b\b\b\b\b\b\b\b\b\b\b\b\b\b\b\b\b\b\b\b\b\b\b\b\b\b\b\b\b\b\b\b\b\b\b\b\b\b\b\b\b\b\b\b\b\b\b\b\b\b\b\b\b\b\b\b\b\b\b\b\b\b\b\b\b\b\b\b\b\b\b\b\b\b\b\b\b\b\b\b\b\b\b\b\b\b\b\b\b\b\b\b\b\b\b\b\b\b\b\b\b\b\b\b\b\b\b\b\b\b\b\b\b\b\b\b\b\b\b\b\b\b\b\b\b\b\b\b\b\b\b\b\b\b\b\b\b\b\b\b\b\b\b\b\b\b\b\b\b\b\b\b\b\b\b\b\b\b\b\b\b\b\b\b\b\b\b\b\b\b\b\b\b\b\b\b\b\b\b\b\b\b\b\b\b\b\b\b\b\b\b\b\b\b\b\b\b\b\b\b\b\b\b\b\b\b\b\b\b\b\b\b\b\b\b\b\b\b\b\b\b\b\b\b\b\b\b\b\b\b\b\b\b\b\b\b\b\b\b\b\b\b\b\b\b\b\b\b\b\b\b\b\b\b\b\b\b\b\b\b\b\b\b\b\b\b\b\b\b\b\b\b\b\b\b\b\b\b\b\b\b\b\b\b\b\b\b\b\b\b\b\b\b\b\b\b\b\b\b\b\b\b\b\b\b\b\b\b\b\b\b\b\b\b\b\b\b\b\b\b\b\b\b\b\b\b\b\b\b\b\b\b\b\b\b\b\b\b\b\b\b\b\b\b\b\b\b\b\b\b\b\b\b\b\b\b\b\b\b\b\b\b\b\b\b\b\b\b\b\b\b\b\b\b\b\b\b\b\b\b\b\b\b\b\b\b\b\b\b\b\b\b\b\b\b\b\b\b\b\b\b\b\b\b\b\b\b\b\b\b\b\b\b\b\b\b\b\b\b\b\b\b\b\b\b\b\b\b\b\b\b\b\b\b\b\b\b\b\b\b\b\b\b\b\b\b\b\b\b\b\b\b\b\b\b\b\b\b\b\b\b\b\b\b\b\b\b\b\b\b\b\b\b\b\b\b\b\b\b\b\b\b\b\b\b\b\b\b\b\b\b\b\b\b\b\b\b\b\b\b\b\b\b\b\b\b\b\b\b\b\b\b\b\b\b\b\b\b\b\b\b\b\b\b\b\b\b\b\b\b\b\b\b\b\b\b\b\b\b\b\b\b\b\b\b\b\b\b\b\b\b\b\b\b\b\b\b\b\b\b\b\b\b\b\b\b\b\b\b\b\b\b\b\b\b\b\b\b\b\b\b\b\b\b\b\b\b\b\b\b\b\b\b\b\b\b\b\b\b\b\b\b\b\b\b\b\b\b\b\b\b\b\b\b\b\b\b\b\b\b\b\b\b\b\b\b\b\b\b\b\b\b\b\b\b\b\b\b\b\b\b\b\b\b\b\b\b\b\b\b\b\b\b\b\b\b\b\b\b\b\b\b\b\b\b\b\b\b\b\b\b\b\b\b\b\b\b\b\b\b\b\b\b\b\b\b\b\b\b\b\b\b\b\b\b\b\b\b\b\b\b\b\b\b\b\b\b\b\b\b\b\b\b\b\b\b\b\b\b\b\b\b\b\b\b\b\b\b\b\b\b\b\b\b\b\b\b\b\b\b\b\b\b\b\b\b\b\b\b\b\b\b\b\b\b\b\b\b\b\b\b\b\b\b\b\b\b\b\b\b\b\b\b\b\b\b\b\b\b\b\b\b\b\b\b\b\b\b\b\b\b\b\b\b\b\b\b\b\b\b\b\b\b\b\b\b\b\b\b\b\b\b\b\b\b\b\b\b\b\b\b\b\b\b\b\b\b\b\b\b\b\b\b\b\b\b\b\b\b\b\b\b\b\b\b\b\b\b\b\b\b\b\b\b\b\b\b\b\b\b\b\b\b\b\b\b\b\b\b\b\b\b\b\b\b\b\b\b\b\b\b\b\b\b\b\b\b\b\b\b\b\b\b\b\b\b\b\b\b\b\b\b\b\b\b\b\b\b\b\b\b\b\b\b\b\b\b\b\b\b\b\b\b\b\b\b\b\b\b\b\b\b\b\b\b\b\b\b\b\b\b\b\b\b\b\b\b\b\b\b\b\b\b\b\b\b\b\b\b\b\b\b\b\b\b\b\b\b\b\b\b\b\b\b\b\b\b\b\b\b\b\b\b\b\b\b\b\b\b\b\b\b\b\b\b\b\b\b\b\b\b\b\b\b\b\b\b\b\b\b\b\b\b\b\b\b\b\b\b\b\b\b\b\b\b\b\b\b\b\b\b\b\b\b\b\b\b\b\b\b\b\b\b\b\b\b\b\b\b\b\b\b\b\b\b\b\b\b\b\b\b\b\b\b\b\b\b\b\b\b\b\b\b\b\b\b\b\b\b\b\b\b\b\b\b\b\b\b\b\b\b\b\b\b\b\b\b\b\b\b\b\b\b\b\b\b\b\b\b\b\b\b\b\b\b\b\b\b\b\b\b\b\b\b\b\b\b\b\b\b\b\b\b\b\b\b\b\b\b\b\b\b\b\b\b\b\b\b\b\b\b\b\b\b\b\b\b\b\b\b\b\b\b\b\b\b\b\b\b\b\b\b\b\b\b\b\b\b\b\b\b\b\b\b\b\b\b\b\n",
      "\n",
      "Epoch 3/4\n",
      "10000/10000 [==============================]10000/10000 [==============================] - 2s 228us/step - loss: 1.8131 - acc: 0.1745 - val_loss: 1.7786 - val_acc: 0.2480\b\b\b\b\b\b\b\b\b\b\b\b\b\b\b\b\b\b\b\b\b\b\b\b\b\b\b\b\b\b\b\b\b\b\b\b\b\b\b\b\b\b\b\b\b\b\b\b\b\b\b\b\b\b\b\b\b\b\b\b\b\b\b\b\b\b\b\b\b\b\b\b\b\b\b\b\b\b\b\b\b\b\b\b\b\b\b\b\b\b\b\b\b\b\b\b\b\b\b\b\b\b\b\b\b\b\b\b\b\b\b\b\b\b\b\b\b\b\b\b\b\b\b\b\b\b\b\b\b\b\b\b\b\b\b\b\b\b\b\b\b\b\b\b\b\b\b\b\b\b\b\b\b\b\b\b\b\b\b\b\b\b\b\b\b\b\b\b\b\b\b\b\b\b\b\b\b\b\b\b\b\b\b\b\b\b\b\b\b\b\b\b\b\b\b\b\b\b\b\b\b\b\b\b\b\b\b\b\b\b\b\b\b\b\b\b\b\b\b\b\b\b\b\b\b\b\b\b\b\b\b\b\b\b\b\b\b\b\b\b\b\b\b\b\b\b\b\b\b\b\b\b\b\b\b\b\b\b\b\b\b\b\b\b\b\b\b\b\b\b\b\b\b\b\b\b\b\b\b\b\b\b\b\b\b\b\b\b\b\b\b\b\b\b\b\b\b\b\b\b\b\b\b\b\b\b\b\b\b\b\b\b\b\b\b\b\b\b\b\b\b\b\b\b\b\b\b\b\b\b\b\b\b\b\b\b\b\b\b\b\b\b\b\b\b\b\b\b\b\b\b\b\b\b\b\b\b\b\b\b\b\b\b\b\b\b\b\b\b\b\b\b\b\b\b\b\b\b\b\b\b\b\b\b\b\b\b\b\b\b\b\b\b\b\b\b\b\b\b\b\b\b\b\b\b\b\b\b\b\b\b\b\b\b\b\b\b\b\b\b\b\b\b\b\b\b\b\b\b\b\b\b\b\b\b\b\b\b\b\b\b\b\b\b\b\b\b\b\b\b\b\b\b\b\b\b\b\b\b\b\b\b\b\b\b\b\b\b\b\b\b\b\b\b\b\b\b\b\b\b\b\b\b\b\b\b\b\b\b\b\b\b\b\b\b\b\b\b\b\b\b\b\b\b\b\b\b\b\b\b\b\b\b\b\b\b\b\b\b\b\b\b\b\b\b\b\b\b\b\b\b\b\b\b\b\b\b\b\b\b\b\b\b\b\b\b\b\b\b\b\b\b\b\b\b\b\b\b\b\b\b\b\b\b\b\b\b\b\b\b\b\b\b\b\b\b\b\b\b\b\b\b\b\b\b\b\b\b\b\b\b\b\b\b\b\b\b\b\b\b\b\b\b\b\b\b\b\b\b\b\b\b\b\b\b\b\b\b\b\b\b\b\b\b\b\b\b\b\b\b\b\b\b\b\b\b\b\b\b\b\b\b\b\b\b\b\b\b\b\b\b\b\b\b\b\b\b\b\b\b\b\b\b\b\b\b\b\b\b\b\b\b\b\b\b\b\b\b\b\b\b\b\b\b\b\b\b\b\b\b\b\b\b\b\b\b\b\b\b\b\b\b\b\b\b\b\b\b\b\b\b\b\b\b\b\b\b\b\b\b\b\b\b\b\b\b\b\b\b\b\b\b\b\b\b\b\b\b\b\b\b\b\b\b\b\b\b\b\b\b\b\b\b\b\b\b\b\b\b\b\b\b\b\b\b\b\b\b\b\b\b\b\b\b\b\b\b\b\b\b\b\b\b\b\b\b\b\b\b\b\b\b\b\b\b\b\b\b\b\b\b\b\b\b\b\b\b\b\b\b\b\b\b\b\b\b\b\b\b\b\b\b\b\b\b\b\b\b\b\b\b\b\b\b\b\b\b\b\b\b\b\b\b\b\b\b\b\b\b\b\b\b\b\b\b\b\b\b\b\b\b\b\b\b\b\b\b\b\b\b\b\b\b\b\b\b\b\b\b\b\b\b\b\b\b\b\b\b\b\b\b\b\b\b\b\b\b\b\b\b\b\b\b\b\b\b\b\b\b\b\b\b\b\b\b\b\b\b\b\b\b\b\b\b\b\b\b\b\b\b\b\b\b\b\b\b\b\b\b\b\b\b\b\b\b\b\b\b\b\b\b\b\b\b\b\b\b\b\b\b\b\b\b\b\b\b\b\b\b\b\b\b\b\b\b\b\b\b\b\b\b\b\b\b\b\b\b\b\b\b\b\b\b\b\b\b\b\b\b\b\b\b\b\b\b\b\b\b\b\b\b\b\b\b\b\b\b\b\b\b\b\b\b\b\b\b\b\b\b\b\b\b\b\b\b\b\b\b\b\b\b\b\b\b\b\b\b\b\b\b\b\b\b\b\b\b\b\b\b\b\b\b\b\b\b\b\b\b\b\b\b\b\b\b\b\b\b\b\b\b\b\b\b\b\b\b\b\b\b\b\b\b\b\b\b\b\b\b\b\b\b\b\b\b\b\b\b\b\b\b\b\b\b\b\b\b\b\b\b\b\b\b\b\b\b\b\b\b\b\b\b\b\b\b\b\b\b\b\b\b\b\b\b\b\b\b\b\b\b\b\b\b\b\b\b\b\b\b\b\b\b\b\b\b\b\b\b\b\b\b\b\b\b\b\b\b\b\b\b\b\b\b\b\b\b\b\b\b\b\b\b\b\b\b\b\b\b\b\b\b\b\b\b\b\b\b\b\b\b\b\b\b\b\b\b\b\b\b\b\b\b\b\b\b\b\b\b\b\b\b\b\b\b\b\b\b\b\b\b\b\b\b\b\b\b\b\b\b\b\b\b\b\b\b\b\b\b\b\b\b\b\b\b\b\b\b\b\b\b\b\b\b\b\b\b\b\b\b\b\b\b\b\b\b\b\b\b\b\b\b\b\b\b\b\b\b\b\b\b\b\b\b\b\b\b\b\b\b\b\b\b\b\b\b\b\b\b\b\b\b\b\b\b\b\b\b\b\b\b\b\b\b\b\b\b\b\b\b\b\b\b\b\b\b\b\b\b\b\b\b\b\b\b\b\b\b\b\b\b\b\b\b\b\b\b\b\b\b\b\b\b\b\b\b\b\b\b\b\b\b\b\b\b\b\b\b\b\b\b\b\b\b\b\b\b\b\b\b\b\b\b\b\b\b\b\b\b\b\b\b\b\b\b\b\b\b\b\b\b\b\b\b\b\b\b\b\b\b\b\b\b\b\b\b\b\b\b\b\b\b\b\b\b\b\b\b\b\b\b\b\b\b\b\b\b\b\b\b\b\b\b\b\b\b\b\b\b\b\b\b\b\b\b\b\b\b\b\b\b\b\b\b\b\b\b\b\b\b\b\b\b\b\b\b\b\b\b\b\b\b\b\b\b\b\b\b\b\b\b\b\b\b\b\b\b\b\b\b\b\b\b\b\b\b\b\b\b\b\b\b\b\b\b\b\b\b\b\b\b\b\b\b\b\b\b\b\b\b\b\b\b\b\b\b\b\b\b\b\b\b\b\b\b\b\b\b\b\b\b\b\b\b\b\b\b\b\b\b\b\b\b\b\b\b\b\b\b\b\b\b\b\b\b\b\b\b\b\b\b\b\b\b\b\b\b\b\b\b\b\b\b\b\b\b\b\b\b\b\b\b\b\b\b\b\b\b\b\b\b\b\b\b\b\b\b\b\b\b\b\b\b\b\b\b\b\b\b\b\b\b\b\b\b\b\b\b\b\b\b\b\b\b\b\b\b\b\b\b\b\b\b\b\b\b\b\b\b\b\b\b\b\b\b\b\b\b\b\b\b\b\b\b\b\b\b\b\b\b\b\b\b\b\b\b\b\b\b\b\b\b\b\b\b\b\b\b\b\b\b\b\b\b\b\b\b\b\b\b\b\b\b\b\b\b\b\b\b\b\b\b\b\b\b\b\b\b\b\b\b\b\b\b\b\b\b\b\b\b\b\b\b\b\b\b\b\b\b\b\b\b\b\b\b\b\b\b\b\b\b\b\b\b\b\b\b\b\b\b\b\b\b\b\b\b\b\b\b\b\b\b\b\b\b\b\b\b\b\b\b\b\b\b\b\b\b\b\b\b\b\b\b\b\b\b\b\b\b\b\b\b\b\b\b\b\b\b\b\b\b\b\b\b\b\b\b\b\b\b\b\b\b\b\b\b\b\b\b\b\b\b\b\b\b\b\b\b\b\b\b\b\b\b\b\b\b\b\b\b\b\b\b\b\b\b\b\b\b\b\b\b\b\b\b\b\b\b\b\b\b\b\b\b\b\b\b\b\b\b\b\b\b\b\b\b\b\b\b\b\b\b\b\b\b\b\b\b\b\b\b\b\b\b\b\b\b\b\b\b\b\b\b\b\b\b\b\b\b\b\b\b\b\b\b\b\b\b\b\b\b\b\b\b\b\b\b\b\b\b\b\b\b\b\b\b\b\b\b\b\b\b\b\b\b\b\b\b\b\b\b\b\b\b\b\b\b\b\b\b\b\b\b\b\b\b\b\b\b\b\b\b\b\b\b\b\b\b\b\b\b\b\b\b\b\b\b\b\b\b\b\b\b\b\b\b\b\b\b\b\b\b\b\b\b\b\b\b\b\b\b\b\b\b\b\b\b\b\b\b\b\b\b\b\b\b\b\b\b\b\b\b\b\b\b\b\b\b\b\b\b\b\b\b\b\b\b\b\b\b\b\b\b\b\b\b\b\b\b\b\b\b\b\b\b\b\b\b\b\b\b\b\b\b\b\b\b\b\b\b\b\b\b\b\b\b\b\b\b\b\b\b\b\b\b\b\b\b\b\b\b\b\b\b\b\b\b\b\b\b\b\b\b\b\b\b\b\b\b\b\b\b\b\b\b\b\b\b\b\b\b\b\b\b\b\b\b\b\b\b\b\b\b\b\b\b\b\b\b\b\b\b\b\b\b\b\b\b\b\b\b\b\b\b\b\b\b\b\b\b\b\b\b\b\b\b\b\b\b\b\b\b\b\b\b\b\b\b\b\b\b\b\b\b\b\b\b\b\b\b\b\b\b\b\b\b\b\b\b\b\b\b\b\b\b\b\b\b\b\b\b\b\b\b\b\b\b\b\b\b\b\b\b\b\b\b\b\b\b\b\b\b\b\b\b\b\b\b\b\b\b\b\b\b\b\b\b\b\b\b\b\b\b\b\b\b\b\b\b\b\b\b\b\b\b\b\b\b\b\b\b\b\b\b\b\b\b\b\b\b\b\b\b\b\b\b\b\b\b\b\b\b\b\b\b\b\b\b\b\b\b\b\b\b\b\b\b\b\b\b\b\b\b\b\b\b\b\b\b\b\b\b\b\b\b\b\b\b\b\b\b\b\b\b\b\b\b\b\b\b\b\b\b\b\b\b\b\b\b\b\b\b\b\b\b\b\b\b\b\b\b\b\b\b\b\b\b\b\b\b\b\b\b\b\b\b\b\b\b\b\b\b\b\b\b\b\b\b\b\b\b\b\b\b\b\b\b\b\b\b\b\b\b\b\b\b\b\b\b\b\b\b\b\b\b\b\b\b\b\b\b\b\b\b\b\b\b\b\b\b\b\b\b\b\b\b\b\b\b\b\b\b\b\b\b\b\b\b\b\b\b\b\b\b\b\b\b\b\b\b\b\b\b\b\b\b\b\b\b\b\b\b\b\b\b\b\b\b\b\b\b\b\b\b\b\b\b\b\b\b\b\b\b\b\b\b\b\b\b\b\b\b\b\b\b\b\b\b\b\b\b\b\b\b\b\b\b\b\b\b\b\b\b\b\b\b\b\b\b\b\b\b\b\b\b\b\b\b\b\b\b\b\b\b\b\b\b\b\b\b\b\b\b\b\b\b\b\b\b\b\b\b\b\b\b\b\b\b\b\b\b\b\b\b\b\b\b\b\b\b\b\b\b\b\b\b\b\b\b\b\b\b\b\b\b\b\b\b\b\b\b\b\b\b\b\b\b\b\b\b\b\b\b\b\b\b\b\b\b\b\b\b\b\b\b\b\b\b\b\b\b\b\b\b\b\b\b\b\b\b\b\b\b\b\b\b\b\b\b\b\b\b\b\b\b\b\b\b\b\b\b\b\b\b\b\b\b\b\b\b\b\b\b\b\b\b\b\b\b\b\b\b\b\b\b\b\b\b\b\b\b\b\b\b\b\b\b\b\b\b\b\b\b\b\b\b\b\b\b\b\b\b\b\b\b\b\b\b\b\b\b\b\b\b\b\b\b\b\b\b\b\b\b\b\b\b\b\b\b\b\b\b\b\b\b\b\b\b\b\b\b\b\b\b\b\b\b\b\b\b\b\b\b\b\b\b\b\b\b\b\b\b\b\b\b\b\b\b\b\b\b\b\b\b\b\b\b\b\b\b\b\b\b\b\b\b\b\b\b\b\b\b\b\b\b\b\b\b\b\b\b\b\b\b\b\b\b\b\b\b\b\b\b\b\b\b\b\b\b\b\b\b\b\b\b\b\b\b\b\b\b\b\b\b\b\b\b\b\b\b\b\b\b\b\b\b\b\b\b\b\b\b\b\b\b\b\b\b\b\b\b\b\b\b\b\b\b\b\b\b\b\b\b\b\b\b\b\b\b\b\b\b\b\b\b\b\b\b\b\b\b\b\b\b\b\b\b\b\b\b\b\b\b\b\b\b\b\b\b\b\b\b\b\b\b\b\b\b\b\b\b\b\b\b\b\b\b\b\b\b\b\b\b\b\b\b\b\b\b\b\b\b\b\b\b\b\b\b\b\b\b\b\b\b\b\b\b\b\b\b\b\b\b\b\b\b\b\b\b\b\b\b\b\b\b\b\b\b\b\b\b\b\b\b\b\b\b\b\b\b\b\b\b\b\b\b\b\b\b\b\b\b\b\b\b\b\b\b\b\b\b\b\b\b\b\b\b\b\b\b\b\b\b\b\b\b\b\b\b\b\b\b\b\b\b\b\b\b\b\b\b\b\b\b\b\b\b\b\b\b\b\b\b\b\b\b\b\b\b\b\b\b\b\b\b\b\b\b\b\b\b\b\b\b\b\b\b\b\b\b\b\b\b\b\b\b\b\b\b\b\b\b\b\b\b\b\b\b\b\b\b\b\b\b\b\b\b\b\b\b\b\b\b\b\b\b\b\b\b\b\b\b\b\b\b\b\b\b\b\b\b\b\b\b\b\b\b\b\b\b\b\b\b\b\b\b\b\b\b\b\b\b\b\b\b\b\b\b\b\b\b\b\b\b\b\b\b\b\b\b\b\b\b\b\b\b\b\b\b\b\b\b\b\b\b\b\b\b\b\b\b\b\b\b\b\b\b\b\b\b\b\b\b\b\b\b\b\b\b\b\b\b\b\b\b\b\b\b\b\b\b\b\b\b\b\b\b\b\b\b\b\b\b\b\b\b\b\b\b\b\b\b\b\b\b\b\b\b\b\b\b\b\b\b\b\b\b\b\b\b\b\b\b\b\b\b\b\b\b\b\b\b\b\b\b\b\b\b\b\b\b\b\b\b\b\b\b\b\b\b\b\b\b\b\b\b\b\b\b\b\b\b\b\b\b\b\b\b\b\b\b\b\b\b\b\b\b\b\b\b\b\b\b\b\b\b\b\b\b\b\b\b\b\b\b\b\b\b\b\b\b\b\b\b\b\b\b\b\b\b\b\b\b\b\b\b\b\b\b\b\b\b\b\b\b\b\b\b\b\b\b\b\b\b\b\b\b\b\b\b\b\b\b\b\b\n",
      "\n",
      "Epoch 4/4\n",
      "10000/10000 [==============================]10000/10000 [==============================] - 2s 231us/step - loss: 1.7739 - acc: 0.2235 - val_loss: 1.6931 - val_acc: 0.3360\b\b\b\b\b\b\b\b\b\b\b\b\b\b\b\b\b\b\b\b\b\b\b\b\b\b\b\b\b\b\b\b\b\b\b\b\b\b\b\b\b\b\b\b\b\b\b\b\b\b\b\b\b\b\b\b\b\b\b\b\b\b\b\b\b\b\b\b\b\b\b\b\b\b\b\b\b\b\b\b\b\b\b\b\b\b\b\b\b\b\b\b\b\b\b\b\b\b\b\b\b\b\b\b\b\b\b\b\b\b\b\b\b\b\b\b\b\b\b\b\b\b\b\b\b\b\b\b\b\b\b\b\b\b\b\b\b\b\b\b\b\b\b\b\b\b\b\b\b\b\b\b\b\b\b\b\b\b\b\b\b\b\b\b\b\b\b\b\b\b\b\b\b\b\b\b\b\b\b\b\b\b\b\b\b\b\b\b\b\b\b\b\b\b\b\b\b\b\b\b\b\b\b\b\b\b\b\b\b\b\b\b\b\b\b\b\b\b\b\b\b\b\b\b\b\b\b\b\b\b\b\b\b\b\b\b\b\b\b\b\b\b\b\b\b\b\b\b\b\b\b\b\b\b\b\b\b\b\b\b\b\b\b\b\b\b\b\b\b\b\b\b\b\b\b\b\b\b\b\b\b\b\b\b\b\b\b\b\b\b\b\b\b\b\b\b\b\b\b\b\b\b\b\b\b\b\b\b\b\b\b\b\b\b\b\b\b\b\b\b\b\b\b\b\b\b\b\b\b\b\b\b\b\b\b\b\b\b\b\b\b\b\b\b\b\b\b\b\b\b\b\b\b\b\b\b\b\b\b\b\b\b\b\b\b\b\b\b\b\b\b\b\b\b\b\b\b\b\b\b\b\b\b\b\b\b\b\b\b\b\b\b\b\b\b\b\b\b\b\b\b\b\b\b\b\b\b\b\b\b\b\b\b\b\b\b\b\b\b\b\b\b\b\b\b\b\b\b\b\b\b\b\b\b\b\b\b\b\b\b\b\b\b\b\b\b\b\b\b\b\b\b\b\b\b\b\b\b\b\b\b\b\b\b\b\b\b\b\b\b\b\b\b\b\b\b\b\b\b\b\b\b\b\b\b\b\b\b\b\b\b\b\b\b\b\b\b\b\b\b\b\b\b\b\b\b\b\b\b\b\b\b\b\b\b\b\b\b\b\b\b\b\b\b\b\b\b\b\b\b\b\b\b\b\b\b\b\b\b\b\b\b\b\b\b\b\b\b\b\b\b\b\b\b\b\b\b\b\b\b\b\b\b\b\b\b\b\b\b\b\b\b\b\b\b\b\b\b\b\b\b\b\b\b\b\b\b\b\b\b\b\b\b\b\b\b\b\b\b\b\b\b\b\b\b\b\b\b\b\b\b\b\b\b\b\b\b\b\b\b\b\b\b\b\b\b\b\b\b\b\b\b\b\b\b\b\b\b\b\b\b\b\b\b\b\b\b\b\b\b\b\b\b\b\b\b\b\b\b\b\b\b\b\b\b\b\b\b\b\b\b\b\b\b\b\b\b\b\b\b\b\b\b\b\b\b\b\b\b\b\b\b\b\b\b\b\b\b\b\b\b\b\b\b\b\b\b\b\b\b\b\b\b\b\b\b\b\b\b\b\b\b\b\b\b\b\b\b\b\b\b\b\b\b\b\b\b\b\b\b\b\b\b\b\b\b\b\b\b\b\b\b\b\b\b\b\b\b\b\b\b\b\b\b\b\b\b\b\b\b\b\b\b\b\b\b\b\b\b\b\b\b\b\b\b\b\b\b\b\b\b\b\b\b\b\b\b\b\b\b\b\b\b\b\b\b\b\b\b\b\b\b\b\b\b\b\b\b\b\b\b\b\b\b\b\b\b\b\b\b\b\b\b\b\b\b\b\b\b\b\b\b\b\b\b\b\b\b\b\b\b\b\b\b\b\b\b\b\b\b\b\b\b\b\b\b\b\b\b\b\b\b\b\b\b\b\b\b\b\b\b\b\b\b\b\b\b\b\b\b\b\b\b\b\b\b\b\b\b\b\b\b\b\b\b\b\b\b\b\b\b\b\b\b\b\b\b\b\b\b\b\b\b\b\b\b\b\b\b\b\b\b\b\b\b\b\b\b\b\b\b\b\b\b\b\b\b\b\b\b\b\b\b\b\b\b\b\b\b\b\b\b\b\b\b\b\b\b\b\b\b\b\b\b\b\b\b\b\b\b\b\b\b\b\b\b\b\b\b\b\b\b\b\b\b\b\b\b\b\b\b\b\b\b\b\b\b\b\b\b\b\b\b\b\b\b\b\b\b\b\b\b\b\b\b\b\b\b\b\b\b\b\b\b\b\b\b\b\b\b\b\b\b\b\b\b\b\b\b\b\b\b\b\b\b\b\b\b\b\b\b\b\b\b\b\b\b\b\b\b\b\b\b\b\b\b\b\b\b\b\b\b\b\b\b\b\b\b\b\b\b\b\b\b\b\b\b\b\b\b\b\b\b\b\b\b\b\b\b\b\b\b\b\b\b\b\b\b\b\b\b\b\b\b\b\b\b\b\b\b\b\b\b\b\b\b\b\b\b\b\b\b\b\b\b\b\b\b\b\b\b\b\b\b\b\b\b\b\b\b\b\b\b\b\b\b\b\b\b\b\b\b\b\b\b\b\b\b\b\b\b\b\b\b\b\b\b\b\b\b\b\b\b\b\b\b\b\b\b\b\b\b\b\b\b\b\b\b\b\b\b\b\b\b\b\b\b\b\b\b\b\b\b\b\b\b\b\b\b\b\b\b\b\b\b\b\b\b\b\b\b\b\b\b\b\b\b\b\b\b\b\b\b\b\b\b\b\b\b\b\b\b\b\b\b\b\b\b\b\b\b\b\b\b\b\b\b\b\b\b\b\b\b\b\b\b\b\b\b\b\b\b\b\b\b\b\b\b\b\b\b\b\b\b\b\b\b\b\b\b\b\b\b\b\b\b\b\b\b\b\b\b\b\b\b\b\b\b\b\b\b\b\b\b\b\b\b\b\b\b\b\b\b\b\b\b\b\b\b\b\b\b\b\b\b\b\b\b\b\b\b\b\b\b\b\b\b\b\b\b\b\b\b\b\b\b\b\b\b\b\b\b\b\b\b\b\b\b\b\b\b\b\b\b\b\b\b\b\b\b\b\b\b\b\b\b\b\b\b\b\b\b\b\b\b\b\b\b\b\b\b\b\b\b\b\b\b\b\b\b\b\b\b\b\b\b\b\b\b\b\b\b\b\b\b\b\b\b\b\b\b\b\b\b\b\b\b\b\b\b\b\b\b\b\b\b\b\b\b\b\b\b\b\b\b\b\b\b\b\b\b\b\b\b\b\b\b\b\b\b\b\b\b\b\b\b\b\b\b\b\b\b\b\b\b\b\b\b\b\b\b\b\b\b\b\b\b\b\b\b\b\b\b\b\b\b\b\b\b\b\b\b\b\b\b\b\b\b\b\b\b\b\b\b\b\b\b\b\b\b\b\b\b\b\b\b\b\b\b\b\b\b\b\b\b\b\b\b\b\b\b\b\b\b\b\b\b\b\b\b\b\b\b\b\b\b\b\b\b\b\b\b\b\b\b\b\b\b\b\b\b\b\b\b\b\b\b\b\b\b\b\b\b\b\b\b\b\b\b\b\b\b\b\b\b\b\b\b\b\b\b\b\b\b\b\b\b\b\b\b\b\b\b\b\b\b\b\b\b\b\b\b\b\b\b\b\b\b\b\b\b\b\b\b\b\b\b\b\b\b\b\b\b\b\b\b\b\b\b\b\b\b\b\b\b\b\b\b\b\b\b\b\b\b\b\b\b\b\b\b\b\b\b\b\b\b\b\b\b\b\b\b\b\b\b\b\b\b\b\b\b\b\b\b\b\b\b\b\b\b\b\b\b\b\b\b\b\b\b\b\b\b\b\b\b\b\b\b\b\b\b\b\b\b\b\b\b\b\b\b\b\b\b\b\b\b\b\b\b\b\b\b\b\b\b\b\b\b\b\b\b\b\b\b\b\b\b\b\b\b\b\b\b\b\b\b\b\b\b\b\b\b\b\b\b\b\b\b\b\b\b\b\b\b\b\b\b\b\b\b\b\b\b\b\b\b\b\b\b\b\b\b\b\b\b\b\b\b\b\b\b\b\b\b\b\b\b\b\b\b\b\b\b\b\b\b\b\b\b\b\b\b\b\b\b\b\b\b\b\b\b\b\b\b\b\b\b\b\b\b\b\b\b\b\b\b\b\b\b\b\b\b\b\b\b\b\b\b\b\b\b\b\b\b\b\b\b\b\b\b\b\b\b\b\b\b\b\b\b\b\b\b\b\b\b\b\b\b\b\b\b\b\b\b\b\b\b\b\b\b\b\b\b\b\b\b\b\b\b\b\b\b\b\b\b\b\b\b\b\b\b\b\b\b\b\b\b\b\b\b\b\b\b\b\b\b\b\b\b\b\b\b\b\b\b\b\b\b\b\b\b\b\b\b\b\b\b\b\b\b\b\b\b\b\b\b\b\b\b\b\b\b\b\b\b\b\b\b\b\b\b\b\b\b\b\b\b\b\b\b\b\b\b\b\b\b\b\b\b\b\b\b\b\b\b\b\b\b\b\b\b\b\b\b\b\b\b\b\b\b\b\b\b\b\b\b\b\b\b\b\b\b\b\b\b\b\b\b\b\b\b\b\b\b\b\b\b\b\b\b\b\b\b\b\b\b\b\b\b\b\b\b\b\b\b\b\b\b\b\b\b\b\b\b\b\b\b\b\b\b\b\b\b\b\b\b\b\b\b\b\b\b\b\b\b\b\b\b\b\b\b\b\b\b\b\b\b\b\b\b\b\b\b\b\b\b\b\b\b\b\b\b\b\b\b\b\b\b\b\b\b\b\b\b\b\b\b\b\b\b\b\b\b\b\b\b\b\b\b\b\b\b\b\b\b\b\b\b\b\b\b\b\b\b\b\b\b\b\b\b\b\b\b\b\b\b\b\b\b\b\b\b\b\b\b\b\b\b\b\b\b\b\b\b\b\b\b\b\b\b\b\b\b\b\b\b\b\b\b\b\b\b\b\b\b\b\b\b\b\b\b\b\b\b\b\b\b\b\b\b\b\b\b\b\b\b\b\b\b\b\b\b\b\b\b\b\b\b\b\b\b\b\b\b\b\b\b\b\b\b\b\b\b\b\b\b\b\b\b\b\b\b\b\b\b\b\b\b\b\b\b\b\b\b\b\b\b\b\b\b\b\b\b\b\b\b\b\b\b\b\b\b\b\b\b\b\b\b\b\b\b\b\b\b\b\b\b\b\b\b\b\b\b\b\b\b\b\b\b\b\b\b\b\b\b\b\b\b\b\b\b\b\b\b\b\b\b\b\b\b\b\b\b\b\b\b\b\b\b\b\b\b\b\b\b\b\b\b\b\b\b\b\b\b\b\b\b\b\b\b\b\b\b\b\b\b\b\b\b\b\b\b\b\b\b\b\b\b\b\b\b\b\b\b\b\b\b\b\b\b\b\b\b\b\b\b\b\b\b\b\b\b\b\b\b\b\b\b\b\b\b\b\b\b\b\b\b\b\b\b\b\b\b\b\b\b\b\b\b\b\b\b\b\b\b\b\b\b\b\b\b\b\b\b\b\b\b\b\b\b\b\b\b\b\b\b\b\b\b\b\b\b\b\b\b\b\b\b\b\b\b\b\b\b\b\b\b\b\b\b\b\b\b\b\b\b\b\b\b\b\b\b\b\b\b\b\b\b\b\b\b\b\b\b\b\b\b\b\b\b\b\b\b\b\b\b\b\b\b\b\b\b\b\b\b\b\b\b\b\b\b\b\b\b\b\b\b\b\b\b\b\b\b\b\b\b\b\b\b\b\b\b\b\b\b\b\b\b\b\b\b\b\b\b\b\b\b\b\b\b\b\b\b\b\b\b\b\b\b\b\b\b\b\b\b\b\b\b\b\b\b\b\b\b\b\b\b\b\b\b\b\b\b\b\b\b\b\b\b\b\b\b\b\b\b\b\b\b\b\b\b\b\b\b\b\b\b\b\b\b\b\b\b\b\b\b\b\b\b\b\b\b\b\b\b\b\b\b\b\b\b\b\b\b\b\b\b\b\b\b\b\b\b\b\b\b\b\b\b\b\b\b\b\b\b\b\b\b\b\b\b\b\b\b\b\b\b\b\b\b\b\b\b\b\b\b\b\b\b\b\b\b\b\b\b\b\b\b\b\b\b\b\b\b\b\b\b\b\b\b\b\b\b\b\b\b\b\b\b\b\b\b\b\b\b\b\b\b\b\b\b\b\b\b\b\b\b\b\b\b\b\b\b\b\b\b\b\b\b\b\b\b\b\b\b\b\b\b\b\b\b\b\b\b\b\b\b\b\b\b\b\b\b\b\b\b\b\b\b\b\b\b\b\b\b\b\b\b\b\b\b\b\b\b\b\b\b\b\b\b\b\b\b\b\b\b\b\b\b\b\b\b\b\b\b\b\b\b\b\b\b\b\b\b\b\b\b\b\b\b\b\b\b\b\b\b\b\b\b\b\b\b\b\b\b\b\b\b\b\b\b\b\b\b\b\b\b\b\b\b\b\b\b\b\b\b\b\b\b\b\b\b\b\b\b\b\b\b\b\b\b\b\b\b\b\b\b\b\b\b\b\b\b\b\b\b\b\b\b\b\b\b\b\b\b\b\b\b\b\b\b\b\b\b\b\b\b\b\b\b\b\b\b\b\b\b\b\b\b\b\b\b\b\b\b\b\b\b\b\b\b\b\b\b\b\b\b\b\b\b\b\b\b\b\b\b\b\b\b\b\b\b\b\b\b\b\b\b\b\b\b\b\b\b\b\b\b\b\b\b\b\b\b\b\b\b\b\b\b\b\b\b\b\b\b\b\b\b\b\b\b\b\b\b\b\b\b\b\b\b\b\b\b\b\b\b\b\b\b\b\b\b\b\b\b\b\b\b\b\b\b\b\b\b\b\b\b\b\b\b\b\b\b\b\b\b\b\b\b\b\b\b\b\b\b\b\b\b\b\b\b\b\b\b\b\b\b\b\b\b\b\b\b\b\b\b\b\b\b\b\b\b\b\b\b\b\b\b\b\b\b\b\b\b\b\b\b\b\b\b\b\b\b\b\b\b\b\b\b\b\b\b\b\b\b\b\b\b\b\b\b\b\b\b\b\b\b\b\b\b\b\b\b\b\b\b\b\b\b\b\b\b\b\b\b\b\b\b\b\b\b\b\b\b\b\b\b\b\b\b\b\b\b\b\b\b\b\b\b\b\b\b\b\b\b\b\b\b\b\b\b\b\b\b\b\b\b\b\b\b\b\b\b\b\b\b\b\b\b\b\b\b\b\b\b\b\b\b\b\b\b\b\b\b\b\b\b\b\b\b\b\b\b\b\b\b\b\b\b\b\b\b\b\b\b\b\b\b\b\b\b\b\b\b\b\b\b\b\b\b\b\b\b\b\b\b\b\b\b\b\b\b\b\b\b\b\b\b\b\b\b\b\b\b\b\b\b\b\b\b\b\b\b\b\b\b\b\b\b\b\b\b\b\b\b\b\b\b\b\b\b\b\b\b\b\b\b\b\b\b\b\b\b\b\b\b\b\b\b\b\b\b\b\b\b\b\b\b\b\b\b\b\b\b\b\b\b\b\b\b\b\b\b\b\b\b\b\b\b\b\b\b\b\b\b\b\b\b\b\b\b\b\b\b\b\b\b\b\b\b\b\b\b\n",
      "\n"
     ]
    },
    {
     "data": {
      "text/plain": [
       "<tensorflow.python.keras._impl.keras.callbacks.History at 0xe03b278>"
      ]
     },
     "execution_count": 45,
     "metadata": {},
     "output_type": "execute_result"
    }
   ],
   "source": [
    "model.fit([train_stories_seq, train_q_seq], train_a_seq,\n",
    "          batch_size=32,\n",
    "          epochs=4,\n",
    "          validation_data=([test_stories_seq, test_q_seq], test_a_seq))"
   ]
  },
  {
   "cell_type": "code",
   "execution_count": 46,
   "metadata": {
    "collapsed": true
   },
   "outputs": [],
   "source": [
    "model.save('models/babi_memn2n_task_1.hd5')"
   ]
  },
  {
   "cell_type": "code",
   "execution_count": 47,
   "metadata": {
    "collapsed": true
   },
   "outputs": [],
   "source": [
    "#Load model\n",
    "from tensorflow.python.keras.models import load_model\n",
    "model = load_model('models/babi_memn2n_task_1.hd5')"
   ]
  },
  {
   "cell_type": "markdown",
   "metadata": {},
   "source": [
    "# Model Prediction"
   ]
  },
  {
   "cell_type": "code",
   "execution_count": 48,
   "metadata": {
    "collapsed": true
   },
   "outputs": [],
   "source": [
    "test_num = 80"
   ]
  },
  {
   "cell_type": "code",
   "execution_count": 49,
   "metadata": {
    "collapsed": true
   },
   "outputs": [],
   "source": [
    "#Get padded story seuqence\n",
    "story_seq_ex = test_stories_seq[test_num]\n",
    "\n",
    "#Get padded question sequence\n",
    "question_seq_ex = test_q_seq[test_num]\n",
    "\n",
    "#reshape to batch_size 1\n",
    "story_seq_ex = np.reshape(story_seq_ex,(1,len(story_seq_ex)))\n",
    "question_seq_ex = np.reshape(question_seq_ex,(1,len(question_seq_ex)))\n",
    "\n",
    "#Predict\n",
    "result = model.predict([story_seq_ex, question_seq_ex])\n",
    "\n",
    "#Get the index with highest probability\n",
    "result = np.argmax(result)\n",
    "\n",
    "#Convert index to word\n",
    "result = int_to_word[result]"
   ]
  },
  {
   "cell_type": "code",
   "execution_count": 50,
   "metadata": {
    "collapsed": false
   },
   "outputs": [
    {
     "name": "stdout",
     "output_type": "stream",
     "text": [
      "Story : Daniel went to the garden. John travelled to the garden.\n",
      "Question : Where is John? \n",
      "Answer : garden\n"
     ]
    }
   ],
   "source": [
    "print ('Story : ' + test_stories_txt[test_num])\n",
    "print ('Question : ' + test_q_txt[test_num])\n",
    "print ('Answer : ' + result)"
   ]
  }
 ],
 "metadata": {
  "kernelspec": {
   "display_name": "Python 3",
   "language": "python",
   "name": "python3"
  },
  "language_info": {
   "codemirror_mode": {
    "name": "ipython",
    "version": 3
   },
   "file_extension": ".py",
   "mimetype": "text/x-python",
   "name": "python",
   "nbconvert_exporter": "python",
   "pygments_lexer": "ipython3",
   "version": "3.6.0"
  }
 },
 "nbformat": 4,
 "nbformat_minor": 2
}
