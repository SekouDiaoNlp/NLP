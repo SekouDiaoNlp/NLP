{
 "cells": [
  {
   "cell_type": "markdown",
   "metadata": {},
   "source": [
    "https://medium.com/analytics-vidhya/an-introduction-to-text-summarization-using-the-textrank-algorithm-with-python-implementation-2370c39d0c60\n",
    "\n",
    "(original) https://www.analyticsvidhya.com/blog/2018/11/introduction-text-summarization-textrank-python/"
   ]
  },
  {
   "cell_type": "markdown",
   "metadata": {},
   "source": [
    "<b>Text Summarization</b> can broadly be divided into two categories — Extractive Summarization and Abstractive Summarization.\n",
    "\n",
    "* Extractive Summarization: These methods rely on extracting several parts, such as phrases and sentences, from a piece of text and stack them together to create a summary. Therefore, identifying the right sentences for summarization is of utmost importance in an extractive method.\n",
    "* Abstractive Summarization: These methods use advanced NLP techniques to generate an entirely new summary. Some parts of this summary may not even appear in the original text.\n",
    "\n",
    "We will be focusing on the <b>extractive summarization</b> technique in this notebook."
   ]
  },
  {
   "cell_type": "markdown",
   "metadata": {},
   "source": [
    "<b>Problem Statement</b><br>\n",
    "I always try to keep myself updated with what’s happening in the sport by religiously going through as many online tennis updates as possible. However, this has proven to be a rather difficult job! There are way too many resources and time is a constraint.\n",
    "\n",
    "Therefore, I decided to design a system that could prepare a bullet-point summary for me by scanning through multiple articles. We will apply the TextRank algorithm on a dataset of scraped articles with the aim of creating a nice and concise summary.\n",
    "\n",
    "This is essentially a <b>single-domain-multiple-documents</b> summarization task, i.e., we will take multiple articles as input and generate a single bullet-point summary. Multi-domain text summarization is not covered in this notebook."
   ]
  },
  {
   "cell_type": "markdown",
   "metadata": {},
   "source": [
    "<b>Steps</b><br>\n",
    "* Read the data\n",
    "* Split the text into sentences\n",
    "* Text preprocessing - Remove punctuations, convert to lower case, remove stopwords\n",
    "* Vector representation of sentences using Glove word vectors\n",
    "* Similarity Matrix Preparation\n",
    "* Applying Page Rank Algorithm\n",
    "* Summary Extraction"
   ]
  },
  {
   "cell_type": "code",
   "execution_count": 3,
   "metadata": {
    "collapsed": false
   },
   "outputs": [],
   "source": [
    "import numpy as np\n",
    "import pandas as pd\n",
    "import nltk\n",
    "import re"
   ]
  },
  {
   "cell_type": "code",
   "execution_count": null,
   "metadata": {
    "collapsed": true
   },
   "outputs": [],
   "source": [
    "nltk.download('punkt') # one time execution"
   ]
  },
  {
   "cell_type": "code",
   "execution_count": 4,
   "metadata": {
    "collapsed": false
   },
   "outputs": [
    {
     "data": {
      "text/html": [
       "<div>\n",
       "<style scoped>\n",
       "    .dataframe tbody tr th:only-of-type {\n",
       "        vertical-align: middle;\n",
       "    }\n",
       "\n",
       "    .dataframe tbody tr th {\n",
       "        vertical-align: top;\n",
       "    }\n",
       "\n",
       "    .dataframe thead th {\n",
       "        text-align: right;\n",
       "    }\n",
       "</style>\n",
       "<table border=\"1\" class=\"dataframe\">\n",
       "  <thead>\n",
       "    <tr style=\"text-align: right;\">\n",
       "      <th></th>\n",
       "      <th>article_id</th>\n",
       "      <th>article_text</th>\n",
       "      <th>source</th>\n",
       "    </tr>\n",
       "  </thead>\n",
       "  <tbody>\n",
       "    <tr>\n",
       "      <th>0</th>\n",
       "      <td>1</td>\n",
       "      <td>Maria Sharapova has basically no friends as te...</td>\n",
       "      <td>https://www.tennisworldusa.org/tennis/news/Mar...</td>\n",
       "    </tr>\n",
       "    <tr>\n",
       "      <th>1</th>\n",
       "      <td>2</td>\n",
       "      <td>BASEL, Switzerland (AP), Roger Federer advance...</td>\n",
       "      <td>http://www.tennis.com/pro-game/2018/10/copil-s...</td>\n",
       "    </tr>\n",
       "    <tr>\n",
       "      <th>2</th>\n",
       "      <td>3</td>\n",
       "      <td>Roger Federer has revealed that organisers of ...</td>\n",
       "      <td>https://scroll.in/field/899938/tennis-roger-fe...</td>\n",
       "    </tr>\n",
       "    <tr>\n",
       "      <th>3</th>\n",
       "      <td>4</td>\n",
       "      <td>Kei Nishikori will try to end his long losing ...</td>\n",
       "      <td>http://www.tennis.com/pro-game/2018/10/nishiko...</td>\n",
       "    </tr>\n",
       "    <tr>\n",
       "      <th>4</th>\n",
       "      <td>5</td>\n",
       "      <td>Federer, 37, first broke through on tour over ...</td>\n",
       "      <td>https://www.express.co.uk/sport/tennis/1036101...</td>\n",
       "    </tr>\n",
       "  </tbody>\n",
       "</table>\n",
       "</div>"
      ],
      "text/plain": [
       "   article_id                                       article_text  \\\n",
       "0           1  Maria Sharapova has basically no friends as te...   \n",
       "1           2  BASEL, Switzerland (AP), Roger Federer advance...   \n",
       "2           3  Roger Federer has revealed that organisers of ...   \n",
       "3           4  Kei Nishikori will try to end his long losing ...   \n",
       "4           5  Federer, 37, first broke through on tour over ...   \n",
       "\n",
       "                                              source  \n",
       "0  https://www.tennisworldusa.org/tennis/news/Mar...  \n",
       "1  http://www.tennis.com/pro-game/2018/10/copil-s...  \n",
       "2  https://scroll.in/field/899938/tennis-roger-fe...  \n",
       "3  http://www.tennis.com/pro-game/2018/10/nishiko...  \n",
       "4  https://www.express.co.uk/sport/tennis/1036101...  "
      ]
     },
     "execution_count": 4,
     "metadata": {},
     "output_type": "execute_result"
    }
   ],
   "source": [
    "df = pd.read_csv(\"tennis_articles_v4.csv\")\n",
    "df.head()"
   ]
  },
  {
   "cell_type": "code",
   "execution_count": 5,
   "metadata": {
    "collapsed": false
   },
   "outputs": [
    {
     "data": {
      "text/plain": [
       "\"Maria Sharapova has basically no friends as tennis players on the WTA Tour. The Russian player has no problems in openly speaking about it and in a recent interview she said: 'I don't really hide any feelings too much. I think everyone knows this is my job here. When I'm on the courts or when I'm on the court playing, I'm a competitor and I want to beat every single person whether they're in the locker room or across the net.So I'm not the one to strike up a conversation about the weather and know that in the next few minutes I have to go and try to win a tennis match. I'm a pretty competitive girl. I say my hellos, but I'm not sending any players flowers as well. Uhm, I'm not really friendly or close to many players. I have not a lot of friends away from the courts.' When she said she is not really close to a lot of players, is that something strategic that she is doing? Is it different on the men's tour than the women's tour? 'No, not at all. I think just because you're in the same sport doesn't mean that you have to be friends with everyone just because you're categorized, you're a tennis player, so you're going to get along with tennis players. I think every person has different interests. I have friends that have completely different jobs and interests, and I've met them in very different parts of my life. I think everyone just thinks because we're tennis players we should be the greatest of friends. But ultimately tennis is just a very small part of what we do. There are so many other things that we're interested in, that we do.'\""
      ]
     },
     "execution_count": 5,
     "metadata": {},
     "output_type": "execute_result"
    }
   ],
   "source": [
    "df['article_text'][0]"
   ]
  },
  {
   "cell_type": "code",
   "execution_count": 6,
   "metadata": {
    "collapsed": true
   },
   "outputs": [],
   "source": [
    "from nltk.tokenize import sent_tokenize\n",
    "sentences = [] \n",
    "for s in df['article_text']:\n",
    "    sentences.append(sent_tokenize(s))\n",
    "# flatten list\n",
    "sentences = [y for x in sentences for y in x]"
   ]
  },
  {
   "cell_type": "code",
   "execution_count": 7,
   "metadata": {
    "collapsed": false
   },
   "outputs": [
    {
     "data": {
      "text/plain": [
       "['Maria Sharapova has basically no friends as tennis players on the WTA Tour.',\n",
       " \"The Russian player has no problems in openly speaking about it and in a recent interview she said: 'I don't really hide any feelings too much.\",\n",
       " 'I think everyone knows this is my job here.',\n",
       " \"When I'm on the courts or when I'm on the court playing, I'm a competitor and I want to beat every single person whether they're in the locker room or across the net.So I'm not the one to strike up a conversation about the weather and know that in the next few minutes I have to go and try to win a tennis match.\",\n",
       " \"I'm a pretty competitive girl.\"]"
      ]
     },
     "execution_count": 7,
     "metadata": {},
     "output_type": "execute_result"
    }
   ],
   "source": [
    "sentences[:5]"
   ]
  },
  {
   "cell_type": "code",
   "execution_count": 1,
   "metadata": {
    "collapsed": false
   },
   "outputs": [
    {
     "name": "stderr",
     "output_type": "stream",
     "text": [
      "SYSTEM_WGETRC = c:/progra~1/wget/etc/wgetrc\n",
      "syswgetrc = D:\\GNUWin32/etc/wgetrc\n",
      "'http://nlp.stanford.edu/data/glove.6B.zip': Unsupported scheme.\n",
      "'unzip' is not recognized as an internal or external command,\n",
      "operable program or batch file.\n"
     ]
    }
   ],
   "source": [
    "!wget 'http://nlp.stanford.edu/data/glove.6B.zip'\n",
    "!unzip glove*.zip"
   ]
  },
  {
   "cell_type": "code",
   "execution_count": 8,
   "metadata": {
    "collapsed": false
   },
   "outputs": [],
   "source": [
    "# Extract word vectors \n",
    "word_embeddings = {}\n",
    "f = open('glove.6B.100d.txt', encoding='utf-8') \n",
    "for line in f: \n",
    "    values = line.split() \n",
    "    word = values[0] \n",
    "    coefs = np.asarray(values[1:], dtype='float32')   \n",
    "    word_embeddings[word] = coefs \n",
    "f.close()"
   ]
  },
  {
   "cell_type": "code",
   "execution_count": 13,
   "metadata": {
    "collapsed": false
   },
   "outputs": [
    {
     "data": {
      "text/plain": [
       "array([-0.038194  , -0.24487001,  0.72812003, -0.39961001,  0.083172  ,\n",
       "        0.043953  , -0.39140999,  0.3344    , -0.57545   ,  0.087459  ,\n",
       "        0.28786999, -0.06731   ,  0.30906001, -0.26383999, -0.13231   ,\n",
       "       -0.20757   ,  0.33395001, -0.33848   , -0.31742999, -0.48335999,\n",
       "        0.1464    , -0.37303999,  0.34577   ,  0.052041  ,  0.44946   ,\n",
       "       -0.46970999,  0.02628   , -0.54154998, -0.15518001, -0.14106999,\n",
       "       -0.039722  ,  0.28277001,  0.14393   ,  0.23464   , -0.31020999,\n",
       "        0.086173  ,  0.20397   ,  0.52623999,  0.17163999, -0.082378  ,\n",
       "       -0.71787   , -0.41531   ,  0.20334999, -0.12763   ,  0.41367   ,\n",
       "        0.55186999,  0.57907999, -0.33476999, -0.36559001, -0.54856998,\n",
       "       -0.062892  ,  0.26583999,  0.30204999,  0.99774998, -0.80480999,\n",
       "       -3.0243001 ,  0.01254   , -0.36941999,  2.21670008,  0.72201002,\n",
       "       -0.24978   ,  0.92136002,  0.034514  ,  0.46744999,  1.10790002,\n",
       "       -0.19358   , -0.074575  ,  0.23353   , -0.052062  , -0.22044   ,\n",
       "        0.057162  , -0.15806   , -0.30798   , -0.41624999,  0.37972   ,\n",
       "        0.15006   , -0.53211999, -0.20550001, -1.25259995,  0.071624  ,\n",
       "        0.70564997,  0.49744001, -0.42063001,  0.26148   , -1.53799999,\n",
       "       -0.30223   , -0.073438  , -0.28312001,  0.37103999, -0.25217   ,\n",
       "        0.016215  , -0.017099  , -0.38984001,  0.87423998, -0.72569001,\n",
       "       -0.51058   , -0.52028   , -0.1459    ,  0.82779998,  0.27061999], dtype=float32)"
      ]
     },
     "execution_count": 13,
     "metadata": {},
     "output_type": "execute_result"
    }
   ],
   "source": [
    "word_embeddings['the']"
   ]
  },
  {
   "cell_type": "code",
   "execution_count": 14,
   "metadata": {
    "collapsed": true
   },
   "outputs": [],
   "source": [
    "# remove punctuations, numbers and special characters\n",
    "clean_sentences = pd.Series(sentences).str.replace(\"[^a-zA-Z]\", \" \") \n",
    "# make alphabets lowercase \n",
    "clean_sentences = [s.lower() for s in clean_sentences]"
   ]
  },
  {
   "cell_type": "code",
   "execution_count": 15,
   "metadata": {
    "collapsed": false
   },
   "outputs": [
    {
     "name": "stdout",
     "output_type": "stream",
     "text": [
      "[nltk_data] Downloading package stopwords to\n",
      "[nltk_data]     C:\\Users\\285850\\AppData\\Roaming\\nltk_data...\n",
      "[nltk_data]   Unzipping corpora\\stopwords.zip.\n"
     ]
    },
    {
     "data": {
      "text/plain": [
       "True"
      ]
     },
     "execution_count": 15,
     "metadata": {},
     "output_type": "execute_result"
    }
   ],
   "source": [
    "nltk.download('stopwords')"
   ]
  },
  {
   "cell_type": "code",
   "execution_count": 16,
   "metadata": {
    "collapsed": true
   },
   "outputs": [],
   "source": [
    "from nltk.corpus import stopwords \n",
    "stop_words = stopwords.words('english')"
   ]
  },
  {
   "cell_type": "code",
   "execution_count": 17,
   "metadata": {
    "collapsed": true
   },
   "outputs": [],
   "source": [
    "# function to remove stopwords \n",
    "def remove_stopwords(sen):     \n",
    "    sen_new = \" \".join([i for i in sen if i not in stop_words])          \n",
    "    return sen_new"
   ]
  },
  {
   "cell_type": "code",
   "execution_count": 18,
   "metadata": {
    "collapsed": true
   },
   "outputs": [],
   "source": [
    "# remove stopwords from the sentences \n",
    "clean_sentences = [remove_stopwords(r.split()) for r in clean_sentences]"
   ]
  },
  {
   "cell_type": "code",
   "execution_count": 45,
   "metadata": {
    "collapsed": true
   },
   "outputs": [],
   "source": [
    "sentence_vectors = []\n",
    "for i in clean_sentences:\n",
    "    if len(i) != 0:\n",
    "        v = sum([word_embeddings.get(w, np.zeros((100,))) for w in i.split()])/(len(i.split())+0.001)\n",
    "    else: \n",
    "        v = np.zeros((100,)) \n",
    "    sentence_vectors.append(v)"
   ]
  },
  {
   "cell_type": "code",
   "execution_count": 46,
   "metadata": {
    "collapsed": false
   },
   "outputs": [
    {
     "data": {
      "text/plain": [
       "119"
      ]
     },
     "execution_count": 46,
     "metadata": {},
     "output_type": "execute_result"
    }
   ],
   "source": [
    "len(sentence_vectors)"
   ]
  },
  {
   "cell_type": "code",
   "execution_count": 30,
   "metadata": {
    "collapsed": false
   },
   "outputs": [
    {
     "data": {
      "text/plain": [
       "array([ -2.08140463e-01,   2.64891267e-01,   3.44418883e-01,\n",
       "        -2.13079229e-01,   2.34621353e-02,   1.87433153e-01,\n",
       "         1.67914018e-01,   3.02313745e-01,  -1.20291933e-01,\n",
       "        -2.33991519e-01,   2.22425133e-01,   9.25958529e-02,\n",
       "         1.49705827e-01,  -5.10089956e-02,   9.38714854e-03,\n",
       "        -6.55026212e-02,  -1.49192229e-01,   2.92601977e-02,\n",
       "        -3.40117455e-01,   2.51018763e-01,   4.25288707e-01,\n",
       "         2.04429641e-01,   1.91092212e-02,   4.39891545e-03,\n",
       "         1.83485880e-01,   2.51849461e-02,  -3.12460393e-01,\n",
       "        -4.94591355e-01,   9.84878764e-02,  -2.68122971e-01,\n",
       "        -1.23669095e-01,   2.27788553e-01,   5.55112027e-04,\n",
       "        -6.91322237e-02,   2.67278194e-01,   3.98785323e-01,\n",
       "        -3.26870799e-01,   3.44963744e-02,  -1.63259227e-02,\n",
       "        -2.70772815e-01,  -2.78630346e-01,  -1.43367171e-01,\n",
       "         3.88507903e-01,  -3.47312719e-01,  -1.81084722e-01,\n",
       "        -2.34724343e-01,   4.04098988e-01,  -5.19586146e-01,\n",
       "         3.77993017e-01,  -9.28305447e-01,   1.07172713e-01,\n",
       "        -4.78006482e-01,   1.36165008e-01,   1.08709562e+00,\n",
       "         1.17773056e-01,  -2.47288179e+00,  -1.26763299e-01,\n",
       "         3.18845361e-02,   1.40192950e+00,   5.86758316e-01,\n",
       "        -3.93127978e-01,   5.96795797e-01,  -3.02856326e-01,\n",
       "        -9.31521431e-02,   5.82006991e-01,   1.52384356e-01,\n",
       "         3.82599115e-01,   2.57941842e-01,  -1.19916499e-01,\n",
       "        -2.49368414e-01,  -1.20105222e-01,  -1.41134620e-01,\n",
       "        -2.29847535e-01,  -1.36549860e-01,  -4.73406725e-02,\n",
       "         2.37929761e-01,  -3.65570873e-01,  -1.92625120e-01,\n",
       "        -6.85905993e-01,   1.67483129e-02,   6.31958783e-01,\n",
       "        -7.70799816e-02,  -5.61029732e-01,   5.84928729e-02,\n",
       "        -1.48372912e+00,  -3.33541602e-01,   1.33824036e-01,\n",
       "         9.30592418e-02,  -4.89730120e-01,  -2.04233438e-01,\n",
       "        -3.90252434e-02,   1.58704072e-01,  -1.49142712e-01,\n",
       "         7.07998052e-02,  -7.13516653e-01,   2.33221680e-01,\n",
       "        -2.40784839e-01,  -2.02099532e-02,   1.44202709e-01,\n",
       "         3.78819048e-01], dtype=float32)"
      ]
     },
     "execution_count": 30,
     "metadata": {},
     "output_type": "execute_result"
    }
   ],
   "source": [
    "sentence_vectors[0]"
   ]
  },
  {
   "cell_type": "code",
   "execution_count": 47,
   "metadata": {
    "collapsed": true
   },
   "outputs": [],
   "source": [
    "# similarity matrix \n",
    "sim_mat = np.zeros([len(sentences), len(sentences)])"
   ]
  },
  {
   "cell_type": "code",
   "execution_count": 48,
   "metadata": {
    "collapsed": false
   },
   "outputs": [],
   "source": [
    "from sklearn.metrics.pairwise import cosine_similarity\n",
    "for i in range(len(sentences)):\n",
    "    for j in range(len(sentences)):\n",
    "        if i != j:\n",
    "            sim_mat[i][j] = cosine_similarity(sentence_vectors[i].reshape(1,100), sentence_vectors[j].reshape(1,100))[0,0]"
   ]
  },
  {
   "cell_type": "code",
   "execution_count": 54,
   "metadata": {
    "collapsed": false
   },
   "outputs": [],
   "source": [
    "import networkx as nx #import graph\n",
    "nx_graph = nx.from_numpy_matrix(sim_mat) \n",
    "scores = nx.pagerank(nx_graph)"
   ]
  },
  {
   "cell_type": "code",
   "execution_count": 59,
   "metadata": {
    "collapsed": false
   },
   "outputs": [
    {
     "data": {
      "text/plain": [
       "{0: 0.008072651865276066,\n",
       " 1: 0.008501993259365037,\n",
       " 2: 0.0078119318398216,\n",
       " 3: 0.009293791260564146,\n",
       " 4: 0.007500319295916385,\n",
       " 5: 0.008146814785247897,\n",
       " 6: 0.008477413381565426,\n",
       " 7: 0.008251000819455925,\n",
       " 8: 0.008596957762357726,\n",
       " 9: 0.008257144250233068,\n",
       " 10: 0.0012695751770095795,\n",
       " 11: 0.008860552409260931,\n",
       " 12: 0.00808354331891815,\n",
       " 13: 0.008156804650453691,\n",
       " 14: 0.008443316877797879,\n",
       " 15: 0.008556893043719335,\n",
       " 16: 0.007812826653904838,\n",
       " 17: 0.008071958049751223,\n",
       " 18: 0.008406020961271342,\n",
       " 19: 0.0088478922486596,\n",
       " 20: 0.008860865186249187,\n",
       " 21: 0.007421917083656914,\n",
       " 22: 0.008223434004980818,\n",
       " 23: 0.008991766451813816,\n",
       " 24: 0.00846397039711992,\n",
       " 25: 0.006701898152599973,\n",
       " 26: 0.008232471647417278,\n",
       " 27: 0.008913135600535109,\n",
       " 28: 0.009061682997321345,\n",
       " 29: 0.009093905696447463,\n",
       " 30: 0.00924452161472398,\n",
       " 31: 0.008994323963323616,\n",
       " 32: 0.0072368691033659,\n",
       " 33: 0.008709093081740912,\n",
       " 34: 0.00891913055441074,\n",
       " 35: 0.009097421351821915,\n",
       " 36: 0.007715970774354713,\n",
       " 37: 0.00888345207561318,\n",
       " 38: 0.009260614592351134,\n",
       " 39: 0.009094807375780006,\n",
       " 40: 0.00803167375590389,\n",
       " 41: 0.007971530780677154,\n",
       " 42: 0.007049062090031209,\n",
       " 43: 0.007933352661687702,\n",
       " 44: 0.009059878155886734,\n",
       " 45: 0.008547315097131393,\n",
       " 46: 0.009014976104354611,\n",
       " 47: 0.007259944367042847,\n",
       " 48: 0.007911644621636307,\n",
       " 49: 0.00868151265253887,\n",
       " 50: 0.0066964345920045186,\n",
       " 51: 0.00870000260707955,\n",
       " 52: 0.008665996974112963,\n",
       " 53: 0.008118560923342462,\n",
       " 54: 0.00920358812889656,\n",
       " 55: 0.008276617499763795,\n",
       " 56: 0.009136178522364903,\n",
       " 57: 0.008011884120515293,\n",
       " 58: 0.009104756512964777,\n",
       " 59: 0.008943539656119303,\n",
       " 60: 0.008546416451353922,\n",
       " 61: 0.009089363733591293,\n",
       " 62: 0.00874902919395214,\n",
       " 63: 0.00865652815829764,\n",
       " 64: 0.00861730994447221,\n",
       " 65: 0.007276030255151521,\n",
       " 66: 0.009213900380764764,\n",
       " 67: 0.00867461704612636,\n",
       " 68: 0.009016694534669996,\n",
       " 69: 0.008436192849002313,\n",
       " 70: 0.00901656828206579,\n",
       " 71: 0.008817234006022297,\n",
       " 72: 0.007873247640152951,\n",
       " 73: 0.009031689976700357,\n",
       " 74: 0.008107483414425395,\n",
       " 75: 0.00787748700273138,\n",
       " 76: 0.008035132109809422,\n",
       " 77: 0.008574003227645715,\n",
       " 78: 0.008966528078812212,\n",
       " 79: 0.008912100676242814,\n",
       " 80: 0.008688526247788991,\n",
       " 81: 0.008622437805081328,\n",
       " 82: 0.00880365170755149,\n",
       " 83: 0.008945846994192833,\n",
       " 84: 0.008678156651014172,\n",
       " 85: 0.008306574974473098,\n",
       " 86: 0.008747703132864673,\n",
       " 87: 0.008731683812538225,\n",
       " 88: 0.008467251034212484,\n",
       " 89: 0.005651524783028771,\n",
       " 90: 0.00899682874735383,\n",
       " 91: 0.008552831102485624,\n",
       " 92: 0.008774774579595671,\n",
       " 93: 0.008831355573460856,\n",
       " 94: 0.008709578511773028,\n",
       " 95: 0.008894836009354075,\n",
       " 96: 0.00838868587036203,\n",
       " 97: 0.008856328238433952,\n",
       " 98: 0.008420356619710249,\n",
       " 99: 0.007851104189963317,\n",
       " 100: 0.008621842542731553,\n",
       " 101: 0.008835781696526176,\n",
       " 102: 0.008928322661634755,\n",
       " 103: 0.009040595529500841,\n",
       " 104: 0.008502881135170417,\n",
       " 105: 0.008880329984805492,\n",
       " 106: 0.00910262574670152,\n",
       " 107: 0.008609461622621625,\n",
       " 108: 0.008942212433660788,\n",
       " 109: 0.007757844377113239,\n",
       " 110: 0.008568300289671895,\n",
       " 111: 0.008082033127031726,\n",
       " 112: 0.006109321287044942,\n",
       " 113: 0.008327135508094772,\n",
       " 114: 0.008898758238907956,\n",
       " 115: 0.008715866238223277,\n",
       " 116: 0.008855870136476467,\n",
       " 117: 0.007889359600797438,\n",
       " 118: 0.009064760855823284}"
      ]
     },
     "execution_count": 59,
     "metadata": {},
     "output_type": "execute_result"
    }
   ],
   "source": [
    "scores"
   ]
  },
  {
   "cell_type": "code",
   "execution_count": 66,
   "metadata": {
    "collapsed": false
   },
   "outputs": [
    {
     "name": "stdout",
     "output_type": "stream",
     "text": [
      "When I'm on the courts or when I'm on the court playing, I'm a competitor and I want to beat every single person whether they're in the locker room or across the net.So I'm not the one to strike up a conversation about the weather and know that in the next few minutes I have to go and try to win a tennis match.\n",
      "Major players feel that a big event in late November combined with one in January before the Australian Open will mean too much tennis and too little rest.\n",
      "Speaking at the Swiss Indoors tournament where he will play in Sundays final against Romanian qualifier Marius Copil, the world number three said that given the impossibly short time frame to make a decision, he opted out of any commitment.\n",
      "\"I felt like the best weeks that I had to get to know players when I was playing were the Fed Cup weeks or the Olympic weeks, not necessarily during the tournaments.\n",
      "Currently in ninth place, Nishikori with a win could move to within 125 points of the cut for the eight-man event in London next month.\n",
      "He used his first break point to close out the first set before going up 3-0 in the second and wrapping up the win on his first match point.\n",
      "The Spaniard broke Anderson twice in the second but didn't get another chance on the South African's serve in the final set.\n",
      "\"We also had the impression that at this stage it might be better to play matches than to train.\n",
      "The competition is set to feature 18 countries in the November 18-24 finals in Madrid next year, and will replace the classic home-and-away ties played four times per year for decades.\n",
      "Federer said earlier this month in Shanghai in that his chances of playing the Davis Cup were all but non-existent.\n"
     ]
    }
   ],
   "source": [
    "ranked_sentences = sorted(((scores[i],s) for i,s in \n",
    "                           enumerate(sentences)), reverse=True)\n",
    "# Extract top 10 sentences as the summary \n",
    "for i in range(10):\n",
    "    print(ranked_sentences[i][1])"
   ]
  },
  {
   "cell_type": "markdown",
   "metadata": {},
   "source": [
    "<b>What's Next</b>\n",
    "\n",
    "Problem-specific:\n",
    "\n",
    "* Multiple domain text summarization\n",
    "* Single document summarization\n",
    "* Cross-language text summarization (source in some language and summary in another language)\n",
    "\n",
    "Algorithm-specific:\n",
    "\n",
    "* Text summarization using RNNs and LSTM\n",
    "* Text summarization using Reinforcement Learning\n",
    "* Text summarization using Generative Adversarial Networks (GANs)"
   ]
  }
 ],
 "metadata": {
  "kernelspec": {
   "display_name": "Python 3",
   "language": "python",
   "name": "python3"
  },
  "language_info": {
   "codemirror_mode": {
    "name": "ipython",
    "version": 3
   },
   "file_extension": ".py",
   "mimetype": "text/x-python",
   "name": "python",
   "nbconvert_exporter": "python",
   "pygments_lexer": "ipython3",
   "version": "3.6.0"
  },
  "latex_envs": {
   "LaTeX_envs_menu_present": true,
   "autoclose": false,
   "autocomplete": true,
   "bibliofile": "biblio.bib",
   "cite_by": "apalike",
   "current_citInitial": 1,
   "eqLabelWithNumbers": true,
   "eqNumInitial": 1,
   "hotkeys": {
    "equation": "Ctrl-E",
    "itemize": "Ctrl-I"
   },
   "labels_anchors": false,
   "latex_user_defs": false,
   "report_style_numbering": false,
   "user_envs_cfg": false
  },
  "toc": {
   "base_numbering": 1,
   "nav_menu": {},
   "number_sections": true,
   "sideBar": true,
   "skip_h1_title": false,
   "title_cell": "Table of Contents",
   "title_sidebar": "Contents",
   "toc_cell": false,
   "toc_position": {},
   "toc_section_display": true,
   "toc_window_display": false
  }
 },
 "nbformat": 4,
 "nbformat_minor": 2
}
