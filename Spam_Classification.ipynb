{
 "cells": [
  {
   "cell_type": "code",
   "execution_count": 1,
   "metadata": {},
   "outputs": [],
   "source": [
    "#Import necessary libraries\n",
    "import tensorflow as tf\n",
    "import pandas as pd\n",
    "import numpy as np\n",
    "import matplotlib.pyplot as plt\n",
    "%matplotlib inline\n",
    "import re"
   ]
  },
  {
   "cell_type": "code",
   "execution_count": 12,
   "metadata": {},
   "outputs": [
    {
     "data": {
      "text/html": [
       "<div>\n",
       "<style scoped>\n",
       "    .dataframe tbody tr th:only-of-type {\n",
       "        vertical-align: middle;\n",
       "    }\n",
       "\n",
       "    .dataframe tbody tr th {\n",
       "        vertical-align: top;\n",
       "    }\n",
       "\n",
       "    .dataframe thead th {\n",
       "        text-align: right;\n",
       "    }\n",
       "</style>\n",
       "<table border=\"1\" class=\"dataframe\">\n",
       "  <thead>\n",
       "    <tr style=\"text-align: right;\">\n",
       "      <th></th>\n",
       "      <th>Unnamed: 0</th>\n",
       "      <th>id</th>\n",
       "      <th>Title</th>\n",
       "      <th>Content</th>\n",
       "      <th>Labels</th>\n",
       "    </tr>\n",
       "  </thead>\n",
       "  <tbody>\n",
       "    <tr>\n",
       "      <td>0</td>\n",
       "      <td>58951</td>\n",
       "      <td>Comp_58962</td>\n",
       "      <td>Christmas day 8 competition...</td>\n",
       "      <td>Autoglym Interior Shampoo 2 dirty floor mats s...</td>\n",
       "      <td>HAM</td>\n",
       "    </tr>\n",
       "    <tr>\n",
       "      <td>1</td>\n",
       "      <td>85348</td>\n",
       "      <td>Comp_85359</td>\n",
       "      <td>Are businesses allowed to charge someone more ...</td>\n",
       "      <td>Women's basic clothing items tend to be more e...</td>\n",
       "      <td>SPAM</td>\n",
       "    </tr>\n",
       "    <tr>\n",
       "      <td>2</td>\n",
       "      <td>23566</td>\n",
       "      <td>Comp_23573</td>\n",
       "      <td>If you could only wear one makeup brand for th...</td>\n",
       "      <td>What would you pick?  Despite not owning a ton...</td>\n",
       "      <td>SPAM</td>\n",
       "    </tr>\n",
       "    <tr>\n",
       "      <td>3</td>\n",
       "      <td>41324</td>\n",
       "      <td>Comp_41335</td>\n",
       "      <td>High school w/ fucked up dress code</td>\n",
       "      <td>I need help from you guys!  Recently I have st...</td>\n",
       "      <td>SPAM</td>\n",
       "    </tr>\n",
       "    <tr>\n",
       "      <td>4</td>\n",
       "      <td>32574</td>\n",
       "      <td>Comp_32582</td>\n",
       "      <td>Advice on finding an all-purpose jacket?</td>\n",
       "      <td>[removed]</td>\n",
       "      <td>SPAM</td>\n",
       "    </tr>\n",
       "  </tbody>\n",
       "</table>\n",
       "</div>"
      ],
      "text/plain": [
       "   Unnamed: 0          id                                              Title  \\\n",
       "0       58951  Comp_58962                     Christmas day 8 competition...   \n",
       "1       85348  Comp_85359  Are businesses allowed to charge someone more ...   \n",
       "2       23566  Comp_23573  If you could only wear one makeup brand for th...   \n",
       "3       41324  Comp_41335                High school w/ fucked up dress code   \n",
       "4       32574  Comp_32582           Advice on finding an all-purpose jacket?   \n",
       "\n",
       "                                             Content Labels  \n",
       "0  Autoglym Interior Shampoo 2 dirty floor mats s...    HAM  \n",
       "1  Women's basic clothing items tend to be more e...   SPAM  \n",
       "2  What would you pick?  Despite not owning a ton...   SPAM  \n",
       "3  I need help from you guys!  Recently I have st...   SPAM  \n",
       "4                                          [removed]   SPAM  "
      ]
     },
     "execution_count": 12,
     "metadata": {},
     "output_type": "execute_result"
    }
   ],
   "source": [
    "#Read the dataset\n",
    "df = pd.read_excel('day1_71c01958-464d-11ea-9162-1856804d508f_training_set_50k.xlsx')\n",
    "df.head()"
   ]
  },
  {
   "cell_type": "code",
   "execution_count": 13,
   "metadata": {},
   "outputs": [
    {
     "data": {
      "text/plain": [
       "SPAM    31744\n",
       "HAM     18256\n",
       "Name: Labels, dtype: int64"
      ]
     },
     "execution_count": 13,
     "metadata": {},
     "output_type": "execute_result"
    }
   ],
   "source": [
    "df['Labels'].value_counts() #Check the distribution of labels"
   ]
  },
  {
   "cell_type": "code",
   "execution_count": 14,
   "metadata": {},
   "outputs": [
    {
     "data": {
      "text/plain": [
       "SPAM    5271\n",
       "HAM     1662\n",
       "Name: Labels, dtype: int64"
      ]
     },
     "execution_count": 14,
     "metadata": {},
     "output_type": "execute_result"
    }
   ],
   "source": [
    "df[pd.isna(df['Content'])]['Labels'].value_counts() #Check distribution of null values in Content column"
   ]
  },
  {
   "cell_type": "code",
   "execution_count": 15,
   "metadata": {},
   "outputs": [
    {
     "data": {
      "text/plain": [
       "SPAM    1946\n",
       "HAM      594\n",
       "Name: Labels, dtype: int64"
      ]
     },
     "execution_count": 15,
     "metadata": {},
     "output_type": "execute_result"
    }
   ],
   "source": [
    "df[df['Content'] == '[removed]']['Labels'].value_counts()"
   ]
  },
  {
   "cell_type": "code",
   "execution_count": 16,
   "metadata": {},
   "outputs": [
    {
     "data": {
      "text/plain": [
       "SPAM    1582\n",
       "HAM      346\n",
       "Name: Labels, dtype: int64"
      ]
     },
     "execution_count": 16,
     "metadata": {},
     "output_type": "execute_result"
    }
   ],
   "source": [
    "df[df['Content'] == '[deleted]']['Labels'].value_counts()"
   ]
  },
  {
   "cell_type": "markdown",
   "metadata": {},
   "source": [
    "### Preprocessing"
   ]
  },
  {
   "cell_type": "code",
   "execution_count": 17,
   "metadata": {},
   "outputs": [],
   "source": [
    "df[\"text\"] = df[\"Title\"].map(str) + ' ' + df[\"Content\"].map(str) #combine Title and Content columns"
   ]
  },
  {
   "cell_type": "code",
   "execution_count": 18,
   "metadata": {},
   "outputs": [
    {
     "data": {
      "text/plain": [
       "'To be very scared about getting my moles checked? Best to get it checked out. Seborrheic keratoses are \"stuck on\", greasy lesions that appear on the skin as we age. They\\'re not moles and IIRC they do not turn cancerous. It\\'s not common, but sometimes moles can turn cancerous. Melanoma can be quite dangerous. The good news is it\\'s not very common. (For context: I have worked as a nurse for 12 years and although I teach now, I teach practicum regularly. I also used to work in a hospice. I saw ONE patient who died from melanoma. ONE.)'"
      ]
     },
     "execution_count": 18,
     "metadata": {},
     "output_type": "execute_result"
    }
   ],
   "source": [
    "df['text'][102]"
   ]
  },
  {
   "cell_type": "code",
   "execution_count": 19,
   "metadata": {},
   "outputs": [],
   "source": [
    "from nltk.corpus import stopwords\n",
    "from nltk.stem import WordNetLemmatizer \n",
    "\n",
    "lemmatizer = WordNetLemmatizer() \n",
    "stopwords = set(stopwords.words(\"english\"))"
   ]
  },
  {
   "cell_type": "code",
   "execution_count": 20,
   "metadata": {},
   "outputs": [],
   "source": [
    "def preprocessing(text):\n",
    "    text = re.sub('[^a-zA-Z]', ' ', text) # Keep only alphabetical characters\n",
    "    text = re.sub('\\s+', ' ', text) # Remove multiple spaces\n",
    "    text = text.lower().split() # Convert into lowercase and split into words\n",
    "    text = [lemmatizer.lemmatize(word) for word in text if not word in stopwords and len(word)>3] #Remove stopwords\n",
    "    text = \" \".join(text) #join the words\n",
    "    return text"
   ]
  },
  {
   "cell_type": "code",
   "execution_count": 21,
   "metadata": {},
   "outputs": [],
   "source": [
    "df['preproc_text'] = df['text'].map(lambda x: preprocessing(x))"
   ]
  },
  {
   "cell_type": "code",
   "execution_count": 22,
   "metadata": {},
   "outputs": [
    {
     "data": {
      "text/plain": [
       "'scared getting mole checked best checked seborrheic keratoses stuck greasy lesion appear skin mole iirc turn cancerous common sometimes mole turn cancerous melanoma quite dangerous good news common context worked nurse year although teach teach practicum regularly also used work hospice patient died melanoma'"
      ]
     },
     "execution_count": 22,
     "metadata": {},
     "output_type": "execute_result"
    }
   ],
   "source": [
    "df['preproc_text'][102]"
   ]
  },
  {
   "cell_type": "code",
   "execution_count": 23,
   "metadata": {},
   "outputs": [],
   "source": [
    "vocab_size = 20000"
   ]
  },
  {
   "cell_type": "code",
   "execution_count": 24,
   "metadata": {},
   "outputs": [],
   "source": [
    "from keras.preprocessing.text import Tokenizer\n",
    "from keras.preprocessing.sequence import pad_sequences\n",
    "\n",
    "tokenizer = Tokenizer(num_words=vocab_size)\n",
    "tokenizer.fit_on_texts(df['preproc_text'])\n",
    "sequences = tokenizer.texts_to_sequences(df['preproc_text'])"
   ]
  },
  {
   "cell_type": "code",
   "execution_count": 14,
   "metadata": {},
   "outputs": [
    {
     "data": {
      "image/png": "[encoded data removed]",
      "text/plain": [
       "<Figure size 432x288 with 1 Axes>"
      ]
     },
     "metadata": {
      "needs_background": "light"
     },
     "output_type": "display_data"
    }
   ],
   "source": [
    "#Check the distribution of total number of words in sequences\n",
    "total_words = [len(sequence) for sequence in sequences]\n",
    "plt.hist(total_words, bins = np.arange(0,400,10))\n",
    "plt.show()"
   ]
  },
  {
   "cell_type": "code",
   "execution_count": 26,
   "metadata": {},
   "outputs": [],
   "source": [
    "max_length = 100 #Cut texts after 100 words\n",
    "X = pad_sequences(sequences, maxlen=max_length, padding='post')"
   ]
  },
  {
   "cell_type": "code",
   "execution_count": 29,
   "metadata": {},
   "outputs": [],
   "source": [
    "#Encode the labels \n",
    "from sklearn.preprocessing import LabelEncoder\n",
    "\n",
    "encoder = LabelEncoder()\n",
    "y = encoder.fit_transform(df['Labels']) "
   ]
  },
  {
   "cell_type": "code",
   "execution_count": 53,
   "metadata": {},
   "outputs": [
    {
     "data": {
      "text/plain": [
       "array([0, 1, 1, ..., 1, 1, 0])"
      ]
     },
     "execution_count": 53,
     "metadata": {},
     "output_type": "execute_result"
    }
   ],
   "source": [
    "y"
   ]
  },
  {
   "cell_type": "markdown",
   "metadata": {},
   "source": [
    "### Split train and test sets"
   ]
  },
  {
   "cell_type": "code",
   "execution_count": 19,
   "metadata": {},
   "outputs": [],
   "source": [
    "from sklearn.model_selection import train_test_split\n",
    "x_train, x_test, y_train, y_test = train_test_split(X, y, test_size=0.1, random_state=2020)"
   ]
  },
  {
   "cell_type": "code",
   "execution_count": 20,
   "metadata": {},
   "outputs": [
    {
     "name": "stdout",
     "output_type": "stream",
     "text": [
      "(45000, 100) (45000,) (5000, 100) (5000,)\n"
     ]
    }
   ],
   "source": [
    "print(x_train.shape, y_train.shape, x_test.shape, y_test.shape)"
   ]
  },
  {
   "cell_type": "markdown",
   "metadata": {},
   "source": [
    "### Create Embedding Matrix"
   ]
  },
  {
   "cell_type": "code",
   "execution_count": 36,
   "metadata": {},
   "outputs": [
    {
     "data": {
      "text/plain": [
       "101741"
      ]
     },
     "execution_count": 36,
     "metadata": {},
     "output_type": "execute_result"
    }
   ],
   "source": [
    "word_index = tokenizer.word_index\n",
    "len(word_index)"
   ]
  },
  {
   "cell_type": "code",
   "execution_count": 33,
   "metadata": {},
   "outputs": [],
   "source": [
    "#Import Embeddings and create embedding dict\n",
    "embeddings_index = {}\n",
    "f = open('glove.6B/glove.6B.300d.txt', encoding=\"utf8\")\n",
    "#f = open('../w2v_embedding/cms_word2vec_embedding_300.txt')\n",
    "for line in f:\n",
    "    values = line.split()\n",
    "    word = values[0]\n",
    "    coefs = np.asarray(values[1:], dtype='float32')\n",
    "    embeddings_index[word] = coefs\n",
    "f.close()"
   ]
  },
  {
   "cell_type": "code",
   "execution_count": 37,
   "metadata": {},
   "outputs": [],
   "source": [
    "from keras.layers import Embedding\n",
    "from keras.initializers import Constant\n",
    "\n",
    "#Create embedding layer\n",
    "EMBEDDING_DIM = 300\n",
    "embedding_matrix = np.zeros((vocab_size, EMBEDDING_DIM))\n",
    "for word, i in word_index.items():\n",
    "    if i >= vocab_size: \n",
    "        continue\n",
    "    embedding_vector = embeddings_index.get(word)\n",
    "    if embedding_vector is not None:\n",
    "        embedding_matrix[i] = embedding_vector"
   ]
  },
  {
   "cell_type": "markdown",
   "metadata": {},
   "source": [
    "### Model Building"
   ]
  },
  {
   "cell_type": "code",
   "execution_count": 38,
   "metadata": {},
   "outputs": [],
   "source": [
    "from keras.models import Sequential\n",
    "from keras.layers import LSTM, Bidirectional, Dense, Dropout, Activation, Embedding\n",
    "from keras.layers.normalization import BatchNormalization\n",
    "\n",
    "model = Sequential()\n",
    "model.add(Embedding(vocab_size, #20000\n",
    "                    EMBEDDING_DIM, #300\n",
    "                    input_length=max_length, #100\n",
    "                    weights = [embedding_matrix], #20000 x 300 \n",
    "                    trainable = False))\n",
    "model.add(Bidirectional(LSTM(256)))\n",
    "model.add(BatchNormalization())\n",
    "model.add(Dense(128, activation='relu'))\n",
    "model.add(Dropout(0.2))\n",
    "model.add(Dense(1, activation = 'sigmoid'))"
   ]
  },
  {
   "cell_type": "code",
   "execution_count": 26,
   "metadata": {},
   "outputs": [
    {
     "name": "stdout",
     "output_type": "stream",
     "text": [
      "Model: \"sequential_2\"\n",
      "_________________________________________________________________\n",
      "Layer (type)                 Output Shape              Param #   \n",
      "=================================================================\n",
      "embedding_2 (Embedding)      (None, 100, 300)          6000000   \n",
      "_________________________________________________________________\n",
      "bidirectional_2 (Bidirection (None, 512)               1140736   \n",
      "_________________________________________________________________\n",
      "batch_normalization_2 (Batch (None, 512)               2048      \n",
      "_________________________________________________________________\n",
      "dense_3 (Dense)              (None, 128)               65664     \n",
      "_________________________________________________________________\n",
      "dropout_2 (Dropout)          (None, 128)               0         \n",
      "_________________________________________________________________\n",
      "dense_4 (Dense)              (None, 1)                 129       \n",
      "=================================================================\n",
      "Total params: 7,208,577\n",
      "Trainable params: 1,207,553\n",
      "Non-trainable params: 6,001,024\n",
      "_________________________________________________________________\n"
     ]
    }
   ],
   "source": [
    "model.summary()"
   ]
  },
  {
   "cell_type": "code",
   "execution_count": 27,
   "metadata": {},
   "outputs": [],
   "source": [
    "from keras.optimizers import Adam\n",
    "from keras.callbacks import ModelCheckpoint, ReduceLROnPlateau, EarlyStopping\n",
    "lr = 3e-4\n",
    "epochs = 10\n",
    "\n",
    "adam = Adam(lr=lr)\n",
    "\n",
    "model.compile(adam, 'categorical_crossentropy', metrics=['accuracy'])"
   ]
  },
  {
   "cell_type": "code",
   "execution_count": 28,
   "metadata": {},
   "outputs": [],
   "source": [
    "model_chkpoint = ModelCheckpoint(filepath='spam_best_model.hdf5', save_best_only=True, save_weights_only=True)"
   ]
  },
  {
   "cell_type": "code",
   "execution_count": 29,
   "metadata": {},
   "outputs": [],
   "source": [
    "reduce_lr = ReduceLROnPlateau(monitor='val_acc', \n",
    "                                patience=3, \n",
    "                                verbose=1, \n",
    "                                factor=0.2, \n",
    "                                min_lr=1e-7)"
   ]
  },
  {
   "cell_type": "code",
   "execution_count": 30,
   "metadata": {},
   "outputs": [],
   "source": [
    "model.compile(optimizer='adam',\n",
    "              loss='binary_crossentropy',\n",
    "              metrics=['acc'])"
   ]
  },
  {
   "cell_type": "code",
   "execution_count": 31,
   "metadata": {},
   "outputs": [
    {
     "name": "stdout",
     "output_type": "stream",
     "text": [
      "Train on 42750 samples, validate on 2250 samples\n",
      "Epoch 1/10\n",
      "42750/42750 [==============================] - 535s 13ms/step - loss: 0.3412 - acc: 0.8559 - val_loss: 0.2640 - val_acc: 0.8933\n",
      "Epoch 2/10\n",
      "42750/42750 [==============================] - 530s 12ms/step - loss: 0.2438 - acc: 0.9005 - val_loss: 0.2962 - val_acc: 0.8844\n",
      "Epoch 3/10\n",
      "42750/42750 [==============================] - 515s 12ms/step - loss: 0.2090 - acc: 0.9144 - val_loss: 0.2267 - val_acc: 0.9138\n",
      "Epoch 4/10\n",
      "42750/42750 [==============================] - 643s 15ms/step - loss: 0.1763 - acc: 0.9263 - val_loss: 0.2537 - val_acc: 0.9124\n",
      "Epoch 5/10\n",
      "42750/42750 [==============================] - 580s 14ms/step - loss: 0.1407 - acc: 0.9428 - val_loss: 0.3154 - val_acc: 0.8920\n",
      "Epoch 6/10\n",
      "42750/42750 [==============================] - 484s 11ms/step - loss: 0.1041 - acc: 0.9570 - val_loss: 0.3607 - val_acc: 0.9004\n",
      "\n",
      "Epoch 00006: ReduceLROnPlateau reducing learning rate to 0.00020000000949949026.\n",
      "Epoch 7/10\n",
      "42750/42750 [==============================] - 501s 12ms/step - loss: 0.0494 - acc: 0.9817 - val_loss: 0.3905 - val_acc: 0.9022\n",
      "Epoch 8/10\n",
      "42750/42750 [==============================] - 508s 12ms/step - loss: 0.0284 - acc: 0.9901 - val_loss: 0.4686 - val_acc: 0.9067\n",
      "Epoch 9/10\n",
      "42750/42750 [==============================] - 506s 12ms/step - loss: 0.0195 - acc: 0.9939 - val_loss: 0.5199 - val_acc: 0.9044\n",
      "\n",
      "Epoch 00009: ReduceLROnPlateau reducing learning rate to 4.0000001899898055e-05.\n",
      "Epoch 10/10\n",
      "42750/42750 [==============================] - 492s 12ms/step - loss: 0.0117 - acc: 0.9969 - val_loss: 0.5650 - val_acc: 0.9062\n"
     ]
    },
    {
     "data": {
      "text/plain": [
       "<keras.callbacks.callbacks.History at 0x7f0be8338f28>"
      ]
     },
     "execution_count": 31,
     "metadata": {},
     "output_type": "execute_result"
    }
   ],
   "source": [
    "model.fit(x_train, y_train, validation_split=0.05, epochs=epochs, callbacks=[reduce_lr, model_chkpoint])"
   ]
  },
  {
   "cell_type": "code",
   "execution_count": 33,
   "metadata": {},
   "outputs": [],
   "source": [
    "y_preds = model.predict_classes(x_test)"
   ]
  },
  {
   "cell_type": "code",
   "execution_count": 34,
   "metadata": {},
   "outputs": [
    {
     "data": {
      "text/plain": [
       "array([[0],\n",
       "       [0],\n",
       "       [1],\n",
       "       ...,\n",
       "       [1],\n",
       "       [1],\n",
       "       [0]], dtype=int32)"
      ]
     },
     "execution_count": 34,
     "metadata": {},
     "output_type": "execute_result"
    }
   ],
   "source": [
    "y_preds"
   ]
  },
  {
   "cell_type": "code",
   "execution_count": 38,
   "metadata": {},
   "outputs": [
    {
     "data": {
      "text/plain": [
       "0.8998"
      ]
     },
     "execution_count": 38,
     "metadata": {},
     "output_type": "execute_result"
    }
   ],
   "source": [
    "from sklearn.metrics import accuracy_score, confusion_matrix\n",
    "accuracy_score(y_test, y_preds)"
   ]
  },
  {
   "cell_type": "code",
   "execution_count": 39,
   "metadata": {},
   "outputs": [
    {
     "data": {
      "text/plain": [
       "array([[1527,  262],\n",
       "       [ 239, 2972]])"
      ]
     },
     "execution_count": 39,
     "metadata": {},
     "output_type": "execute_result"
    }
   ],
   "source": [
    "confusion_matrix(y_test, y_preds)"
   ]
  },
  {
   "cell_type": "markdown",
   "metadata": {},
   "source": [
    "### Model Predictions on Test Set"
   ]
  },
  {
   "cell_type": "code",
   "execution_count": 2,
   "metadata": {},
   "outputs": [
    {
     "data": {
      "text/html": [
       "<div>\n",
       "<style scoped>\n",
       "    .dataframe tbody tr th:only-of-type {\n",
       "        vertical-align: middle;\n",
       "    }\n",
       "\n",
       "    .dataframe tbody tr th {\n",
       "        vertical-align: top;\n",
       "    }\n",
       "\n",
       "    .dataframe thead th {\n",
       "        text-align: right;\n",
       "    }\n",
       "</style>\n",
       "<table border=\"1\" class=\"dataframe\">\n",
       "  <thead>\n",
       "    <tr style=\"text-align: right;\">\n",
       "      <th></th>\n",
       "      <th>Unnamed: 0</th>\n",
       "      <th>id</th>\n",
       "      <th>Title</th>\n",
       "      <th>Content</th>\n",
       "    </tr>\n",
       "  </thead>\n",
       "  <tbody>\n",
       "    <tr>\n",
       "      <td>0</td>\n",
       "      <td>41151</td>\n",
       "      <td>Comp_41162</td>\n",
       "      <td>[SELL/SWAP] THE BALM, MUFE LIPS &amp; EYES, NARS, ...</td>\n",
       "      <td>[deleted]</td>\n",
       "    </tr>\n",
       "    <tr>\n",
       "      <td>1</td>\n",
       "      <td>49948</td>\n",
       "      <td>Comp_49959</td>\n",
       "      <td>Rose Leslie</td>\n",
       "      <td>NaN</td>\n",
       "    </tr>\n",
       "    <tr>\n",
       "      <td>2</td>\n",
       "      <td>64657</td>\n",
       "      <td>Comp_64668</td>\n",
       "      <td>Itchy eye, dermatologist or optician?</td>\n",
       "      <td>I'd be very tempted to have a chat with an opt...</td>\n",
       "    </tr>\n",
       "    <tr>\n",
       "      <td>3</td>\n",
       "      <td>71724</td>\n",
       "      <td>Comp_71735</td>\n",
       "      <td>OTR II Rome: Beyonc√© Performed With Her Natur...</td>\n",
       "      <td>CourtneyGripling said: ‚Üë Now that we‚Äôve se...</td>\n",
       "    </tr>\n",
       "    <tr>\n",
       "      <td>4</td>\n",
       "      <td>89396</td>\n",
       "      <td>Comp_89407</td>\n",
       "      <td>Teala Dunn part IV: new wig, new squad, still ...</td>\n",
       "      <td>ellesig said: ‚Üë View attachment 356135 View ...</td>\n",
       "    </tr>\n",
       "  </tbody>\n",
       "</table>\n",
       "</div>"
      ],
      "text/plain": [
       "   Unnamed: 0          id                                              Title  \\\n",
       "0       41151  Comp_41162  [SELL/SWAP] THE BALM, MUFE LIPS & EYES, NARS, ...   \n",
       "1       49948  Comp_49959                                        Rose Leslie   \n",
       "2       64657  Comp_64668              Itchy eye, dermatologist or optician?   \n",
       "3       71724  Comp_71735  OTR II Rome: Beyonc√© Performed With Her Natur...   \n",
       "4       89396  Comp_89407  Teala Dunn part IV: new wig, new squad, still ...   \n",
       "\n",
       "                                             Content  \n",
       "0                                          [deleted]  \n",
       "1                                                NaN  \n",
       "2  I'd be very tempted to have a chat with an opt...  \n",
       "3  CourtneyGripling said: ‚Üë Now that we‚Äôve se...  \n",
       "4  ellesig said: ‚Üë View attachment 356135 View ...  "
      ]
     },
     "execution_count": 2,
     "metadata": {},
     "output_type": "execute_result"
    }
   ],
   "source": [
    "#Load the test set\n",
    "df_test = pd.read_excel('day2_71c01958-464d-11ea-9162-1856804d508f_test_set_50k.xlsx')\n",
    "df_test.head()"
   ]
  },
  {
   "cell_type": "code",
   "execution_count": 3,
   "metadata": {},
   "outputs": [],
   "source": [
    "#Combine Title and Content columns\n",
    "df_test[\"text\"] = df_test[\"Title\"].map(str) + ' ' + df_test[\"Content\"].map(str)"
   ]
  },
  {
   "cell_type": "code",
   "execution_count": 6,
   "metadata": {},
   "outputs": [],
   "source": [
    "#Apply preprocessing method\n",
    "df_test['preproc_text'] = df_test['text'].map(lambda x: preprocessing(x))"
   ]
  },
  {
   "cell_type": "code",
   "execution_count": 27,
   "metadata": {},
   "outputs": [],
   "source": [
    "#Convert texts into sequences\n",
    "test_sequences = tokenizer.texts_to_sequences(df_test['preproc_text'])"
   ]
  },
  {
   "cell_type": "code",
   "execution_count": 30,
   "metadata": {},
   "outputs": [],
   "source": [
    "#pad sequences to have max length of 100\n",
    "texts = pad_sequences(test_sequences, maxlen=max_length, padding='post')"
   ]
  },
  {
   "cell_type": "code",
   "execution_count": 40,
   "metadata": {},
   "outputs": [
    {
     "name": "stdout",
     "output_type": "stream",
     "text": [
      "Model: \"sequential_1\"\n",
      "_________________________________________________________________\n",
      "Layer (type)                 Output Shape              Param #   \n",
      "=================================================================\n",
      "embedding_1 (Embedding)      (None, 100, 300)          6000000   \n",
      "_________________________________________________________________\n",
      "bidirectional_1 (Bidirection (None, 512)               1140736   \n",
      "_________________________________________________________________\n",
      "batch_normalization_1 (Batch (None, 512)               2048      \n",
      "_________________________________________________________________\n",
      "dense_1 (Dense)              (None, 128)               65664     \n",
      "_________________________________________________________________\n",
      "dropout_1 (Dropout)          (None, 128)               0         \n",
      "_________________________________________________________________\n",
      "dense_2 (Dense)              (None, 1)                 129       \n",
      "=================================================================\n",
      "Total params: 7,208,577\n",
      "Trainable params: 1,207,553\n",
      "Non-trainable params: 6,001,024\n",
      "_________________________________________________________________\n"
     ]
    }
   ],
   "source": [
    "#load the model weights\n",
    "model.load_weights('spam_best_model.hdf5')\n",
    "model.summary()"
   ]
  },
  {
   "cell_type": "code",
   "execution_count": 41,
   "metadata": {},
   "outputs": [],
   "source": [
    "#predict class labels\n",
    "label_preds = model.predict_classes(texts)"
   ]
  },
  {
   "cell_type": "code",
   "execution_count": 48,
   "metadata": {},
   "outputs": [
    {
     "data": {
      "text/plain": [
       "array([[1],\n",
       "       [1],\n",
       "       [1],\n",
       "       ...,\n",
       "       [0],\n",
       "       [0],\n",
       "       [0]], dtype=int32)"
      ]
     },
     "execution_count": 48,
     "metadata": {},
     "output_type": "execute_result"
    }
   ],
   "source": [
    "label_preds"
   ]
  },
  {
   "cell_type": "code",
   "execution_count": 52,
   "metadata": {},
   "outputs": [
    {
     "data": {
      "text/plain": [
       "array([[    0, 17058],\n",
       "       [    1, 32942]])"
      ]
     },
     "execution_count": 52,
     "metadata": {},
     "output_type": "execute_result"
    }
   ],
   "source": [
    "#Predicted class distribution\n",
    "np.array(np.unique(label_preds, return_counts=True)).T"
   ]
  },
  {
   "cell_type": "code",
   "execution_count": 59,
   "metadata": {},
   "outputs": [],
   "source": [
    "#Convert classes into labels\n",
    "labels = ['HAM' if i == 0 else 'SPAM' for i in label_preds] "
   ]
  },
  {
   "cell_type": "code",
   "execution_count": 60,
   "metadata": {},
   "outputs": [],
   "source": [
    "#Add labels in the dataframe\n",
    "df_test['labels'] = labels"
   ]
  },
  {
   "cell_type": "code",
   "execution_count": 61,
   "metadata": {},
   "outputs": [
    {
     "data": {
      "text/html": [
       "<div>\n",
       "<style scoped>\n",
       "    .dataframe tbody tr th:only-of-type {\n",
       "        vertical-align: middle;\n",
       "    }\n",
       "\n",
       "    .dataframe tbody tr th {\n",
       "        vertical-align: top;\n",
       "    }\n",
       "\n",
       "    .dataframe thead th {\n",
       "        text-align: right;\n",
       "    }\n",
       "</style>\n",
       "<table border=\"1\" class=\"dataframe\">\n",
       "  <thead>\n",
       "    <tr style=\"text-align: right;\">\n",
       "      <th></th>\n",
       "      <th>Unnamed: 0</th>\n",
       "      <th>id</th>\n",
       "      <th>Title</th>\n",
       "      <th>Content</th>\n",
       "      <th>text</th>\n",
       "      <th>preproc_text</th>\n",
       "      <th>labels</th>\n",
       "    </tr>\n",
       "  </thead>\n",
       "  <tbody>\n",
       "    <tr>\n",
       "      <td>0</td>\n",
       "      <td>41151</td>\n",
       "      <td>Comp_41162</td>\n",
       "      <td>[SELL/SWAP] THE BALM, MUFE LIPS &amp; EYES, NARS, ...</td>\n",
       "      <td>[deleted]</td>\n",
       "      <td>[SELL/SWAP] THE BALM, MUFE LIPS &amp; EYES, NARS, ...</td>\n",
       "      <td>sell swap balm mufe lip eye nars clinique anas...</td>\n",
       "      <td>SPAM</td>\n",
       "    </tr>\n",
       "    <tr>\n",
       "      <td>1</td>\n",
       "      <td>49948</td>\n",
       "      <td>Comp_49959</td>\n",
       "      <td>Rose Leslie</td>\n",
       "      <td>NaN</td>\n",
       "      <td>Rose Leslie nan</td>\n",
       "      <td>rose leslie</td>\n",
       "      <td>SPAM</td>\n",
       "    </tr>\n",
       "    <tr>\n",
       "      <td>2</td>\n",
       "      <td>64657</td>\n",
       "      <td>Comp_64668</td>\n",
       "      <td>Itchy eye, dermatologist or optician?</td>\n",
       "      <td>I'd be very tempted to have a chat with an opt...</td>\n",
       "      <td>Itchy eye, dermatologist or optician? I'd be v...</td>\n",
       "      <td>itchy dermatologist optician tempted chat opti...</td>\n",
       "      <td>SPAM</td>\n",
       "    </tr>\n",
       "    <tr>\n",
       "      <td>3</td>\n",
       "      <td>71724</td>\n",
       "      <td>Comp_71735</td>\n",
       "      <td>OTR II Rome: Beyonc√© Performed With Her Natur...</td>\n",
       "      <td>CourtneyGripling said: ‚Üë Now that we‚Äôve se...</td>\n",
       "      <td>OTR II Rome: Beyonc√© Performed With Her Natur...</td>\n",
       "      <td>rome beyonc performed natural hair courtneygri...</td>\n",
       "      <td>SPAM</td>\n",
       "    </tr>\n",
       "    <tr>\n",
       "      <td>4</td>\n",
       "      <td>89396</td>\n",
       "      <td>Comp_89407</td>\n",
       "      <td>Teala Dunn part IV: new wig, new squad, still ...</td>\n",
       "      <td>ellesig said: ‚Üë View attachment 356135 View ...</td>\n",
       "      <td>Teala Dunn part IV: new wig, new squad, still ...</td>\n",
       "      <td>teala dunn part squad still white chasin elles...</td>\n",
       "      <td>SPAM</td>\n",
       "    </tr>\n",
       "  </tbody>\n",
       "</table>\n",
       "</div>"
      ],
      "text/plain": [
       "   Unnamed: 0          id                                              Title  \\\n",
       "0       41151  Comp_41162  [SELL/SWAP] THE BALM, MUFE LIPS & EYES, NARS, ...   \n",
       "1       49948  Comp_49959                                        Rose Leslie   \n",
       "2       64657  Comp_64668              Itchy eye, dermatologist or optician?   \n",
       "3       71724  Comp_71735  OTR II Rome: Beyonc√© Performed With Her Natur...   \n",
       "4       89396  Comp_89407  Teala Dunn part IV: new wig, new squad, still ...   \n",
       "\n",
       "                                             Content  \\\n",
       "0                                          [deleted]   \n",
       "1                                                NaN   \n",
       "2  I'd be very tempted to have a chat with an opt...   \n",
       "3  CourtneyGripling said: ‚Üë Now that we‚Äôve se...   \n",
       "4  ellesig said: ‚Üë View attachment 356135 View ...   \n",
       "\n",
       "                                                text  \\\n",
       "0  [SELL/SWAP] THE BALM, MUFE LIPS & EYES, NARS, ...   \n",
       "1                                    Rose Leslie nan   \n",
       "2  Itchy eye, dermatologist or optician? I'd be v...   \n",
       "3  OTR II Rome: Beyonc√© Performed With Her Natur...   \n",
       "4  Teala Dunn part IV: new wig, new squad, still ...   \n",
       "\n",
       "                                        preproc_text labels  \n",
       "0  sell swap balm mufe lip eye nars clinique anas...   SPAM  \n",
       "1                                        rose leslie   SPAM  \n",
       "2  itchy dermatologist optician tempted chat opti...   SPAM  \n",
       "3  rome beyonc performed natural hair courtneygri...   SPAM  \n",
       "4  teala dunn part squad still white chasin elles...   SPAM  "
      ]
     },
     "execution_count": 61,
     "metadata": {},
     "output_type": "execute_result"
    }
   ],
   "source": [
    "df_test.head()"
   ]
  },
  {
   "cell_type": "code",
   "execution_count": 64,
   "metadata": {},
   "outputs": [],
   "source": [
    "df_test.to_csv('predicted_data.csv', index=False)"
   ]
  }
 ],
 "metadata": {
  "kernelspec": {
   "display_name": "Python 3",
   "language": "python",
   "name": "python3"
  },
  "language_info": {
   "codemirror_mode": {
    "name": "ipython",
    "version": 3
   },
   "file_extension": ".py",
   "mimetype": "text/x-python",
   "name": "python",
   "nbconvert_exporter": "python",
   "pygments_lexer": "ipython3",
   "version": "3.7.6"
  }
 },
 "nbformat": 4,
 "nbformat_minor": 4
}
