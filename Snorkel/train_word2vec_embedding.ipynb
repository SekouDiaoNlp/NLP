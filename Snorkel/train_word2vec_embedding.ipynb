{
 "cells": [
  {
   "cell_type": "code",
   "execution_count": 3,
   "metadata": {},
   "outputs": [],
   "source": [
    "from gensim.models import Word2Vec\n",
    "import nltk\n",
    "from nltk.tokenize import sent_tokenize, word_tokenize\n",
    "import pandas as pd\n",
    "from nltk.corpus import stopwords"
   ]
  },
  {
   "cell_type": "code",
   "execution_count": 4,
   "metadata": {},
   "outputs": [
    {
     "name": "stdout",
     "output_type": "stream",
     "text": [
      "{\"it's\", 'their', 't', 'where', 'most', 'have', 'there', \"doesn't\", 'again', 'me', 'himself', 'too', 'or', \"aren't\", 'weren', 'nor', 'from', 'through', 'ain', 'them', 'very', 'whom', 'itself', 'yourselves', 'other', 'by', \"that'll\", 'after', 'o', 'in', 'yours', 'down', 'd', \"shouldn't\", 'under', 'hers', 'when', 'don', \"you'd\", 'just', 'his', 'against', 'during', 'didn', \"mightn't\", 'had', 'myself', 'we', 's', 'she', 'theirs', 'wasn', 'who', 'an', 'i', 'both', \"haven't\", 'how', 'now', 'no', 'can', 'won', 'a', 'its', 'above', 'those', 'about', 'into', 'such', 'doesn', 'he', 'doing', 'own', 'y', 'on', 'having', 'here', 'shan', 'you', 'yourself', 'wouldn', \"won't\", 'and', 'then', 'between', 're', \"didn't\", 'has', 'your', 'were', 'up', 'will', \"shan't\", \"don't\", 'our', 'out', 'why', 'was', 'that', 'her', \"you've\", 'the', 'for', 'further', 'only', 'isn', 'once', 'needn', 'it', 'each', 'below', 'than', 'themselves', 'hadn', 'of', 'be', 'being', 'because', 'am', 've', \"hasn't\", \"isn't\", 'ma', \"needn't\", 'at', 'aren', 'what', 'are', 'all', 'so', 'him', 'mustn', 'is', \"wouldn't\", 'should', \"couldn't\", 'll', 'been', 'but', 'some', \"mustn't\", 'any', 'my', 'over', 'if', 'with', 'not', \"you're\", 'these', 'mightn', 'off', \"wasn't\", 'does', 'which', 'until', \"should've\", 'before', 'm', 'shouldn', 'haven', 'ours', 'couldn', 'they', \"you'll\", 'same', \"she's\", 'do', 'ourselves', 'to', \"hadn't\", 'while', 'this', 'as', 'did', 'hasn', 'few', 'herself', 'more', \"weren't\"}\n"
     ]
    }
   ],
   "source": [
    "stop_words = set(stopwords.words('english'))\n",
    "print(stop_words)"
   ]
  },
  {
   "cell_type": "code",
   "execution_count": 6,
   "metadata": {},
   "outputs": [],
   "source": [
    "df_unlabeled = pd.read_csv('unlabeled_data_new1.csv')\n",
    "df_unlabeled.shape"
   ]
  },
  {
   "cell_type": "code",
   "execution_count": 5,
   "metadata": {},
   "outputs": [
    {
     "data": {
      "text/html": [
       "<div>\n",
       "<style scoped>\n",
       "    .dataframe tbody tr th:only-of-type {\n",
       "        vertical-align: middle;\n",
       "    }\n",
       "\n",
       "    .dataframe tbody tr th {\n",
       "        vertical-align: top;\n",
       "    }\n",
       "\n",
       "    .dataframe thead th {\n",
       "        text-align: right;\n",
       "    }\n",
       "</style>\n",
       "<table border=\"1\" class=\"dataframe\">\n",
       "  <thead>\n",
       "    <tr style=\"text-align: right;\">\n",
       "      <th></th>\n",
       "      <th>filename</th>\n",
       "      <th>text</th>\n",
       "    </tr>\n",
       "  </thead>\n",
       "  <tbody>\n",
       "    <tr>\n",
       "      <td>0</td>\n",
       "      <td>D36051.pdf.out.html.txt</td>\n",
       "      <td>janet ley approval sow mcw dba dmi mobility s...</td>\n",
       "    </tr>\n",
       "    <tr>\n",
       "      <td>1</td>\n",
       "      <td>D07271.pdf.out.html.txt</td>\n",
       "      <td>agreement this schedule a this schedule is att...</td>\n",
       "    </tr>\n",
       "    <tr>\n",
       "      <td>2</td>\n",
       "      <td>D28723.pdf.out.html.txt</td>\n",
       "      <td>wolters kluwer contingent staffing request fo...</td>\n",
       "    </tr>\n",
       "    <tr>\n",
       "      <td>3</td>\n",
       "      <td>D42247.pdf.out.html.txt</td>\n",
       "      <td>agreement received this agreement is entered i...</td>\n",
       "    </tr>\n",
       "    <tr>\n",
       "      <td>4</td>\n",
       "      <td>D19377.pdf.out.html.txt</td>\n",
       "      <td>addendum to hosting and services agreement thi...</td>\n",
       "    </tr>\n",
       "  </tbody>\n",
       "</table>\n",
       "</div>"
      ],
      "text/plain": [
       "                  filename                                               text\n",
       "0  D36051.pdf.out.html.txt   janet ley approval sow mcw dba dmi mobility s...\n",
       "1  D07271.pdf.out.html.txt  agreement this schedule a this schedule is att...\n",
       "2  D28723.pdf.out.html.txt   wolters kluwer contingent staffing request fo...\n",
       "3  D42247.pdf.out.html.txt  agreement received this agreement is entered i...\n",
       "4  D19377.pdf.out.html.txt  addendum to hosting and services agreement thi..."
      ]
     },
     "execution_count": 5,
     "metadata": {},
     "output_type": "execute_result"
    }
   ],
   "source": [
    "df_unlabeled.head()"
   ]
  },
  {
   "cell_type": "code",
   "execution_count": 18,
   "metadata": {},
   "outputs": [],
   "source": [
    "data = []\n",
    "for doc in df_unlabeled[\"text\"]:\n",
    "    temp = [word for word in word_tokenize(doc) if word not in stop_words]       \n",
    "    data.append(temp)"
   ]
  },
  {
   "cell_type": "code",
   "execution_count": 45,
   "metadata": {},
   "outputs": [
    {
     "data": {
      "text/plain": [
       "2727"
      ]
     },
     "execution_count": 45,
     "metadata": {},
     "output_type": "execute_result"
    }
   ],
   "source": [
    "len(data[100])"
   ]
  },
  {
   "cell_type": "code",
   "execution_count": 7,
   "metadata": {},
   "outputs": [],
   "source": [
    "w2v_model = Word2Vec(min_count=20,\n",
    "                     window=5,\n",
    "                     size=300,\n",
    "                     sample=1e-5,\n",
    "                     alpha=0.03,\n",
    "                     min_alpha=0.0007,\n",
    "                     negative=20)"
   ]
  },
  {
   "cell_type": "code",
   "execution_count": 68,
   "metadata": {},
   "outputs": [],
   "source": [
    "w2v_model.build_vocab(data, progress_per=10000)"
   ]
  },
  {
   "cell_type": "code",
   "execution_count": 69,
   "metadata": {},
   "outputs": [
    {
     "data": {
      "text/plain": [
       "(158315342, 598378590)"
      ]
     },
     "execution_count": 69,
     "metadata": {},
     "output_type": "execute_result"
    }
   ],
   "source": [
    "w2v_model.train(data, total_examples=w2v_model.corpus_count, epochs=30, report_delay=1)"
   ]
  },
  {
   "cell_type": "code",
   "execution_count": 70,
   "metadata": {},
   "outputs": [
    {
     "data": {
      "text/plain": [
       "[('parties', 0.8012531995773315),\n",
       " ('herein', 0.7767629623413086),\n",
       " ('shall', 0.7520820498466492),\n",
       " ('pursuant', 0.7239318490028381),\n",
       " ('terms', 0.7206985354423523),\n",
       " ('respect', 0.6902549266815186),\n",
       " ('except', 0.6871460676193237),\n",
       " ('expressly', 0.6828329563140869),\n",
       " ('provisions', 0.6800305843353271),\n",
       " ('hereto', 0.6790898442268372)]"
      ]
     },
     "execution_count": 70,
     "metadata": {},
     "output_type": "execute_result"
    }
   ],
   "source": [
    "#Check validity\n",
    "w2v_model.wv.most_similar('agreement')"
   ]
  },
  {
   "cell_type": "code",
   "execution_count": 71,
   "metadata": {},
   "outputs": [
    {
     "data": {
      "text/plain": [
       "21283"
      ]
     },
     "execution_count": 71,
     "metadata": {},
     "output_type": "execute_result"
    }
   ],
   "source": [
    "len(w2v_model.wv.vocab)"
   ]
  },
  {
   "cell_type": "code",
   "execution_count": 73,
   "metadata": {},
   "outputs": [],
   "source": [
    "filename = 'cms_word2vec_embedding_300.txt'\n",
    "w2v_model.wv.save_word2vec_format(filename, binary=False)"
   ]
  },
  {
   "cell_type": "code",
   "execution_count": null,
   "metadata": {},
   "outputs": [],
   "source": []
  }
 ],
 "metadata": {
  "kernelspec": {
   "display_name": "venv_shyam",
   "language": "python",
   "name": "venv_shyam"
  },
  "language_info": {
   "codemirror_mode": {
    "name": "ipython",
    "version": 3
   },
   "file_extension": ".py",
   "mimetype": "text/x-python",
   "name": "python",
   "nbconvert_exporter": "python",
   "pygments_lexer": "ipython3",
   "version": "3.6.10"
  }
 },
 "nbformat": 4,
 "nbformat_minor": 2
}
