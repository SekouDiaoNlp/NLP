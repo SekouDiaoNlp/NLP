{
 "cells": [
  {
   "cell_type": "code",
   "execution_count": 1,
   "metadata": {},
   "outputs": [],
   "source": [
    "import pandas as pd\n",
    "import numpy as np\n",
    "import os\n",
    "import shutil\n",
    "import re"
   ]
  },
  {
   "cell_type": "code",
   "execution_count": 2,
   "metadata": {},
   "outputs": [],
   "source": [
    "class_keywords = ['agreement','statement of work','sow','addendum','amendment','work order','nda']\n",
    "search_keywords =  ['between','among', 'undersigned','effective','dated']"
   ]
  },
  {
   "cell_type": "markdown",
   "metadata": {},
   "source": [
    "#corpus = '/home/user/Documents/Code/Data/corpus'\n",
    "corpus = '/home/user/Desktop/Labelled_Files/'\n",
    "w = os.walk(corpus)\n",
    "\n",
    "start_pos=[]\n",
    "end_pos = []\n",
    "junk = 0\n",
    "non_junk = 0    \n",
    "\n",
    "for root, dirs, files in w:\n",
    "    \n",
    "    for i, file in enumerate(files):\n",
    "        f = open(os.path.join(root, file), \"r\")\n",
    "        text = f.read()\n",
    "        text = text.lower()\n",
    "        index1 = None\n",
    "        index2 = None\n",
    "        #print(file)\n",
    "        for key in class_keywords:\n",
    "            if key in text:\n",
    "                index1 = text.find(key)\n",
    "                start_pos.append(index1)\n",
    "                #print(index1, key)\n",
    "        index1 = min(start_pos)\n",
    "        \n",
    "        for item in search_keywords:\n",
    "            if item in text and index1 is not None:\n",
    "                index2 = text.find(item)\n",
    "                end_pos.append(index2)\n",
    "                #print(index2, item)\n",
    "        if index2 is not None:\n",
    "            index2 = min(end_pos)\n",
    "                \n",
    "        if index1 is not None and index2 is not None and index1 < index2 and len(text[index1:index2].split()) < 30:\n",
    "            non_junk +=1\n",
    "            #print(file, 'non_junk')\n",
    "        else:\n",
    "            junk +=1\n",
    "            print(file, 'junk')\n",
    "print(junk, non_junk)"
   ]
  },
  {
   "cell_type": "markdown",
   "metadata": {},
   "source": [
    "corpus = '/home/user/Documents/Code/Data/UDA_Data/Labelled/'\n",
    "w= os.walk(corpus)\n",
    "filename=[]\n",
    "non_others =0\n",
    "others=0\n",
    "for root, dirs, files in w:\n",
    "    \n",
    "    docs = []\n",
    "    filenames = []\n",
    "    condition = None  \n",
    "    for i, file in enumerate(files):\n",
    "        f = open(os.path.join(root, file), \"r\")\n",
    "        text = f.read()\n",
    "        text = text.lower()\n",
    "        for item in class_keywords:\n",
    "            if item in text:\n",
    "                for key in search_keywords:\n",
    "                    condition = re.search(r\"({})(.*) ({})\".format(item, key),text)\n",
    "                    print(file, condition)\n",
    "                    #break\n",
    "                if condition is not None:\n",
    "                    non_others+=1\n",
    "                else:\n",
    "                    others+=1\n",
    "                    \n",
    "print(others, non_others)"
   ]
  },
  {
   "cell_type": "code",
   "execution_count": 4,
   "metadata": {},
   "outputs": [
    {
     "name": "stdout",
     "output_type": "stream",
     "text": [
      "0 111\n"
     ]
    }
   ],
   "source": [
    "#corpus = '/home/user/Documents/Code/Data/corpus'\n",
    "#corpus = '/home/user/Desktop/Labelled_Files/other_files'\n",
    "corpus = '/home/user/Shyam/Code/Release_6.0/Dev/Snorkel/data/filtered/non_agreements/'\n",
    "w = os.walk(corpus)\n",
    "\n",
    "junk = 0\n",
    "non_junk = 0    \n",
    "\n",
    "for root, dirs, files in w:\n",
    "    \n",
    "    for file in files:\n",
    "        #file = 'D10204.pdf.out.html.txt'\n",
    "        f = open(os.path.join(root, file), \"r\")\n",
    "        text = f.read()\n",
    "        text = text.lower()\n",
    "        index1 = None\n",
    "        index2 = None\n",
    "        start_pos=[]\n",
    "        #print(file)\n",
    "\n",
    "        for key in class_keywords:\n",
    "            if key in text:\n",
    "                index1 = [m.start() for m in re.finditer(key, text)]\n",
    "                start_pos.append(index1)\n",
    "        index1_list = [item for sublist in start_pos for item in sublist]\n",
    "                \n",
    "        if not index1_list: #if index1 is not found\n",
    "            junk +=1\n",
    "            #print(file, 'junk')\n",
    "            \n",
    "        else: \n",
    "            start_indices = sorted(index1_list) #sort the start indices\n",
    "            match_found = False\n",
    "            for index1 in start_indices:\n",
    "                if not(match_found):\n",
    "                    #print(\"index1: \", index1)\n",
    "\n",
    "                    for key in search_keywords:                  \n",
    "                        if not(match_found) and key in text:\n",
    "                            index2 = text.find(key)\n",
    "                            #print(\"index2: \", index2)\n",
    "\n",
    "                            if index2 is not None and index1 < index2 and len(text[index1:index2].split()) < 30:\n",
    "                                non_junk +=1\n",
    "                                #print(file, 'non_junk') \n",
    "                                match_found = True\n",
    "            if not(match_found):\n",
    "                junk +=1\n",
    "                #print(file, 'junk')   \n",
    "        #break\n",
    "                        \n",
    "print(junk, non_junk)"
   ]
  },
  {
   "cell_type": "markdown",
   "metadata": {},
   "source": [
    "### MSA<br>\n",
    "Junk 1 - NonJunk 473 <br>\n",
    "D12400.pdf.out.html.txt junk <br>\n",
    "\n",
    "### SOW<br>\n",
    "Junk 16 - NonJunk 266 <br>\n",
    "D00092.pdf.out.html.txt junk<br>\n",
    "D02961.pdf.out.html.txt junk<br>\n",
    "D00991.pdf.out.html.txt junk<br>\n",
    "D16211.pdf.out.html.txt junk<br>\n",
    "D00091.pdf.out.html.txt junk<br>\n",
    "D01061.pdf.out.html.txt junk<br>\n",
    "D00572.pdf.out.html.txt junk<br>\n",
    "D01378.pdf.out.html.txt junk<br>\n",
    "D16445.pdf.out.html.txt junk<br>\n",
    "D01062.pdf.out.html.txt junk<br>\n",
    "D00688.pdf.out.html.txt junk<br>\n",
    "D01099.pdf.out.html.txt junk<br>\n",
    "D11144.pdf.out.html.txt junk<br>\n",
    "D00243.pdf.out.html.txt junk<br>\n",
    "D00056.pdf.out.html.txt junk<br>\n",
    "D00256.pdf.out.html.txt junk<br>\n",
    "\n",
    "### Addendum<br>\n",
    "Junk 15 - NonJunk 272 <br>\n",
    "D01398.pdf.out.html.txt junk<br>\n",
    "D12700.pdf.out.html.txt junk<br>\n",
    "D07207.pdf.out.html.txt junk<br>\n",
    "D15685.pdf.out.html.txt junk<br>\n",
    "D07768.pdf.out.html.txt junk<br>\n",
    "D39278.pdf.out.html.txt junk<br>\n",
    "D01000.pdf.out.html.txt junk<br>\n",
    "D16602.pdf.out.html.txt junk<br>\n",
    "D01926.pdf.out.html.txt junk<br>\n",
    "D02728.pdf.out.html.txt junk<br>\n",
    "D01866.pdf.out.html.txt junk<br>\n",
    "D16451.pdf.out.html.txt junk<br>\n",
    "D07475.pdf.out.html.txt junk<br>\n",
    "D01608.pdf.out.html.txt junk<br>\n",
    "D28868.pdf.out.html.txt junk<br>\n",
    "\n",
    "### NDA<br>\n",
    "Junk 3 - NonJunk 136 <br>\n",
    "D01132.pdf.out.html.txt junk<br>\n",
    "D05216.pdf.out.html.txt junk<br>\n",
    "D12175.pdf.out.html.txt junk<br>\n",
    "\n",
    "### Others<br>\n",
    "Junk 383 - NonJunk 547 <br>"
   ]
  },
  {
   "cell_type": "code",
   "execution_count": 203,
   "metadata": {},
   "outputs": [
    {
     "data": {
      "text/plain": [
       "[10, 25, 101]"
      ]
     },
     "execution_count": 203,
     "metadata": {},
     "output_type": "execute_result"
    }
   ],
   "source": [
    "text = 'LETTER OF AGREEMENT This Agreement is made and entered into as of this date, 3/7/2019 by and between agreement'\n",
    "text = text.lower()\n",
    "[m.start() for m in re.finditer('agreement', text)]"
   ]
  },
  {
   "cell_type": "code",
   "execution_count": null,
   "metadata": {},
   "outputs": [],
   "source": [
    "file1 = \n",
    "\n",
    "list1 = file1[].to_list\n",
    "list2 = file1[].to_list\n",
    "\n",
    "for file in list1:\n",
    "    if file not in list2:\n",
    "        print(file)"
   ]
  },
  {
   "cell_type": "code",
   "execution_count": 178,
   "metadata": {},
   "outputs": [
    {
     "name": "stdout",
     "output_type": "stream",
     "text": [
      "True\n"
     ]
    }
   ],
   "source": [
    "list  = []\n",
    "if not list:\n",
    "    print(True)"
   ]
  },
  {
   "cell_type": "code",
   "execution_count": 244,
   "metadata": {},
   "outputs": [
    {
     "data": {
      "text/html": [
       "<div>\n",
       "<style scoped>\n",
       "    .dataframe tbody tr th:only-of-type {\n",
       "        vertical-align: middle;\n",
       "    }\n",
       "\n",
       "    .dataframe tbody tr th {\n",
       "        vertical-align: top;\n",
       "    }\n",
       "\n",
       "    .dataframe thead th {\n",
       "        text-align: right;\n",
       "    }\n",
       "</style>\n",
       "<table border=\"1\" class=\"dataframe\">\n",
       "  <thead>\n",
       "    <tr style=\"text-align: right;\">\n",
       "      <th></th>\n",
       "      <th>Filename</th>\n",
       "    </tr>\n",
       "  </thead>\n",
       "  <tbody>\n",
       "    <tr>\n",
       "      <td>0</td>\n",
       "      <td>D00678.pdf.out.html.txt</td>\n",
       "    </tr>\n",
       "    <tr>\n",
       "      <td>1</td>\n",
       "      <td>D01044.pdf.out.html.txt</td>\n",
       "    </tr>\n",
       "    <tr>\n",
       "      <td>2</td>\n",
       "      <td>D01515.pdf.out.html.txt</td>\n",
       "    </tr>\n",
       "    <tr>\n",
       "      <td>3</td>\n",
       "      <td>D02075.pdf.out.html.txt</td>\n",
       "    </tr>\n",
       "    <tr>\n",
       "      <td>4</td>\n",
       "      <td>D07330.pdf.out.html.txt</td>\n",
       "    </tr>\n",
       "  </tbody>\n",
       "</table>\n",
       "</div>"
      ],
      "text/plain": [
       "                  Filename\n",
       "0  D00678.pdf.out.html.txt\n",
       "1  D01044.pdf.out.html.txt\n",
       "2  D01515.pdf.out.html.txt\n",
       "3  D02075.pdf.out.html.txt\n",
       "4  D07330.pdf.out.html.txt"
      ]
     },
     "execution_count": 244,
     "metadata": {},
     "output_type": "execute_result"
    }
   ],
   "source": [
    "df = pd.read_csv('/home/user/Desktop/Non JUnk Others.csv')\n",
    "df.head()"
   ]
  },
  {
   "cell_type": "code",
   "execution_count": 247,
   "metadata": {},
   "outputs": [],
   "source": [
    "src = '/home/user/Desktop/Labelled_Files/other_files'\n",
    "df = pd.read_csv('/home/user/Desktop/Non JUnk Others.csv')\n",
    "dest = '/home/user/Desktop/Labelled_Files/other_files_nonjunk'\n",
    "w = os.walk(src)\n",
    "for root, dirs, files in w:\n",
    "    for file in df['Filename']:\n",
    "        if file in files:\n",
    "            shutil.copy2(os.path.join(root, file), dest)"
   ]
  },
  {
   "cell_type": "code",
   "execution_count": null,
   "metadata": {},
   "outputs": [],
   "source": []
  }
 ],
 "metadata": {
  "kernelspec": {
   "display_name": "Python 3",
   "language": "python",
   "name": "python3"
  },
  "language_info": {
   "codemirror_mode": {
    "name": "ipython",
    "version": 3
   },
   "file_extension": ".py",
   "mimetype": "text/x-python",
   "name": "python",
   "nbconvert_exporter": "python",
   "pygments_lexer": "ipython3",
   "version": "3.7.3"
  }
 },
 "nbformat": 4,
 "nbformat_minor": 2
}
