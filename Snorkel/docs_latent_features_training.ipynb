{
 "cells": [
  {
   "cell_type": "code",
   "execution_count": 1,
   "metadata": {
    "colab": {
     "base_uri": "https://localhost:8080/",
     "height": 122
    },
    "colab_type": "code",
    "id": "ORI4MrrI35u_",
    "outputId": "749729b9-49e9-4cd6-8214-eaffe8bb4c5a"
   },
   "outputs": [
    {
     "name": "stdout",
     "output_type": "stream",
     "text": [
      "Go to this URL in a browser: https://accounts.google.com/o/oauth2/auth?client_id=947318989803-6bn6qk8qdgf4n4g3pfee6491hc0brc4i.apps.googleusercontent.com&redirect_uri=urn%3aietf%3awg%3aoauth%3a2.0%3aoob&response_type=code&scope=email%20https%3a%2f%2fwww.googleapis.com%2fauth%2fdocs.test%20https%3a%2f%2fwww.googleapis.com%2fauth%2fdrive%20https%3a%2f%2fwww.googleapis.com%2fauth%2fdrive.photos.readonly%20https%3a%2f%2fwww.googleapis.com%2fauth%2fpeopleapi.readonly\n",
      "\n",
      "Enter your authorization code:\n",
      "··········\n",
      "Mounted at /content/drive\n"
     ]
    }
   ],
   "source": [
    "from google.colab import drive\n",
    "drive.mount('/content/drive')"
   ]
  },
  {
   "cell_type": "code",
   "execution_count": 0,
   "metadata": {
    "colab": {},
    "colab_type": "code",
    "id": "ULFeKdfqq9XR"
   },
   "outputs": [],
   "source": [
    "import os\n",
    "import re\n",
    "import pandas as pd\n",
    "import numpy as np"
   ]
  },
  {
   "cell_type": "markdown",
   "metadata": {
    "colab_type": "text",
    "id": "lLBFuA7bq9Xm"
   },
   "source": [
    "### Load Unlabeled Data"
   ]
  },
  {
   "cell_type": "code",
   "execution_count": 3,
   "metadata": {
    "colab": {
     "base_uri": "https://localhost:8080/",
     "height": 85
    },
    "colab_type": "code",
    "id": "KIyWtQsW4dyS",
    "outputId": "9c468d26-0444-4d89-e32f-41d006c22909"
   },
   "outputs": [
    {
     "name": "stdout",
     "output_type": "stream",
     "text": [
      "Archive:  /content/drive/My Drive/labeled_data_new1.zip\n",
      "  inflating: labeled_data_new1.csv   \n",
      "Archive:  /content/drive/My Drive/unlabeled_data_new1.zip\n",
      "  inflating: unlabeled_data_new1.csv  \n"
     ]
    }
   ],
   "source": [
    "!unzip '/content/drive/My Drive/labeled_data_new1.zip'\n",
    "!unzip '/content/drive/My Drive/unlabeled_data_new1.zip'"
   ]
  },
  {
   "cell_type": "code",
   "execution_count": 4,
   "metadata": {
    "colab": {
     "base_uri": "https://localhost:8080/",
     "height": 34
    },
    "colab_type": "code",
    "id": "HtB9Ts5_q9Xq",
    "outputId": "fd68c095-29cf-45ab-9486-e93606bfefac"
   },
   "outputs": [
    {
     "data": {
      "text/plain": [
       "(15472, 2)"
      ]
     },
     "execution_count": 4,
     "metadata": {
      "tags": []
     },
     "output_type": "execute_result"
    }
   ],
   "source": [
    "df_unlabeled = pd.read_csv('unlabeled_data_new1.csv')\n",
    "df_unlabeled.shape"
   ]
  },
  {
   "cell_type": "code",
   "execution_count": 5,
   "metadata": {
    "colab": {
     "base_uri": "https://localhost:8080/",
     "height": 204
    },
    "colab_type": "code",
    "id": "7gtKC4joq9X2",
    "outputId": "3b1cdc18-a10b-40b8-e196-88b99670e440"
   },
   "outputs": [
    {
     "data": {
      "text/html": [
       "<div>\n",
       "<style scoped>\n",
       "    .dataframe tbody tr th:only-of-type {\n",
       "        vertical-align: middle;\n",
       "    }\n",
       "\n",
       "    .dataframe tbody tr th {\n",
       "        vertical-align: top;\n",
       "    }\n",
       "\n",
       "    .dataframe thead th {\n",
       "        text-align: right;\n",
       "    }\n",
       "</style>\n",
       "<table border=\"1\" class=\"dataframe\">\n",
       "  <thead>\n",
       "    <tr style=\"text-align: right;\">\n",
       "      <th></th>\n",
       "      <th>filename</th>\n",
       "      <th>text</th>\n",
       "    </tr>\n",
       "  </thead>\n",
       "  <tbody>\n",
       "    <tr>\n",
       "      <th>0</th>\n",
       "      <td>D36051.pdf.out.html.txt</td>\n",
       "      <td>janet ley approval sow mcw dba dmi mobility s...</td>\n",
       "    </tr>\n",
       "    <tr>\n",
       "      <th>1</th>\n",
       "      <td>D07271.pdf.out.html.txt</td>\n",
       "      <td>agreement this schedule a this schedule is att...</td>\n",
       "    </tr>\n",
       "    <tr>\n",
       "      <th>2</th>\n",
       "      <td>D28723.pdf.out.html.txt</td>\n",
       "      <td>wolters kluwer contingent staffing request fo...</td>\n",
       "    </tr>\n",
       "    <tr>\n",
       "      <th>3</th>\n",
       "      <td>D42247.pdf.out.html.txt</td>\n",
       "      <td>agreement received this agreement is entered i...</td>\n",
       "    </tr>\n",
       "    <tr>\n",
       "      <th>4</th>\n",
       "      <td>D19377.pdf.out.html.txt</td>\n",
       "      <td>addendum to hosting and services agreement thi...</td>\n",
       "    </tr>\n",
       "  </tbody>\n",
       "</table>\n",
       "</div>"
      ],
      "text/plain": [
       "                  filename                                               text\n",
       "0  D36051.pdf.out.html.txt   janet ley approval sow mcw dba dmi mobility s...\n",
       "1  D07271.pdf.out.html.txt  agreement this schedule a this schedule is att...\n",
       "2  D28723.pdf.out.html.txt   wolters kluwer contingent staffing request fo...\n",
       "3  D42247.pdf.out.html.txt  agreement received this agreement is entered i...\n",
       "4  D19377.pdf.out.html.txt  addendum to hosting and services agreement thi..."
      ]
     },
     "execution_count": 5,
     "metadata": {
      "tags": []
     },
     "output_type": "execute_result"
    }
   ],
   "source": [
    "df_unlabeled.head()"
   ]
  },
  {
   "cell_type": "markdown",
   "metadata": {
    "colab_type": "text",
    "id": "9ZMbUcvlq9X9"
   },
   "source": [
    "### Load Labeled Data"
   ]
  },
  {
   "cell_type": "code",
   "execution_count": 6,
   "metadata": {
    "colab": {
     "base_uri": "https://localhost:8080/",
     "height": 34
    },
    "colab_type": "code",
    "id": "wvT_CbZ8q9YA",
    "outputId": "7be1a487-e6aa-4594-d6df-01ae811cb6fd"
   },
   "outputs": [
    {
     "data": {
      "text/plain": [
       "(1397, 3)"
      ]
     },
     "execution_count": 6,
     "metadata": {
      "tags": []
     },
     "output_type": "execute_result"
    }
   ],
   "source": [
    "df_labeled = pd.read_csv('labeled_data_new1.csv')\n",
    "df_labeled.shape"
   ]
  },
  {
   "cell_type": "code",
   "execution_count": 7,
   "metadata": {
    "colab": {
     "base_uri": "https://localhost:8080/",
     "height": 204
    },
    "colab_type": "code",
    "id": "g2o0ijGkq9YL",
    "outputId": "de31d009-9a32-4a7b-ce73-6952101f0ed3"
   },
   "outputs": [
    {
     "data": {
      "text/html": [
       "<div>\n",
       "<style scoped>\n",
       "    .dataframe tbody tr th:only-of-type {\n",
       "        vertical-align: middle;\n",
       "    }\n",
       "\n",
       "    .dataframe tbody tr th {\n",
       "        vertical-align: top;\n",
       "    }\n",
       "\n",
       "    .dataframe thead th {\n",
       "        text-align: right;\n",
       "    }\n",
       "</style>\n",
       "<table border=\"1\" class=\"dataframe\">\n",
       "  <thead>\n",
       "    <tr style=\"text-align: right;\">\n",
       "      <th></th>\n",
       "      <th>filename</th>\n",
       "      <th>text</th>\n",
       "      <th>label</th>\n",
       "    </tr>\n",
       "  </thead>\n",
       "  <tbody>\n",
       "    <tr>\n",
       "      <th>0</th>\n",
       "      <td>D00152.pdf.out.html.txt</td>\n",
       "      <td>addendum no to master services agreement this ...</td>\n",
       "      <td>Addendum</td>\n",
       "    </tr>\n",
       "    <tr>\n",
       "      <th>1</th>\n",
       "      <td>D16833.pdf.out.html.txt</td>\n",
       "      <td>addendum no to master services agreement this ...</td>\n",
       "      <td>Addendum</td>\n",
       "    </tr>\n",
       "    <tr>\n",
       "      <th>2</th>\n",
       "      <td>D08368.pdf.out.html.txt</td>\n",
       "      <td>agreement i to add effective as of january the...</td>\n",
       "      <td>Addendum</td>\n",
       "    </tr>\n",
       "    <tr>\n",
       "      <th>3</th>\n",
       "      <td>D38435.pdf.out.html.txt</td>\n",
       "      <td>amendment number one to work order this amendm...</td>\n",
       "      <td>Addendum</td>\n",
       "    </tr>\n",
       "    <tr>\n",
       "      <th>4</th>\n",
       "      <td>D00918.pdf.out.html.txt</td>\n",
       "      <td>agreement and or enrollment identified above t...</td>\n",
       "      <td>Addendum</td>\n",
       "    </tr>\n",
       "  </tbody>\n",
       "</table>\n",
       "</div>"
      ],
      "text/plain": [
       "                  filename  ...     label\n",
       "0  D00152.pdf.out.html.txt  ...  Addendum\n",
       "1  D16833.pdf.out.html.txt  ...  Addendum\n",
       "2  D08368.pdf.out.html.txt  ...  Addendum\n",
       "3  D38435.pdf.out.html.txt  ...  Addendum\n",
       "4  D00918.pdf.out.html.txt  ...  Addendum\n",
       "\n",
       "[5 rows x 3 columns]"
      ]
     },
     "execution_count": 7,
     "metadata": {
      "tags": []
     },
     "output_type": "execute_result"
    }
   ],
   "source": [
    "df_labeled.head()"
   ]
  },
  {
   "cell_type": "markdown",
   "metadata": {
    "colab_type": "text",
    "id": "g3WSNwpeq9YW"
   },
   "source": [
    "### Regex Functions"
   ]
  },
  {
   "cell_type": "code",
   "execution_count": 0,
   "metadata": {
    "colab": {},
    "colab_type": "code",
    "id": "DpNczun_q9YZ"
   },
   "outputs": [],
   "source": [
    "def msa_regex_lookup(x):    \n",
    "    nonmsa_keywords = ['sow', 'statement of work', 'addendum', 'amendment', 'confidentiality agreement', 'disclosure agreement']\n",
    "    match1 = re.search(r\"(agreement agreement|master agreement|master services agreement|this agreement)\\s+(\\S+\\s+){1,30}(by and between|by and among|between|among)(.+?) and (.+?)\", x.text)\n",
    "    match2 = re.search(r\"(agreement agreement|master agreement|master services agreement|this agreement)\\s+(\\S+\\s+){1,30}(effective)(.+?) and (.+?)\", x.text)\n",
    "    match3 = re.search(r\"(agreement agreement|master agreement|master services agreement|this agreement)\\s+(\\S+\\s+){1,30}(the undersigned)(.+?) and (.+?)\", x.text)\n",
    "        \n",
    "    if (match1 and not(any(key in x.text[:match1.end()] for key in nonmsa_keywords))) \\\n",
    "        or (match2 and not(any(key in x.text[:match2.end()] for key in nonmsa_keywords))) \\\n",
    "        or (match3 and not(any(key in x.text[:match3.end()] for key in nonmsa_keywords))):\n",
    "        return 1\n",
    "    return 0\n",
    "\n",
    "def addendum_regex_lookup(x):\n",
    "    match1 = re.search(r\"(addendum|amendment|change request|change order)\\s+(\\S+\\s+){1,30}(by and between|by and among|between) (.+?) and (.+?)\", x.text)\n",
    "    match2 = re.search(r\"(addendum|amendment)\\s+(\\S+\\s+){1,30}(schedule a|effective) (.+?) and (.+?)\", x.text)\n",
    "    match3 = re.search(r\"(addendum|amendment) (.+?) (the undersigned) (.+?) and (.+?)\", x.text)\n",
    "    \n",
    "    if (match1 and match1.start() < 1000) or (match2 and match2.start() < 1000) or (match3 and match3.start() < 1000):\n",
    "        return 1\n",
    "    return 0\n",
    "\n",
    "def sow_regex_lookup(x):    \n",
    "    nonsow_keywords = ['addendum','amendment']\n",
    "    match1 = re.search(r\"(sow|statement of work|work order|task order)\\s+(\\S+\\s+){1,30}(by and between|by and among|executed by|between|entered into)(.+?) and (.+?)\", x.text)\n",
    "    match2 = re.search(r\"(sow|statement of work|work order|task order)\\s+(\\S+\\s+){1,30}(effective) (.+?) and (.+?)\", x.text)\n",
    "    match3 = re.search(r\"(sow|statement of work|work order|task order)\\s+(\\S+\\s+){1,30}(the undersigned) (.+?) and (.+?)\", x.text)\n",
    "       \n",
    "    if (match1 and match1.start() < 1000 and not(any(key in x.text[:match1.end()] for key in nonsow_keywords)) \\\n",
    "        or (match2 and match2.start() < 1000 and not(any(key not in x.text[:match2.end()] for key in nonsow_keywords))) \\\n",
    "        or match3 and match3.start() < 1000 and not(any(key not in x.text[:match3.end()] for key in nonsow_keywords))):\n",
    "        return 1\n",
    "    return 0\n",
    "\n",
    "def nda_regex_lookup(x):\n",
    "    nda_keywords = ['mutual confidentiality', 'confidentiality agreement', 'disclosure agreement']\n",
    "    match1 = re.search(r\"(disclosure agreement|confidentiality agreement)\\s+(\\S+\\s+){1,30}(by and between|by and among|between|among)(.+?) and (.+?)\", x.text)\n",
    "    \n",
    "    if match1 and match1.start() < 1000 and any(key in x.text for key in nda_keywords):\n",
    "        return 1\n",
    "    return 0\n",
    "\n",
    "def others_lookup(x):\n",
    "    msa = msa_regex_lookup(x)\n",
    "    sow = sow_regex_lookup(x)\n",
    "    addendum = addendum_regex_lookup(x)\n",
    "    nda = nda_regex_lookup(x)\n",
    "    \n",
    "    if msa == 0 and sow == 0 and addendum == 0 and nda == 0:\n",
    "        return 1\n",
    "    return 0    "
   ]
  },
  {
   "cell_type": "markdown",
   "metadata": {
    "colab_type": "text",
    "id": "49tykOtYq9Yh"
   },
   "source": [
    "### Keywords"
   ]
  },
  {
   "cell_type": "code",
   "execution_count": 0,
   "metadata": {
    "colab": {},
    "colab_type": "code",
    "id": "4HB5n353q9Yj"
   },
   "outputs": [],
   "source": [
    "msa_keywords = ['indemnified party', 'indemnifying party', 'force majeure', 'industrial property right', 'privacy restricted data', \n",
    "                'prior written notice', 'subject matter hereof']\n",
    "\n",
    "addendum_keywords = ['addendum number', 'addendum date', 'addendum effective date',\n",
    "                     'term of addendum', 'term of amendment', 'addendum made',\n",
    "                     'addendum entered', 'duration of the addendum', 'purpose of the addendum', \n",
    "                     'subsequent addendum', 'amendment number', 'amendment date', 'amendment entered', \n",
    "                     'amendment made', 'amendment executed', 'amendment effective date', \n",
    "                     'agreement hereby amended', 'service agreement amendment']\n",
    "\n",
    "sow_keywords = ['sow effective date', 'work sow', 'sow shall', 'sow term', 'client sow', \n",
    "                'sow agreement', 'statement of work effective', 'sow end date', 'sow duration']\n",
    "\n",
    "nda_keywords = ['mutual confidentiality', 'affiliated entity', 'agreement negotiation', 'disclosure hereunder', \n",
    "                'mutual confidentiality agreement', 'non confidential basis', 'confidential information agent', \n",
    "                'confidentiality non disclosure', 'party certain confidential information',\n",
    "                'party furnish']\n",
    "\n",
    "other_keywords = ['sir madam', 'letter to inform', 'engagement letter', 'service order form',\n",
    "                  'change request form', 'signature form', 'agreement service order', 'service component order', \n",
    "                  'component order', 'editorial service order']"
   ]
  },
  {
   "cell_type": "markdown",
   "metadata": {
    "colab_type": "text",
    "id": "z8oau8IGq9Ys"
   },
   "source": [
    "### Create Latent Features"
   ]
  },
  {
   "cell_type": "code",
   "execution_count": 0,
   "metadata": {
    "colab": {},
    "colab_type": "code",
    "id": "KLayCzQdq9Yu"
   },
   "outputs": [],
   "source": [
    "#Initialize empty dictionary and dataframe\n",
    "#df_latent_train = pd.DataFrame()\n",
    "df_latent_test = pd.DataFrame()\n",
    "dict_latent = {}\n",
    "\n",
    "#for index, row in df_unlabeled.iterrows():    \n",
    "for index, row in df_labeled.iterrows():    \n",
    "    #dict_latent['DocID'] = row[\"filename\"]\n",
    "            \n",
    "    #============MSA=============\n",
    "        \n",
    "    #Check for matching MSA keywords\n",
    "    for key in msa_keywords:\n",
    "        if key in row['text']:            \n",
    "            dict_latent[key] = 1             \n",
    "        else:\n",
    "            dict_latent[key] = 0\n",
    "\n",
    "    #Call MSA regex lookup function\n",
    "    dict_latent['msa_regex_lookup'] = msa_regex_lookup(row)\n",
    "                \n",
    "    #============SOW=============\n",
    "            \n",
    "    #Check for matching SOW keywords\n",
    "    for key in sow_keywords:\n",
    "        if key in row['text']:            \n",
    "            dict_latent[key] = 1\n",
    "        else:\n",
    "            dict_latent[key] = 0\n",
    "\n",
    "    #Call SOW regex lookup function\n",
    "    dict_latent['sow_regex_lookup'] = sow_regex_lookup(row)\n",
    "                \n",
    "    #==========ADDENDUM=============\n",
    "            \n",
    "    #Check for matching Addnedum keywords\n",
    "    for key in addendum_keywords:\n",
    "        if key in row['text']:            \n",
    "            dict_latent[key] = 1\n",
    "        else:\n",
    "            dict_latent[key] = 0\n",
    "\n",
    "    #Call Addendum regex lookup function\n",
    "    dict_latent['addendum_regex_lookup'] = addendum_regex_lookup(row)        \n",
    "                \n",
    "    #============NDA=============\n",
    "        \n",
    "    #Check for matching NDA keywords\n",
    "    for key in nda_keywords:\n",
    "        if key in row['text']:            \n",
    "            dict_latent[key] = 1\n",
    "        else:\n",
    "            dict_latent[key] = 0\n",
    "\n",
    "    #Call NDA regex lookup function\n",
    "    dict_latent['nda_regex_lookup'] = nda_regex_lookup(row)\n",
    "    \n",
    "    #============Others===========\n",
    "    \n",
    "    #Check for matching Others keywords\n",
    "    for key in other_keywords:\n",
    "        if key in row['text']:            \n",
    "            dict_latent[key] = 1\n",
    "        else:\n",
    "            dict_latent[key] = 0\n",
    "\n",
    "    #Call Others regex lookup function\n",
    "    dict_latent['others_lookup'] = others_lookup(row)                \n",
    "    #break\n",
    "    \n",
    "    #Append dictionary to the DataFrame\n",
    "    #df_latent_train = df_latent_train.append(dict_latent, ignore_index = True)\n",
    "    df_latent_test = df_latent_test.append(dict_latent, ignore_index = True)\n",
    "\n",
    "#fill NaNs with 0\n",
    "#df_latent_train.fillna(0, inplace=True)\n",
    "df_latent_test.fillna(0, inplace=True)"
   ]
  },
  {
   "cell_type": "code",
   "execution_count": 0,
   "metadata": {
    "colab": {
     "base_uri": "https://localhost:8080/",
     "height": 34
    },
    "colab_type": "code",
    "id": "rAZ6ZEHhq9Y2",
    "outputId": "f8039676-85dc-430a-b436-edb6918307a4"
   },
   "outputs": [
    {
     "name": "stdout",
     "output_type": "stream",
     "text": [
      "(15472, 59) (1397, 59)\n"
     ]
    }
   ],
   "source": [
    "print(df_latent_train.shape, df_latent_test.shape)"
   ]
  },
  {
   "cell_type": "code",
   "execution_count": 0,
   "metadata": {
    "colab": {
     "base_uri": "https://localhost:8080/",
     "height": 275
    },
    "colab_type": "code",
    "id": "fEEa9htFq9Y-",
    "outputId": "07014ae0-fee7-4e04-b391-a2f67c85a4d4"
   },
   "outputs": [
    {
     "data": {
      "text/html": [
       "<div>\n",
       "<style scoped>\n",
       "    .dataframe tbody tr th:only-of-type {\n",
       "        vertical-align: middle;\n",
       "    }\n",
       "\n",
       "    .dataframe tbody tr th {\n",
       "        vertical-align: top;\n",
       "    }\n",
       "\n",
       "    .dataframe thead th {\n",
       "        text-align: right;\n",
       "    }\n",
       "</style>\n",
       "<table border=\"1\" class=\"dataframe\">\n",
       "  <thead>\n",
       "    <tr style=\"text-align: right;\">\n",
       "      <th></th>\n",
       "      <th>addendum date</th>\n",
       "      <th>addendum effective date</th>\n",
       "      <th>addendum entered</th>\n",
       "      <th>addendum made</th>\n",
       "      <th>addendum number</th>\n",
       "      <th>addendum_regex_lookup</th>\n",
       "      <th>affiliated entity</th>\n",
       "      <th>agreement hereby amended</th>\n",
       "      <th>agreement negotiation</th>\n",
       "      <th>agreement service order</th>\n",
       "      <th>amendment date</th>\n",
       "      <th>amendment effective date</th>\n",
       "      <th>amendment entered</th>\n",
       "      <th>amendment executed</th>\n",
       "      <th>amendment made</th>\n",
       "      <th>amendment number</th>\n",
       "      <th>change request form</th>\n",
       "      <th>client sow</th>\n",
       "      <th>component order</th>\n",
       "      <th>confidential information agent</th>\n",
       "      <th>confidentiality non disclosure</th>\n",
       "      <th>disclosure hereunder</th>\n",
       "      <th>duration of the addendum</th>\n",
       "      <th>editorial service order</th>\n",
       "      <th>engagement letter</th>\n",
       "      <th>force majeure</th>\n",
       "      <th>indemnified party</th>\n",
       "      <th>indemnifying party</th>\n",
       "      <th>industrial property right</th>\n",
       "      <th>letter to inform</th>\n",
       "      <th>msa_regex_lookup</th>\n",
       "      <th>mutual confidentiality</th>\n",
       "      <th>mutual confidentiality agreement</th>\n",
       "      <th>nda_regex_lookup</th>\n",
       "      <th>non confidential basis</th>\n",
       "      <th>others_lookup</th>\n",
       "      <th>party certain confidential information</th>\n",
       "      <th>party furnish</th>\n",
       "      <th>prior written notice</th>\n",
       "      <th>privacy restricted data</th>\n",
       "      <th>purpose of the addendum</th>\n",
       "      <th>service agreement amendment</th>\n",
       "      <th>service component order</th>\n",
       "      <th>service order form</th>\n",
       "      <th>signature form</th>\n",
       "      <th>sir madam</th>\n",
       "      <th>sow agreement</th>\n",
       "      <th>sow duration</th>\n",
       "      <th>sow effective date</th>\n",
       "      <th>sow end date</th>\n",
       "      <th>sow shall</th>\n",
       "      <th>sow term</th>\n",
       "      <th>sow_regex_lookup</th>\n",
       "      <th>statement of work effective</th>\n",
       "      <th>subject matter hereof</th>\n",
       "      <th>subsequent addendum</th>\n",
       "      <th>term of addendum</th>\n",
       "      <th>term of amendment</th>\n",
       "      <th>work sow</th>\n",
       "    </tr>\n",
       "  </thead>\n",
       "  <tbody>\n",
       "    <tr>\n",
       "      <th>0</th>\n",
       "      <td>0.0</td>\n",
       "      <td>0.0</td>\n",
       "      <td>0.0</td>\n",
       "      <td>0.0</td>\n",
       "      <td>0.0</td>\n",
       "      <td>0.0</td>\n",
       "      <td>0.0</td>\n",
       "      <td>0.0</td>\n",
       "      <td>0.0</td>\n",
       "      <td>0.0</td>\n",
       "      <td>0.0</td>\n",
       "      <td>0.0</td>\n",
       "      <td>0.0</td>\n",
       "      <td>0.0</td>\n",
       "      <td>0.0</td>\n",
       "      <td>0.0</td>\n",
       "      <td>0.0</td>\n",
       "      <td>0.0</td>\n",
       "      <td>0.0</td>\n",
       "      <td>0.0</td>\n",
       "      <td>0.0</td>\n",
       "      <td>0.0</td>\n",
       "      <td>0.0</td>\n",
       "      <td>0.0</td>\n",
       "      <td>0.0</td>\n",
       "      <td>0.0</td>\n",
       "      <td>0.0</td>\n",
       "      <td>0.0</td>\n",
       "      <td>0.0</td>\n",
       "      <td>0.0</td>\n",
       "      <td>0.0</td>\n",
       "      <td>0.0</td>\n",
       "      <td>0.0</td>\n",
       "      <td>0.0</td>\n",
       "      <td>0.0</td>\n",
       "      <td>1.0</td>\n",
       "      <td>0.0</td>\n",
       "      <td>0.0</td>\n",
       "      <td>0.0</td>\n",
       "      <td>0.0</td>\n",
       "      <td>0.0</td>\n",
       "      <td>0.0</td>\n",
       "      <td>0.0</td>\n",
       "      <td>0.0</td>\n",
       "      <td>0.0</td>\n",
       "      <td>0.0</td>\n",
       "      <td>0.0</td>\n",
       "      <td>0.0</td>\n",
       "      <td>0.0</td>\n",
       "      <td>0.0</td>\n",
       "      <td>0.0</td>\n",
       "      <td>0.0</td>\n",
       "      <td>0.0</td>\n",
       "      <td>0.0</td>\n",
       "      <td>0.0</td>\n",
       "      <td>0.0</td>\n",
       "      <td>0.0</td>\n",
       "      <td>0.0</td>\n",
       "      <td>0.0</td>\n",
       "    </tr>\n",
       "    <tr>\n",
       "      <th>1</th>\n",
       "      <td>0.0</td>\n",
       "      <td>0.0</td>\n",
       "      <td>0.0</td>\n",
       "      <td>0.0</td>\n",
       "      <td>0.0</td>\n",
       "      <td>0.0</td>\n",
       "      <td>0.0</td>\n",
       "      <td>0.0</td>\n",
       "      <td>0.0</td>\n",
       "      <td>0.0</td>\n",
       "      <td>0.0</td>\n",
       "      <td>0.0</td>\n",
       "      <td>0.0</td>\n",
       "      <td>0.0</td>\n",
       "      <td>0.0</td>\n",
       "      <td>0.0</td>\n",
       "      <td>0.0</td>\n",
       "      <td>0.0</td>\n",
       "      <td>0.0</td>\n",
       "      <td>0.0</td>\n",
       "      <td>0.0</td>\n",
       "      <td>0.0</td>\n",
       "      <td>0.0</td>\n",
       "      <td>0.0</td>\n",
       "      <td>0.0</td>\n",
       "      <td>0.0</td>\n",
       "      <td>0.0</td>\n",
       "      <td>0.0</td>\n",
       "      <td>0.0</td>\n",
       "      <td>0.0</td>\n",
       "      <td>1.0</td>\n",
       "      <td>0.0</td>\n",
       "      <td>0.0</td>\n",
       "      <td>0.0</td>\n",
       "      <td>0.0</td>\n",
       "      <td>0.0</td>\n",
       "      <td>0.0</td>\n",
       "      <td>0.0</td>\n",
       "      <td>0.0</td>\n",
       "      <td>0.0</td>\n",
       "      <td>0.0</td>\n",
       "      <td>0.0</td>\n",
       "      <td>0.0</td>\n",
       "      <td>0.0</td>\n",
       "      <td>0.0</td>\n",
       "      <td>0.0</td>\n",
       "      <td>0.0</td>\n",
       "      <td>0.0</td>\n",
       "      <td>0.0</td>\n",
       "      <td>0.0</td>\n",
       "      <td>0.0</td>\n",
       "      <td>0.0</td>\n",
       "      <td>0.0</td>\n",
       "      <td>0.0</td>\n",
       "      <td>0.0</td>\n",
       "      <td>0.0</td>\n",
       "      <td>0.0</td>\n",
       "      <td>0.0</td>\n",
       "      <td>0.0</td>\n",
       "    </tr>\n",
       "    <tr>\n",
       "      <th>2</th>\n",
       "      <td>0.0</td>\n",
       "      <td>0.0</td>\n",
       "      <td>0.0</td>\n",
       "      <td>0.0</td>\n",
       "      <td>0.0</td>\n",
       "      <td>0.0</td>\n",
       "      <td>0.0</td>\n",
       "      <td>0.0</td>\n",
       "      <td>0.0</td>\n",
       "      <td>0.0</td>\n",
       "      <td>0.0</td>\n",
       "      <td>0.0</td>\n",
       "      <td>0.0</td>\n",
       "      <td>0.0</td>\n",
       "      <td>0.0</td>\n",
       "      <td>0.0</td>\n",
       "      <td>0.0</td>\n",
       "      <td>0.0</td>\n",
       "      <td>0.0</td>\n",
       "      <td>0.0</td>\n",
       "      <td>0.0</td>\n",
       "      <td>0.0</td>\n",
       "      <td>0.0</td>\n",
       "      <td>0.0</td>\n",
       "      <td>0.0</td>\n",
       "      <td>0.0</td>\n",
       "      <td>0.0</td>\n",
       "      <td>0.0</td>\n",
       "      <td>0.0</td>\n",
       "      <td>0.0</td>\n",
       "      <td>0.0</td>\n",
       "      <td>0.0</td>\n",
       "      <td>0.0</td>\n",
       "      <td>0.0</td>\n",
       "      <td>0.0</td>\n",
       "      <td>1.0</td>\n",
       "      <td>0.0</td>\n",
       "      <td>0.0</td>\n",
       "      <td>0.0</td>\n",
       "      <td>0.0</td>\n",
       "      <td>0.0</td>\n",
       "      <td>0.0</td>\n",
       "      <td>0.0</td>\n",
       "      <td>0.0</td>\n",
       "      <td>0.0</td>\n",
       "      <td>0.0</td>\n",
       "      <td>0.0</td>\n",
       "      <td>0.0</td>\n",
       "      <td>0.0</td>\n",
       "      <td>0.0</td>\n",
       "      <td>0.0</td>\n",
       "      <td>0.0</td>\n",
       "      <td>0.0</td>\n",
       "      <td>0.0</td>\n",
       "      <td>0.0</td>\n",
       "      <td>0.0</td>\n",
       "      <td>0.0</td>\n",
       "      <td>0.0</td>\n",
       "      <td>0.0</td>\n",
       "    </tr>\n",
       "    <tr>\n",
       "      <th>3</th>\n",
       "      <td>0.0</td>\n",
       "      <td>0.0</td>\n",
       "      <td>0.0</td>\n",
       "      <td>0.0</td>\n",
       "      <td>0.0</td>\n",
       "      <td>0.0</td>\n",
       "      <td>0.0</td>\n",
       "      <td>0.0</td>\n",
       "      <td>0.0</td>\n",
       "      <td>0.0</td>\n",
       "      <td>0.0</td>\n",
       "      <td>0.0</td>\n",
       "      <td>0.0</td>\n",
       "      <td>0.0</td>\n",
       "      <td>0.0</td>\n",
       "      <td>0.0</td>\n",
       "      <td>0.0</td>\n",
       "      <td>0.0</td>\n",
       "      <td>0.0</td>\n",
       "      <td>0.0</td>\n",
       "      <td>0.0</td>\n",
       "      <td>1.0</td>\n",
       "      <td>0.0</td>\n",
       "      <td>0.0</td>\n",
       "      <td>0.0</td>\n",
       "      <td>0.0</td>\n",
       "      <td>0.0</td>\n",
       "      <td>0.0</td>\n",
       "      <td>0.0</td>\n",
       "      <td>0.0</td>\n",
       "      <td>1.0</td>\n",
       "      <td>1.0</td>\n",
       "      <td>1.0</td>\n",
       "      <td>0.0</td>\n",
       "      <td>0.0</td>\n",
       "      <td>0.0</td>\n",
       "      <td>0.0</td>\n",
       "      <td>0.0</td>\n",
       "      <td>0.0</td>\n",
       "      <td>0.0</td>\n",
       "      <td>0.0</td>\n",
       "      <td>0.0</td>\n",
       "      <td>0.0</td>\n",
       "      <td>0.0</td>\n",
       "      <td>0.0</td>\n",
       "      <td>0.0</td>\n",
       "      <td>0.0</td>\n",
       "      <td>0.0</td>\n",
       "      <td>0.0</td>\n",
       "      <td>0.0</td>\n",
       "      <td>0.0</td>\n",
       "      <td>0.0</td>\n",
       "      <td>0.0</td>\n",
       "      <td>0.0</td>\n",
       "      <td>0.0</td>\n",
       "      <td>0.0</td>\n",
       "      <td>0.0</td>\n",
       "      <td>0.0</td>\n",
       "      <td>0.0</td>\n",
       "    </tr>\n",
       "    <tr>\n",
       "      <th>4</th>\n",
       "      <td>0.0</td>\n",
       "      <td>0.0</td>\n",
       "      <td>0.0</td>\n",
       "      <td>0.0</td>\n",
       "      <td>0.0</td>\n",
       "      <td>1.0</td>\n",
       "      <td>0.0</td>\n",
       "      <td>0.0</td>\n",
       "      <td>0.0</td>\n",
       "      <td>0.0</td>\n",
       "      <td>0.0</td>\n",
       "      <td>0.0</td>\n",
       "      <td>0.0</td>\n",
       "      <td>0.0</td>\n",
       "      <td>0.0</td>\n",
       "      <td>0.0</td>\n",
       "      <td>0.0</td>\n",
       "      <td>0.0</td>\n",
       "      <td>0.0</td>\n",
       "      <td>0.0</td>\n",
       "      <td>0.0</td>\n",
       "      <td>0.0</td>\n",
       "      <td>0.0</td>\n",
       "      <td>0.0</td>\n",
       "      <td>0.0</td>\n",
       "      <td>0.0</td>\n",
       "      <td>0.0</td>\n",
       "      <td>0.0</td>\n",
       "      <td>0.0</td>\n",
       "      <td>0.0</td>\n",
       "      <td>0.0</td>\n",
       "      <td>0.0</td>\n",
       "      <td>0.0</td>\n",
       "      <td>0.0</td>\n",
       "      <td>0.0</td>\n",
       "      <td>0.0</td>\n",
       "      <td>0.0</td>\n",
       "      <td>0.0</td>\n",
       "      <td>0.0</td>\n",
       "      <td>0.0</td>\n",
       "      <td>0.0</td>\n",
       "      <td>0.0</td>\n",
       "      <td>0.0</td>\n",
       "      <td>0.0</td>\n",
       "      <td>0.0</td>\n",
       "      <td>0.0</td>\n",
       "      <td>0.0</td>\n",
       "      <td>0.0</td>\n",
       "      <td>0.0</td>\n",
       "      <td>0.0</td>\n",
       "      <td>0.0</td>\n",
       "      <td>0.0</td>\n",
       "      <td>0.0</td>\n",
       "      <td>0.0</td>\n",
       "      <td>0.0</td>\n",
       "      <td>0.0</td>\n",
       "      <td>0.0</td>\n",
       "      <td>0.0</td>\n",
       "      <td>0.0</td>\n",
       "    </tr>\n",
       "  </tbody>\n",
       "</table>\n",
       "</div>"
      ],
      "text/plain": [
       "   addendum date  addendum effective date  ...  term of amendment  work sow\n",
       "0            0.0                      0.0  ...                0.0       0.0\n",
       "1            0.0                      0.0  ...                0.0       0.0\n",
       "2            0.0                      0.0  ...                0.0       0.0\n",
       "3            0.0                      0.0  ...                0.0       0.0\n",
       "4            0.0                      0.0  ...                0.0       0.0\n",
       "\n",
       "[5 rows x 59 columns]"
      ]
     },
     "execution_count": 29,
     "metadata": {
      "tags": []
     },
     "output_type": "execute_result"
    }
   ],
   "source": [
    "df_latent_train.head()"
   ]
  },
  {
   "cell_type": "code",
   "execution_count": 0,
   "metadata": {
    "colab": {
     "base_uri": "https://localhost:8080/",
     "height": 275
    },
    "colab_type": "code",
    "id": "sAOc2s4zq9ZH",
    "outputId": "0ed59f46-8144-4b6d-9b88-d64054f48878"
   },
   "outputs": [
    {
     "data": {
      "text/html": [
       "<div>\n",
       "<style scoped>\n",
       "    .dataframe tbody tr th:only-of-type {\n",
       "        vertical-align: middle;\n",
       "    }\n",
       "\n",
       "    .dataframe tbody tr th {\n",
       "        vertical-align: top;\n",
       "    }\n",
       "\n",
       "    .dataframe thead th {\n",
       "        text-align: right;\n",
       "    }\n",
       "</style>\n",
       "<table border=\"1\" class=\"dataframe\">\n",
       "  <thead>\n",
       "    <tr style=\"text-align: right;\">\n",
       "      <th></th>\n",
       "      <th>addendum date</th>\n",
       "      <th>addendum effective date</th>\n",
       "      <th>addendum entered</th>\n",
       "      <th>addendum made</th>\n",
       "      <th>addendum number</th>\n",
       "      <th>addendum_regex_lookup</th>\n",
       "      <th>affiliated entity</th>\n",
       "      <th>agreement hereby amended</th>\n",
       "      <th>agreement negotiation</th>\n",
       "      <th>agreement service order</th>\n",
       "      <th>amendment date</th>\n",
       "      <th>amendment effective date</th>\n",
       "      <th>amendment entered</th>\n",
       "      <th>amendment executed</th>\n",
       "      <th>amendment made</th>\n",
       "      <th>amendment number</th>\n",
       "      <th>change request form</th>\n",
       "      <th>client sow</th>\n",
       "      <th>component order</th>\n",
       "      <th>confidential information agent</th>\n",
       "      <th>confidentiality non disclosure</th>\n",
       "      <th>disclosure hereunder</th>\n",
       "      <th>duration of the addendum</th>\n",
       "      <th>editorial service order</th>\n",
       "      <th>engagement letter</th>\n",
       "      <th>force majeure</th>\n",
       "      <th>indemnified party</th>\n",
       "      <th>indemnifying party</th>\n",
       "      <th>industrial property right</th>\n",
       "      <th>letter to inform</th>\n",
       "      <th>msa_regex_lookup</th>\n",
       "      <th>mutual confidentiality</th>\n",
       "      <th>mutual confidentiality agreement</th>\n",
       "      <th>nda_regex_lookup</th>\n",
       "      <th>non confidential basis</th>\n",
       "      <th>others_lookup</th>\n",
       "      <th>party certain confidential information</th>\n",
       "      <th>party furnish</th>\n",
       "      <th>prior written notice</th>\n",
       "      <th>privacy restricted data</th>\n",
       "      <th>purpose of the addendum</th>\n",
       "      <th>service agreement amendment</th>\n",
       "      <th>service component order</th>\n",
       "      <th>service order form</th>\n",
       "      <th>signature form</th>\n",
       "      <th>sir madam</th>\n",
       "      <th>sow agreement</th>\n",
       "      <th>sow duration</th>\n",
       "      <th>sow effective date</th>\n",
       "      <th>sow end date</th>\n",
       "      <th>sow shall</th>\n",
       "      <th>sow term</th>\n",
       "      <th>sow_regex_lookup</th>\n",
       "      <th>statement of work effective</th>\n",
       "      <th>subject matter hereof</th>\n",
       "      <th>subsequent addendum</th>\n",
       "      <th>term of addendum</th>\n",
       "      <th>term of amendment</th>\n",
       "      <th>work sow</th>\n",
       "    </tr>\n",
       "  </thead>\n",
       "  <tbody>\n",
       "    <tr>\n",
       "      <th>0</th>\n",
       "      <td>0.0</td>\n",
       "      <td>0.0</td>\n",
       "      <td>0.0</td>\n",
       "      <td>0.0</td>\n",
       "      <td>1.0</td>\n",
       "      <td>1.0</td>\n",
       "      <td>0.0</td>\n",
       "      <td>0.0</td>\n",
       "      <td>0.0</td>\n",
       "      <td>0.0</td>\n",
       "      <td>0.0</td>\n",
       "      <td>0.0</td>\n",
       "      <td>0.0</td>\n",
       "      <td>0.0</td>\n",
       "      <td>0.0</td>\n",
       "      <td>0.0</td>\n",
       "      <td>0.0</td>\n",
       "      <td>0.0</td>\n",
       "      <td>0.0</td>\n",
       "      <td>0.0</td>\n",
       "      <td>0.0</td>\n",
       "      <td>0.0</td>\n",
       "      <td>0.0</td>\n",
       "      <td>0.0</td>\n",
       "      <td>0.0</td>\n",
       "      <td>0.0</td>\n",
       "      <td>0.0</td>\n",
       "      <td>0.0</td>\n",
       "      <td>0.0</td>\n",
       "      <td>0.0</td>\n",
       "      <td>0.0</td>\n",
       "      <td>0.0</td>\n",
       "      <td>0.0</td>\n",
       "      <td>0.0</td>\n",
       "      <td>0.0</td>\n",
       "      <td>0.0</td>\n",
       "      <td>0.0</td>\n",
       "      <td>0.0</td>\n",
       "      <td>0.0</td>\n",
       "      <td>0.0</td>\n",
       "      <td>0.0</td>\n",
       "      <td>0.0</td>\n",
       "      <td>0.0</td>\n",
       "      <td>0.0</td>\n",
       "      <td>0.0</td>\n",
       "      <td>0.0</td>\n",
       "      <td>0.0</td>\n",
       "      <td>0.0</td>\n",
       "      <td>0.0</td>\n",
       "      <td>0.0</td>\n",
       "      <td>0.0</td>\n",
       "      <td>0.0</td>\n",
       "      <td>0.0</td>\n",
       "      <td>0.0</td>\n",
       "      <td>0.0</td>\n",
       "      <td>0.0</td>\n",
       "      <td>0.0</td>\n",
       "      <td>0.0</td>\n",
       "      <td>0.0</td>\n",
       "    </tr>\n",
       "    <tr>\n",
       "      <th>1</th>\n",
       "      <td>0.0</td>\n",
       "      <td>0.0</td>\n",
       "      <td>0.0</td>\n",
       "      <td>0.0</td>\n",
       "      <td>1.0</td>\n",
       "      <td>1.0</td>\n",
       "      <td>0.0</td>\n",
       "      <td>0.0</td>\n",
       "      <td>0.0</td>\n",
       "      <td>0.0</td>\n",
       "      <td>0.0</td>\n",
       "      <td>0.0</td>\n",
       "      <td>0.0</td>\n",
       "      <td>0.0</td>\n",
       "      <td>0.0</td>\n",
       "      <td>0.0</td>\n",
       "      <td>0.0</td>\n",
       "      <td>0.0</td>\n",
       "      <td>0.0</td>\n",
       "      <td>0.0</td>\n",
       "      <td>0.0</td>\n",
       "      <td>0.0</td>\n",
       "      <td>0.0</td>\n",
       "      <td>0.0</td>\n",
       "      <td>0.0</td>\n",
       "      <td>0.0</td>\n",
       "      <td>0.0</td>\n",
       "      <td>0.0</td>\n",
       "      <td>0.0</td>\n",
       "      <td>0.0</td>\n",
       "      <td>0.0</td>\n",
       "      <td>0.0</td>\n",
       "      <td>0.0</td>\n",
       "      <td>0.0</td>\n",
       "      <td>0.0</td>\n",
       "      <td>0.0</td>\n",
       "      <td>0.0</td>\n",
       "      <td>0.0</td>\n",
       "      <td>0.0</td>\n",
       "      <td>0.0</td>\n",
       "      <td>0.0</td>\n",
       "      <td>0.0</td>\n",
       "      <td>0.0</td>\n",
       "      <td>0.0</td>\n",
       "      <td>0.0</td>\n",
       "      <td>0.0</td>\n",
       "      <td>0.0</td>\n",
       "      <td>0.0</td>\n",
       "      <td>0.0</td>\n",
       "      <td>0.0</td>\n",
       "      <td>0.0</td>\n",
       "      <td>0.0</td>\n",
       "      <td>0.0</td>\n",
       "      <td>0.0</td>\n",
       "      <td>0.0</td>\n",
       "      <td>0.0</td>\n",
       "      <td>0.0</td>\n",
       "      <td>0.0</td>\n",
       "      <td>0.0</td>\n",
       "    </tr>\n",
       "    <tr>\n",
       "      <th>2</th>\n",
       "      <td>0.0</td>\n",
       "      <td>0.0</td>\n",
       "      <td>0.0</td>\n",
       "      <td>0.0</td>\n",
       "      <td>0.0</td>\n",
       "      <td>0.0</td>\n",
       "      <td>0.0</td>\n",
       "      <td>0.0</td>\n",
       "      <td>0.0</td>\n",
       "      <td>0.0</td>\n",
       "      <td>0.0</td>\n",
       "      <td>0.0</td>\n",
       "      <td>0.0</td>\n",
       "      <td>0.0</td>\n",
       "      <td>0.0</td>\n",
       "      <td>0.0</td>\n",
       "      <td>0.0</td>\n",
       "      <td>0.0</td>\n",
       "      <td>0.0</td>\n",
       "      <td>0.0</td>\n",
       "      <td>0.0</td>\n",
       "      <td>0.0</td>\n",
       "      <td>0.0</td>\n",
       "      <td>0.0</td>\n",
       "      <td>0.0</td>\n",
       "      <td>0.0</td>\n",
       "      <td>0.0</td>\n",
       "      <td>0.0</td>\n",
       "      <td>0.0</td>\n",
       "      <td>0.0</td>\n",
       "      <td>0.0</td>\n",
       "      <td>0.0</td>\n",
       "      <td>0.0</td>\n",
       "      <td>0.0</td>\n",
       "      <td>0.0</td>\n",
       "      <td>1.0</td>\n",
       "      <td>0.0</td>\n",
       "      <td>0.0</td>\n",
       "      <td>0.0</td>\n",
       "      <td>0.0</td>\n",
       "      <td>0.0</td>\n",
       "      <td>0.0</td>\n",
       "      <td>0.0</td>\n",
       "      <td>0.0</td>\n",
       "      <td>0.0</td>\n",
       "      <td>0.0</td>\n",
       "      <td>0.0</td>\n",
       "      <td>0.0</td>\n",
       "      <td>0.0</td>\n",
       "      <td>0.0</td>\n",
       "      <td>0.0</td>\n",
       "      <td>0.0</td>\n",
       "      <td>0.0</td>\n",
       "      <td>0.0</td>\n",
       "      <td>0.0</td>\n",
       "      <td>0.0</td>\n",
       "      <td>0.0</td>\n",
       "      <td>0.0</td>\n",
       "      <td>0.0</td>\n",
       "    </tr>\n",
       "    <tr>\n",
       "      <th>3</th>\n",
       "      <td>0.0</td>\n",
       "      <td>0.0</td>\n",
       "      <td>0.0</td>\n",
       "      <td>0.0</td>\n",
       "      <td>0.0</td>\n",
       "      <td>1.0</td>\n",
       "      <td>0.0</td>\n",
       "      <td>0.0</td>\n",
       "      <td>0.0</td>\n",
       "      <td>0.0</td>\n",
       "      <td>0.0</td>\n",
       "      <td>0.0</td>\n",
       "      <td>0.0</td>\n",
       "      <td>0.0</td>\n",
       "      <td>0.0</td>\n",
       "      <td>1.0</td>\n",
       "      <td>0.0</td>\n",
       "      <td>0.0</td>\n",
       "      <td>0.0</td>\n",
       "      <td>0.0</td>\n",
       "      <td>0.0</td>\n",
       "      <td>0.0</td>\n",
       "      <td>0.0</td>\n",
       "      <td>0.0</td>\n",
       "      <td>0.0</td>\n",
       "      <td>0.0</td>\n",
       "      <td>0.0</td>\n",
       "      <td>0.0</td>\n",
       "      <td>0.0</td>\n",
       "      <td>0.0</td>\n",
       "      <td>0.0</td>\n",
       "      <td>0.0</td>\n",
       "      <td>0.0</td>\n",
       "      <td>0.0</td>\n",
       "      <td>0.0</td>\n",
       "      <td>0.0</td>\n",
       "      <td>0.0</td>\n",
       "      <td>0.0</td>\n",
       "      <td>0.0</td>\n",
       "      <td>0.0</td>\n",
       "      <td>0.0</td>\n",
       "      <td>0.0</td>\n",
       "      <td>0.0</td>\n",
       "      <td>0.0</td>\n",
       "      <td>0.0</td>\n",
       "      <td>0.0</td>\n",
       "      <td>0.0</td>\n",
       "      <td>0.0</td>\n",
       "      <td>0.0</td>\n",
       "      <td>0.0</td>\n",
       "      <td>0.0</td>\n",
       "      <td>0.0</td>\n",
       "      <td>0.0</td>\n",
       "      <td>0.0</td>\n",
       "      <td>0.0</td>\n",
       "      <td>0.0</td>\n",
       "      <td>0.0</td>\n",
       "      <td>0.0</td>\n",
       "      <td>0.0</td>\n",
       "    </tr>\n",
       "    <tr>\n",
       "      <th>4</th>\n",
       "      <td>0.0</td>\n",
       "      <td>0.0</td>\n",
       "      <td>0.0</td>\n",
       "      <td>0.0</td>\n",
       "      <td>0.0</td>\n",
       "      <td>1.0</td>\n",
       "      <td>0.0</td>\n",
       "      <td>0.0</td>\n",
       "      <td>0.0</td>\n",
       "      <td>0.0</td>\n",
       "      <td>0.0</td>\n",
       "      <td>0.0</td>\n",
       "      <td>0.0</td>\n",
       "      <td>0.0</td>\n",
       "      <td>0.0</td>\n",
       "      <td>0.0</td>\n",
       "      <td>0.0</td>\n",
       "      <td>0.0</td>\n",
       "      <td>0.0</td>\n",
       "      <td>0.0</td>\n",
       "      <td>0.0</td>\n",
       "      <td>0.0</td>\n",
       "      <td>0.0</td>\n",
       "      <td>0.0</td>\n",
       "      <td>0.0</td>\n",
       "      <td>0.0</td>\n",
       "      <td>0.0</td>\n",
       "      <td>0.0</td>\n",
       "      <td>0.0</td>\n",
       "      <td>0.0</td>\n",
       "      <td>0.0</td>\n",
       "      <td>0.0</td>\n",
       "      <td>0.0</td>\n",
       "      <td>0.0</td>\n",
       "      <td>0.0</td>\n",
       "      <td>0.0</td>\n",
       "      <td>0.0</td>\n",
       "      <td>0.0</td>\n",
       "      <td>0.0</td>\n",
       "      <td>0.0</td>\n",
       "      <td>0.0</td>\n",
       "      <td>0.0</td>\n",
       "      <td>0.0</td>\n",
       "      <td>0.0</td>\n",
       "      <td>0.0</td>\n",
       "      <td>0.0</td>\n",
       "      <td>0.0</td>\n",
       "      <td>0.0</td>\n",
       "      <td>0.0</td>\n",
       "      <td>0.0</td>\n",
       "      <td>0.0</td>\n",
       "      <td>0.0</td>\n",
       "      <td>0.0</td>\n",
       "      <td>0.0</td>\n",
       "      <td>0.0</td>\n",
       "      <td>0.0</td>\n",
       "      <td>0.0</td>\n",
       "      <td>0.0</td>\n",
       "      <td>0.0</td>\n",
       "    </tr>\n",
       "  </tbody>\n",
       "</table>\n",
       "</div>"
      ],
      "text/plain": [
       "   addendum date  addendum effective date  ...  term of amendment  work sow\n",
       "0            0.0                      0.0  ...                0.0       0.0\n",
       "1            0.0                      0.0  ...                0.0       0.0\n",
       "2            0.0                      0.0  ...                0.0       0.0\n",
       "3            0.0                      0.0  ...                0.0       0.0\n",
       "4            0.0                      0.0  ...                0.0       0.0\n",
       "\n",
       "[5 rows x 59 columns]"
      ]
     },
     "execution_count": 30,
     "metadata": {
      "tags": []
     },
     "output_type": "execute_result"
    }
   ],
   "source": [
    "df_latent_test.head()"
   ]
  },
  {
   "cell_type": "code",
   "execution_count": 0,
   "metadata": {
    "colab": {},
    "colab_type": "code",
    "id": "zkdzPl4Oq9ZP"
   },
   "outputs": [],
   "source": [
    "for col in df_latent_train.columns.values:\n",
    "    print(col, '-', sum(df_latent_train[col].values)) "
   ]
  },
  {
   "cell_type": "markdown",
   "metadata": {
    "colab_type": "text",
    "id": "hPhJ62nmt2fv"
   },
   "source": [
    "### Create Latent Features Count"
   ]
  },
  {
   "cell_type": "code",
   "execution_count": 0,
   "metadata": {
    "colab": {},
    "colab_type": "code",
    "id": "1BgaJtcNt6p6"
   },
   "outputs": [],
   "source": [
    "#Initialize empty dictionary and dataframe\n",
    "#df_latent_train = pd.DataFrame()\n",
    "df_latent_test = pd.DataFrame()\n",
    "\n",
    "#for index, row in df_unlabeled.iterrows():    \n",
    "for index, row in df_labeled.iterrows():    \n",
    "    dict_latent = {}\n",
    "    msa_keywords_count = 0\n",
    "    sow_keywords_count = 0\n",
    "    nda_keywords_count = 0\n",
    "    addendum_keywords_count = 0\n",
    "    others_keywords_count = 0\n",
    "            \n",
    "    #============MSA=============\n",
    "        \n",
    "    #Check for matching MSA keywords\n",
    "    for key in msa_keywords:\n",
    "        if key in row['text']:\n",
    "            msa_keywords_count += 1\n",
    "    dict_latent['msa_keywords_count'] = msa_keywords_count\n",
    "\n",
    "    #Call MSA regex lookup function\n",
    "    dict_latent['msa_regex_lookup'] = msa_regex_lookup(row)\n",
    "                \n",
    "    #============SOW=============\n",
    "            \n",
    "    #Check for matching SOW keywords\n",
    "    for key in sow_keywords:\n",
    "        if key in row['text']:            \n",
    "            sow_keywords_count += 1\n",
    "    dict_latent['sow_keywords_count'] = sow_keywords_count\n",
    "\n",
    "    #Call SOW regex lookup function\n",
    "    dict_latent['sow_regex_lookup'] = sow_regex_lookup(row)\n",
    "                \n",
    "    #==========ADDENDUM=============\n",
    "            \n",
    "    #Check for matching Addnedum keywords\n",
    "    for key in addendum_keywords:\n",
    "        if key in row['text']:            \n",
    "            addendum_keywords_count += 1\n",
    "    dict_latent['addendum_keywords_count'] = addendum_keywords_count\n",
    "\n",
    "    #Call Addendum regex lookup function\n",
    "    dict_latent['addendum_regex_lookup'] = addendum_regex_lookup(row)        \n",
    "                \n",
    "    #============NDA=============\n",
    "        \n",
    "    #Check for matching NDA keywords\n",
    "    for key in nda_keywords:\n",
    "        if key in row['text']:            \n",
    "            nda_keywords_count += 1\n",
    "    dict_latent['nda_keywords_count'] = nda_keywords_count\n",
    "\n",
    "    #Call NDA regex lookup function\n",
    "    dict_latent['nda_regex_lookup'] = nda_regex_lookup(row)\n",
    "    \n",
    "    #============Others===========\n",
    "    \n",
    "    #Check for matching Others keywords\n",
    "    for key in other_keywords:\n",
    "        if key in row['text']:            \n",
    "            others_keywords_count += 1\n",
    "    dict_latent['others_keywords_count'] = others_keywords_count\n",
    "\n",
    "    #Call Others regex lookup function\n",
    "    dict_latent['others_lookup'] = others_lookup(row)                \n",
    "    #break\n",
    "    \n",
    "    #Append dictionary to the DataFrame\n",
    "    #df_latent_train = df_latent_train.append(dict_latent, ignore_index = True)\n",
    "    df_latent_test = df_latent_test.append(dict_latent, ignore_index = True)\n",
    "\n",
    "#fill NaNs with 0\n",
    "#df_latent_train.fillna(0, inplace=True)\n",
    "df_latent_test.fillna(0, inplace=True)"
   ]
  },
  {
   "cell_type": "code",
   "execution_count": 108,
   "metadata": {
    "colab": {
     "base_uri": "https://localhost:8080/",
     "height": 224
    },
    "colab_type": "code",
    "id": "hgZ9_6jSwCJU",
    "outputId": "cfd98718-c98e-486a-99e5-be2520b1322f"
   },
   "outputs": [
    {
     "data": {
      "text/html": [
       "<div>\n",
       "<style scoped>\n",
       "    .dataframe tbody tr th:only-of-type {\n",
       "        vertical-align: middle;\n",
       "    }\n",
       "\n",
       "    .dataframe tbody tr th {\n",
       "        vertical-align: top;\n",
       "    }\n",
       "\n",
       "    .dataframe thead th {\n",
       "        text-align: right;\n",
       "    }\n",
       "</style>\n",
       "<table border=\"1\" class=\"dataframe\">\n",
       "  <thead>\n",
       "    <tr style=\"text-align: right;\">\n",
       "      <th></th>\n",
       "      <th>addendum_keywords_count</th>\n",
       "      <th>addendum_regex_lookup</th>\n",
       "      <th>msa_keywords_count</th>\n",
       "      <th>msa_regex_lookup</th>\n",
       "      <th>nda_keywords_count</th>\n",
       "      <th>nda_regex_lookup</th>\n",
       "      <th>others_keywords_count</th>\n",
       "      <th>others_lookup</th>\n",
       "      <th>sow_keywords_count</th>\n",
       "      <th>sow_regex_lookup</th>\n",
       "    </tr>\n",
       "  </thead>\n",
       "  <tbody>\n",
       "    <tr>\n",
       "      <th>0</th>\n",
       "      <td>1.0</td>\n",
       "      <td>1.0</td>\n",
       "      <td>0.0</td>\n",
       "      <td>0.0</td>\n",
       "      <td>0.0</td>\n",
       "      <td>0.0</td>\n",
       "      <td>0.0</td>\n",
       "      <td>0.0</td>\n",
       "      <td>0.0</td>\n",
       "      <td>0.0</td>\n",
       "    </tr>\n",
       "    <tr>\n",
       "      <th>1</th>\n",
       "      <td>1.0</td>\n",
       "      <td>1.0</td>\n",
       "      <td>0.0</td>\n",
       "      <td>0.0</td>\n",
       "      <td>0.0</td>\n",
       "      <td>0.0</td>\n",
       "      <td>0.0</td>\n",
       "      <td>0.0</td>\n",
       "      <td>0.0</td>\n",
       "      <td>0.0</td>\n",
       "    </tr>\n",
       "    <tr>\n",
       "      <th>2</th>\n",
       "      <td>0.0</td>\n",
       "      <td>0.0</td>\n",
       "      <td>0.0</td>\n",
       "      <td>0.0</td>\n",
       "      <td>0.0</td>\n",
       "      <td>0.0</td>\n",
       "      <td>0.0</td>\n",
       "      <td>1.0</td>\n",
       "      <td>0.0</td>\n",
       "      <td>0.0</td>\n",
       "    </tr>\n",
       "    <tr>\n",
       "      <th>3</th>\n",
       "      <td>1.0</td>\n",
       "      <td>1.0</td>\n",
       "      <td>0.0</td>\n",
       "      <td>0.0</td>\n",
       "      <td>0.0</td>\n",
       "      <td>0.0</td>\n",
       "      <td>0.0</td>\n",
       "      <td>0.0</td>\n",
       "      <td>0.0</td>\n",
       "      <td>0.0</td>\n",
       "    </tr>\n",
       "    <tr>\n",
       "      <th>4</th>\n",
       "      <td>0.0</td>\n",
       "      <td>1.0</td>\n",
       "      <td>0.0</td>\n",
       "      <td>0.0</td>\n",
       "      <td>0.0</td>\n",
       "      <td>0.0</td>\n",
       "      <td>0.0</td>\n",
       "      <td>0.0</td>\n",
       "      <td>0.0</td>\n",
       "      <td>0.0</td>\n",
       "    </tr>\n",
       "  </tbody>\n",
       "</table>\n",
       "</div>"
      ],
      "text/plain": [
       "   addendum_keywords_count  ...  sow_regex_lookup\n",
       "0                      1.0  ...               0.0\n",
       "1                      1.0  ...               0.0\n",
       "2                      0.0  ...               0.0\n",
       "3                      1.0  ...               0.0\n",
       "4                      0.0  ...               0.0\n",
       "\n",
       "[5 rows x 10 columns]"
      ]
     },
     "execution_count": 108,
     "metadata": {
      "tags": []
     },
     "output_type": "execute_result"
    }
   ],
   "source": [
    "df_latent_test.head()"
   ]
  },
  {
   "cell_type": "code",
   "execution_count": 0,
   "metadata": {
    "colab": {},
    "colab_type": "code",
    "id": "4tfdnyPzwpr8"
   },
   "outputs": [],
   "source": [
    "df_latent_train.to_csv('/content/drive/My Drive/latent_features_count_train.csv', index=None)\n",
    "df_latent_test.to_csv('/content/drive/My Drive/latent_features_count_test.csv', index=None)"
   ]
  },
  {
   "cell_type": "markdown",
   "metadata": {
    "colab_type": "text",
    "id": "PXXGKAk-5vhM"
   },
   "source": [
    "### Load Latent Features"
   ]
  },
  {
   "cell_type": "code",
   "execution_count": 10,
   "metadata": {
    "colab": {
     "base_uri": "https://localhost:8080/",
     "height": 68
    },
    "colab_type": "code",
    "id": "VkwW9l3T5OVo",
    "outputId": "fef916a0-4108-4a30-9153-bc523a60ca0f"
   },
   "outputs": [
    {
     "name": "stdout",
     "output_type": "stream",
     "text": [
      "Archive:  /content/drive/My Drive/datafiles.zip\n",
      "  inflating: datafiles/latent_features_test.csv  \n",
      "  inflating: datafiles/latent_features_train.csv  \n"
     ]
    }
   ],
   "source": [
    "!unzip '/content/drive/My Drive/datafiles.zip'"
   ]
  },
  {
   "cell_type": "code",
   "execution_count": 0,
   "metadata": {
    "colab": {},
    "colab_type": "code",
    "id": "9Yezpr6C5zVb"
   },
   "outputs": [],
   "source": [
    "df_latent_train = pd.read_csv('/content/drive/My Drive/latent_features_count_train.csv')\n",
    "df_latent_test = pd.read_csv('/content/drive/My Drive/latent_features_count_test.csv')"
   ]
  },
  {
   "cell_type": "code",
   "execution_count": 111,
   "metadata": {
    "colab": {
     "base_uri": "https://localhost:8080/",
     "height": 34
    },
    "colab_type": "code",
    "id": "dCOxAcpA6G7h",
    "outputId": "c50f4118-c15c-42cf-81a6-2d7fb26fdcab"
   },
   "outputs": [
    {
     "name": "stdout",
     "output_type": "stream",
     "text": [
      "(15472, 10) (1397, 10)\n"
     ]
    }
   ],
   "source": [
    "print(df_latent_train.shape, df_latent_test.shape)"
   ]
  },
  {
   "cell_type": "markdown",
   "metadata": {
    "colab_type": "text",
    "id": "D3P7QuVYq9Zb"
   },
   "source": [
    "### Stack Probabilities of LabelModel"
   ]
  },
  {
   "cell_type": "code",
   "execution_count": 112,
   "metadata": {
    "colab": {
     "base_uri": "https://localhost:8080/",
     "height": 34
    },
    "colab_type": "code",
    "id": "ZrWWlavDq9Zd",
    "outputId": "207c2bdb-dd37-4757-edc2-295ed34e8baa"
   },
   "outputs": [
    {
     "name": "stdout",
     "output_type": "stream",
     "text": [
      "(15472, 2) (1397, 2)\n"
     ]
    }
   ],
   "source": [
    "df_probs_train = pd.read_csv('/content/drive/My Drive/lstm_79.6_probabilities_train.csv')\n",
    "df_probs_test = pd.read_csv('/content/drive/My Drive/lstm_79.6_probabilities_test.csv')\n",
    "print(df_probs_train.shape, df_probs_test.shape)"
   ]
  },
  {
   "cell_type": "code",
   "execution_count": 113,
   "metadata": {
    "colab": {
     "base_uri": "https://localhost:8080/",
     "height": 204
    },
    "colab_type": "code",
    "id": "5Bcc9FCbq9Zk",
    "outputId": "6b6906c6-566b-448b-92ec-5c62b7bc8aea"
   },
   "outputs": [
    {
     "data": {
      "text/html": [
       "<div>\n",
       "<style scoped>\n",
       "    .dataframe tbody tr th:only-of-type {\n",
       "        vertical-align: middle;\n",
       "    }\n",
       "\n",
       "    .dataframe tbody tr th {\n",
       "        vertical-align: top;\n",
       "    }\n",
       "\n",
       "    .dataframe thead th {\n",
       "        text-align: right;\n",
       "    }\n",
       "</style>\n",
       "<table border=\"1\" class=\"dataframe\">\n",
       "  <thead>\n",
       "    <tr style=\"text-align: right;\">\n",
       "      <th></th>\n",
       "      <th>probabilities</th>\n",
       "      <th>label</th>\n",
       "    </tr>\n",
       "  </thead>\n",
       "  <tbody>\n",
       "    <tr>\n",
       "      <th>0</th>\n",
       "      <td>[0.888213038444519, 0.011493748985230923, 0.03...</td>\n",
       "      <td>0</td>\n",
       "    </tr>\n",
       "    <tr>\n",
       "      <th>1</th>\n",
       "      <td>[0.8944848775863647, 0.016249872744083405, 0.0...</td>\n",
       "      <td>0</td>\n",
       "    </tr>\n",
       "    <tr>\n",
       "      <th>2</th>\n",
       "      <td>[0.29428383708000183, 0.06875303387641907, 0.0...</td>\n",
       "      <td>0</td>\n",
       "    </tr>\n",
       "    <tr>\n",
       "      <th>3</th>\n",
       "      <td>[0.9346663355827332, 0.004241131711751223, 0.0...</td>\n",
       "      <td>0</td>\n",
       "    </tr>\n",
       "    <tr>\n",
       "      <th>4</th>\n",
       "      <td>[0.10538450628519058, 0.10119219869375229, 0.0...</td>\n",
       "      <td>0</td>\n",
       "    </tr>\n",
       "  </tbody>\n",
       "</table>\n",
       "</div>"
      ],
      "text/plain": [
       "                                       probabilities  label\n",
       "0  [0.888213038444519, 0.011493748985230923, 0.03...      0\n",
       "1  [0.8944848775863647, 0.016249872744083405, 0.0...      0\n",
       "2  [0.29428383708000183, 0.06875303387641907, 0.0...      0\n",
       "3  [0.9346663355827332, 0.004241131711751223, 0.0...      0\n",
       "4  [0.10538450628519058, 0.10119219869375229, 0.0...      0"
      ]
     },
     "execution_count": 113,
     "metadata": {
      "tags": []
     },
     "output_type": "execute_result"
    }
   ],
   "source": [
    "df_probs_test.head()"
   ]
  },
  {
   "cell_type": "code",
   "execution_count": 0,
   "metadata": {
    "colab": {},
    "colab_type": "code",
    "id": "oZKyoo32q9Zv"
   },
   "outputs": [],
   "source": [
    "#Separate probabilities from list and append to df_latent_train\n",
    "prob1 = []\n",
    "prob2 = []\n",
    "prob3 = []\n",
    "prob4 = []\n",
    "prob5 = []\n",
    "\n",
    "for i in range(len(df_probs_train)):\n",
    "    prob1.append(float(df_probs_train['probabilities'][i].replace('[', '').replace(']','').split(',')[0]))\n",
    "    prob2.append(float(df_probs_train['probabilities'][i].replace('[', '').replace(']','').split(',')[1]))\n",
    "    prob3.append(float(df_probs_train['probabilities'][i].replace('[', '').replace(']','').split(',')[2]))\n",
    "    prob4.append(float(df_probs_train['probabilities'][i].replace('[', '').replace(']','').split(',')[3]))\n",
    "    prob5.append(float(df_probs_train['probabilities'][i].replace('[', '').replace(']','').split(',')[4]))\n",
    "    \n",
    "df_latent_train['prob1'] = prob1\n",
    "df_latent_train['prob2'] = prob2\n",
    "df_latent_train['prob3'] = prob3\n",
    "df_latent_train['prob4'] = prob4\n",
    "df_latent_train['prob5'] = prob5\n",
    "\n",
    "#Append labels to df_latent_train\n",
    "df_latent_train['label'] = df_probs_train.label.values"
   ]
  },
  {
   "cell_type": "code",
   "execution_count": 0,
   "metadata": {
    "colab": {},
    "colab_type": "code",
    "id": "awwCtoAHq9Z1"
   },
   "outputs": [],
   "source": [
    "#Separate probabilities from list and append to df_latent_test\n",
    "prob1 = []\n",
    "prob2 = []\n",
    "prob3 = []\n",
    "prob4 = []\n",
    "prob5 = []\n",
    "\n",
    "for i in range(len(df_probs_test)):\n",
    "    prob1.append(float(df_probs_test['probabilities'][i].replace('[', '').replace(']','').split(',')[0]))\n",
    "    prob2.append(float(df_probs_test['probabilities'][i].replace('[', '').replace(']','').split(',')[1]))\n",
    "    prob3.append(float(df_probs_test['probabilities'][i].replace('[', '').replace(']','').split(',')[2]))\n",
    "    prob4.append(float(df_probs_test['probabilities'][i].replace('[', '').replace(']','').split(',')[3]))\n",
    "    prob5.append(float(df_probs_test['probabilities'][i].replace('[', '').replace(']','').split(',')[4]))\n",
    "    \n",
    "df_latent_test['prob1'] = prob1\n",
    "df_latent_test['prob2'] = prob2\n",
    "df_latent_test['prob3'] = prob3\n",
    "df_latent_test['prob4'] = prob4\n",
    "df_latent_test['prob5'] = prob5\n",
    "\n",
    "#Append labels to df_latent_test\n",
    "df_latent_test['label'] = df_probs_test.label.values"
   ]
  },
  {
   "cell_type": "code",
   "execution_count": 116,
   "metadata": {
    "colab": {
     "base_uri": "https://localhost:8080/",
     "height": 34
    },
    "colab_type": "code",
    "id": "JZSTkeSaq9aB",
    "outputId": "dd4533ee-d93f-410a-c3bc-ad125532b494"
   },
   "outputs": [
    {
     "name": "stdout",
     "output_type": "stream",
     "text": [
      "(15472, 16) (1397, 16)\n"
     ]
    }
   ],
   "source": [
    "print(df_latent_train.shape, df_latent_test.shape)"
   ]
  },
  {
   "cell_type": "code",
   "execution_count": 117,
   "metadata": {
    "colab": {
     "base_uri": "https://localhost:8080/",
     "height": 224
    },
    "colab_type": "code",
    "id": "a5EqWvK2q9aK",
    "outputId": "bba7903b-eaf9-46bb-d466-827bae54161b"
   },
   "outputs": [
    {
     "data": {
      "text/html": [
       "<div>\n",
       "<style scoped>\n",
       "    .dataframe tbody tr th:only-of-type {\n",
       "        vertical-align: middle;\n",
       "    }\n",
       "\n",
       "    .dataframe tbody tr th {\n",
       "        vertical-align: top;\n",
       "    }\n",
       "\n",
       "    .dataframe thead th {\n",
       "        text-align: right;\n",
       "    }\n",
       "</style>\n",
       "<table border=\"1\" class=\"dataframe\">\n",
       "  <thead>\n",
       "    <tr style=\"text-align: right;\">\n",
       "      <th></th>\n",
       "      <th>addendum_keywords_count</th>\n",
       "      <th>addendum_regex_lookup</th>\n",
       "      <th>msa_keywords_count</th>\n",
       "      <th>msa_regex_lookup</th>\n",
       "      <th>nda_keywords_count</th>\n",
       "      <th>nda_regex_lookup</th>\n",
       "      <th>others_keywords_count</th>\n",
       "      <th>others_lookup</th>\n",
       "      <th>sow_keywords_count</th>\n",
       "      <th>sow_regex_lookup</th>\n",
       "      <th>prob1</th>\n",
       "      <th>prob2</th>\n",
       "      <th>prob3</th>\n",
       "      <th>prob4</th>\n",
       "      <th>prob5</th>\n",
       "      <th>label</th>\n",
       "    </tr>\n",
       "  </thead>\n",
       "  <tbody>\n",
       "    <tr>\n",
       "      <th>0</th>\n",
       "      <td>0.0</td>\n",
       "      <td>0.0</td>\n",
       "      <td>0.0</td>\n",
       "      <td>0.0</td>\n",
       "      <td>0.0</td>\n",
       "      <td>0.0</td>\n",
       "      <td>0.0</td>\n",
       "      <td>1.0</td>\n",
       "      <td>0.0</td>\n",
       "      <td>0.0</td>\n",
       "      <td>0.050951</td>\n",
       "      <td>0.037345</td>\n",
       "      <td>0.054494</td>\n",
       "      <td>0.806820</td>\n",
       "      <td>0.050391</td>\n",
       "      <td>3</td>\n",
       "    </tr>\n",
       "    <tr>\n",
       "      <th>1</th>\n",
       "      <td>0.0</td>\n",
       "      <td>0.0</td>\n",
       "      <td>0.0</td>\n",
       "      <td>1.0</td>\n",
       "      <td>0.0</td>\n",
       "      <td>0.0</td>\n",
       "      <td>0.0</td>\n",
       "      <td>0.0</td>\n",
       "      <td>0.0</td>\n",
       "      <td>0.0</td>\n",
       "      <td>0.443973</td>\n",
       "      <td>0.225379</td>\n",
       "      <td>0.099976</td>\n",
       "      <td>0.128059</td>\n",
       "      <td>0.102613</td>\n",
       "      <td>1</td>\n",
       "    </tr>\n",
       "    <tr>\n",
       "      <th>2</th>\n",
       "      <td>0.0</td>\n",
       "      <td>0.0</td>\n",
       "      <td>0.0</td>\n",
       "      <td>0.0</td>\n",
       "      <td>0.0</td>\n",
       "      <td>0.0</td>\n",
       "      <td>0.0</td>\n",
       "      <td>1.0</td>\n",
       "      <td>0.0</td>\n",
       "      <td>0.0</td>\n",
       "      <td>0.068704</td>\n",
       "      <td>0.046902</td>\n",
       "      <td>0.067194</td>\n",
       "      <td>0.760013</td>\n",
       "      <td>0.057188</td>\n",
       "      <td>3</td>\n",
       "    </tr>\n",
       "    <tr>\n",
       "      <th>3</th>\n",
       "      <td>0.0</td>\n",
       "      <td>0.0</td>\n",
       "      <td>0.0</td>\n",
       "      <td>1.0</td>\n",
       "      <td>3.0</td>\n",
       "      <td>0.0</td>\n",
       "      <td>0.0</td>\n",
       "      <td>0.0</td>\n",
       "      <td>0.0</td>\n",
       "      <td>0.0</td>\n",
       "      <td>0.000985</td>\n",
       "      <td>0.069389</td>\n",
       "      <td>0.928129</td>\n",
       "      <td>0.000057</td>\n",
       "      <td>0.001441</td>\n",
       "      <td>2</td>\n",
       "    </tr>\n",
       "    <tr>\n",
       "      <th>4</th>\n",
       "      <td>0.0</td>\n",
       "      <td>1.0</td>\n",
       "      <td>0.0</td>\n",
       "      <td>0.0</td>\n",
       "      <td>0.0</td>\n",
       "      <td>0.0</td>\n",
       "      <td>0.0</td>\n",
       "      <td>0.0</td>\n",
       "      <td>0.0</td>\n",
       "      <td>0.0</td>\n",
       "      <td>0.723936</td>\n",
       "      <td>0.027038</td>\n",
       "      <td>0.056681</td>\n",
       "      <td>0.139216</td>\n",
       "      <td>0.053130</td>\n",
       "      <td>0</td>\n",
       "    </tr>\n",
       "  </tbody>\n",
       "</table>\n",
       "</div>"
      ],
      "text/plain": [
       "   addendum_keywords_count  addendum_regex_lookup  ...     prob5  label\n",
       "0                      0.0                    0.0  ...  0.050391      3\n",
       "1                      0.0                    0.0  ...  0.102613      1\n",
       "2                      0.0                    0.0  ...  0.057188      3\n",
       "3                      0.0                    0.0  ...  0.001441      2\n",
       "4                      0.0                    1.0  ...  0.053130      0\n",
       "\n",
       "[5 rows x 16 columns]"
      ]
     },
     "execution_count": 117,
     "metadata": {
      "tags": []
     },
     "output_type": "execute_result"
    }
   ],
   "source": [
    "df_latent_train.head()"
   ]
  },
  {
   "cell_type": "code",
   "execution_count": 118,
   "metadata": {
    "colab": {
     "base_uri": "https://localhost:8080/",
     "height": 224
    },
    "colab_type": "code",
    "id": "WSkKh8Xrq9aV",
    "outputId": "9ce74258-17f1-42ef-d1c1-6d57ed78aa35"
   },
   "outputs": [
    {
     "data": {
      "text/html": [
       "<div>\n",
       "<style scoped>\n",
       "    .dataframe tbody tr th:only-of-type {\n",
       "        vertical-align: middle;\n",
       "    }\n",
       "\n",
       "    .dataframe tbody tr th {\n",
       "        vertical-align: top;\n",
       "    }\n",
       "\n",
       "    .dataframe thead th {\n",
       "        text-align: right;\n",
       "    }\n",
       "</style>\n",
       "<table border=\"1\" class=\"dataframe\">\n",
       "  <thead>\n",
       "    <tr style=\"text-align: right;\">\n",
       "      <th></th>\n",
       "      <th>addendum_keywords_count</th>\n",
       "      <th>addendum_regex_lookup</th>\n",
       "      <th>msa_keywords_count</th>\n",
       "      <th>msa_regex_lookup</th>\n",
       "      <th>nda_keywords_count</th>\n",
       "      <th>nda_regex_lookup</th>\n",
       "      <th>others_keywords_count</th>\n",
       "      <th>others_lookup</th>\n",
       "      <th>sow_keywords_count</th>\n",
       "      <th>sow_regex_lookup</th>\n",
       "      <th>prob1</th>\n",
       "      <th>prob2</th>\n",
       "      <th>prob3</th>\n",
       "      <th>prob4</th>\n",
       "      <th>prob5</th>\n",
       "      <th>label</th>\n",
       "    </tr>\n",
       "  </thead>\n",
       "  <tbody>\n",
       "    <tr>\n",
       "      <th>0</th>\n",
       "      <td>1.0</td>\n",
       "      <td>1.0</td>\n",
       "      <td>0.0</td>\n",
       "      <td>0.0</td>\n",
       "      <td>0.0</td>\n",
       "      <td>0.0</td>\n",
       "      <td>0.0</td>\n",
       "      <td>0.0</td>\n",
       "      <td>0.0</td>\n",
       "      <td>0.0</td>\n",
       "      <td>0.888213</td>\n",
       "      <td>0.011494</td>\n",
       "      <td>0.035360</td>\n",
       "      <td>0.015530</td>\n",
       "      <td>0.049403</td>\n",
       "      <td>0</td>\n",
       "    </tr>\n",
       "    <tr>\n",
       "      <th>1</th>\n",
       "      <td>1.0</td>\n",
       "      <td>1.0</td>\n",
       "      <td>0.0</td>\n",
       "      <td>0.0</td>\n",
       "      <td>0.0</td>\n",
       "      <td>0.0</td>\n",
       "      <td>0.0</td>\n",
       "      <td>0.0</td>\n",
       "      <td>0.0</td>\n",
       "      <td>0.0</td>\n",
       "      <td>0.894485</td>\n",
       "      <td>0.016250</td>\n",
       "      <td>0.029001</td>\n",
       "      <td>0.009015</td>\n",
       "      <td>0.051249</td>\n",
       "      <td>0</td>\n",
       "    </tr>\n",
       "    <tr>\n",
       "      <th>2</th>\n",
       "      <td>0.0</td>\n",
       "      <td>0.0</td>\n",
       "      <td>0.0</td>\n",
       "      <td>0.0</td>\n",
       "      <td>0.0</td>\n",
       "      <td>0.0</td>\n",
       "      <td>0.0</td>\n",
       "      <td>1.0</td>\n",
       "      <td>0.0</td>\n",
       "      <td>0.0</td>\n",
       "      <td>0.294284</td>\n",
       "      <td>0.068753</td>\n",
       "      <td>0.060046</td>\n",
       "      <td>0.470195</td>\n",
       "      <td>0.106723</td>\n",
       "      <td>0</td>\n",
       "    </tr>\n",
       "    <tr>\n",
       "      <th>3</th>\n",
       "      <td>1.0</td>\n",
       "      <td>1.0</td>\n",
       "      <td>0.0</td>\n",
       "      <td>0.0</td>\n",
       "      <td>0.0</td>\n",
       "      <td>0.0</td>\n",
       "      <td>0.0</td>\n",
       "      <td>0.0</td>\n",
       "      <td>0.0</td>\n",
       "      <td>0.0</td>\n",
       "      <td>0.934666</td>\n",
       "      <td>0.004241</td>\n",
       "      <td>0.021576</td>\n",
       "      <td>0.018400</td>\n",
       "      <td>0.021116</td>\n",
       "      <td>0</td>\n",
       "    </tr>\n",
       "    <tr>\n",
       "      <th>4</th>\n",
       "      <td>0.0</td>\n",
       "      <td>1.0</td>\n",
       "      <td>0.0</td>\n",
       "      <td>0.0</td>\n",
       "      <td>0.0</td>\n",
       "      <td>0.0</td>\n",
       "      <td>0.0</td>\n",
       "      <td>0.0</td>\n",
       "      <td>0.0</td>\n",
       "      <td>0.0</td>\n",
       "      <td>0.105385</td>\n",
       "      <td>0.101192</td>\n",
       "      <td>0.076954</td>\n",
       "      <td>0.625772</td>\n",
       "      <td>0.090697</td>\n",
       "      <td>0</td>\n",
       "    </tr>\n",
       "  </tbody>\n",
       "</table>\n",
       "</div>"
      ],
      "text/plain": [
       "   addendum_keywords_count  addendum_regex_lookup  ...     prob5  label\n",
       "0                      1.0                    1.0  ...  0.049403      0\n",
       "1                      1.0                    1.0  ...  0.051249      0\n",
       "2                      0.0                    0.0  ...  0.106723      0\n",
       "3                      1.0                    1.0  ...  0.021116      0\n",
       "4                      0.0                    1.0  ...  0.090697      0\n",
       "\n",
       "[5 rows x 16 columns]"
      ]
     },
     "execution_count": 118,
     "metadata": {
      "tags": []
     },
     "output_type": "execute_result"
    }
   ],
   "source": [
    "df_latent_test.head()"
   ]
  },
  {
   "cell_type": "markdown",
   "metadata": {
    "colab_type": "text",
    "id": "mSDwaNshq9ay"
   },
   "source": [
    "### Training"
   ]
  },
  {
   "cell_type": "code",
   "execution_count": 0,
   "metadata": {
    "colab": {},
    "colab_type": "code",
    "id": "a7J7vWZdq9a1"
   },
   "outputs": [],
   "source": [
    "from numpy import loadtxt\n",
    "import xgboost as xgb\n",
    "from sklearn.model_selection import train_test_split\n",
    "from sklearn.metrics import accuracy_score\n",
    "from sklearn.model_selection import GridSearchCV\n",
    "from sklearn.preprocessing import MaxAbsScaler"
   ]
  },
  {
   "cell_type": "code",
   "execution_count": 0,
   "metadata": {
    "colab": {},
    "colab_type": "code",
    "id": "DYTKTEGAq9a_"
   },
   "outputs": [],
   "source": [
    "x = df_latent_train.drop(['label'], axis=1).values\n",
    "y = df_latent_train.label.values"
   ]
  },
  {
   "cell_type": "code",
   "execution_count": 218,
   "metadata": {
    "colab": {
     "base_uri": "https://localhost:8080/",
     "height": 238
    },
    "colab_type": "code",
    "id": "Ttlm-3IwTrRU",
    "outputId": "e08ecfb1-c22d-41ae-c6cf-62909524bd93"
   },
   "outputs": [
    {
     "data": {
      "text/plain": [
       "array([[0.00000000e+00, 0.00000000e+00, 0.00000000e+00, ...,\n",
       "        5.47069483e-02, 8.49067365e-01, 5.04371190e-02],\n",
       "       [0.00000000e+00, 0.00000000e+00, 0.00000000e+00, ...,\n",
       "        1.00368012e-01, 1.34764368e-01, 1.02707172e-01],\n",
       "       [0.00000000e+00, 0.00000000e+00, 0.00000000e+00, ...,\n",
       "        6.74566563e-02, 7.99810092e-01, 5.72399874e-02],\n",
       "       ...,\n",
       "       [0.00000000e+00, 0.00000000e+00, 1.00000000e+00, ...,\n",
       "        6.33425141e-04, 1.05742379e-06, 8.03262687e-04],\n",
       "       [0.00000000e+00, 0.00000000e+00, 0.00000000e+00, ...,\n",
       "        1.37104194e-02, 3.35689081e-04, 8.86545426e-01],\n",
       "       [0.00000000e+00, 0.00000000e+00, 0.00000000e+00, ...,\n",
       "        8.08815995e-03, 1.97331460e-04, 8.94595132e-01]])"
      ]
     },
     "execution_count": 218,
     "metadata": {
      "tags": []
     },
     "output_type": "execute_result"
    }
   ],
   "source": [
    "x_scaled = MaxAbsScaler().fit_transform(x)\n",
    "x_scaled"
   ]
  },
  {
   "cell_type": "code",
   "execution_count": 0,
   "metadata": {
    "colab": {},
    "colab_type": "code",
    "id": "KLn9JlvUq9bF"
   },
   "outputs": [],
   "source": [
    "x_test = df_latent_test.drop(['label'], axis=1).values\n",
    "y_test = df_latent_test.label.values"
   ]
  },
  {
   "cell_type": "code",
   "execution_count": 219,
   "metadata": {
    "colab": {
     "base_uri": "https://localhost:8080/",
     "height": 238
    },
    "colab_type": "code",
    "id": "ZYDM9dHSUELG",
    "outputId": "00409885-b77e-4961-d361-44ca1b3e3291"
   },
   "outputs": [
    {
     "data": {
      "text/plain": [
       "array([[5.00000000e-01, 1.00000000e+00, 0.00000000e+00, ...,\n",
       "        3.55034387e-02, 1.83112041e-02, 4.94596841e-02],\n",
       "       [5.00000000e-01, 1.00000000e+00, 0.00000000e+00, ...,\n",
       "        2.91181105e-02, 1.06299579e-02, 5.13078126e-02],\n",
       "       [0.00000000e+00, 0.00000000e+00, 0.00000000e+00, ...,\n",
       "        6.02890835e-02, 5.54402576e-01, 1.06844819e-01],\n",
       "       ...,\n",
       "       [0.00000000e+00, 0.00000000e+00, 5.71428571e-01, ...,\n",
       "        8.15680928e-03, 2.80987816e-04, 1.08131694e-02],\n",
       "       [0.00000000e+00, 0.00000000e+00, 0.00000000e+00, ...,\n",
       "        6.59640268e-02, 7.02551935e-01, 9.58409108e-02],\n",
       "       [0.00000000e+00, 0.00000000e+00, 1.42857143e-01, ...,\n",
       "        8.05123312e-02, 1.11514362e-02, 4.96677891e-02]])"
      ]
     },
     "execution_count": 219,
     "metadata": {
      "tags": []
     },
     "output_type": "execute_result"
    }
   ],
   "source": [
    "x_test_scaled = MaxAbsScaler().fit_transform(x_test)\n",
    "x_test_scaled"
   ]
  },
  {
   "cell_type": "code",
   "execution_count": 0,
   "metadata": {
    "colab": {},
    "colab_type": "code",
    "id": "B-gyJrMkq9bO"
   },
   "outputs": [],
   "source": [
    "# split data into train and valid sets\n",
    "x_train, x_valid, y_train, y_valid = train_test_split(x_scaled, y, test_size=0.02, random_state=22)"
   ]
  },
  {
   "cell_type": "code",
   "execution_count": 0,
   "metadata": {
    "colab": {},
    "colab_type": "code",
    "id": "guuNXSXfq9bZ"
   },
   "outputs": [],
   "source": [
    "dtrain = xgb.DMatrix(data=x_train,label=y_train)\n",
    "dvalid = xgb.DMatrix(data=x_valid,label=y_valid)"
   ]
  },
  {
   "cell_type": "code",
   "execution_count": 0,
   "metadata": {
    "colab": {},
    "colab_type": "code",
    "id": "LX4MqOLcq9bi"
   },
   "outputs": [],
   "source": [
    "cv_params = {'reg_alpha': [0.1, 0.3, 0.5, 0.8, 1.0], 'reg_lambda': [0.1, 0.3, 0.5, 0.8, 1.0]}\n",
    "ind_params = {'seed':22, 'subsample': 0.8, 'colsample_bytree': 0.8, \n",
    "             'objective': 'multi:softmax', 'num_classes': 5, 'n_estimators': 25, 'learning_rate': 0.1, 'max_depth': 5, 'min_child_weight': 1 }\n",
    "xgb_model = xgb.XGBClassifier(**ind_params)\n",
    "optimized_GBM = GridSearchCV(xgb_model, \n",
    "                            cv_params, \n",
    "                             scoring = 'accuracy', cv = 5, n_jobs = -1) "
   ]
  },
  {
   "cell_type": "code",
   "execution_count": 210,
   "metadata": {
    "colab": {
     "base_uri": "https://localhost:8080/",
     "height": 408
    },
    "colab_type": "code",
    "id": "WlXA6J1Mq9bw",
    "outputId": "392429ae-7425-463d-9ca5-ffeb43c75c32"
   },
   "outputs": [
    {
     "name": "stdout",
     "output_type": "stream",
     "text": [
      "[0]\tvalidation_0-merror:0.016129\n",
      "Will train until validation_0-merror hasn't improved in 10 rounds.\n",
      "[10]\tvalidation_0-merror:0.016129\n",
      "Stopping. Best iteration:\n",
      "[0]\tvalidation_0-merror:0.016129\n",
      "\n"
     ]
    },
    {
     "data": {
      "text/plain": [
       "GridSearchCV(cv=5, error_score='raise-deprecating',\n",
       "             estimator=XGBClassifier(base_score=0.5, booster='gbtree',\n",
       "                                     colsample_bylevel=1, colsample_bynode=1,\n",
       "                                     colsample_bytree=0.8, gamma=0,\n",
       "                                     learning_rate=0.1, max_delta_step=0,\n",
       "                                     max_depth=5, min_child_weight=1,\n",
       "                                     missing=None, n_estimators=25, n_jobs=1,\n",
       "                                     nthread=None, num_classes=5,\n",
       "                                     objective='multi:softmax', random_state=0,\n",
       "                                     reg_alpha=0, reg_lambda=1,\n",
       "                                     scale_pos_weight=1, seed=22, silent=None,\n",
       "                                     subsample=0.8, verbosity=1),\n",
       "             iid='warn', n_jobs=-1,\n",
       "             param_grid={'reg_alpha': [0.1, 0.3, 0.5, 0.8, 1.0],\n",
       "                         'reg_lambda': [0.1, 0.3, 0.5, 0.8, 1.0]},\n",
       "             pre_dispatch='2*n_jobs', refit=True, return_train_score=False,\n",
       "             scoring='accuracy', verbose=0)"
      ]
     },
     "execution_count": 210,
     "metadata": {
      "tags": []
     },
     "output_type": "execute_result"
    }
   ],
   "source": [
    "optimized_GBM.fit(x_train, y_train, early_stopping_rounds=10, eval_set=[(x_valid, y_valid)], verbose=10)"
   ]
  },
  {
   "cell_type": "code",
   "execution_count": 211,
   "metadata": {
    "colab": {
     "base_uri": "https://localhost:8080/",
     "height": 34
    },
    "colab_type": "code",
    "id": "ynJwOuI_q9b5",
    "outputId": "ca89dae9-6477-4db9-f138-fb8c4179d0af"
   },
   "outputs": [
    {
     "data": {
      "text/plain": [
       "0.9913599788946049"
      ]
     },
     "execution_count": 211,
     "metadata": {
      "tags": []
     },
     "output_type": "execute_result"
    }
   ],
   "source": [
    "optimized_GBM.best_score_"
   ]
  },
  {
   "cell_type": "code",
   "execution_count": 212,
   "metadata": {
    "colab": {
     "base_uri": "https://localhost:8080/",
     "height": 34
    },
    "colab_type": "code",
    "id": "zJHpoy3nq9cA",
    "outputId": "61580ab5-49a1-4378-f8c0-deca33177827"
   },
   "outputs": [
    {
     "data": {
      "text/plain": [
       "{'reg_alpha': 0.1, 'reg_lambda': 0.1}"
      ]
     },
     "execution_count": 212,
     "metadata": {
      "tags": []
     },
     "output_type": "execute_result"
    }
   ],
   "source": [
    "optimized_GBM.best_params_"
   ]
  },
  {
   "cell_type": "code",
   "execution_count": 221,
   "metadata": {
    "colab": {
     "base_uri": "https://localhost:8080/",
     "height": 136
    },
    "colab_type": "code",
    "id": "z9xCbyQZq9cN",
    "outputId": "13304c8b-b8b7-416c-d76c-8872e8e3d040"
   },
   "outputs": [
    {
     "data": {
      "text/plain": [
       "XGBClassifier(base_score=0.5, booster='gbtree', colsample_bylevel=1,\n",
       "              colsample_bynode=1, colsample_bytree=1, gamma=0,\n",
       "              learning_rate=0.1, max_delta_step=0, max_depth=5,\n",
       "              min_child_weight=1, missing=None, n_estimators=25, n_jobs=1,\n",
       "              nthread=None, objective='multi:softprob', random_state=0,\n",
       "              reg_alpha=0.1, reg_lambda=0.1, scale_pos_weight=1, seed=None,\n",
       "              silent=None, subsample=1, verbosity=1)"
      ]
     },
     "execution_count": 221,
     "metadata": {
      "tags": []
     },
     "output_type": "execute_result"
    }
   ],
   "source": [
    "xgb_model = xgb.XGBClassifier(n_estimators = 25, learning_rate = 0.1, max_depth = 5, min_child_weight = 1, reg_alpha = 0.1, reg_lambda = 0.1)\n",
    "xgb_model.fit(x_train, y_train)"
   ]
  },
  {
   "cell_type": "code",
   "execution_count": 203,
   "metadata": {
    "colab": {
     "base_uri": "https://localhost:8080/",
     "height": 34
    },
    "colab_type": "code",
    "id": "YaY_iq6fq-G_",
    "outputId": "6a1d2228-a864-4013-aefd-6e71ece14da1"
   },
   "outputs": [
    {
     "data": {
      "text/plain": [
       "0.9976915974145891"
      ]
     },
     "execution_count": 203,
     "metadata": {
      "tags": []
     },
     "output_type": "execute_result"
    }
   ],
   "source": [
    "xgb_model.score(x_train, y_train)"
   ]
  },
  {
   "cell_type": "code",
   "execution_count": 128,
   "metadata": {
    "colab": {
     "base_uri": "https://localhost:8080/",
     "height": 34
    },
    "colab_type": "code",
    "id": "awlSpY0zrMxN",
    "outputId": "bae2aeda-0f83-421c-d9aa-161fd6e47a2e"
   },
   "outputs": [
    {
     "data": {
      "text/plain": [
       "0.9838709677419355"
      ]
     },
     "execution_count": 128,
     "metadata": {
      "tags": []
     },
     "output_type": "execute_result"
    }
   ],
   "source": [
    "xgb_model.score(x_valid, y_valid)"
   ]
  },
  {
   "cell_type": "code",
   "execution_count": 129,
   "metadata": {
    "colab": {
     "base_uri": "https://localhost:8080/",
     "height": 85
    },
    "colab_type": "code",
    "id": "CQGm7yisr7Un",
    "outputId": "5ca2c667-fe42-473e-8c97-3dbc02622711"
   },
   "outputs": [
    {
     "data": {
      "text/plain": [
       "array([0.00455557, 0.02960911, 0.00660283, 0.00541366, 0.01058842,\n",
       "       0.00289664, 0.00117685, 0.02132165, 0.00441827, 0.00431366,\n",
       "       0.18053834, 0.16777425, 0.09702867, 0.26628032, 0.19748177],\n",
       "      dtype=float32)"
      ]
     },
     "execution_count": 129,
     "metadata": {
      "tags": []
     },
     "output_type": "execute_result"
    }
   ],
   "source": [
    "xgb_model.feature_importances_"
   ]
  },
  {
   "cell_type": "code",
   "execution_count": 130,
   "metadata": {
    "colab": {
     "base_uri": "https://localhost:8080/",
     "height": 513
    },
    "colab_type": "code",
    "id": "by17HHqwq9cb",
    "outputId": "8f2f5854-121b-4fc4-c01b-e93ed649a6ce"
   },
   "outputs": [
    {
     "data": {
      "image/png": "[encoded data removed]",
      "text/plain": [
       "<Figure size 864x576 with 1 Axes>"
      ]
     },
     "metadata": {
      "tags": []
     },
     "output_type": "display_data"
    }
   ],
   "source": [
    "import matplotlib.pyplot as plt\n",
    "#xgb_model.get_booster().feature_names = df_latent_train.drop(drop_features, axis=1).columns.tolist()\n",
    "xgb.plot_importance(xgb_model)\n",
    "plt.rcParams['figure.figsize'] = [12, 8]\n",
    "plt.show()"
   ]
  },
  {
   "cell_type": "markdown",
   "metadata": {
    "colab_type": "text",
    "id": "z3YWxkTFq9cj"
   },
   "source": [
    "### Predict"
   ]
  },
  {
   "cell_type": "code",
   "execution_count": 222,
   "metadata": {
    "colab": {
     "base_uri": "https://localhost:8080/",
     "height": 34
    },
    "colab_type": "code",
    "id": "LXWdWSNgqskL",
    "outputId": "65163013-aa83-495f-a8d6-3afb3815be7b"
   },
   "outputs": [
    {
     "name": "stdout",
     "output_type": "stream",
     "text": [
      "Accuracy: 83.25%\n"
     ]
    }
   ],
   "source": [
    "# make predictions for test data and evaluate\n",
    "y_pred = xgb_model.predict(x_test_scaled)\n",
    "predictions = [round(value) for value in y_pred]\n",
    "accuracy = accuracy_score(y_test, predictions)\n",
    "print(\"Accuracy: %.2f%%\" % (accuracy * 100.0))"
   ]
  },
  {
   "cell_type": "markdown",
   "metadata": {
    "colab_type": "text",
    "id": "vNTIqIKMq9c8"
   },
   "source": [
    "### Save Model"
   ]
  },
  {
   "cell_type": "code",
   "execution_count": 0,
   "metadata": {
    "colab": {},
    "colab_type": "code",
    "id": "ji_h9SdZq9c_"
   },
   "outputs": [],
   "source": [
    "import pickle\n",
    "pickle.dump(xgb_model, open(\"/content/drive/My Drive/xgb_83.04.dat\", \"wb\"))"
   ]
  },
  {
   "cell_type": "markdown",
   "metadata": {
    "colab_type": "text",
    "id": "kQBtHCWr3Hm8"
   },
   "source": [
    "### LightGBM"
   ]
  },
  {
   "cell_type": "code",
   "execution_count": 0,
   "metadata": {
    "colab": {},
    "colab_type": "code",
    "id": "0Z4Jfdoa2tBW"
   },
   "outputs": [],
   "source": [
    "import lightgbm as lgb"
   ]
  },
  {
   "cell_type": "code",
   "execution_count": 0,
   "metadata": {
    "colab": {},
    "colab_type": "code",
    "id": "yq0UsWwD2v9U"
   },
   "outputs": [],
   "source": [
    "cv_params = {'reg_alpha': [0.1, 0.2, 0.5, 0.8, 1.0], 'reg_lambda': [0.1, 0.2, 0.5, 0.8, 1.0]}\n",
    "ind_params = {'seed':22, 'subsample': 0.8, 'colsample_bytree': 0.8, 'objective': 'multiclass', 'learning_rate': 0.1, 'max_depth': 3, 'min_child_weight': 0.1, 'n_estimators': 100}\n",
    "lgb_model = lgb.LGBMClassifier(**ind_params)\n",
    "optimized_LGB = GridSearchCV(lgb_model, \n",
    "                            cv_params, \n",
    "                            scoring = 'accuracy', cv = 5, n_jobs = -1) \n"
   ]
  },
  {
   "cell_type": "code",
   "execution_count": 171,
   "metadata": {
    "colab": {
     "base_uri": "https://localhost:8080/",
     "height": 544
    },
    "colab_type": "code",
    "id": "QlannfzD43Il",
    "outputId": "725d5d08-dd34-4c8a-f419-5a43ebb00f85"
   },
   "outputs": [
    {
     "name": "stdout",
     "output_type": "stream",
     "text": [
      "Training until validation scores don't improve for 10 rounds.\n",
      "[10]\tvalid_0's multi_logloss: 0.422549\n",
      "[20]\tvalid_0's multi_logloss: 0.175789\n",
      "[30]\tvalid_0's multi_logloss: 0.0899708\n",
      "[40]\tvalid_0's multi_logloss: 0.0552418\n",
      "[50]\tvalid_0's multi_logloss: 0.04054\n",
      "[60]\tvalid_0's multi_logloss: 0.0323497\n",
      "[70]\tvalid_0's multi_logloss: 0.0282761\n",
      "[80]\tvalid_0's multi_logloss: 0.0255281\n",
      "[90]\tvalid_0's multi_logloss: 0.0235089\n",
      "[100]\tvalid_0's multi_logloss: 0.0209874\n",
      "Did not meet early stopping. Best iteration is:\n",
      "[100]\tvalid_0's multi_logloss: 0.0209874\n"
     ]
    },
    {
     "data": {
      "text/plain": [
       "GridSearchCV(cv=5, error_score='raise-deprecating',\n",
       "             estimator=LGBMClassifier(boosting_type='gbdt', class_weight=None,\n",
       "                                      colsample_bytree=0.8,\n",
       "                                      importance_type='split',\n",
       "                                      learning_rate=0.1, max_depth=3,\n",
       "                                      min_child_samples=20,\n",
       "                                      min_child_weight=0.1, min_split_gain=0.0,\n",
       "                                      n_estimators=100, n_jobs=-1,\n",
       "                                      num_leaves=31, objective='multiclass',\n",
       "                                      random_state=None, reg_alpha=0.0,\n",
       "                                      reg_lambda=0.0, seed=22, silent=True,\n",
       "                                      subsample=0.8, subsample_for_bin=200000,\n",
       "                                      subsample_freq=0),\n",
       "             iid='warn', n_jobs=-1,\n",
       "             param_grid={'reg_alpha': [0.1, 0.2, 0.5, 0.8, 1.0],\n",
       "                         'reg_lambda': [0.1, 0.2, 0.5, 0.8, 1.0]},\n",
       "             pre_dispatch='2*n_jobs', refit=True, return_train_score=False,\n",
       "             scoring='accuracy', verbose=0)"
      ]
     },
     "execution_count": 171,
     "metadata": {
      "tags": []
     },
     "output_type": "execute_result"
    }
   ],
   "source": [
    "optimized_LGB.fit(x_train, y_train, early_stopping_rounds=10, eval_set=[(x_valid, y_valid)], verbose=10)"
   ]
  },
  {
   "cell_type": "code",
   "execution_count": 172,
   "metadata": {
    "colab": {
     "base_uri": "https://localhost:8080/",
     "height": 34
    },
    "colab_type": "code",
    "id": "ePEJ213N5Duo",
    "outputId": "6d6b6831-fcc5-44c6-edac-37ee0090acaa"
   },
   "outputs": [
    {
     "data": {
      "text/plain": [
       "0.9959767840654268"
      ]
     },
     "execution_count": 172,
     "metadata": {
      "tags": []
     },
     "output_type": "execute_result"
    }
   ],
   "source": [
    "optimized_LGB.best_score_"
   ]
  },
  {
   "cell_type": "code",
   "execution_count": 173,
   "metadata": {
    "colab": {
     "base_uri": "https://localhost:8080/",
     "height": 34
    },
    "colab_type": "code",
    "id": "N_CwlYUf5I3M",
    "outputId": "3dc61488-6bb1-44dd-d7ed-853560a01842"
   },
   "outputs": [
    {
     "data": {
      "text/plain": [
       "{'reg_alpha': 0.1, 'reg_lambda': 0.1}"
      ]
     },
     "execution_count": 173,
     "metadata": {
      "tags": []
     },
     "output_type": "execute_result"
    }
   ],
   "source": [
    "optimized_LGB.best_params_"
   ]
  },
  {
   "cell_type": "code",
   "execution_count": 223,
   "metadata": {
    "colab": {
     "base_uri": "https://localhost:8080/",
     "height": 119
    },
    "colab_type": "code",
    "id": "BAtfSWXCC_S5",
    "outputId": "e440e445-fb5c-467a-cc08-b5b5af9257e6"
   },
   "outputs": [
    {
     "data": {
      "text/plain": [
       "LGBMClassifier(boosting_type='gbdt', class_weight=None, colsample_bytree=1.0,\n",
       "               importance_type='split', learning_rate=0.1, max_depth=3,\n",
       "               min_child_samples=20, min_child_weight=0.1, min_split_gain=0.0,\n",
       "               n_estimators=100, n_jobs=-1, num_leaves=31, objective=None,\n",
       "               random_state=None, reg_alpha=0.1, reg_lambda=0.0, silent=True,\n",
       "               subsample=1.0, subsample_for_bin=200000, subsample_freq=0)"
      ]
     },
     "execution_count": 223,
     "metadata": {
      "tags": []
     },
     "output_type": "execute_result"
    }
   ],
   "source": [
    "lgb_model = lgb.LGBMClassifier(learning_rate = 0.1, max_depth = 3, min_child_weight = 0.1, n_estimators = 100, reg_alpha=0.1)\n",
    "lgb_model.fit(x_train, y_train)"
   ]
  },
  {
   "cell_type": "code",
   "execution_count": 224,
   "metadata": {
    "colab": {
     "base_uri": "https://localhost:8080/",
     "height": 34
    },
    "colab_type": "code",
    "id": "RdD9cauDDO7p",
    "outputId": "51f18411-ce28-4d7a-c6b8-db090a87ac6d"
   },
   "outputs": [
    {
     "name": "stdout",
     "output_type": "stream",
     "text": [
      "Accuracy: 83.82%\n"
     ]
    }
   ],
   "source": [
    "# make predictions for test data and evaluate\n",
    "y_pred = lgb_model.predict(x_test_scaled)\n",
    "predictions = [round(value) for value in y_pred]\n",
    "accuracy = accuracy_score(y_test, predictions)\n",
    "print(\"Accuracy: %.2f%%\" % (accuracy * 100.0))"
   ]
  },
  {
   "cell_type": "code",
   "execution_count": 0,
   "metadata": {
    "colab": {},
    "colab_type": "code",
    "id": "YV98rrypEikb"
   },
   "outputs": [],
   "source": [
    "pickle.dump(lgb_model, open(\"/content/drive/My Drive/lgb_83.82.dat\", \"wb\"))"
   ]
  },
  {
   "cell_type": "code",
   "execution_count": 0,
   "metadata": {
    "colab": {},
    "colab_type": "code",
    "id": "fxeUbqCNExrr"
   },
   "outputs": [],
   "source": []
  }
 ],
 "metadata": {
  "accelerator": "GPU",
  "colab": {
   "name": "docs_latent_features_training.ipynb",
   "provenance": []
  },
  "kernelspec": {
   "display_name": "Python 3",
   "language": "python",
   "name": "python3"
  },
  "language_info": {
   "codemirror_mode": {
    "name": "ipython",
    "version": 3
   },
   "file_extension": ".py",
   "mimetype": "text/x-python",
   "name": "python",
   "nbconvert_exporter": "python",
   "pygments_lexer": "ipython3",
   "version": "3.6.10"
  }
 },
 "nbformat": 4,
 "nbformat_minor": 1
}
